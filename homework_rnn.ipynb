{
  "cells": [
    {
      "cell_type": "markdown",
      "metadata": {
        "id": "1bf6f873"
      },
      "source": [
        "# Домашнее задание № 8"
      ],
      "id": "1bf6f873"
    },
    {
      "cell_type": "markdown",
      "metadata": {
        "id": "3b4bd487"
      },
      "source": [
        "## Задание 1 (4 балла)"
      ],
      "id": "3b4bd487"
    },
    {
      "cell_type": "markdown",
      "metadata": {
        "id": "bf4c4f87"
      },
      "source": [
        "Обучите 8 моделей для задачи классификации текста (датасет - lenta_40k ). А именно:  \n",
        "1) модель с 1 GRU слоем;   \n",
        "2) модель с 1 LSTM слоем    \n",
        "3) модель с 1 GRU и 1 LSTM слоем  \n",
        "4) модель с 1 BIGRU и 2 LSTM слоями  \n",
        "5) модель с 5 GRU слоями и 3 LSTM слоями  \n",
        "6) модель 1 BIGRU и 1 BILSTM слоями, причем так чтобы модели для forward и backward прохода отличались   \n",
        "7) модель, где последовательно идут слои: LSTM, GRU, BILSTM, BIGRU, GRU, LSTM  \n",
        "\n",
        "\n",
        "\n",
        "Параметр units и размер эмбединга можете задать любой. Оцените качество каждой модели и определите победителя."
      ],
      "id": "bf4c4f87"
    },
    {
      "cell_type": "code",
      "execution_count": 3,
      "metadata": {
        "colab": {
          "base_uri": "https://localhost:8080/"
        },
        "id": "83db6635",
        "outputId": "62356fa4-629d-4e98-8198-6cd93613192f"
      },
      "outputs": [
        {
          "output_type": "stream",
          "name": "stdout",
          "text": [
            "Requirement already satisfied: keras in /usr/local/lib/python3.10/dist-packages (3.0.5)\n",
            "Requirement already satisfied: absl-py in /usr/local/lib/python3.10/dist-packages (from keras) (1.4.0)\n",
            "Requirement already satisfied: numpy in /usr/local/lib/python3.10/dist-packages (from keras) (1.25.2)\n",
            "Requirement already satisfied: rich in /usr/local/lib/python3.10/dist-packages (from keras) (13.7.1)\n",
            "Requirement already satisfied: namex in /usr/local/lib/python3.10/dist-packages (from keras) (0.0.7)\n",
            "Requirement already satisfied: h5py in /usr/local/lib/python3.10/dist-packages (from keras) (3.9.0)\n",
            "Requirement already satisfied: dm-tree in /usr/local/lib/python3.10/dist-packages (from keras) (0.1.8)\n",
            "Requirement already satisfied: ml-dtypes in /usr/local/lib/python3.10/dist-packages (from keras) (0.2.0)\n",
            "Requirement already satisfied: markdown-it-py>=2.2.0 in /usr/local/lib/python3.10/dist-packages (from rich->keras) (3.0.0)\n",
            "Requirement already satisfied: pygments<3.0.0,>=2.13.0 in /usr/local/lib/python3.10/dist-packages (from rich->keras) (2.16.1)\n",
            "Requirement already satisfied: mdurl~=0.1 in /usr/local/lib/python3.10/dist-packages (from markdown-it-py>=2.2.0->rich->keras) (0.1.2)\n",
            "Requirement already satisfied: torch in /usr/local/lib/python3.10/dist-packages (2.1.0+cu121)\n",
            "Requirement already satisfied: torchvision in /usr/local/lib/python3.10/dist-packages (0.16.0+cu121)\n",
            "Requirement already satisfied: torchaudio in /usr/local/lib/python3.10/dist-packages (2.1.0+cu121)\n",
            "Requirement already satisfied: datasets in /usr/local/lib/python3.10/dist-packages (2.18.0)\n",
            "Requirement already satisfied: navec in /usr/local/lib/python3.10/dist-packages (0.10.0)\n",
            "Requirement already satisfied: filelock in /usr/local/lib/python3.10/dist-packages (from torch) (3.13.1)\n",
            "Requirement already satisfied: typing-extensions in /usr/local/lib/python3.10/dist-packages (from torch) (4.10.0)\n",
            "Requirement already satisfied: sympy in /usr/local/lib/python3.10/dist-packages (from torch) (1.12)\n",
            "Requirement already satisfied: networkx in /usr/local/lib/python3.10/dist-packages (from torch) (3.2.1)\n",
            "Requirement already satisfied: jinja2 in /usr/local/lib/python3.10/dist-packages (from torch) (3.1.3)\n",
            "Requirement already satisfied: fsspec in /usr/local/lib/python3.10/dist-packages (from torch) (2023.6.0)\n",
            "Requirement already satisfied: triton==2.1.0 in /usr/local/lib/python3.10/dist-packages (from torch) (2.1.0)\n",
            "Requirement already satisfied: numpy in /usr/local/lib/python3.10/dist-packages (from torchvision) (1.25.2)\n",
            "Requirement already satisfied: requests in /usr/local/lib/python3.10/dist-packages (from torchvision) (2.31.0)\n",
            "Requirement already satisfied: pillow!=8.3.*,>=5.3.0 in /usr/local/lib/python3.10/dist-packages (from torchvision) (9.4.0)\n",
            "Requirement already satisfied: pyarrow>=12.0.0 in /usr/local/lib/python3.10/dist-packages (from datasets) (14.0.2)\n",
            "Requirement already satisfied: pyarrow-hotfix in /usr/local/lib/python3.10/dist-packages (from datasets) (0.6)\n",
            "Requirement already satisfied: dill<0.3.9,>=0.3.0 in /usr/local/lib/python3.10/dist-packages (from datasets) (0.3.8)\n",
            "Requirement already satisfied: pandas in /usr/local/lib/python3.10/dist-packages (from datasets) (1.5.3)\n",
            "Requirement already satisfied: tqdm>=4.62.1 in /usr/local/lib/python3.10/dist-packages (from datasets) (4.66.2)\n",
            "Requirement already satisfied: xxhash in /usr/local/lib/python3.10/dist-packages (from datasets) (3.4.1)\n",
            "Requirement already satisfied: multiprocess in /usr/local/lib/python3.10/dist-packages (from datasets) (0.70.16)\n",
            "Requirement already satisfied: aiohttp in /usr/local/lib/python3.10/dist-packages (from datasets) (3.9.3)\n",
            "Requirement already satisfied: huggingface-hub>=0.19.4 in /usr/local/lib/python3.10/dist-packages (from datasets) (0.20.3)\n",
            "Requirement already satisfied: packaging in /usr/local/lib/python3.10/dist-packages (from datasets) (23.2)\n",
            "Requirement already satisfied: pyyaml>=5.1 in /usr/local/lib/python3.10/dist-packages (from datasets) (6.0.1)\n",
            "Requirement already satisfied: aiosignal>=1.1.2 in /usr/local/lib/python3.10/dist-packages (from aiohttp->datasets) (1.3.1)\n",
            "Requirement already satisfied: attrs>=17.3.0 in /usr/local/lib/python3.10/dist-packages (from aiohttp->datasets) (23.2.0)\n",
            "Requirement already satisfied: frozenlist>=1.1.1 in /usr/local/lib/python3.10/dist-packages (from aiohttp->datasets) (1.4.1)\n",
            "Requirement already satisfied: multidict<7.0,>=4.5 in /usr/local/lib/python3.10/dist-packages (from aiohttp->datasets) (6.0.5)\n",
            "Requirement already satisfied: yarl<2.0,>=1.0 in /usr/local/lib/python3.10/dist-packages (from aiohttp->datasets) (1.9.4)\n",
            "Requirement already satisfied: async-timeout<5.0,>=4.0 in /usr/local/lib/python3.10/dist-packages (from aiohttp->datasets) (4.0.3)\n",
            "Requirement already satisfied: charset-normalizer<4,>=2 in /usr/local/lib/python3.10/dist-packages (from requests->torchvision) (3.3.2)\n",
            "Requirement already satisfied: idna<4,>=2.5 in /usr/local/lib/python3.10/dist-packages (from requests->torchvision) (3.6)\n",
            "Requirement already satisfied: urllib3<3,>=1.21.1 in /usr/local/lib/python3.10/dist-packages (from requests->torchvision) (2.0.7)\n",
            "Requirement already satisfied: certifi>=2017.4.17 in /usr/local/lib/python3.10/dist-packages (from requests->torchvision) (2024.2.2)\n",
            "Requirement already satisfied: MarkupSafe>=2.0 in /usr/local/lib/python3.10/dist-packages (from jinja2->torch) (2.1.5)\n",
            "Requirement already satisfied: python-dateutil>=2.8.1 in /usr/local/lib/python3.10/dist-packages (from pandas->datasets) (2.8.2)\n",
            "Requirement already satisfied: pytz>=2020.1 in /usr/local/lib/python3.10/dist-packages (from pandas->datasets) (2023.4)\n",
            "Requirement already satisfied: mpmath>=0.19 in /usr/local/lib/python3.10/dist-packages (from sympy->torch) (1.3.0)\n",
            "Requirement already satisfied: six>=1.5 in /usr/local/lib/python3.10/dist-packages (from python-dateutil>=2.8.1->pandas->datasets) (1.16.0)\n"
          ]
        }
      ],
      "source": [
        "%pip install --upgrade keras\n",
        "%pip install torch torchvision torchaudio datasets navec"
      ],
      "id": "83db6635"
    },
    {
      "cell_type": "code",
      "execution_count": 4,
      "metadata": {
        "id": "2dcb010f-90e2-4a23-bbdd-4b6df8a94c31"
      },
      "outputs": [],
      "source": [
        "import os\n",
        "os.environ[\"KERAS_BACKEND\"] = \"torch\""
      ],
      "id": "2dcb010f-90e2-4a23-bbdd-4b6df8a94c31"
    },
    {
      "cell_type": "code",
      "execution_count": 5,
      "metadata": {
        "colab": {
          "base_uri": "https://localhost:8080/"
        },
        "id": "Fv0sigptMWky",
        "outputId": "c382126b-ea6c-4f2d-bb8e-71819f3f7980"
      },
      "outputs": [
        {
          "output_type": "stream",
          "name": "stdout",
          "text": [
            "3.0.5\n"
          ]
        }
      ],
      "source": [
        "import keras\n",
        "print(keras.__version__)"
      ],
      "id": "Fv0sigptMWky"
    },
    {
      "cell_type": "code",
      "execution_count": 6,
      "metadata": {
        "id": "xOC1wcZEMYqJ"
      },
      "outputs": [],
      "source": [
        "import pandas as pd\n",
        "import numpy as np\n",
        "from datasets import load_dataset\n",
        "from navec import Navec\n",
        "from tensorflow.keras.initializers import Constant\n",
        "from string import punctuation\n",
        "from sklearn.model_selection import train_test_split\n",
        "from collections import Counter\n",
        "import matplotlib.pyplot as plt\n",
        "%matplotlib inline"
      ],
      "id": "xOC1wcZEMYqJ"
    },
    {
      "cell_type": "code",
      "execution_count": 7,
      "metadata": {
        "colab": {
          "base_uri": "https://localhost:8080/"
        },
        "id": "DF1sHjxFMksR",
        "outputId": "efc046be-5328-49b9-e7b7-a4c33c6cbc60"
      },
      "outputs": [
        {
          "output_type": "stream",
          "name": "stdout",
          "text": [
            "Drive already mounted at /content/drive; to attempt to forcibly remount, call drive.mount(\"/content/drive\", force_remount=True).\n"
          ]
        }
      ],
      "source": [
        "from google.colab import drive\n",
        "drive.mount('/content/drive')"
      ],
      "id": "DF1sHjxFMksR"
    },
    {
      "cell_type": "code",
      "execution_count": 8,
      "metadata": {
        "id": "RdSbpYC9OQ6Z"
      },
      "outputs": [],
      "source": [
        "os.chdir(\"/content/drive/My Drive\")"
      ],
      "id": "RdSbpYC9OQ6Z"
    },
    {
      "cell_type": "code",
      "execution_count": 9,
      "metadata": {
        "id": "RElxwNFeMtXf"
      },
      "outputs": [],
      "source": [
        "data = pd.read_csv('lenta_40k.csv')"
      ],
      "id": "RElxwNFeMtXf"
    },
    {
      "cell_type": "code",
      "execution_count": 10,
      "metadata": {
        "id": "NtMzK9m9Nlqx"
      },
      "outputs": [],
      "source": [
        "def preprocess(text):\n",
        "    tokens = text.lower().split()\n",
        "    tokens = [token.strip(punctuation) for token in tokens]\n",
        "    return tokens"
      ],
      "id": "NtMzK9m9Nlqx"
    },
    {
      "cell_type": "code",
      "execution_count": 11,
      "metadata": {
        "id": "YUoCEmdfNltc"
      },
      "outputs": [],
      "source": [
        "vocab = Counter()\n",
        "\n",
        "for text in data.text:\n",
        "    vocab.update(preprocess(text))"
      ],
      "id": "YUoCEmdfNltc"
    },
    {
      "cell_type": "code",
      "execution_count": 12,
      "metadata": {
        "id": "96nD8G5CNlwL"
      },
      "outputs": [],
      "source": [
        "filtered_vocab = set()\n",
        "\n",
        "for word in vocab:\n",
        "    if vocab[word] > 30:\n",
        "        filtered_vocab.add(word)"
      ],
      "id": "96nD8G5CNlwL"
    },
    {
      "cell_type": "code",
      "execution_count": 13,
      "metadata": {
        "id": "SP-hhFUsNly0"
      },
      "outputs": [],
      "source": [
        "word2id = {'PAD':0, 'UNK':1}\n",
        "\n",
        "for word in filtered_vocab:\n",
        "    word2id[word] = len(word2id)"
      ],
      "id": "SP-hhFUsNly0"
    },
    {
      "cell_type": "code",
      "execution_count": 14,
      "metadata": {
        "id": "-d8Qnq_kNl1V"
      },
      "outputs": [],
      "source": [
        "id2word = {i:word for word, i in word2id.items()}"
      ],
      "id": "-d8Qnq_kNl1V"
    },
    {
      "cell_type": "code",
      "execution_count": 15,
      "metadata": {
        "id": "R6WPPlcfNl4X"
      },
      "outputs": [],
      "source": [
        "X = []\n",
        "\n",
        "for text in data.text:\n",
        "    tokens = preprocess(text)\n",
        "    ids = [word2id.get(token, 1) for token in tokens]\n",
        "    X.append(ids)"
      ],
      "id": "R6WPPlcfNl4X"
    },
    {
      "cell_type": "code",
      "execution_count": 16,
      "metadata": {
        "id": "lImgrpG_Nl6-"
      },
      "outputs": [],
      "source": [
        "MEAN_LEN = np.median([len(x) for x in X])"
      ],
      "id": "lImgrpG_Nl6-"
    },
    {
      "cell_type": "code",
      "execution_count": 17,
      "metadata": {
        "id": "qJGqYcvUPW0u"
      },
      "outputs": [],
      "source": [
        "MAX_LEN = int(MEAN_LEN + 30)"
      ],
      "id": "qJGqYcvUPW0u"
    },
    {
      "cell_type": "code",
      "execution_count": 18,
      "metadata": {
        "id": "hbhEWs35PYUZ"
      },
      "outputs": [],
      "source": [
        "X = keras.preprocessing.sequence.pad_sequences(X, maxlen=MAX_LEN)"
      ],
      "id": "hbhEWs35PYUZ"
    },
    {
      "cell_type": "code",
      "execution_count": 19,
      "metadata": {
        "id": "mq5WDlYIsqYm",
        "colab": {
          "base_uri": "https://localhost:8080/"
        },
        "outputId": "3d48f1f8-119f-48c7-c9b5-c4072f50d490"
      },
      "outputs": [
        {
          "output_type": "execute_result",
          "data": {
            "text/plain": [
              "(44356, 200)"
            ]
          },
          "metadata": {},
          "execution_count": 19
        }
      ],
      "source": [
        "X.shape"
      ],
      "id": "mq5WDlYIsqYm"
    },
    {
      "cell_type": "code",
      "execution_count": 20,
      "metadata": {
        "id": "KxAGqX2jPavB"
      },
      "outputs": [],
      "source": [
        "id2label = {i:label for i, label in enumerate(set(data.topic.values))}\n",
        "label2id = {l:i for i, l in id2label.items()}"
      ],
      "id": "KxAGqX2jPavB"
    },
    {
      "cell_type": "code",
      "execution_count": 21,
      "metadata": {
        "id": "OBIC3f6fPd0T"
      },
      "outputs": [],
      "source": [
        "y = keras.utils.to_categorical([label2id[label] for label in data.topic.values])"
      ],
      "id": "OBIC3f6fPd0T"
    },
    {
      "cell_type": "code",
      "execution_count": 22,
      "metadata": {
        "id": "GynOjY8UPh_y"
      },
      "outputs": [],
      "source": [
        "X_train, X_valid, y_train, y_valid = train_test_split(X, y, test_size=0.05, stratify=y)"
      ],
      "id": "GynOjY8UPh_y"
    },
    {
      "cell_type": "markdown",
      "metadata": {
        "id": "6lZxUtpk6Hc7"
      },
      "source": [
        "###1) модель с 1 GRU слоем"
      ],
      "id": "6lZxUtpk6Hc7"
    },
    {
      "cell_type": "code",
      "execution_count": null,
      "metadata": {
        "id": "50362f6e"
      },
      "outputs": [],
      "source": [
        "inputs = keras.layers.Input(shape=(MAX_LEN,))\n",
        "embeddings = keras.layers.Embedding(input_dim=len(word2id), output_dim=30)(inputs, )\n",
        "\n",
        "rnn = keras.layers.GRU(64, return_sequences=False)(embeddings)\n",
        "\n",
        "outputs = keras.layers.Dense(len(label2id), activation='softmax')(rnn)\n",
        "\n",
        "model = keras.Model(inputs=inputs, outputs=outputs)\n",
        "optimizer = keras.optimizers.Adam(learning_rate=0.001)\n",
        "model.compile(optimizer=optimizer,\n",
        "              loss='categorical_crossentropy',\n",
        "              metrics=[keras.metrics.RecallAtPrecision(0.8, name='rec@prec')])\n"
      ],
      "id": "50362f6e"
    },
    {
      "cell_type": "code",
      "execution_count": null,
      "metadata": {
        "id": "b6676dab"
      },
      "outputs": [],
      "source": [
        "model.summary()"
      ],
      "id": "b6676dab"
    },
    {
      "cell_type": "code",
      "execution_count": null,
      "metadata": {
        "colab": {
          "background_save": true
        },
        "id": "JYlNfRyt6SRO",
        "outputId": "d102141a-4cb2-4b06-f6e7-e02c1f389f86"
      },
      "outputs": [
        {
          "name": "stdout",
          "output_type": "stream",
          "text": [
            "Epoch 1/10\n",
            "\u001b[1m43/43\u001b[0m \u001b[32m━━━━━━━━━━━━━━━━━━━━\u001b[0m\u001b[37m\u001b[0m \u001b[1m15s\u001b[0m 354ms/step - loss: 2.8096 - rec@prec: 9.4697e-07 - val_loss: 2.3445 - val_rec@prec: 0.0014\n",
            "Epoch 2/10\n",
            "\u001b[1m43/43\u001b[0m \u001b[32m━━━━━━━━━━━━━━━━━━━━\u001b[0m\u001b[37m\u001b[0m \u001b[1m15s\u001b[0m 346ms/step - loss: 2.3256 - rec@prec: 5.7152e-05 - val_loss: 2.2365 - val_rec@prec: 0.0000e+00\n",
            "Epoch 3/10\n",
            "\u001b[1m43/43\u001b[0m \u001b[32m━━━━━━━━━━━━━━━━━━━━\u001b[0m\u001b[37m\u001b[0m \u001b[1m15s\u001b[0m 344ms/step - loss: 2.1791 - rec@prec: 0.0015 - val_loss: 2.0496 - val_rec@prec: 0.0000e+00\n",
            "Epoch 4/10\n",
            "\u001b[1m43/43\u001b[0m \u001b[32m━━━━━━━━━━━━━━━━━━━━\u001b[0m\u001b[37m\u001b[0m \u001b[1m15s\u001b[0m 340ms/step - loss: 1.9697 - rec@prec: 0.0159 - val_loss: 1.9033 - val_rec@prec: 0.0000e+00\n",
            "Epoch 5/10\n",
            "\u001b[1m43/43\u001b[0m \u001b[32m━━━━━━━━━━━━━━━━━━━━\u001b[0m\u001b[37m\u001b[0m \u001b[1m16s\u001b[0m 370ms/step - loss: 1.7686 - rec@prec: 0.0606 - val_loss: 1.8621 - val_rec@prec: 0.0126\n",
            "Epoch 6/10\n",
            "\u001b[1m43/43\u001b[0m \u001b[32m━━━━━━━━━━━━━━━━━━━━\u001b[0m\u001b[37m\u001b[0m \u001b[1m15s\u001b[0m 349ms/step - loss: 1.6175 - rec@prec: 0.1167 - val_loss: 1.8642 - val_rec@prec: 0.0252\n",
            "Epoch 7/10\n",
            "\u001b[1m43/43\u001b[0m \u001b[32m━━━━━━━━━━━━━━━━━━━━\u001b[0m\u001b[37m\u001b[0m \u001b[1m15s\u001b[0m 340ms/step - loss: 1.5083 - rec@prec: 0.1797 - val_loss: 1.7888 - val_rec@prec: 0.0361\n",
            "Epoch 8/10\n",
            "\u001b[1m43/43\u001b[0m \u001b[32m━━━━━━━━━━━━━━━━━━━━\u001b[0m\u001b[37m\u001b[0m \u001b[1m15s\u001b[0m 344ms/step - loss: 1.3694 - rec@prec: 0.2569 - val_loss: 1.7425 - val_rec@prec: 0.0735\n",
            "Epoch 9/10\n",
            "\u001b[1m43/43\u001b[0m \u001b[32m━━━━━━━━━━━━━━━━━━━━\u001b[0m\u001b[37m\u001b[0m \u001b[1m15s\u001b[0m 347ms/step - loss: 1.2163 - rec@prec: 0.3648 - val_loss: 1.6678 - val_rec@prec: 0.0929\n",
            "Epoch 10/10\n",
            "\u001b[1m43/43\u001b[0m \u001b[32m━━━━━━━━━━━━━━━━━━━━\u001b[0m\u001b[37m\u001b[0m \u001b[1m15s\u001b[0m 347ms/step - loss: 1.1105 - rec@prec: 0.4498 - val_loss: 1.6651 - val_rec@prec: 0.1019\n"
          ]
        },
        {
          "data": {
            "text/plain": [
              "<keras.src.callbacks.history.History at 0x7921f4406aa0>"
            ]
          },
          "execution_count": 75,
          "metadata": {},
          "output_type": "execute_result"
        }
      ],
      "source": [
        "model.fit(X_train, y_train,\n",
        "          validation_data=(X_valid, y_valid),\n",
        "          batch_size=1000,\n",
        "         epochs=10)"
      ],
      "id": "JYlNfRyt6SRO"
    },
    {
      "cell_type": "code",
      "execution_count": null,
      "metadata": {
        "colab": {
          "background_save": true
        },
        "id": "sm_lIQId6STy",
        "outputId": "2d0cd46a-ab1c-4603-a2c0-cd716967bfdc"
      },
      "outputs": [
        {
          "data": {
            "image/png": "[encoded data removed]",
            "text/plain": [
              "<Figure size 640x480 with 1 Axes>"
            ]
          },
          "metadata": {},
          "output_type": "display_data"
        }
      ],
      "source": [
        "plt.plot(model.history.history['rec@prec'])\n",
        "plt.plot(model.history.history['val_rec@prec'])\n",
        "plt.title('model metrics')\n",
        "plt.ylabel('recall at precision')\n",
        "plt.xlabel('epoch')\n",
        "plt.legend(['train', 'val'], loc='upper left')\n",
        "plt.show()"
      ],
      "id": "sm_lIQId6STy"
    },
    {
      "cell_type": "markdown",
      "metadata": {
        "id": "WvnjCozV6eM-"
      },
      "source": [
        "###2) модель с 1 LSTM слоем"
      ],
      "id": "WvnjCozV6eM-"
    },
    {
      "cell_type": "code",
      "execution_count": null,
      "metadata": {
        "colab": {
          "background_save": true
        },
        "id": "fYREuZfJ6SWW"
      },
      "outputs": [],
      "source": [
        "inputs = keras.layers.Input(shape=(MAX_LEN,))\n",
        "embeddings = keras.layers.Embedding(input_dim=len(word2id), output_dim=30)(inputs, )\n",
        "\n",
        "lstm = keras.layers.LSTM(64, return_sequences=False)(embeddings)\n",
        "\n",
        "outputs = keras.layers.Dense(len(label2id), activation='softmax')(lstm)\n",
        "\n",
        "model = keras.Model(inputs=inputs, outputs=outputs)\n",
        "optimizer = keras.optimizers.Adam(learning_rate=0.001)\n",
        "model.compile(optimizer=optimizer,\n",
        "              loss='categorical_crossentropy',\n",
        "              metrics=[keras.metrics.RecallAtPrecision(0.8, name='rec@prec')])\n"
      ],
      "id": "fYREuZfJ6SWW"
    },
    {
      "cell_type": "code",
      "execution_count": null,
      "metadata": {
        "colab": {
          "background_save": true
        },
        "id": "dLR8HnBb6SYr",
        "outputId": "066c90aa-b585-44b2-c0a5-59f851f02974"
      },
      "outputs": [
        {
          "data": {
            "text/html": [
              "<pre style=\"white-space:pre;overflow-x:auto;line-height:normal;font-family:Menlo,'DejaVu Sans Mono',consolas,'Courier New',monospace\"><span style=\"font-weight: bold\">Model: \"functional_21\"</span>\n",
              "</pre>\n"
            ],
            "text/plain": [
              "\u001b[1mModel: \"functional_21\"\u001b[0m\n"
            ]
          },
          "metadata": {},
          "output_type": "display_data"
        },
        {
          "data": {
            "text/html": [
              "<pre style=\"white-space:pre;overflow-x:auto;line-height:normal;font-family:Menlo,'DejaVu Sans Mono',consolas,'Courier New',monospace\">┏━━━━━━━━━━━━━━━━━━━━━━━━━━━━━━━━━━━━━━┳━━━━━━━━━━━━━━━━━━━━━━━━━━━━━┳━━━━━━━━━━━━━━━━━┓\n",
              "┃<span style=\"font-weight: bold\"> Layer (type)                         </span>┃<span style=\"font-weight: bold\"> Output Shape                </span>┃<span style=\"font-weight: bold\">         Param # </span>┃\n",
              "┡━━━━━━━━━━━━━━━━━━━━━━━━━━━━━━━━━━━━━━╇━━━━━━━━━━━━━━━━━━━━━━━━━━━━━╇━━━━━━━━━━━━━━━━━┩\n",
              "│ input_layer_11 (<span style=\"color: #0087ff; text-decoration-color: #0087ff\">InputLayer</span>)          │ (<span style=\"color: #00d7ff; text-decoration-color: #00d7ff\">None</span>, <span style=\"color: #00af00; text-decoration-color: #00af00\">200</span>)                 │               <span style=\"color: #00af00; text-decoration-color: #00af00\">0</span> │\n",
              "├──────────────────────────────────────┼─────────────────────────────┼─────────────────┤\n",
              "│ embedding_11 (<span style=\"color: #0087ff; text-decoration-color: #0087ff\">Embedding</span>)             │ (<span style=\"color: #00d7ff; text-decoration-color: #00d7ff\">None</span>, <span style=\"color: #00af00; text-decoration-color: #00af00\">200</span>, <span style=\"color: #00af00; text-decoration-color: #00af00\">30</span>)             │         <span style=\"color: #00af00; text-decoration-color: #00af00\">722,790</span> │\n",
              "├──────────────────────────────────────┼─────────────────────────────┼─────────────────┤\n",
              "│ lstm_30 (<span style=\"color: #0087ff; text-decoration-color: #0087ff\">LSTM</span>)                       │ (<span style=\"color: #00d7ff; text-decoration-color: #00d7ff\">None</span>, <span style=\"color: #00af00; text-decoration-color: #00af00\">64</span>)                  │          <span style=\"color: #00af00; text-decoration-color: #00af00\">24,320</span> │\n",
              "├──────────────────────────────────────┼─────────────────────────────┼─────────────────┤\n",
              "│ dense_18 (<span style=\"color: #0087ff; text-decoration-color: #0087ff\">Dense</span>)                     │ (<span style=\"color: #00d7ff; text-decoration-color: #00d7ff\">None</span>, <span style=\"color: #00af00; text-decoration-color: #00af00\">19</span>)                  │           <span style=\"color: #00af00; text-decoration-color: #00af00\">1,235</span> │\n",
              "└──────────────────────────────────────┴─────────────────────────────┴─────────────────┘\n",
              "</pre>\n"
            ],
            "text/plain": [
              "┏━━━━━━━━━━━━━━━━━━━━━━━━━━━━━━━━━━━━━━┳━━━━━━━━━━━━━━━━━━━━━━━━━━━━━┳━━━━━━━━━━━━━━━━━┓\n",
              "┃\u001b[1m \u001b[0m\u001b[1mLayer (type)                        \u001b[0m\u001b[1m \u001b[0m┃\u001b[1m \u001b[0m\u001b[1mOutput Shape               \u001b[0m\u001b[1m \u001b[0m┃\u001b[1m \u001b[0m\u001b[1m        Param #\u001b[0m\u001b[1m \u001b[0m┃\n",
              "┡━━━━━━━━━━━━━━━━━━━━━━━━━━━━━━━━━━━━━━╇━━━━━━━━━━━━━━━━━━━━━━━━━━━━━╇━━━━━━━━━━━━━━━━━┩\n",
              "│ input_layer_11 (\u001b[38;5;33mInputLayer\u001b[0m)          │ (\u001b[38;5;45mNone\u001b[0m, \u001b[38;5;34m200\u001b[0m)                 │               \u001b[38;5;34m0\u001b[0m │\n",
              "├──────────────────────────────────────┼─────────────────────────────┼─────────────────┤\n",
              "│ embedding_11 (\u001b[38;5;33mEmbedding\u001b[0m)             │ (\u001b[38;5;45mNone\u001b[0m, \u001b[38;5;34m200\u001b[0m, \u001b[38;5;34m30\u001b[0m)             │         \u001b[38;5;34m722,790\u001b[0m │\n",
              "├──────────────────────────────────────┼─────────────────────────────┼─────────────────┤\n",
              "│ lstm_30 (\u001b[38;5;33mLSTM\u001b[0m)                       │ (\u001b[38;5;45mNone\u001b[0m, \u001b[38;5;34m64\u001b[0m)                  │          \u001b[38;5;34m24,320\u001b[0m │\n",
              "├──────────────────────────────────────┼─────────────────────────────┼─────────────────┤\n",
              "│ dense_18 (\u001b[38;5;33mDense\u001b[0m)                     │ (\u001b[38;5;45mNone\u001b[0m, \u001b[38;5;34m19\u001b[0m)                  │           \u001b[38;5;34m1,235\u001b[0m │\n",
              "└──────────────────────────────────────┴─────────────────────────────┴─────────────────┘\n"
            ]
          },
          "metadata": {},
          "output_type": "display_data"
        },
        {
          "data": {
            "text/html": [
              "<pre style=\"white-space:pre;overflow-x:auto;line-height:normal;font-family:Menlo,'DejaVu Sans Mono',consolas,'Courier New',monospace\"><span style=\"font-weight: bold\"> Total params: </span><span style=\"color: #00af00; text-decoration-color: #00af00\">748,345</span> (2.85 MB)\n",
              "</pre>\n"
            ],
            "text/plain": [
              "\u001b[1m Total params: \u001b[0m\u001b[38;5;34m748,345\u001b[0m (2.85 MB)\n"
            ]
          },
          "metadata": {},
          "output_type": "display_data"
        },
        {
          "data": {
            "text/html": [
              "<pre style=\"white-space:pre;overflow-x:auto;line-height:normal;font-family:Menlo,'DejaVu Sans Mono',consolas,'Courier New',monospace\"><span style=\"font-weight: bold\"> Trainable params: </span><span style=\"color: #00af00; text-decoration-color: #00af00\">748,345</span> (2.85 MB)\n",
              "</pre>\n"
            ],
            "text/plain": [
              "\u001b[1m Trainable params: \u001b[0m\u001b[38;5;34m748,345\u001b[0m (2.85 MB)\n"
            ]
          },
          "metadata": {},
          "output_type": "display_data"
        },
        {
          "data": {
            "text/html": [
              "<pre style=\"white-space:pre;overflow-x:auto;line-height:normal;font-family:Menlo,'DejaVu Sans Mono',consolas,'Courier New',monospace\"><span style=\"font-weight: bold\"> Non-trainable params: </span><span style=\"color: #00af00; text-decoration-color: #00af00\">0</span> (0.00 B)\n",
              "</pre>\n"
            ],
            "text/plain": [
              "\u001b[1m Non-trainable params: \u001b[0m\u001b[38;5;34m0\u001b[0m (0.00 B)\n"
            ]
          },
          "metadata": {},
          "output_type": "display_data"
        }
      ],
      "source": [
        "model.summary()"
      ],
      "id": "dLR8HnBb6SYr"
    },
    {
      "cell_type": "code",
      "execution_count": null,
      "metadata": {
        "colab": {
          "background_save": true
        },
        "id": "eXKZwdVH6SbR",
        "outputId": "d919b04f-e342-47b5-e718-10bc53cee7fa"
      },
      "outputs": [
        {
          "name": "stdout",
          "output_type": "stream",
          "text": [
            "Epoch 1/10\n",
            "\u001b[1m43/43\u001b[0m \u001b[32m━━━━━━━━━━━━━━━━━━━━\u001b[0m\u001b[37m\u001b[0m \u001b[1m11s\u001b[0m 252ms/step - loss: 2.7410 - rec@prec: 0.0000e+00 - val_loss: 2.3209 - val_rec@prec: 0.0000e+00\n",
            "Epoch 2/10\n",
            "\u001b[1m43/43\u001b[0m \u001b[32m━━━━━━━━━━━━━━━━━━━━\u001b[0m\u001b[37m\u001b[0m \u001b[1m11s\u001b[0m 268ms/step - loss: 2.3242 - rec@prec: 0.0000e+00 - val_loss: 2.2893 - val_rec@prec: 0.0000e+00\n",
            "Epoch 3/10\n",
            "\u001b[1m43/43\u001b[0m \u001b[32m━━━━━━━━━━━━━━━━━━━━\u001b[0m\u001b[37m\u001b[0m \u001b[1m11s\u001b[0m 263ms/step - loss: 2.2441 - rec@prec: 3.0326e-04 - val_loss: 1.9920 - val_rec@prec: 0.0000e+00\n",
            "Epoch 4/10\n",
            "\u001b[1m43/43\u001b[0m \u001b[32m━━━━━━━━━━━━━━━━━━━━\u001b[0m\u001b[37m\u001b[0m \u001b[1m11s\u001b[0m 263ms/step - loss: 1.9274 - rec@prec: 0.0152 - val_loss: 1.7635 - val_rec@prec: 0.0852\n",
            "Epoch 5/10\n",
            "\u001b[1m43/43\u001b[0m \u001b[32m━━━━━━━━━━━━━━━━━━━━\u001b[0m\u001b[37m\u001b[0m \u001b[1m12s\u001b[0m 270ms/step - loss: 1.6977 - rec@prec: 0.1114 - val_loss: 1.6189 - val_rec@prec: 0.1330\n",
            "Epoch 6/10\n",
            "\u001b[1m43/43\u001b[0m \u001b[32m━━━━━━━━━━━━━━━━━━━━\u001b[0m\u001b[37m\u001b[0m \u001b[1m11s\u001b[0m 262ms/step - loss: 1.6333 - rec@prec: 0.0748 - val_loss: 1.6363 - val_rec@prec: 0.0356\n",
            "Epoch 7/10\n",
            "\u001b[1m43/43\u001b[0m \u001b[32m━━━━━━━━━━━━━━━━━━━━\u001b[0m\u001b[37m\u001b[0m \u001b[1m11s\u001b[0m 263ms/step - loss: 1.4959 - rec@prec: 0.1563 - val_loss: 1.5771 - val_rec@prec: 0.1344\n",
            "Epoch 8/10\n",
            "\u001b[1m43/43\u001b[0m \u001b[32m━━━━━━━━━━━━━━━━━━━━\u001b[0m\u001b[37m\u001b[0m \u001b[1m12s\u001b[0m 272ms/step - loss: 1.3728 - rec@prec: 0.2307 - val_loss: 1.4891 - val_rec@prec: 0.1488\n",
            "Epoch 9/10\n",
            "\u001b[1m43/43\u001b[0m \u001b[32m━━━━━━━━━━━━━━━━━━━━\u001b[0m\u001b[37m\u001b[0m \u001b[1m11s\u001b[0m 253ms/step - loss: 1.2213 - rec@prec: 0.3790 - val_loss: 1.4432 - val_rec@prec: 0.1858\n",
            "Epoch 10/10\n",
            "\u001b[1m43/43\u001b[0m \u001b[32m━━━━━━━━━━━━━━━━━━━━\u001b[0m\u001b[37m\u001b[0m \u001b[1m11s\u001b[0m 257ms/step - loss: 1.1114 - rec@prec: 0.4802 - val_loss: 1.3419 - val_rec@prec: 0.2385\n"
          ]
        },
        {
          "data": {
            "text/plain": [
              "<keras.src.callbacks.history.History at 0x7921f47dd570>"
            ]
          },
          "execution_count": 79,
          "metadata": {},
          "output_type": "execute_result"
        }
      ],
      "source": [
        "model.fit(X_train, y_train,\n",
        "          validation_data=(X_valid, y_valid),\n",
        "          batch_size=1000,\n",
        "         epochs=10)"
      ],
      "id": "eXKZwdVH6SbR"
    },
    {
      "cell_type": "code",
      "execution_count": null,
      "metadata": {
        "colab": {
          "background_save": true
        },
        "id": "T-DAj5zu6Sd7",
        "outputId": "eab37282-dd9b-4ee9-e8a5-41fac433b521"
      },
      "outputs": [
        {
          "data": {
            "image/png": "[encoded data removed]",
            "text/plain": [
              "<Figure size 640x480 with 1 Axes>"
            ]
          },
          "metadata": {},
          "output_type": "display_data"
        }
      ],
      "source": [
        "plt.plot(model.history.history['rec@prec'])\n",
        "plt.plot(model.history.history['val_rec@prec'])\n",
        "plt.title('model metrics')\n",
        "plt.ylabel('recall at precision')\n",
        "plt.xlabel('epoch')\n",
        "plt.legend(['train', 'val'], loc='upper left')\n",
        "plt.show()"
      ],
      "id": "T-DAj5zu6Sd7"
    },
    {
      "cell_type": "markdown",
      "metadata": {
        "id": "sHmxFmM16wrW"
      },
      "source": [
        "###3) модель с 1 GRU и 1 LSTM слоем"
      ],
      "id": "sHmxFmM16wrW"
    },
    {
      "cell_type": "code",
      "execution_count": null,
      "metadata": {
        "colab": {
          "background_save": true
        },
        "id": "tQAZ-tFc6Sgf"
      },
      "outputs": [],
      "source": [
        "inputs = keras.layers.Input(shape=(MAX_LEN,))\n",
        "embeddings = keras.layers.Embedding(input_dim=len(word2id), output_dim=64)(inputs, )\n",
        "\n",
        "gru_1 = keras.layers.GRU(64, return_sequences=True)(embeddings)\n",
        "lstm_1 = keras.layers.LSTM(64, return_sequences=False)(gru_1)\n",
        "\n",
        "outputs = keras.layers.Dense(len(label2id), activation='softmax')(lstm_1)\n",
        "\n",
        "model = keras.Model(inputs=inputs, outputs=outputs)\n",
        "optimizer = keras.optimizers.Adam(learning_rate=0.001)\n",
        "model.compile(optimizer=optimizer,\n",
        "              loss='categorical_crossentropy',\n",
        "              metrics=[keras.metrics.RecallAtPrecision(0.8, name='rec@prec')])\n"
      ],
      "id": "tQAZ-tFc6Sgf"
    },
    {
      "cell_type": "code",
      "execution_count": null,
      "metadata": {
        "colab": {
          "background_save": true
        },
        "id": "9-d8a-bm6SjD",
        "outputId": "076b4292-3a4c-47cf-f48c-0d09a616bc4c"
      },
      "outputs": [
        {
          "data": {
            "text/html": [
              "<pre style=\"white-space:pre;overflow-x:auto;line-height:normal;font-family:Menlo,'DejaVu Sans Mono',consolas,'Courier New',monospace\"><span style=\"font-weight: bold\">Model: \"functional_23\"</span>\n",
              "</pre>\n"
            ],
            "text/plain": [
              "\u001b[1mModel: \"functional_23\"\u001b[0m\n"
            ]
          },
          "metadata": {},
          "output_type": "display_data"
        },
        {
          "data": {
            "text/html": [
              "<pre style=\"white-space:pre;overflow-x:auto;line-height:normal;font-family:Menlo,'DejaVu Sans Mono',consolas,'Courier New',monospace\">┏━━━━━━━━━━━━━━━━━━━━━━━━━━━━━━━━━━━━━━┳━━━━━━━━━━━━━━━━━━━━━━━━━━━━━┳━━━━━━━━━━━━━━━━━┓\n",
              "┃<span style=\"font-weight: bold\"> Layer (type)                         </span>┃<span style=\"font-weight: bold\"> Output Shape                </span>┃<span style=\"font-weight: bold\">         Param # </span>┃\n",
              "┡━━━━━━━━━━━━━━━━━━━━━━━━━━━━━━━━━━━━━━╇━━━━━━━━━━━━━━━━━━━━━━━━━━━━━╇━━━━━━━━━━━━━━━━━┩\n",
              "│ input_layer_12 (<span style=\"color: #0087ff; text-decoration-color: #0087ff\">InputLayer</span>)          │ (<span style=\"color: #00d7ff; text-decoration-color: #00d7ff\">None</span>, <span style=\"color: #00af00; text-decoration-color: #00af00\">200</span>)                 │               <span style=\"color: #00af00; text-decoration-color: #00af00\">0</span> │\n",
              "├──────────────────────────────────────┼─────────────────────────────┼─────────────────┤\n",
              "│ embedding_12 (<span style=\"color: #0087ff; text-decoration-color: #0087ff\">Embedding</span>)             │ (<span style=\"color: #00d7ff; text-decoration-color: #00d7ff\">None</span>, <span style=\"color: #00af00; text-decoration-color: #00af00\">200</span>, <span style=\"color: #00af00; text-decoration-color: #00af00\">64</span>)             │       <span style=\"color: #00af00; text-decoration-color: #00af00\">1,541,952</span> │\n",
              "├──────────────────────────────────────┼─────────────────────────────┼─────────────────┤\n",
              "│ gru_35 (<span style=\"color: #0087ff; text-decoration-color: #0087ff\">GRU</span>)                         │ (<span style=\"color: #00d7ff; text-decoration-color: #00d7ff\">None</span>, <span style=\"color: #00af00; text-decoration-color: #00af00\">200</span>, <span style=\"color: #00af00; text-decoration-color: #00af00\">64</span>)             │          <span style=\"color: #00af00; text-decoration-color: #00af00\">24,960</span> │\n",
              "├──────────────────────────────────────┼─────────────────────────────┼─────────────────┤\n",
              "│ lstm_31 (<span style=\"color: #0087ff; text-decoration-color: #0087ff\">LSTM</span>)                       │ (<span style=\"color: #00d7ff; text-decoration-color: #00d7ff\">None</span>, <span style=\"color: #00af00; text-decoration-color: #00af00\">64</span>)                  │          <span style=\"color: #00af00; text-decoration-color: #00af00\">33,024</span> │\n",
              "├──────────────────────────────────────┼─────────────────────────────┼─────────────────┤\n",
              "│ dense_19 (<span style=\"color: #0087ff; text-decoration-color: #0087ff\">Dense</span>)                     │ (<span style=\"color: #00d7ff; text-decoration-color: #00d7ff\">None</span>, <span style=\"color: #00af00; text-decoration-color: #00af00\">19</span>)                  │           <span style=\"color: #00af00; text-decoration-color: #00af00\">1,235</span> │\n",
              "└──────────────────────────────────────┴─────────────────────────────┴─────────────────┘\n",
              "</pre>\n"
            ],
            "text/plain": [
              "┏━━━━━━━━━━━━━━━━━━━━━━━━━━━━━━━━━━━━━━┳━━━━━━━━━━━━━━━━━━━━━━━━━━━━━┳━━━━━━━━━━━━━━━━━┓\n",
              "┃\u001b[1m \u001b[0m\u001b[1mLayer (type)                        \u001b[0m\u001b[1m \u001b[0m┃\u001b[1m \u001b[0m\u001b[1mOutput Shape               \u001b[0m\u001b[1m \u001b[0m┃\u001b[1m \u001b[0m\u001b[1m        Param #\u001b[0m\u001b[1m \u001b[0m┃\n",
              "┡━━━━━━━━━━━━━━━━━━━━━━━━━━━━━━━━━━━━━━╇━━━━━━━━━━━━━━━━━━━━━━━━━━━━━╇━━━━━━━━━━━━━━━━━┩\n",
              "│ input_layer_12 (\u001b[38;5;33mInputLayer\u001b[0m)          │ (\u001b[38;5;45mNone\u001b[0m, \u001b[38;5;34m200\u001b[0m)                 │               \u001b[38;5;34m0\u001b[0m │\n",
              "├──────────────────────────────────────┼─────────────────────────────┼─────────────────┤\n",
              "│ embedding_12 (\u001b[38;5;33mEmbedding\u001b[0m)             │ (\u001b[38;5;45mNone\u001b[0m, \u001b[38;5;34m200\u001b[0m, \u001b[38;5;34m64\u001b[0m)             │       \u001b[38;5;34m1,541,952\u001b[0m │\n",
              "├──────────────────────────────────────┼─────────────────────────────┼─────────────────┤\n",
              "│ gru_35 (\u001b[38;5;33mGRU\u001b[0m)                         │ (\u001b[38;5;45mNone\u001b[0m, \u001b[38;5;34m200\u001b[0m, \u001b[38;5;34m64\u001b[0m)             │          \u001b[38;5;34m24,960\u001b[0m │\n",
              "├──────────────────────────────────────┼─────────────────────────────┼─────────────────┤\n",
              "│ lstm_31 (\u001b[38;5;33mLSTM\u001b[0m)                       │ (\u001b[38;5;45mNone\u001b[0m, \u001b[38;5;34m64\u001b[0m)                  │          \u001b[38;5;34m33,024\u001b[0m │\n",
              "├──────────────────────────────────────┼─────────────────────────────┼─────────────────┤\n",
              "│ dense_19 (\u001b[38;5;33mDense\u001b[0m)                     │ (\u001b[38;5;45mNone\u001b[0m, \u001b[38;5;34m19\u001b[0m)                  │           \u001b[38;5;34m1,235\u001b[0m │\n",
              "└──────────────────────────────────────┴─────────────────────────────┴─────────────────┘\n"
            ]
          },
          "metadata": {},
          "output_type": "display_data"
        },
        {
          "data": {
            "text/html": [
              "<pre style=\"white-space:pre;overflow-x:auto;line-height:normal;font-family:Menlo,'DejaVu Sans Mono',consolas,'Courier New',monospace\"><span style=\"font-weight: bold\"> Total params: </span><span style=\"color: #00af00; text-decoration-color: #00af00\">1,601,171</span> (6.11 MB)\n",
              "</pre>\n"
            ],
            "text/plain": [
              "\u001b[1m Total params: \u001b[0m\u001b[38;5;34m1,601,171\u001b[0m (6.11 MB)\n"
            ]
          },
          "metadata": {},
          "output_type": "display_data"
        },
        {
          "data": {
            "text/html": [
              "<pre style=\"white-space:pre;overflow-x:auto;line-height:normal;font-family:Menlo,'DejaVu Sans Mono',consolas,'Courier New',monospace\"><span style=\"font-weight: bold\"> Trainable params: </span><span style=\"color: #00af00; text-decoration-color: #00af00\">1,601,171</span> (6.11 MB)\n",
              "</pre>\n"
            ],
            "text/plain": [
              "\u001b[1m Trainable params: \u001b[0m\u001b[38;5;34m1,601,171\u001b[0m (6.11 MB)\n"
            ]
          },
          "metadata": {},
          "output_type": "display_data"
        },
        {
          "data": {
            "text/html": [
              "<pre style=\"white-space:pre;overflow-x:auto;line-height:normal;font-family:Menlo,'DejaVu Sans Mono',consolas,'Courier New',monospace\"><span style=\"font-weight: bold\"> Non-trainable params: </span><span style=\"color: #00af00; text-decoration-color: #00af00\">0</span> (0.00 B)\n",
              "</pre>\n"
            ],
            "text/plain": [
              "\u001b[1m Non-trainable params: \u001b[0m\u001b[38;5;34m0\u001b[0m (0.00 B)\n"
            ]
          },
          "metadata": {},
          "output_type": "display_data"
        }
      ],
      "source": [
        "model.summary()"
      ],
      "id": "9-d8a-bm6SjD"
    },
    {
      "cell_type": "code",
      "execution_count": null,
      "metadata": {
        "colab": {
          "background_save": true
        },
        "id": "Zqxky2D17IGN",
        "outputId": "29c3ec47-8929-42e4-eb73-767754af2052"
      },
      "outputs": [
        {
          "name": "stdout",
          "output_type": "stream",
          "text": [
            "Epoch 1/10\n",
            "\u001b[1m43/43\u001b[0m \u001b[32m━━━━━━━━━━━━━━━━━━━━\u001b[0m\u001b[37m\u001b[0m \u001b[1m26s\u001b[0m 593ms/step - loss: 2.7024 - rec@prec: 0.0000e+00 - val_loss: 2.3148 - val_rec@prec: 0.0000e+00\n",
            "Epoch 2/10\n",
            "\u001b[1m43/43\u001b[0m \u001b[32m━━━━━━━━━━━━━━━━━━━━\u001b[0m\u001b[37m\u001b[0m \u001b[1m26s\u001b[0m 606ms/step - loss: 2.2899 - rec@prec: 3.2280e-04 - val_loss: 2.0119 - val_rec@prec: 0.0532\n",
            "Epoch 3/10\n",
            "\u001b[1m43/43\u001b[0m \u001b[32m━━━━━━━━━━━━━━━━━━━━\u001b[0m\u001b[37m\u001b[0m \u001b[1m26s\u001b[0m 606ms/step - loss: 1.8469 - rec@prec: 0.0770 - val_loss: 1.6817 - val_rec@prec: 0.1930\n",
            "Epoch 4/10\n",
            "\u001b[1m43/43\u001b[0m \u001b[32m━━━━━━━━━━━━━━━━━━━━\u001b[0m\u001b[37m\u001b[0m \u001b[1m26s\u001b[0m 596ms/step - loss: 1.4749 - rec@prec: 0.2814 - val_loss: 1.4475 - val_rec@prec: 0.2764\n",
            "Epoch 5/10\n",
            "\u001b[1m43/43\u001b[0m \u001b[32m━━━━━━━━━━━━━━━━━━━━\u001b[0m\u001b[37m\u001b[0m \u001b[1m26s\u001b[0m 600ms/step - loss: 1.2630 - rec@prec: 0.4440 - val_loss: 1.4374 - val_rec@prec: 0.2543\n",
            "Epoch 6/10\n",
            "\u001b[1m43/43\u001b[0m \u001b[32m━━━━━━━━━━━━━━━━━━━━\u001b[0m\u001b[37m\u001b[0m \u001b[1m26s\u001b[0m 600ms/step - loss: 1.1720 - rec@prec: 0.4897 - val_loss: 1.3472 - val_rec@prec: 0.3390\n",
            "Epoch 7/10\n",
            "\u001b[1m43/43\u001b[0m \u001b[32m━━━━━━━━━━━━━━━━━━━━\u001b[0m\u001b[37m\u001b[0m \u001b[1m26s\u001b[0m 603ms/step - loss: 1.0440 - rec@prec: 0.6090 - val_loss: 1.4060 - val_rec@prec: 0.3282\n",
            "Epoch 8/10\n",
            "\u001b[1m43/43\u001b[0m \u001b[32m━━━━━━━━━━━━━━━━━━━━\u001b[0m\u001b[37m\u001b[0m \u001b[1m25s\u001b[0m 592ms/step - loss: 0.9893 - rec@prec: 0.6523 - val_loss: 1.3216 - val_rec@prec: 0.4197\n",
            "Epoch 9/10\n",
            "\u001b[1m43/43\u001b[0m \u001b[32m━━━━━━━━━━━━━━━━━━━━\u001b[0m\u001b[37m\u001b[0m \u001b[1m26s\u001b[0m 599ms/step - loss: 0.8678 - rec@prec: 0.7365 - val_loss: 1.3476 - val_rec@prec: 0.3891\n",
            "Epoch 10/10\n",
            "\u001b[1m43/43\u001b[0m \u001b[32m━━━━━━━━━━━━━━━━━━━━\u001b[0m\u001b[37m\u001b[0m \u001b[1m26s\u001b[0m 598ms/step - loss: 0.7871 - rec@prec: 0.7822 - val_loss: 1.3465 - val_rec@prec: 0.4292\n"
          ]
        },
        {
          "data": {
            "text/plain": [
              "<keras.src.callbacks.history.History at 0x7921f441c550>"
            ]
          },
          "execution_count": 83,
          "metadata": {},
          "output_type": "execute_result"
        }
      ],
      "source": [
        "model.fit(X_train, y_train,\n",
        "          validation_data=(X_valid, y_valid),\n",
        "          batch_size=1000,\n",
        "         epochs=10)"
      ],
      "id": "Zqxky2D17IGN"
    },
    {
      "cell_type": "code",
      "execution_count": null,
      "metadata": {
        "colab": {
          "background_save": true
        },
        "id": "NQNYQV_m7II6",
        "outputId": "f53177ae-89f7-4f5a-9602-f690e950d0c3"
      },
      "outputs": [
        {
          "data": {
            "image/png": "[encoded data removed]",
            "text/plain": [
              "<Figure size 640x480 with 1 Axes>"
            ]
          },
          "metadata": {},
          "output_type": "display_data"
        }
      ],
      "source": [
        "plt.plot(model.history.history['rec@prec'])\n",
        "plt.plot(model.history.history['val_rec@prec'])\n",
        "plt.title('model metrics')\n",
        "plt.ylabel('recall at precision')\n",
        "plt.xlabel('epoch')\n",
        "plt.legend(['train', 'val'], loc='upper left')\n",
        "plt.show()"
      ],
      "id": "NQNYQV_m7II6"
    },
    {
      "cell_type": "markdown",
      "metadata": {
        "id": "TpIWvMMH7Lqv"
      },
      "source": [
        "###4) модель с 1 BIGRU и 2 LSTM слоями"
      ],
      "id": "TpIWvMMH7Lqv"
    },
    {
      "cell_type": "code",
      "execution_count": null,
      "metadata": {
        "colab": {
          "background_save": true
        },
        "id": "5T9UAV4i7IK_"
      },
      "outputs": [],
      "source": [
        "inputs = keras.layers.Input(shape=(MAX_LEN,))\n",
        "embeddings = keras.layers.Embedding(input_dim=len(word2id), output_dim=30)(inputs, )\n",
        "\n",
        "bigru = keras.layers.Bidirectional(keras.layers.GRU(32, return_sequences=True))(embeddings)\n",
        "lstm1 = keras.layers.LSTM(64, return_sequences=True)(bigru)\n",
        "lstm2 = keras.layers.LSTM(64, return_sequences=False)(lstm1)\n",
        "\n",
        "outputs = keras.layers.Dense(len(label2id), activation='softmax')(lstm2)\n",
        "\n",
        "model = keras.Model(inputs=inputs, outputs=outputs)\n",
        "optimizer = keras.optimizers.Adam()\n",
        "# optimizer = keras.optimizers.Adam(learning_rate=0.001)\n",
        "model.compile(optimizer=optimizer,\n",
        "              loss='categorical_crossentropy',\n",
        "              metrics=[keras.metrics.RecallAtPrecision(0.8, name='rec@prec')])\n"
      ],
      "id": "5T9UAV4i7IK_"
    },
    {
      "cell_type": "code",
      "execution_count": null,
      "metadata": {
        "colab": {
          "background_save": true
        },
        "id": "E_yIgFFa9FQf",
        "outputId": "d8d22a78-d210-4d9d-8f10-dc6d2b2688ed"
      },
      "outputs": [
        {
          "data": {
            "text/html": [
              "<pre style=\"white-space:pre;overflow-x:auto;line-height:normal;font-family:Menlo,'DejaVu Sans Mono',consolas,'Courier New',monospace\"><span style=\"font-weight: bold\">Model: \"functional_25\"</span>\n",
              "</pre>\n"
            ],
            "text/plain": [
              "\u001b[1mModel: \"functional_25\"\u001b[0m\n"
            ]
          },
          "metadata": {},
          "output_type": "display_data"
        },
        {
          "data": {
            "text/html": [
              "<pre style=\"white-space:pre;overflow-x:auto;line-height:normal;font-family:Menlo,'DejaVu Sans Mono',consolas,'Courier New',monospace\">┏━━━━━━━━━━━━━━━━━━━━━━━━━━━━━━━━━━━━━━┳━━━━━━━━━━━━━━━━━━━━━━━━━━━━━┳━━━━━━━━━━━━━━━━━┓\n",
              "┃<span style=\"font-weight: bold\"> Layer (type)                         </span>┃<span style=\"font-weight: bold\"> Output Shape                </span>┃<span style=\"font-weight: bold\">         Param # </span>┃\n",
              "┡━━━━━━━━━━━━━━━━━━━━━━━━━━━━━━━━━━━━━━╇━━━━━━━━━━━━━━━━━━━━━━━━━━━━━╇━━━━━━━━━━━━━━━━━┩\n",
              "│ input_layer_13 (<span style=\"color: #0087ff; text-decoration-color: #0087ff\">InputLayer</span>)          │ (<span style=\"color: #00d7ff; text-decoration-color: #00d7ff\">None</span>, <span style=\"color: #00af00; text-decoration-color: #00af00\">200</span>)                 │               <span style=\"color: #00af00; text-decoration-color: #00af00\">0</span> │\n",
              "├──────────────────────────────────────┼─────────────────────────────┼─────────────────┤\n",
              "│ embedding_13 (<span style=\"color: #0087ff; text-decoration-color: #0087ff\">Embedding</span>)             │ (<span style=\"color: #00d7ff; text-decoration-color: #00d7ff\">None</span>, <span style=\"color: #00af00; text-decoration-color: #00af00\">200</span>, <span style=\"color: #00af00; text-decoration-color: #00af00\">30</span>)             │         <span style=\"color: #00af00; text-decoration-color: #00af00\">722,790</span> │\n",
              "├──────────────────────────────────────┼─────────────────────────────┼─────────────────┤\n",
              "│ bidirectional_16 (<span style=\"color: #0087ff; text-decoration-color: #0087ff\">Bidirectional</span>)     │ (<span style=\"color: #00d7ff; text-decoration-color: #00d7ff\">None</span>, <span style=\"color: #00af00; text-decoration-color: #00af00\">200</span>, <span style=\"color: #00af00; text-decoration-color: #00af00\">64</span>)             │          <span style=\"color: #00af00; text-decoration-color: #00af00\">12,288</span> │\n",
              "├──────────────────────────────────────┼─────────────────────────────┼─────────────────┤\n",
              "│ lstm_32 (<span style=\"color: #0087ff; text-decoration-color: #0087ff\">LSTM</span>)                       │ (<span style=\"color: #00d7ff; text-decoration-color: #00d7ff\">None</span>, <span style=\"color: #00af00; text-decoration-color: #00af00\">200</span>, <span style=\"color: #00af00; text-decoration-color: #00af00\">64</span>)             │          <span style=\"color: #00af00; text-decoration-color: #00af00\">33,024</span> │\n",
              "├──────────────────────────────────────┼─────────────────────────────┼─────────────────┤\n",
              "│ lstm_33 (<span style=\"color: #0087ff; text-decoration-color: #0087ff\">LSTM</span>)                       │ (<span style=\"color: #00d7ff; text-decoration-color: #00d7ff\">None</span>, <span style=\"color: #00af00; text-decoration-color: #00af00\">64</span>)                  │          <span style=\"color: #00af00; text-decoration-color: #00af00\">33,024</span> │\n",
              "├──────────────────────────────────────┼─────────────────────────────┼─────────────────┤\n",
              "│ dense_20 (<span style=\"color: #0087ff; text-decoration-color: #0087ff\">Dense</span>)                     │ (<span style=\"color: #00d7ff; text-decoration-color: #00d7ff\">None</span>, <span style=\"color: #00af00; text-decoration-color: #00af00\">19</span>)                  │           <span style=\"color: #00af00; text-decoration-color: #00af00\">1,235</span> │\n",
              "└──────────────────────────────────────┴─────────────────────────────┴─────────────────┘\n",
              "</pre>\n"
            ],
            "text/plain": [
              "┏━━━━━━━━━━━━━━━━━━━━━━━━━━━━━━━━━━━━━━┳━━━━━━━━━━━━━━━━━━━━━━━━━━━━━┳━━━━━━━━━━━━━━━━━┓\n",
              "┃\u001b[1m \u001b[0m\u001b[1mLayer (type)                        \u001b[0m\u001b[1m \u001b[0m┃\u001b[1m \u001b[0m\u001b[1mOutput Shape               \u001b[0m\u001b[1m \u001b[0m┃\u001b[1m \u001b[0m\u001b[1m        Param #\u001b[0m\u001b[1m \u001b[0m┃\n",
              "┡━━━━━━━━━━━━━━━━━━━━━━━━━━━━━━━━━━━━━━╇━━━━━━━━━━━━━━━━━━━━━━━━━━━━━╇━━━━━━━━━━━━━━━━━┩\n",
              "│ input_layer_13 (\u001b[38;5;33mInputLayer\u001b[0m)          │ (\u001b[38;5;45mNone\u001b[0m, \u001b[38;5;34m200\u001b[0m)                 │               \u001b[38;5;34m0\u001b[0m │\n",
              "├──────────────────────────────────────┼─────────────────────────────┼─────────────────┤\n",
              "│ embedding_13 (\u001b[38;5;33mEmbedding\u001b[0m)             │ (\u001b[38;5;45mNone\u001b[0m, \u001b[38;5;34m200\u001b[0m, \u001b[38;5;34m30\u001b[0m)             │         \u001b[38;5;34m722,790\u001b[0m │\n",
              "├──────────────────────────────────────┼─────────────────────────────┼─────────────────┤\n",
              "│ bidirectional_16 (\u001b[38;5;33mBidirectional\u001b[0m)     │ (\u001b[38;5;45mNone\u001b[0m, \u001b[38;5;34m200\u001b[0m, \u001b[38;5;34m64\u001b[0m)             │          \u001b[38;5;34m12,288\u001b[0m │\n",
              "├──────────────────────────────────────┼─────────────────────────────┼─────────────────┤\n",
              "│ lstm_32 (\u001b[38;5;33mLSTM\u001b[0m)                       │ (\u001b[38;5;45mNone\u001b[0m, \u001b[38;5;34m200\u001b[0m, \u001b[38;5;34m64\u001b[0m)             │          \u001b[38;5;34m33,024\u001b[0m │\n",
              "├──────────────────────────────────────┼─────────────────────────────┼─────────────────┤\n",
              "│ lstm_33 (\u001b[38;5;33mLSTM\u001b[0m)                       │ (\u001b[38;5;45mNone\u001b[0m, \u001b[38;5;34m64\u001b[0m)                  │          \u001b[38;5;34m33,024\u001b[0m │\n",
              "├──────────────────────────────────────┼─────────────────────────────┼─────────────────┤\n",
              "│ dense_20 (\u001b[38;5;33mDense\u001b[0m)                     │ (\u001b[38;5;45mNone\u001b[0m, \u001b[38;5;34m19\u001b[0m)                  │           \u001b[38;5;34m1,235\u001b[0m │\n",
              "└──────────────────────────────────────┴─────────────────────────────┴─────────────────┘\n"
            ]
          },
          "metadata": {},
          "output_type": "display_data"
        },
        {
          "data": {
            "text/html": [
              "<pre style=\"white-space:pre;overflow-x:auto;line-height:normal;font-family:Menlo,'DejaVu Sans Mono',consolas,'Courier New',monospace\"><span style=\"font-weight: bold\"> Total params: </span><span style=\"color: #00af00; text-decoration-color: #00af00\">802,361</span> (3.06 MB)\n",
              "</pre>\n"
            ],
            "text/plain": [
              "\u001b[1m Total params: \u001b[0m\u001b[38;5;34m802,361\u001b[0m (3.06 MB)\n"
            ]
          },
          "metadata": {},
          "output_type": "display_data"
        },
        {
          "data": {
            "text/html": [
              "<pre style=\"white-space:pre;overflow-x:auto;line-height:normal;font-family:Menlo,'DejaVu Sans Mono',consolas,'Courier New',monospace\"><span style=\"font-weight: bold\"> Trainable params: </span><span style=\"color: #00af00; text-decoration-color: #00af00\">802,361</span> (3.06 MB)\n",
              "</pre>\n"
            ],
            "text/plain": [
              "\u001b[1m Trainable params: \u001b[0m\u001b[38;5;34m802,361\u001b[0m (3.06 MB)\n"
            ]
          },
          "metadata": {},
          "output_type": "display_data"
        },
        {
          "data": {
            "text/html": [
              "<pre style=\"white-space:pre;overflow-x:auto;line-height:normal;font-family:Menlo,'DejaVu Sans Mono',consolas,'Courier New',monospace\"><span style=\"font-weight: bold\"> Non-trainable params: </span><span style=\"color: #00af00; text-decoration-color: #00af00\">0</span> (0.00 B)\n",
              "</pre>\n"
            ],
            "text/plain": [
              "\u001b[1m Non-trainable params: \u001b[0m\u001b[38;5;34m0\u001b[0m (0.00 B)\n"
            ]
          },
          "metadata": {},
          "output_type": "display_data"
        }
      ],
      "source": [
        "model.summary()"
      ],
      "id": "E_yIgFFa9FQf"
    },
    {
      "cell_type": "code",
      "execution_count": null,
      "metadata": {
        "colab": {
          "background_save": true
        },
        "id": "dcGAXPU69FQf",
        "outputId": "f91e3f38-5c4e-4ee8-a8b1-08c95d03818e"
      },
      "outputs": [
        {
          "name": "stdout",
          "output_type": "stream",
          "text": [
            "Epoch 1/10\n",
            "\u001b[1m43/43\u001b[0m \u001b[32m━━━━━━━━━━━━━━━━━━━━\u001b[0m\u001b[37m\u001b[0m \u001b[1m53s\u001b[0m 1s/step - loss: 2.6628 - rec@prec: 0.0000e+00 - val_loss: 2.3169 - val_rec@prec: 0.0000e+00\n",
            "Epoch 2/10\n",
            "\u001b[1m43/43\u001b[0m \u001b[32m━━━━━━━━━━━━━━━━━━━━\u001b[0m\u001b[37m\u001b[0m \u001b[1m52s\u001b[0m 1s/step - loss: 2.3264 - rec@prec: 0.0000e+00 - val_loss: 2.3108 - val_rec@prec: 0.0000e+00\n",
            "Epoch 3/10\n",
            "\u001b[1m43/43\u001b[0m \u001b[32m━━━━━━━━━━━━━━━━━━━━\u001b[0m\u001b[37m\u001b[0m \u001b[1m53s\u001b[0m 1s/step - loss: 2.2768 - rec@prec: 2.2738e-05 - val_loss: 1.9575 - val_rec@prec: 0.0000e+00\n",
            "Epoch 4/10\n",
            "\u001b[1m43/43\u001b[0m \u001b[32m━━━━━━━━━━━━━━━━━━━━\u001b[0m\u001b[37m\u001b[0m \u001b[1m53s\u001b[0m 1s/step - loss: 1.8905 - rec@prec: 0.0142 - val_loss: 1.7296 - val_rec@prec: 0.0834\n",
            "Epoch 5/10\n",
            "\u001b[1m43/43\u001b[0m \u001b[32m━━━━━━━━━━━━━━━━━━━━\u001b[0m\u001b[37m\u001b[0m \u001b[1m54s\u001b[0m 1s/step - loss: 1.6455 - rec@prec: 0.1179 - val_loss: 1.7160 - val_rec@prec: 0.1294\n",
            "Epoch 6/10\n",
            "\u001b[1m43/43\u001b[0m \u001b[32m━━━━━━━━━━━━━━━━━━━━\u001b[0m\u001b[37m\u001b[0m \u001b[1m53s\u001b[0m 1s/step - loss: 1.7126 - rec@prec: 0.0591 - val_loss: 1.6075 - val_rec@prec: 0.1298\n",
            "Epoch 7/10\n",
            "\u001b[1m43/43\u001b[0m \u001b[32m━━━━━━━━━━━━━━━━━━━━\u001b[0m\u001b[37m\u001b[0m \u001b[1m53s\u001b[0m 1s/step - loss: 1.4435 - rec@prec: 0.1666 - val_loss: 1.5277 - val_rec@prec: 0.1470\n",
            "Epoch 8/10\n",
            "\u001b[1m43/43\u001b[0m \u001b[32m━━━━━━━━━━━━━━━━━━━━\u001b[0m\u001b[37m\u001b[0m \u001b[1m52s\u001b[0m 1s/step - loss: 1.3460 - rec@prec: 0.1762 - val_loss: 1.5256 - val_rec@prec: 0.1646\n",
            "Epoch 9/10\n",
            "\u001b[1m43/43\u001b[0m \u001b[32m━━━━━━━━━━━━━━━━━━━━\u001b[0m\u001b[37m\u001b[0m \u001b[1m53s\u001b[0m 1s/step - loss: 1.3002 - rec@prec: 0.1948 - val_loss: 1.5298 - val_rec@prec: 0.1781\n",
            "Epoch 10/10\n",
            "\u001b[1m43/43\u001b[0m \u001b[32m━━━━━━━━━━━━━━━━━━━━\u001b[0m\u001b[37m\u001b[0m \u001b[1m53s\u001b[0m 1s/step - loss: 1.2263 - rec@prec: 0.2452 - val_loss: 1.4907 - val_rec@prec: 0.2110\n"
          ]
        },
        {
          "data": {
            "text/plain": [
              "<keras.src.callbacks.history.History at 0x7922036caa40>"
            ]
          },
          "execution_count": 87,
          "metadata": {},
          "output_type": "execute_result"
        }
      ],
      "source": [
        "model.fit(X_train, y_train,\n",
        "          validation_data=(X_valid, y_valid),\n",
        "          batch_size=1000,\n",
        "         epochs=10)"
      ],
      "id": "dcGAXPU69FQf"
    },
    {
      "cell_type": "code",
      "execution_count": null,
      "metadata": {
        "colab": {
          "background_save": true
        },
        "id": "Oy41UCRk9FQg",
        "outputId": "69d64590-7cbb-4589-9e1d-3fc777be8197"
      },
      "outputs": [
        {
          "data": {
            "image/png": "[encoded data removed]",
            "text/plain": [
              "<Figure size 640x480 with 1 Axes>"
            ]
          },
          "metadata": {},
          "output_type": "display_data"
        }
      ],
      "source": [
        "plt.plot(model.history.history['rec@prec'])\n",
        "plt.plot(model.history.history['val_rec@prec'])\n",
        "plt.title('model metrics')\n",
        "plt.ylabel('recall at precision')\n",
        "plt.xlabel('epoch')\n",
        "plt.legend(['train', 'val'], loc='upper left')\n",
        "plt.show()"
      ],
      "id": "Oy41UCRk9FQg"
    },
    {
      "cell_type": "markdown",
      "metadata": {
        "id": "-GlpzGZH9G0z"
      },
      "source": [
        "###5) модель с 5 GRU слоями и 3 LSTM слоями"
      ],
      "id": "-GlpzGZH9G0z"
    },
    {
      "cell_type": "code",
      "execution_count": 26,
      "metadata": {
        "id": "NHQX3E6H7P91"
      },
      "outputs": [],
      "source": [
        "inputs = keras.layers.Input(shape=(MAX_LEN,))\n",
        "embeddings = keras.layers.Embedding(input_dim=len(word2id), output_dim=30)(inputs, )\n",
        "\n",
        "gru1 = keras.layers.GRU(32, return_sequences=True)(embeddings)\n",
        "gru2 = keras.layers.GRU(32, return_sequences=True)(gru1)\n",
        "lstm1 = keras.layers.LSTM(32, return_sequences=True)(gru2)\n",
        "gru3 = keras.layers.GRU(32, return_sequences=True)(lstm1)\n",
        "lstm2 = keras.layers.LSTM(32, return_sequences=True)(gru3)\n",
        "gru4 = keras.layers.GRU(32, return_sequences=True)(lstm2)\n",
        "lstm3 = keras.layers.LSTM(32, return_sequences=True)(gru4)\n",
        "gru5 = keras.layers.GRU(32, return_sequences=False)(gru4)\n",
        "\n",
        "outputs = keras.layers.Dense(len(label2id), activation='softmax')(gru5)\n",
        "\n",
        "model = keras.Model(inputs=inputs, outputs=outputs)\n",
        "optimizer = keras.optimizers.Adam()\n",
        "model.compile(optimizer=optimizer,\n",
        "              loss='categorical_crossentropy',\n",
        "              metrics=[keras.metrics.RecallAtPrecision(0.8, name='rec@prec')])\n"
      ],
      "id": "NHQX3E6H7P91"
    },
    {
      "cell_type": "code",
      "execution_count": 27,
      "metadata": {
        "colab": {
          "base_uri": "https://localhost:8080/",
          "height": 449
        },
        "id": "bFAPxgpB-Nyh",
        "outputId": "c3584f2c-420a-4666-a9e2-ad2f07d2a2a2"
      },
      "outputs": [
        {
          "output_type": "display_data",
          "data": {
            "text/plain": [
              "\u001b[1mModel: \"functional_3\"\u001b[0m\n"
            ],
            "text/html": [
              "<pre style=\"white-space:pre;overflow-x:auto;line-height:normal;font-family:Menlo,'DejaVu Sans Mono',consolas,'Courier New',monospace\"><span style=\"font-weight: bold\">Model: \"functional_3\"</span>\n",
              "</pre>\n"
            ]
          },
          "metadata": {}
        },
        {
          "output_type": "display_data",
          "data": {
            "text/plain": [
              "┏━━━━━━━━━━━━━━━━━━━━━━━━━━━━━━━━━━━━━━┳━━━━━━━━━━━━━━━━━━━━━━━━━━━━━┳━━━━━━━━━━━━━━━━━┓\n",
              "┃\u001b[1m \u001b[0m\u001b[1mLayer (type)                        \u001b[0m\u001b[1m \u001b[0m┃\u001b[1m \u001b[0m\u001b[1mOutput Shape               \u001b[0m\u001b[1m \u001b[0m┃\u001b[1m \u001b[0m\u001b[1m        Param #\u001b[0m\u001b[1m \u001b[0m┃\n",
              "┡━━━━━━━━━━━━━━━━━━━━━━━━━━━━━━━━━━━━━━╇━━━━━━━━━━━━━━━━━━━━━━━━━━━━━╇━━━━━━━━━━━━━━━━━┩\n",
              "│ input_layer_1 (\u001b[38;5;33mInputLayer\u001b[0m)           │ (\u001b[38;5;45mNone\u001b[0m, \u001b[38;5;34m200\u001b[0m)                 │               \u001b[38;5;34m0\u001b[0m │\n",
              "├──────────────────────────────────────┼─────────────────────────────┼─────────────────┤\n",
              "│ embedding_1 (\u001b[38;5;33mEmbedding\u001b[0m)              │ (\u001b[38;5;45mNone\u001b[0m, \u001b[38;5;34m200\u001b[0m, \u001b[38;5;34m30\u001b[0m)             │         \u001b[38;5;34m722,790\u001b[0m │\n",
              "├──────────────────────────────────────┼─────────────────────────────┼─────────────────┤\n",
              "│ gru_5 (\u001b[38;5;33mGRU\u001b[0m)                          │ (\u001b[38;5;45mNone\u001b[0m, \u001b[38;5;34m200\u001b[0m, \u001b[38;5;34m32\u001b[0m)             │           \u001b[38;5;34m6,144\u001b[0m │\n",
              "├──────────────────────────────────────┼─────────────────────────────┼─────────────────┤\n",
              "│ gru_6 (\u001b[38;5;33mGRU\u001b[0m)                          │ (\u001b[38;5;45mNone\u001b[0m, \u001b[38;5;34m200\u001b[0m, \u001b[38;5;34m32\u001b[0m)             │           \u001b[38;5;34m6,336\u001b[0m │\n",
              "├──────────────────────────────────────┼─────────────────────────────┼─────────────────┤\n",
              "│ lstm_3 (\u001b[38;5;33mLSTM\u001b[0m)                        │ (\u001b[38;5;45mNone\u001b[0m, \u001b[38;5;34m200\u001b[0m, \u001b[38;5;34m32\u001b[0m)             │           \u001b[38;5;34m8,320\u001b[0m │\n",
              "├──────────────────────────────────────┼─────────────────────────────┼─────────────────┤\n",
              "│ gru_7 (\u001b[38;5;33mGRU\u001b[0m)                          │ (\u001b[38;5;45mNone\u001b[0m, \u001b[38;5;34m200\u001b[0m, \u001b[38;5;34m32\u001b[0m)             │           \u001b[38;5;34m6,336\u001b[0m │\n",
              "├──────────────────────────────────────┼─────────────────────────────┼─────────────────┤\n",
              "│ lstm_4 (\u001b[38;5;33mLSTM\u001b[0m)                        │ (\u001b[38;5;45mNone\u001b[0m, \u001b[38;5;34m200\u001b[0m, \u001b[38;5;34m32\u001b[0m)             │           \u001b[38;5;34m8,320\u001b[0m │\n",
              "├──────────────────────────────────────┼─────────────────────────────┼─────────────────┤\n",
              "│ gru_8 (\u001b[38;5;33mGRU\u001b[0m)                          │ (\u001b[38;5;45mNone\u001b[0m, \u001b[38;5;34m200\u001b[0m, \u001b[38;5;34m32\u001b[0m)             │           \u001b[38;5;34m6,336\u001b[0m │\n",
              "├──────────────────────────────────────┼─────────────────────────────┼─────────────────┤\n",
              "│ gru_9 (\u001b[38;5;33mGRU\u001b[0m)                          │ (\u001b[38;5;45mNone\u001b[0m, \u001b[38;5;34m32\u001b[0m)                  │           \u001b[38;5;34m6,336\u001b[0m │\n",
              "├──────────────────────────────────────┼─────────────────────────────┼─────────────────┤\n",
              "│ dense_2 (\u001b[38;5;33mDense\u001b[0m)                      │ (\u001b[38;5;45mNone\u001b[0m, \u001b[38;5;34m19\u001b[0m)                  │             \u001b[38;5;34m627\u001b[0m │\n",
              "└──────────────────────────────────────┴─────────────────────────────┴─────────────────┘\n"
            ],
            "text/html": [
              "<pre style=\"white-space:pre;overflow-x:auto;line-height:normal;font-family:Menlo,'DejaVu Sans Mono',consolas,'Courier New',monospace\">┏━━━━━━━━━━━━━━━━━━━━━━━━━━━━━━━━━━━━━━┳━━━━━━━━━━━━━━━━━━━━━━━━━━━━━┳━━━━━━━━━━━━━━━━━┓\n",
              "┃<span style=\"font-weight: bold\"> Layer (type)                         </span>┃<span style=\"font-weight: bold\"> Output Shape                </span>┃<span style=\"font-weight: bold\">         Param # </span>┃\n",
              "┡━━━━━━━━━━━━━━━━━━━━━━━━━━━━━━━━━━━━━━╇━━━━━━━━━━━━━━━━━━━━━━━━━━━━━╇━━━━━━━━━━━━━━━━━┩\n",
              "│ input_layer_1 (<span style=\"color: #0087ff; text-decoration-color: #0087ff\">InputLayer</span>)           │ (<span style=\"color: #00d7ff; text-decoration-color: #00d7ff\">None</span>, <span style=\"color: #00af00; text-decoration-color: #00af00\">200</span>)                 │               <span style=\"color: #00af00; text-decoration-color: #00af00\">0</span> │\n",
              "├──────────────────────────────────────┼─────────────────────────────┼─────────────────┤\n",
              "│ embedding_1 (<span style=\"color: #0087ff; text-decoration-color: #0087ff\">Embedding</span>)              │ (<span style=\"color: #00d7ff; text-decoration-color: #00d7ff\">None</span>, <span style=\"color: #00af00; text-decoration-color: #00af00\">200</span>, <span style=\"color: #00af00; text-decoration-color: #00af00\">30</span>)             │         <span style=\"color: #00af00; text-decoration-color: #00af00\">722,790</span> │\n",
              "├──────────────────────────────────────┼─────────────────────────────┼─────────────────┤\n",
              "│ gru_5 (<span style=\"color: #0087ff; text-decoration-color: #0087ff\">GRU</span>)                          │ (<span style=\"color: #00d7ff; text-decoration-color: #00d7ff\">None</span>, <span style=\"color: #00af00; text-decoration-color: #00af00\">200</span>, <span style=\"color: #00af00; text-decoration-color: #00af00\">32</span>)             │           <span style=\"color: #00af00; text-decoration-color: #00af00\">6,144</span> │\n",
              "├──────────────────────────────────────┼─────────────────────────────┼─────────────────┤\n",
              "│ gru_6 (<span style=\"color: #0087ff; text-decoration-color: #0087ff\">GRU</span>)                          │ (<span style=\"color: #00d7ff; text-decoration-color: #00d7ff\">None</span>, <span style=\"color: #00af00; text-decoration-color: #00af00\">200</span>, <span style=\"color: #00af00; text-decoration-color: #00af00\">32</span>)             │           <span style=\"color: #00af00; text-decoration-color: #00af00\">6,336</span> │\n",
              "├──────────────────────────────────────┼─────────────────────────────┼─────────────────┤\n",
              "│ lstm_3 (<span style=\"color: #0087ff; text-decoration-color: #0087ff\">LSTM</span>)                        │ (<span style=\"color: #00d7ff; text-decoration-color: #00d7ff\">None</span>, <span style=\"color: #00af00; text-decoration-color: #00af00\">200</span>, <span style=\"color: #00af00; text-decoration-color: #00af00\">32</span>)             │           <span style=\"color: #00af00; text-decoration-color: #00af00\">8,320</span> │\n",
              "├──────────────────────────────────────┼─────────────────────────────┼─────────────────┤\n",
              "│ gru_7 (<span style=\"color: #0087ff; text-decoration-color: #0087ff\">GRU</span>)                          │ (<span style=\"color: #00d7ff; text-decoration-color: #00d7ff\">None</span>, <span style=\"color: #00af00; text-decoration-color: #00af00\">200</span>, <span style=\"color: #00af00; text-decoration-color: #00af00\">32</span>)             │           <span style=\"color: #00af00; text-decoration-color: #00af00\">6,336</span> │\n",
              "├──────────────────────────────────────┼─────────────────────────────┼─────────────────┤\n",
              "│ lstm_4 (<span style=\"color: #0087ff; text-decoration-color: #0087ff\">LSTM</span>)                        │ (<span style=\"color: #00d7ff; text-decoration-color: #00d7ff\">None</span>, <span style=\"color: #00af00; text-decoration-color: #00af00\">200</span>, <span style=\"color: #00af00; text-decoration-color: #00af00\">32</span>)             │           <span style=\"color: #00af00; text-decoration-color: #00af00\">8,320</span> │\n",
              "├──────────────────────────────────────┼─────────────────────────────┼─────────────────┤\n",
              "│ gru_8 (<span style=\"color: #0087ff; text-decoration-color: #0087ff\">GRU</span>)                          │ (<span style=\"color: #00d7ff; text-decoration-color: #00d7ff\">None</span>, <span style=\"color: #00af00; text-decoration-color: #00af00\">200</span>, <span style=\"color: #00af00; text-decoration-color: #00af00\">32</span>)             │           <span style=\"color: #00af00; text-decoration-color: #00af00\">6,336</span> │\n",
              "├──────────────────────────────────────┼─────────────────────────────┼─────────────────┤\n",
              "│ gru_9 (<span style=\"color: #0087ff; text-decoration-color: #0087ff\">GRU</span>)                          │ (<span style=\"color: #00d7ff; text-decoration-color: #00d7ff\">None</span>, <span style=\"color: #00af00; text-decoration-color: #00af00\">32</span>)                  │           <span style=\"color: #00af00; text-decoration-color: #00af00\">6,336</span> │\n",
              "├──────────────────────────────────────┼─────────────────────────────┼─────────────────┤\n",
              "│ dense_2 (<span style=\"color: #0087ff; text-decoration-color: #0087ff\">Dense</span>)                      │ (<span style=\"color: #00d7ff; text-decoration-color: #00d7ff\">None</span>, <span style=\"color: #00af00; text-decoration-color: #00af00\">19</span>)                  │             <span style=\"color: #00af00; text-decoration-color: #00af00\">627</span> │\n",
              "└──────────────────────────────────────┴─────────────────────────────┴─────────────────┘\n",
              "</pre>\n"
            ]
          },
          "metadata": {}
        },
        {
          "output_type": "display_data",
          "data": {
            "text/plain": [
              "\u001b[1m Total params: \u001b[0m\u001b[38;5;34m771,545\u001b[0m (2.94 MB)\n"
            ],
            "text/html": [
              "<pre style=\"white-space:pre;overflow-x:auto;line-height:normal;font-family:Menlo,'DejaVu Sans Mono',consolas,'Courier New',monospace\"><span style=\"font-weight: bold\"> Total params: </span><span style=\"color: #00af00; text-decoration-color: #00af00\">771,545</span> (2.94 MB)\n",
              "</pre>\n"
            ]
          },
          "metadata": {}
        },
        {
          "output_type": "display_data",
          "data": {
            "text/plain": [
              "\u001b[1m Trainable params: \u001b[0m\u001b[38;5;34m771,545\u001b[0m (2.94 MB)\n"
            ],
            "text/html": [
              "<pre style=\"white-space:pre;overflow-x:auto;line-height:normal;font-family:Menlo,'DejaVu Sans Mono',consolas,'Courier New',monospace\"><span style=\"font-weight: bold\"> Trainable params: </span><span style=\"color: #00af00; text-decoration-color: #00af00\">771,545</span> (2.94 MB)\n",
              "</pre>\n"
            ]
          },
          "metadata": {}
        },
        {
          "output_type": "display_data",
          "data": {
            "text/plain": [
              "\u001b[1m Non-trainable params: \u001b[0m\u001b[38;5;34m0\u001b[0m (0.00 B)\n"
            ],
            "text/html": [
              "<pre style=\"white-space:pre;overflow-x:auto;line-height:normal;font-family:Menlo,'DejaVu Sans Mono',consolas,'Courier New',monospace\"><span style=\"font-weight: bold\"> Non-trainable params: </span><span style=\"color: #00af00; text-decoration-color: #00af00\">0</span> (0.00 B)\n",
              "</pre>\n"
            ]
          },
          "metadata": {}
        }
      ],
      "source": [
        "model.summary()"
      ],
      "id": "bFAPxgpB-Nyh"
    },
    {
      "cell_type": "code",
      "execution_count": 28,
      "metadata": {
        "id": "cwsSS-KM-Nyh",
        "colab": {
          "base_uri": "https://localhost:8080/"
        },
        "outputId": "3d344b4f-7341-43e3-e9f5-e4ff7eae8010"
      },
      "outputs": [
        {
          "output_type": "stream",
          "name": "stdout",
          "text": [
            "Epoch 1/10\n",
            "\u001b[1m43/43\u001b[0m \u001b[32m━━━━━━━━━━━━━━━━━━━━\u001b[0m\u001b[37m\u001b[0m \u001b[1m352s\u001b[0m 8s/step - loss: 2.7568 - rec@prec: 0.0000e+00 - val_loss: 2.3370 - val_rec@prec: 0.0000e+00\n",
            "Epoch 2/10\n",
            "\u001b[1m43/43\u001b[0m \u001b[32m━━━━━━━━━━━━━━━━━━━━\u001b[0m\u001b[37m\u001b[0m \u001b[1m250s\u001b[0m 6s/step - loss: 2.3393 - rec@prec: 0.0000e+00 - val_loss: 2.3155 - val_rec@prec: 0.0000e+00\n",
            "Epoch 3/10\n",
            "\u001b[1m43/43\u001b[0m \u001b[32m━━━━━━━━━━━━━━━━━━━━\u001b[0m\u001b[37m\u001b[0m \u001b[1m242s\u001b[0m 6s/step - loss: 2.3239 - rec@prec: 0.0000e+00 - val_loss: 2.3146 - val_rec@prec: 0.0000e+00\n",
            "Epoch 4/10\n",
            "\u001b[1m43/43\u001b[0m \u001b[32m━━━━━━━━━━━━━━━━━━━━\u001b[0m\u001b[37m\u001b[0m \u001b[1m246s\u001b[0m 6s/step - loss: 2.3232 - rec@prec: 0.0000e+00 - val_loss: 2.3146 - val_rec@prec: 0.0000e+00\n",
            "Epoch 5/10\n",
            "\u001b[1m43/43\u001b[0m \u001b[32m━━━━━━━━━━━━━━━━━━━━\u001b[0m\u001b[37m\u001b[0m \u001b[1m239s\u001b[0m 6s/step - loss: 2.3215 - rec@prec: 0.0000e+00 - val_loss: 2.3127 - val_rec@prec: 0.0000e+00\n",
            "Epoch 6/10\n",
            "\u001b[1m43/43\u001b[0m \u001b[32m━━━━━━━━━━━━━━━━━━━━\u001b[0m\u001b[37m\u001b[0m \u001b[1m240s\u001b[0m 6s/step - loss: 2.3259 - rec@prec: 0.0000e+00 - val_loss: 2.3104 - val_rec@prec: 0.0000e+00\n",
            "Epoch 7/10\n",
            "\u001b[1m43/43\u001b[0m \u001b[32m━━━━━━━━━━━━━━━━━━━━\u001b[0m\u001b[37m\u001b[0m \u001b[1m245s\u001b[0m 6s/step - loss: 2.2725 - rec@prec: 0.0000e+00 - val_loss: 2.0805 - val_rec@prec: 0.0000e+00\n",
            "Epoch 8/10\n",
            "\u001b[1m43/43\u001b[0m \u001b[32m━━━━━━━━━━━━━━━━━━━━\u001b[0m\u001b[37m\u001b[0m \u001b[1m249s\u001b[0m 6s/step - loss: 2.1115 - rec@prec: 0.0000e+00 - val_loss: 2.0620 - val_rec@prec: 0.0000e+00\n",
            "Epoch 9/10\n",
            "\u001b[1m43/43\u001b[0m \u001b[32m━━━━━━━━━━━━━━━━━━━━\u001b[0m\u001b[37m\u001b[0m \u001b[1m245s\u001b[0m 6s/step - loss: 1.9948 - rec@prec: 1.4893e-05 - val_loss: 1.9856 - val_rec@prec: 0.0000e+00\n",
            "Epoch 10/10\n",
            "\u001b[1m43/43\u001b[0m \u001b[32m━━━━━━━━━━━━━━━━━━━━\u001b[0m\u001b[37m\u001b[0m \u001b[1m243s\u001b[0m 6s/step - loss: 1.8619 - rec@prec: 1.1093e-06 - val_loss: 1.8043 - val_rec@prec: 0.0000e+00\n"
          ]
        },
        {
          "output_type": "execute_result",
          "data": {
            "text/plain": [
              "<keras.src.callbacks.history.History at 0x7dfb8ff10850>"
            ]
          },
          "metadata": {},
          "execution_count": 28
        }
      ],
      "source": [
        "model.fit(X_train, y_train,\n",
        "          validation_data=(X_valid, y_valid),\n",
        "          batch_size=1000,\n",
        "         epochs=10)"
      ],
      "id": "cwsSS-KM-Nyh"
    },
    {
      "cell_type": "markdown",
      "source": [
        "###*Один раз, когда получилось запустить тетрадку с гпу тут был нормальный график, потому что юнитов было 128, но график почему-то не сохранился, а когда перезапускал на цпу с меньшим количеством юнитов, то график уже такой.*"
      ],
      "metadata": {
        "id": "Q1X-UyWEHH6n"
      },
      "id": "Q1X-UyWEHH6n"
    },
    {
      "cell_type": "code",
      "execution_count": 29,
      "metadata": {
        "id": "NEQXhlAF-Nyi",
        "colab": {
          "base_uri": "https://localhost:8080/",
          "height": 472
        },
        "outputId": "7bf78575-7fd5-4236-a242-109bb6fc438e"
      },
      "outputs": [
        {
          "output_type": "display_data",
          "data": {
            "text/plain": [
              "<Figure size 640x480 with 1 Axes>"
            ],
            "image/png": "[encoded data removed]"
          },
          "metadata": {}
        }
      ],
      "source": [
        "plt.plot(model.history.history['rec@prec'])\n",
        "plt.plot(model.history.history['val_rec@prec'])\n",
        "plt.title('model metrics')\n",
        "plt.ylabel('recall at precision')\n",
        "plt.xlabel('epoch')\n",
        "plt.legend(['train', 'val'], loc='upper left')\n",
        "plt.show()"
      ],
      "id": "NEQXhlAF-Nyi"
    },
    {
      "cell_type": "markdown",
      "metadata": {
        "id": "hqgTwEac-PdB"
      },
      "source": [
        "###6) модель 1 BIGRU и 1 BILSTM слоями, причем так чтобы модели для forward и backward прохода отличались\n"
      ],
      "id": "hqgTwEac-PdB"
    },
    {
      "cell_type": "code",
      "execution_count": null,
      "metadata": {
        "id": "hqmw-5C47QAg"
      },
      "outputs": [],
      "source": [
        "inputs = keras.layers.Input(shape=(MAX_LEN,))\n",
        "embeddings = keras.layers.Embedding(input_dim=len(word2id), output_dim=30)(inputs, )\n",
        "\n",
        "gru_forward = keras.layers.GRU(32, return_sequences=True)(embeddings)\n",
        "gru_backward = keras.layers.GRU(32, return_sequences=True, go_backwards=True)(embeddings)\n",
        "bigru = keras.layers.concatenate([gru_forward, gru_backward])\n",
        "\n",
        "lstm_forward = keras.layers.LSTM(32, return_sequences=False)(bigru)\n",
        "lstm_backward = keras.layers.LSTM(32, return_sequences=False, go_backwards=True)(bigru)\n",
        "lstm = keras.layers.concatenate([lstm_forward, lstm_backward])\n",
        "\n",
        "outputs = keras.layers.Dense(len(label2id), activation='softmax')(lstm)\n",
        "\n",
        "model = keras.Model(inputs=inputs, outputs=outputs)\n",
        "optimizer = keras.optimizers.Adam()\n",
        "model.compile(optimizer=optimizer,\n",
        "              loss='categorical_crossentropy',\n",
        "              metrics=[keras.metrics.RecallAtPrecision(0.8, name='rec@prec')])\n"
      ],
      "id": "hqmw-5C47QAg"
    },
    {
      "cell_type": "code",
      "execution_count": null,
      "metadata": {
        "id": "YmC9EcNhBLNc"
      },
      "outputs": [],
      "source": [
        "model.summary()"
      ],
      "id": "YmC9EcNhBLNc"
    },
    {
      "cell_type": "code",
      "execution_count": null,
      "metadata": {
        "id": "Q8eqZyQ3BLNd"
      },
      "outputs": [],
      "source": [
        "model.fit(X_train, y_train,\n",
        "          validation_data=(X_valid, y_valid),\n",
        "          batch_size=1000,\n",
        "         epochs=10)"
      ],
      "id": "Q8eqZyQ3BLNd"
    },
    {
      "cell_type": "code",
      "execution_count": null,
      "metadata": {
        "id": "oAdzqJulBLNd"
      },
      "outputs": [],
      "source": [
        "plt.plot(model.history.history['rec@prec'])\n",
        "plt.plot(model.history.history['val_rec@prec'])\n",
        "plt.title('model metrics')\n",
        "plt.ylabel('recall at precision')\n",
        "plt.xlabel('epoch')\n",
        "plt.legend(['train', 'val'], loc='upper left')\n",
        "plt.show()"
      ],
      "id": "oAdzqJulBLNd"
    },
    {
      "cell_type": "markdown",
      "metadata": {
        "id": "Icf0hPoKBQIR"
      },
      "source": [
        "###7) модель, где последовательно идут слои: LSTM, GRU, BILSTM, BIGRU, GRU, LSTM"
      ],
      "id": "Icf0hPoKBQIR"
    },
    {
      "cell_type": "code",
      "execution_count": null,
      "metadata": {
        "id": "aCs36kwL7QDK"
      },
      "outputs": [],
      "source": [
        "inputs = keras.layers.Input(shape=(MAX_LEN,))\n",
        "embeddings = keras.layers.Embedding(input_dim=len(word2id), output_dim=30)(inputs, )\n",
        "\n",
        "lstm1 = keras.layers.LSTM(128, return_sequences=True)(embeddings)\n",
        "gru1 = keras.layers.GRU(128, return_sequences=True)(lstm1)\n",
        "bilstm = keras.layers.Bidirectional(keras.layers.LSTM(64, return_sequences=True))(gru1)\n",
        "bigru = keras.layers.Bidirectional(keras.layers.GRU(64, return_sequences=True))(bilstm)\n",
        "gru2 = keras.layers.GRU(128, return_sequences=True)(bigru)\n",
        "lstm2 = keras.layers.LSTM(128, return_sequences=False)(gru2)\n",
        "\n",
        "dense = keras.layers.Dense(64, activation='relu')(lstm2)\n",
        "outputs = keras.layers.Dense(len(label2id), activation='softmax')(dense)\n",
        "\n",
        "model = keras.Model(inputs=inputs, outputs=outputs)\n",
        "optimizer = keras.optimizers.Adam()\n",
        "model.compile(optimizer=optimizer,\n",
        "              loss='categorical_crossentropy',\n",
        "              metrics=[keras.metrics.RecallAtPrecision(0.8, name='rec@prec')])\n"
      ],
      "id": "aCs36kwL7QDK"
    },
    {
      "cell_type": "code",
      "execution_count": null,
      "metadata": {
        "id": "RvEjo14jCXOj"
      },
      "outputs": [],
      "source": [
        "model.summary()"
      ],
      "id": "RvEjo14jCXOj"
    },
    {
      "cell_type": "code",
      "execution_count": null,
      "metadata": {
        "id": "fPj7zlniCXOj"
      },
      "outputs": [],
      "source": [
        "model.fit(X_train, y_train,\n",
        "          validation_data=(X_valid, y_valid),\n",
        "          batch_size=500,\n",
        "         epochs=10)"
      ],
      "id": "fPj7zlniCXOj"
    },
    {
      "cell_type": "code",
      "execution_count": null,
      "metadata": {
        "id": "8qYbof22CXOj"
      },
      "outputs": [],
      "source": [
        "plt.plot(model.history.history['rec@prec'])\n",
        "plt.plot(model.history.history['val_rec@prec'])\n",
        "plt.title('model metrics')\n",
        "plt.ylabel('recall at precision')\n",
        "plt.xlabel('epoch')\n",
        "plt.legend(['train', 'val'], loc='upper left')\n",
        "plt.show()"
      ],
      "id": "8qYbof22CXOj"
    },
    {
      "cell_type": "markdown",
      "source": [
        "Вообще, в тот мемент, когда удалось часть из этих моделей обучить на гпу, то лучший результат за 10 эпох показала последняя модель - там было под 0,9. При том, что я старался по возможности сохранять условия, такие как output_dim и число юнитов между моделями"
      ],
      "metadata": {
        "id": "728LXLI9IARc"
      },
      "id": "728LXLI9IARc"
    },
    {
      "cell_type": "markdown",
      "metadata": {
        "id": "BTz4lsc5DCD0"
      },
      "source": [
        "\n",
        "##Задание 2 (6 баллов)"
      ],
      "id": "BTz4lsc5DCD0"
    },
    {
      "cell_type": "markdown",
      "metadata": {
        "id": "5c2c07cf"
      },
      "source": [
        "На данных википедии (wikiann) обучите 2 модели:  \n",
        "1) модель в которой будут использованы предобученные эмбединги слов и несколько BILSTM слоев.\n",
        "\n",
        "2) модель в которой будут использованы предобученные эмбединги слов и несколько BIGRU слоев.\n",
        "\n",
        "Сравните качество по метрикам. Также придумайте несколько сложных примеров и проверьте, какие сущности определяет каждая из моделей."
      ],
      "id": "5c2c07cf"
    },
    {
      "cell_type": "code",
      "execution_count": null,
      "metadata": {
        "id": "fb704b1b",
        "colab": {
          "base_uri": "https://localhost:8080/"
        },
        "outputId": "f40d6dec-682a-4c67-c36e-7980ce662042"
      },
      "outputs": [
        {
          "output_type": "stream",
          "name": "stderr",
          "text": [
            "/usr/local/lib/python3.10/dist-packages/huggingface_hub/utils/_token.py:88: UserWarning: \n",
            "The secret `HF_TOKEN` does not exist in your Colab secrets.\n",
            "To authenticate with the Hugging Face Hub, create a token in your settings tab (https://huggingface.co/settings/tokens), set it as secret in your Google Colab and restart your session.\n",
            "You will be able to reuse this secret in all of your notebooks.\n",
            "Please note that authentication is recommended but still optional to access public models or datasets.\n",
            "  warnings.warn(\n",
            "/usr/local/lib/python3.10/dist-packages/datasets/load.py:1461: FutureWarning: The repository for tner/wikiann contains custom code which must be executed to correctly load the dataset. You can inspect the repository content at https://hf.co/datasets/tner/wikiann\n",
            "You can avoid this message in future by passing the argument `trust_remote_code=True`.\n",
            "Passing `trust_remote_code=True` will be mandatory to load this dataset from the next major release of `datasets`.\n",
            "  warnings.warn(\n"
          ]
        }
      ],
      "source": [
        "dataset = load_dataset(\"tner/wikiann\", 'ru')"
      ],
      "id": "fb704b1b"
    },
    {
      "cell_type": "code",
      "execution_count": null,
      "metadata": {
        "id": "24b4e4aa",
        "colab": {
          "base_uri": "https://localhost:8080/"
        },
        "outputId": "72aeda04-b6c0-4b65-d339-f86769083b80"
      },
      "outputs": [
        {
          "output_type": "execute_result",
          "data": {
            "text/plain": [
              "DatasetDict({\n",
              "    train: Dataset({\n",
              "        features: ['tokens', 'tags'],\n",
              "        num_rows: 20000\n",
              "    })\n",
              "    validation: Dataset({\n",
              "        features: ['tokens', 'tags'],\n",
              "        num_rows: 10000\n",
              "    })\n",
              "    test: Dataset({\n",
              "        features: ['tokens', 'tags'],\n",
              "        num_rows: 10000\n",
              "    })\n",
              "})"
            ]
          },
          "metadata": {},
          "execution_count": 7
        }
      ],
      "source": [
        "dataset"
      ],
      "id": "24b4e4aa"
    },
    {
      "cell_type": "code",
      "execution_count": null,
      "metadata": {
        "id": "-dZcFn97FJ7E"
      },
      "outputs": [],
      "source": [
        "# словарь\n",
        "vocab = Counter()\n",
        "\n",
        "for sent in dataset['train']['tokens']:\n",
        "    vocab.update([x.lower() for x in sent])"
      ],
      "id": "-dZcFn97FJ7E"
    },
    {
      "cell_type": "code",
      "source": [
        "%pip install fasttext"
      ],
      "metadata": {
        "colab": {
          "base_uri": "https://localhost:8080/"
        },
        "id": "8RUGQpaAluyg",
        "outputId": "8461367c-43bc-49a6-9654-da517e89c153"
      },
      "id": "8RUGQpaAluyg",
      "execution_count": null,
      "outputs": [
        {
          "output_type": "stream",
          "name": "stdout",
          "text": [
            "Requirement already satisfied: fasttext in /usr/local/lib/python3.10/dist-packages (0.9.2)\n",
            "Requirement already satisfied: pybind11>=2.2 in /usr/local/lib/python3.10/dist-packages (from fasttext) (2.11.1)\n",
            "Requirement already satisfied: setuptools>=0.7.0 in /usr/local/lib/python3.10/dist-packages (from fasttext) (67.7.2)\n",
            "Requirement already satisfied: numpy in /usr/local/lib/python3.10/dist-packages (from fasttext) (1.25.2)\n"
          ]
        }
      ]
    },
    {
      "cell_type": "code",
      "execution_count": null,
      "metadata": {
        "id": "rr6_ajx9PY9W",
        "colab": {
          "base_uri": "https://localhost:8080/"
        },
        "outputId": "a052a9c8-1700-4f82-cc54-df321abb829a"
      },
      "outputs": [
        {
          "output_type": "stream",
          "name": "stderr",
          "text": [
            "Warning : `load_model` does not return WordVectorModel or SupervisedModel any more, but a `FastText` object which is very similar.\n"
          ]
        }
      ],
      "source": [
        "from huggingface_hub import hf_hub_download\n",
        "import fasttext\n",
        "\n",
        "model_fasttext = fasttext.load_model(hf_hub_download(\"facebook/fasttext-ru-vectors\", \"model.bin\"))"
      ],
      "id": "rr6_ajx9PY9W"
    },
    {
      "cell_type": "code",
      "execution_count": null,
      "metadata": {
        "id": "997LRP0iFJ9b"
      },
      "outputs": [],
      "source": [
        "# индексируем слова\n",
        "word2id = {'PAD':0, 'UNK':1}\n",
        "\n",
        "for word in vocab:\n",
        "    word2id[word] = len(word2id)"
      ],
      "id": "997LRP0iFJ9b"
    },
    {
      "cell_type": "code",
      "execution_count": null,
      "metadata": {
        "id": "zzZabZo0FJ_8"
      },
      "outputs": [],
      "source": [
        "id2word = {i:word for word, i in word2id.items()}"
      ],
      "id": "zzZabZo0FJ_8"
    },
    {
      "cell_type": "code",
      "execution_count": null,
      "metadata": {
        "id": "JadqXwryFKCQ"
      },
      "outputs": [],
      "source": [
        "# переводим тексты в последовательности индексов\n",
        "X = []\n",
        "\n",
        "for sent in dataset['train']['tokens']:\n",
        "    tokens = [w.lower() for w in sent]\n",
        "    ids = [word2id.get(token, 1) for token in tokens]\n",
        "    X.append(ids)"
      ],
      "id": "JadqXwryFKCQ"
    },
    {
      "cell_type": "code",
      "execution_count": null,
      "metadata": {
        "id": "0FkmXowHFKEk"
      },
      "outputs": [],
      "source": [
        "# переводим тексты в последовательности индексов\n",
        "X_test = []\n",
        "\n",
        "for sent in dataset['test']['tokens']:\n",
        "    tokens = [w.lower() for w in sent]\n",
        "    ids = [word2id.get(token, 1) for token in tokens]\n",
        "    X_test.append(ids)"
      ],
      "id": "0FkmXowHFKEk"
    },
    {
      "cell_type": "code",
      "execution_count": null,
      "metadata": {
        "id": "yMOIK_WdFU1q"
      },
      "outputs": [],
      "source": [
        "MAX_LEN = max(len(x) for x in X)\n",
        "\n",
        "# паддинг\n",
        "X = keras.preprocessing.sequence.pad_sequences(X, maxlen=MAX_LEN, padding='post')\n",
        "X_test = keras.preprocessing.sequence.pad_sequences(X_test, maxlen=MAX_LEN, padding='post')"
      ],
      "id": "yMOIK_WdFU1q"
    },
    {
      "cell_type": "code",
      "execution_count": null,
      "metadata": {
        "id": "5tsVD_LLFU34"
      },
      "outputs": [],
      "source": [
        "id2labels = {0:'O', 1:'B-PER', 2:'I-PER', 3:'B-ORG', 4:'I-ORG', 5: 'B-LOC', 6:'I-LOC', 7:'PAD'}\n",
        "label2id = {v:k for k,v in id2labels.items()}"
      ],
      "id": "5tsVD_LLFU34"
    },
    {
      "cell_type": "code",
      "execution_count": null,
      "metadata": {
        "id": "0tMpbl93FU7U"
      },
      "outputs": [],
      "source": [
        "y = keras.preprocessing.sequence.pad_sequences(dataset['train']['tags'], value=7,\n",
        "                                                  maxlen=MAX_LEN,  padding='post')\n",
        "y_test = keras.preprocessing.sequence.pad_sequences(dataset['test']['tags'], value=7,\n",
        "                                                       maxlen=MAX_LEN,  padding='post')"
      ],
      "id": "0tMpbl93FU7U"
    },
    {
      "cell_type": "code",
      "execution_count": null,
      "metadata": {
        "id": "vWSExE14s6yu"
      },
      "outputs": [],
      "source": [
        "embedding_dim = model_fasttext.get_dimension()\n",
        "\n",
        "embedding_matrix = np.zeros((len(word2id), embedding_dim))"
      ],
      "id": "vWSExE14s6yu"
    },
    {
      "cell_type": "code",
      "source": [
        "embedding_dim"
      ],
      "metadata": {
        "colab": {
          "base_uri": "https://localhost:8080/"
        },
        "id": "KGu7_CJCsjD6",
        "outputId": "20b3cbb3-2b22-4688-9e2b-ae89fca7e534"
      },
      "id": "KGu7_CJCsjD6",
      "execution_count": null,
      "outputs": [
        {
          "output_type": "execute_result",
          "data": {
            "text/plain": [
              "300"
            ]
          },
          "metadata": {},
          "execution_count": 19
        }
      ]
    },
    {
      "cell_type": "code",
      "source": [
        "embedding_matrix"
      ],
      "metadata": {
        "colab": {
          "base_uri": "https://localhost:8080/"
        },
        "id": "E3QFoHD71a8h",
        "outputId": "c6bab6bd-c319-4517-9758-6421cc6cda23"
      },
      "id": "E3QFoHD71a8h",
      "execution_count": null,
      "outputs": [
        {
          "output_type": "execute_result",
          "data": {
            "text/plain": [
              "array([[ 0.        ,  0.        ,  0.        , ...,  0.        ,\n",
              "         0.        ,  0.        ],\n",
              "       [-0.03028168, -0.08811525,  0.23132069, ..., -0.02347893,\n",
              "         0.00095113, -0.02957203],\n",
              "       [-0.01215426, -0.00385964, -0.00705711, ...,  0.01192162,\n",
              "         0.02136094,  0.00374185],\n",
              "       ...,\n",
              "       [ 0.01883635, -0.0269728 , -0.05330423, ...,  0.03609481,\n",
              "        -0.01099953, -0.07178792],\n",
              "       [ 0.16461684, -0.11871357,  0.03160643, ..., -0.0197272 ,\n",
              "         0.04651267,  0.11391385],\n",
              "       [-0.02445162, -0.02752407,  0.00474452, ...,  0.01368786,\n",
              "        -0.00281889, -0.01744165]])"
            ]
          },
          "metadata": {},
          "execution_count": 24
        }
      ]
    },
    {
      "cell_type": "code",
      "execution_count": null,
      "metadata": {
        "id": "NJncFkRuFs6Z"
      },
      "outputs": [],
      "source": [
        "for word, i in word2id.items():\n",
        "    if word == 'PAD':\n",
        "        continue\n",
        "\n",
        "    try:\n",
        "      embedding_matrix[i] = model_fasttext.get_word_vector(word)\n",
        "\n",
        "    except KeyError:\n",
        "      # для слов, которых нет в модели тоже возьмем какой-то  рандомный вектор\n",
        "      continue\n",
        "      embedding_matrix[i] = model_fasttext.get_word_vector('опрагпллирао')\n",
        "\n",
        "    # if word in model_fasttext:\n",
        "    #     embedding_matrix[idx] = model_fasttext.get_word_vector(word)\n",
        "    # else:\n",
        "    #     embedding_matrix[idx] = np.zeros(embedding_dim)\n",
        "    #     pass"
      ],
      "id": "NJncFkRuFs6Z"
    },
    {
      "cell_type": "code",
      "source": [
        "embedding_matrix"
      ],
      "metadata": {
        "colab": {
          "base_uri": "https://localhost:8080/"
        },
        "id": "dVzcv9visLpv",
        "outputId": "4426e92e-9dac-4015-f6ae-a1b7904a8d37"
      },
      "id": "dVzcv9visLpv",
      "execution_count": null,
      "outputs": [
        {
          "output_type": "execute_result",
          "data": {
            "text/plain": [
              "array([[ 0.        ,  0.        ,  0.        , ...,  0.        ,\n",
              "         0.        ,  0.        ],\n",
              "       [-0.03028168, -0.08811525,  0.23132069, ..., -0.02347893,\n",
              "         0.00095113, -0.02957203],\n",
              "       [-0.01215426, -0.00385964, -0.00705711, ...,  0.01192162,\n",
              "         0.02136094,  0.00374185],\n",
              "       ...,\n",
              "       [ 0.01883635, -0.0269728 , -0.05330423, ...,  0.03609481,\n",
              "        -0.01099953, -0.07178792],\n",
              "       [ 0.16461684, -0.11871357,  0.03160643, ..., -0.0197272 ,\n",
              "         0.04651267,  0.11391385],\n",
              "       [-0.02445162, -0.02752407,  0.00474452, ...,  0.01368786,\n",
              "        -0.00281889, -0.01744165]])"
            ]
          },
          "metadata": {},
          "execution_count": 20
        }
      ]
    },
    {
      "cell_type": "markdown",
      "metadata": {
        "id": "hQSLvjnUuFGl"
      },
      "source": [
        "###1) модель в которой будут использованы предобученные эмбединги слов и несколько BILSTM слоев."
      ],
      "id": "hQSLvjnUuFGl"
    },
    {
      "cell_type": "code",
      "source": [
        "import tensorflow as tf"
      ],
      "metadata": {
        "id": "pFsVSWt-xuBW"
      },
      "id": "pFsVSWt-xuBW",
      "execution_count": null,
      "outputs": []
    },
    {
      "cell_type": "code",
      "source": [
        "import gensim"
      ],
      "metadata": {
        "id": "7YEo07Cr8XbQ"
      },
      "id": "7YEo07Cr8XbQ",
      "execution_count": null,
      "outputs": []
    },
    {
      "cell_type": "code",
      "source": [
        "import gensim.downloader"
      ],
      "metadata": {
        "id": "ZDKseD838kVa"
      },
      "id": "ZDKseD838kVa",
      "execution_count": null,
      "outputs": []
    },
    {
      "cell_type": "code",
      "source": [
        "glove_vectors = gensim.downloader.load('word2vec-ruscorpora-300')"
      ],
      "metadata": {
        "colab": {
          "base_uri": "https://localhost:8080/"
        },
        "id": "AqYXDZLp8ZxD",
        "outputId": "5d90242a-dc38-43ed-b508-837a030bfc74"
      },
      "id": "AqYXDZLp8ZxD",
      "execution_count": null,
      "outputs": [
        {
          "output_type": "stream",
          "name": "stdout",
          "text": [
            "[==================================================] 100.0% 198.8/198.8MB downloaded\n"
          ]
        }
      ]
    },
    {
      "cell_type": "code",
      "source": [],
      "metadata": {
        "id": "gd1trF_t8uwd"
      },
      "id": "gd1trF_t8uwd",
      "execution_count": null,
      "outputs": []
    },
    {
      "cell_type": "code",
      "execution_count": null,
      "metadata": {
        "id": "t64yhTurFs8o",
        "colab": {
          "base_uri": "https://localhost:8080/",
          "height": 582
        },
        "outputId": "a53e69c8-9a44-45e0-b239-80bf3b3daa58"
      },
      "outputs": [
        {
          "output_type": "error",
          "ename": "ValueError",
          "evalue": "Unrecognized keyword arguments passed to Embedding: {'weights': [array([[-0.01921569, -0.04429   ,  0.01141533, ..., -0.06816524,\n        -0.1113053 , -0.01868097],\n       [-0.13945161,  0.00953103,  0.09669053, ...,  0.13606454,\n        -0.01110533,  0.07058567],\n       [-0.06355252,  0.03148742, -0.04285886, ..., -0.0162103 ,\n        -0.06480815,  0.02475655],\n       ...,\n       [ 0.11291438,  0.0176115 ,  0.14802118, ...,  0.1615205 ,\n        -0.01609856,  0.00853196],\n       [ 0.02587008,  0.01879713,  0.04726784, ...,  0.02090296,\n        -0.04752098, -0.03794819],\n       [-0.04889952,  0.01550509, -0.03137619, ...,  0.0722907 ,\n        -0.01641058,  0.04799879]], dtype=float32)], 'input_length': 54}",
          "traceback": [
            "\u001b[0;31m---------------------------------------------------------------------------\u001b[0m",
            "\u001b[0;31mValueError\u001b[0m                                Traceback (most recent call last)",
            "\u001b[0;32m<ipython-input-46-2f60268df506>\u001b[0m in \u001b[0;36m<cell line: 6>\u001b[0;34m()\u001b[0m\n\u001b[1;32m      4\u001b[0m \u001b[0;31m# embeddings = tf.keras.layers.Embedding(input_dim=300, output_dim=300, weights=[embedding_matrix], input_length=MAX_LEN, trainable=False)(inputs, )\u001b[0m\u001b[0;34m\u001b[0m\u001b[0;34m\u001b[0m\u001b[0m\n\u001b[1;32m      5\u001b[0m \u001b[0;34m\u001b[0m\u001b[0m\n\u001b[0;32m----> 6\u001b[0;31m \u001b[0membeddings\u001b[0m \u001b[0;34m=\u001b[0m \u001b[0mtf\u001b[0m\u001b[0;34m.\u001b[0m\u001b[0mkeras\u001b[0m\u001b[0;34m.\u001b[0m\u001b[0mlayers\u001b[0m\u001b[0;34m.\u001b[0m\u001b[0mEmbedding\u001b[0m\u001b[0;34m(\u001b[0m\u001b[0minput_dim\u001b[0m\u001b[0;34m=\u001b[0m\u001b[0mglove_vectors\u001b[0m\u001b[0;34m.\u001b[0m\u001b[0mvectors\u001b[0m\u001b[0;34m.\u001b[0m\u001b[0mshape\u001b[0m\u001b[0;34m[\u001b[0m\u001b[0;36m0\u001b[0m\u001b[0;34m]\u001b[0m\u001b[0;34m,\u001b[0m \u001b[0moutput_dim\u001b[0m\u001b[0;34m=\u001b[0m\u001b[0;36m300\u001b[0m\u001b[0;34m,\u001b[0m \u001b[0mweights\u001b[0m\u001b[0;34m=\u001b[0m\u001b[0;34m[\u001b[0m\u001b[0mglove_vectors\u001b[0m\u001b[0;34m.\u001b[0m\u001b[0mvectors\u001b[0m\u001b[0;34m]\u001b[0m\u001b[0;34m,\u001b[0m \u001b[0minput_length\u001b[0m\u001b[0;34m=\u001b[0m\u001b[0mMAX_LEN\u001b[0m\u001b[0;34m,\u001b[0m \u001b[0mtrainable\u001b[0m\u001b[0;34m=\u001b[0m\u001b[0;32mFalse\u001b[0m\u001b[0;34m)\u001b[0m \u001b[0;34m(\u001b[0m\u001b[0minputs\u001b[0m\u001b[0;34m)\u001b[0m\u001b[0;34m\u001b[0m\u001b[0;34m\u001b[0m\u001b[0m\n\u001b[0m\u001b[1;32m      7\u001b[0m \u001b[0;34m\u001b[0m\u001b[0m\n\u001b[1;32m      8\u001b[0m \u001b[0mbilstm1\u001b[0m \u001b[0;34m=\u001b[0m \u001b[0mtf\u001b[0m\u001b[0;34m.\u001b[0m\u001b[0mkeras\u001b[0m\u001b[0;34m.\u001b[0m\u001b[0mlayers\u001b[0m\u001b[0;34m.\u001b[0m\u001b[0mBidirectional\u001b[0m\u001b[0;34m(\u001b[0m\u001b[0mkeras\u001b[0m\u001b[0;34m.\u001b[0m\u001b[0mlayers\u001b[0m\u001b[0;34m.\u001b[0m\u001b[0mLSTM\u001b[0m\u001b[0;34m(\u001b[0m\u001b[0;36m128\u001b[0m\u001b[0;34m,\u001b[0m \u001b[0mreturn_sequences\u001b[0m\u001b[0;34m=\u001b[0m\u001b[0;32mTrue\u001b[0m\u001b[0;34m)\u001b[0m\u001b[0;34m)\u001b[0m\u001b[0;34m(\u001b[0m\u001b[0membeddings\u001b[0m\u001b[0;34m)\u001b[0m\u001b[0;34m\u001b[0m\u001b[0;34m\u001b[0m\u001b[0m\n",
            "\u001b[0;32m/usr/local/lib/python3.10/dist-packages/keras/src/layers/core/embedding.py\u001b[0m in \u001b[0;36m__init__\u001b[0;34m(self, input_dim, output_dim, embeddings_initializer, embeddings_regularizer, embeddings_constraint, mask_zero, lora_rank, **kwargs)\u001b[0m\n\u001b[1;32m     79\u001b[0m         \u001b[0;34m**\u001b[0m\u001b[0mkwargs\u001b[0m\u001b[0;34m,\u001b[0m\u001b[0;34m\u001b[0m\u001b[0;34m\u001b[0m\u001b[0m\n\u001b[1;32m     80\u001b[0m     ):\n\u001b[0;32m---> 81\u001b[0;31m         \u001b[0msuper\u001b[0m\u001b[0;34m(\u001b[0m\u001b[0;34m)\u001b[0m\u001b[0;34m.\u001b[0m\u001b[0m__init__\u001b[0m\u001b[0;34m(\u001b[0m\u001b[0;34m**\u001b[0m\u001b[0mkwargs\u001b[0m\u001b[0;34m)\u001b[0m\u001b[0;34m\u001b[0m\u001b[0;34m\u001b[0m\u001b[0m\n\u001b[0m\u001b[1;32m     82\u001b[0m         \u001b[0mself\u001b[0m\u001b[0;34m.\u001b[0m\u001b[0minput_dim\u001b[0m \u001b[0;34m=\u001b[0m \u001b[0minput_dim\u001b[0m\u001b[0;34m\u001b[0m\u001b[0;34m\u001b[0m\u001b[0m\n\u001b[1;32m     83\u001b[0m         \u001b[0mself\u001b[0m\u001b[0;34m.\u001b[0m\u001b[0moutput_dim\u001b[0m \u001b[0;34m=\u001b[0m \u001b[0moutput_dim\u001b[0m\u001b[0;34m\u001b[0m\u001b[0;34m\u001b[0m\u001b[0m\n",
            "\u001b[0;32m/usr/local/lib/python3.10/dist-packages/keras/src/layers/layer.py\u001b[0m in \u001b[0;36m__init__\u001b[0;34m(self, activity_regularizer, trainable, dtype, autocast, name, **kwargs)\u001b[0m\n\u001b[1;32m    263\u001b[0m             \u001b[0mself\u001b[0m\u001b[0;34m.\u001b[0m\u001b[0m_input_shape_arg\u001b[0m \u001b[0;34m=\u001b[0m \u001b[0minput_shape_arg\u001b[0m\u001b[0;34m\u001b[0m\u001b[0;34m\u001b[0m\u001b[0m\n\u001b[1;32m    264\u001b[0m         \u001b[0;32mif\u001b[0m \u001b[0mkwargs\u001b[0m\u001b[0;34m:\u001b[0m\u001b[0;34m\u001b[0m\u001b[0;34m\u001b[0m\u001b[0m\n\u001b[0;32m--> 265\u001b[0;31m             raise ValueError(\n\u001b[0m\u001b[1;32m    266\u001b[0m                 \u001b[0;34m\"Unrecognized keyword arguments \"\u001b[0m\u001b[0;34m\u001b[0m\u001b[0;34m\u001b[0m\u001b[0m\n\u001b[1;32m    267\u001b[0m                 \u001b[0;34mf\"passed to {self.__class__.__name__}: {kwargs}\"\u001b[0m\u001b[0;34m\u001b[0m\u001b[0;34m\u001b[0m\u001b[0m\n",
            "\u001b[0;31mValueError\u001b[0m: Unrecognized keyword arguments passed to Embedding: {'weights': [array([[-0.01921569, -0.04429   ,  0.01141533, ..., -0.06816524,\n        -0.1113053 , -0.01868097],\n       [-0.13945161,  0.00953103,  0.09669053, ...,  0.13606454,\n        -0.01110533,  0.07058567],\n       [-0.06355252,  0.03148742, -0.04285886, ..., -0.0162103 ,\n        -0.06480815,  0.02475655],\n       ...,\n       [ 0.11291438,  0.0176115 ,  0.14802118, ...,  0.1615205 ,\n        -0.01609856,  0.00853196],\n       [ 0.02587008,  0.01879713,  0.04726784, ...,  0.02090296,\n        -0.04752098, -0.03794819],\n       [-0.04889952,  0.01550509, -0.03137619, ...,  0.0722907 ,\n        -0.01641058,  0.04799879]], dtype=float32)], 'input_length': 54}"
          ]
        }
      ],
      "source": [
        "inputs = tf.keras.layers.Input(shape=(MAX_LEN,))\n",
        "# embeddings = tf.keras.layers.Embedding(input_dim=len(word2id), output_dim=300, trainable=False, weights=[embedding_matrix])(inputs, )\n",
        "\n",
        "# embeddings = tf.keras.layers.Embedding(input_dim=300, output_dim=300, weights=[embedding_matrix], input_length=MAX_LEN, trainable=False)(inputs, )\n",
        "\n",
        "embeddings = tf.keras.layers.Embedding(input_dim=glove_vectors.vectors.shape[0], output_dim=300, weights=[glove_vectors.vectors], input_length=MAX_LEN, trainable=False) (inputs)\n",
        "\n",
        "bilstm1 = tf.keras.layers.Bidirectional(keras.layers.LSTM(128, return_sequences=True))(embeddings)\n",
        "bilstm2 = tf.keras.layers.Bidirectional(keras.layers.LSTM(128, return_sequences=True))(bilstm1)\n",
        "bilstm3 = tf.keras.layers.Bidirectional(keras.layers.LSTM(128, return_sequences=False))(bilstm2)\n",
        "\n",
        "# dense = keras.layers.Dense(64, activation='relu')(bilstm3)\n",
        "outputs = tf.keras.layers.Dense(len(label2id), activation='softmax')(bilstm3)\n",
        "\n",
        "model = tf.keras.Model(inputs=inputs, outputs=outputs)\n",
        "model.compile(optimizer='adam',\n",
        "              loss='sparse_categorical_crossentropy',\n",
        "             metrics=['accuracy'])\n"
      ],
      "id": "t64yhTurFs8o"
    },
    {
      "cell_type": "code",
      "execution_count": null,
      "metadata": {
        "id": "wBoOFNxtuu_H",
        "colab": {
          "base_uri": "https://localhost:8080/",
          "height": 141
        },
        "outputId": "0252e90c-9d97-40a3-d2cd-f88a650f5b90"
      },
      "outputs": [
        {
          "output_type": "error",
          "ename": "NameError",
          "evalue": "name 'model' is not defined",
          "traceback": [
            "\u001b[0;31m---------------------------------------------------------------------------\u001b[0m",
            "\u001b[0;31mNameError\u001b[0m                                 Traceback (most recent call last)",
            "\u001b[0;32m<ipython-input-43-5f15418b3570>\u001b[0m in \u001b[0;36m<cell line: 1>\u001b[0;34m()\u001b[0m\n\u001b[0;32m----> 1\u001b[0;31m \u001b[0mmodel\u001b[0m\u001b[0;34m.\u001b[0m\u001b[0msummary\u001b[0m\u001b[0;34m(\u001b[0m\u001b[0;34m)\u001b[0m\u001b[0;34m\u001b[0m\u001b[0;34m\u001b[0m\u001b[0m\n\u001b[0m",
            "\u001b[0;31mNameError\u001b[0m: name 'model' is not defined"
          ]
        }
      ],
      "source": [
        "model.summary()"
      ],
      "id": "wBoOFNxtuu_H"
    },
    {
      "cell_type": "code",
      "execution_count": null,
      "metadata": {
        "id": "EmXMRMUzuu_I"
      },
      "outputs": [],
      "source": [
        "model.fit(X_train, y_train,\n",
        "          validation_data=(X_valid, y_valid),\n",
        "          batch_size=128,\n",
        "         epochs=5)"
      ],
      "id": "EmXMRMUzuu_I"
    },
    {
      "cell_type": "code",
      "execution_count": null,
      "metadata": {
        "id": "vhrxgTafuu_I"
      },
      "outputs": [],
      "source": [
        "print(model.history.history.keys())\n",
        "plt.plot(model.history.history['accuracy'])\n",
        "plt.plot(model.history.history['val_accuracy'])\n",
        "plt.title('model acc')\n",
        "plt.ylabel('accuracy')\n",
        "plt.xlabel('epoch')\n",
        "plt.legend(['train', 'val'], loc='upper left')\n",
        "plt.show()"
      ],
      "id": "vhrxgTafuu_I"
    },
    {
      "cell_type": "code",
      "execution_count": null,
      "metadata": {
        "id": "3Tk9bdiDohO4"
      },
      "outputs": [],
      "source": [
        "from sklearn.metrics import classification_report"
      ],
      "id": "3Tk9bdiDohO4"
    },
    {
      "cell_type": "code",
      "execution_count": null,
      "metadata": {
        "id": "OUeu9qM8ohO4"
      },
      "outputs": [],
      "source": [
        "pred = model.predict(X_test).argmax(2)"
      ],
      "id": "OUeu9qM8ohO4"
    },
    {
      "cell_type": "code",
      "execution_count": null,
      "metadata": {
        "id": "boCj-zYXohO4"
      },
      "outputs": [],
      "source": [
        "pred"
      ],
      "id": "boCj-zYXohO4"
    },
    {
      "cell_type": "code",
      "execution_count": null,
      "metadata": {
        "id": "SHoffzb4ohO5"
      },
      "outputs": [],
      "source": [
        "print(classification_report(y_test.reshape(-1), pred.reshape(-1), labels=list(id2labels.keys()),\n",
        "                                                                     target_names=list(id2labels.values()),\n",
        "                                                                     zero_division=0))"
      ],
      "id": "SHoffzb4ohO5"
    },
    {
      "cell_type": "code",
      "execution_count": null,
      "metadata": {
        "id": "uLqGUKqOohO6"
      },
      "outputs": [],
      "source": [
        "import re\n",
        "\n",
        "def tokenize(text, word2id):\n",
        "    # токенизирует и переводит в индексы\n",
        "    tokens = re.findall('\\w+|[^\\w\\s]+', text)\n",
        "    ids = [word2id.get(token.lower(), 1) for token in tokens]\n",
        "    return tokens, ids\n",
        "\n",
        "def pred2tags(pred, id2label, length):\n",
        "    # декодирует индексы в части речи\n",
        "    # length нужно чтобы откидывать паддинги или некорректные предсказания\n",
        "    pred = pred.argmax(2)[0, :length]\n",
        "    labels = [id2label[l] for l in pred]\n",
        "    return labels\n",
        "\n",
        "def label_seq(text, word2id, id2label, max_len, model):\n",
        "    tokens, ids = tokenize(text, word2id)\n",
        "    pred = model.predict(keras.preprocessing.sequence.pad_sequences([ids],\n",
        "                                                                       maxlen=max_len,\n",
        "                                                                       padding='post'))\n",
        "    labels = pred2tags(pred, id2label, len(ids))\n",
        "\n",
        "    return list(zip(tokens, labels))"
      ],
      "id": "uLqGUKqOohO6"
    },
    {
      "cell_type": "code",
      "execution_count": null,
      "metadata": {
        "id": "t1sgcMmpohO6"
      },
      "outputs": [],
      "source": [
        "label_seq('Алексей сказал Светлане, чтобы она собиралась на поезд в Москву.', word2id, id2labels, MAX_LEN, model)"
      ],
      "id": "t1sgcMmpohO6"
    },
    {
      "cell_type": "code",
      "execution_count": null,
      "metadata": {
        "id": "O2nTogTRohO6"
      },
      "outputs": [],
      "source": [
        "label_seq('Я поступил в ВШЭ в Питер', word2id, id2labels, MAX_LEN, model)"
      ],
      "id": "O2nTogTRohO6"
    },
    {
      "cell_type": "code",
      "execution_count": null,
      "metadata": {
        "id": "t7u2gLI4ohO7"
      },
      "outputs": [],
      "source": [
        "label_seq('Виктор, Семен, Петр, Арагорн, Осел', word2id, id2labels, MAX_LEN, model)"
      ],
      "id": "t7u2gLI4ohO7"
    },
    {
      "cell_type": "markdown",
      "metadata": {
        "id": "6j6-6z9lvoxa"
      },
      "source": [
        "###2) модель в которой будут использованы предобученные эмбединги слов и несколько BIGRU слоев."
      ],
      "id": "6j6-6z9lvoxa"
    },
    {
      "cell_type": "code",
      "execution_count": null,
      "metadata": {
        "id": "egUwlDatFs_8"
      },
      "outputs": [],
      "source": [
        "inputs = keras.layers.Input(shape=(MAX_LEN,))\n",
        "embeddings = keras.layers.Embedding(input_dim=len(word2id), output_dim=100, trainable=False,\n",
        "                                       weights=[embedding_matrix])(inputs)\n",
        "\n",
        "bigru1 = keras.layers.Bidirectional(keras.layers.GRU(128, return_sequences=True))(embeddings)\n",
        "bigru2 = keras.layers.Bidirectional(keras.layers.GRU(128, return_sequences=True))(bigru1)\n",
        "bigru3 = keras.layers.Bidirectional(keras.layers.GRU(128, return_sequences=False))(bigru2)\n",
        "\n",
        "outputs = keras.layers.Dense(len(label2id), activation='softmax')(bigru3)\n",
        "\n",
        "model = keras.Model(inputs=inputs, outputs=outputs)\n",
        "model.compile(optimizer='adam',\n",
        "              loss='sparse_categorical_crossentropy',\n",
        "             metrics=['accuracy'])\n"
      ],
      "id": "egUwlDatFs_8"
    },
    {
      "cell_type": "code",
      "execution_count": null,
      "metadata": {
        "id": "jNcOiuv0wGpA"
      },
      "outputs": [],
      "source": [
        "model.summary()"
      ],
      "id": "jNcOiuv0wGpA"
    },
    {
      "cell_type": "code",
      "execution_count": null,
      "metadata": {
        "id": "ba-MPukUwGpA"
      },
      "outputs": [],
      "source": [
        "model.fit(X_train, y_train,\n",
        "          validation_data=(X_valid, y_valid),\n",
        "          batch_size=128,\n",
        "         epochs=5)"
      ],
      "id": "ba-MPukUwGpA"
    },
    {
      "cell_type": "code",
      "execution_count": null,
      "metadata": {
        "id": "yzxLFafNwGpA"
      },
      "outputs": [],
      "source": [
        "print(model.history.history.keys())\n",
        "plt.plot(model.history.history['accuracy'])\n",
        "plt.plot(model.history.history['val_accuracy'])\n",
        "plt.title('model acc')\n",
        "plt.ylabel('accuracy')\n",
        "plt.xlabel('epoch')\n",
        "plt.legend(['train', 'val'], loc='upper left')\n",
        "plt.show()"
      ],
      "id": "yzxLFafNwGpA"
    },
    {
      "cell_type": "code",
      "execution_count": null,
      "metadata": {
        "id": "4dANLrzPwGpA"
      },
      "outputs": [],
      "source": [
        "from sklearn.metrics import classification_report"
      ],
      "id": "4dANLrzPwGpA"
    },
    {
      "cell_type": "code",
      "execution_count": null,
      "metadata": {
        "id": "0mAwi8oowGpA"
      },
      "outputs": [],
      "source": [
        "pred = model.predict(X_test).argmax(2)"
      ],
      "id": "0mAwi8oowGpA"
    },
    {
      "cell_type": "code",
      "execution_count": null,
      "metadata": {
        "id": "G8OBB14FwGpA"
      },
      "outputs": [],
      "source": [
        "pred"
      ],
      "id": "G8OBB14FwGpA"
    },
    {
      "cell_type": "code",
      "execution_count": null,
      "metadata": {
        "id": "KWKY7fYIwGpB"
      },
      "outputs": [],
      "source": [
        "print(classification_report(y_test.reshape(-1), pred.reshape(-1), labels=list(id2labels.keys()),\n",
        "                                                                     target_names=list(id2labels.values()),\n",
        "                                                                     zero_division=0))"
      ],
      "id": "KWKY7fYIwGpB"
    },
    {
      "cell_type": "code",
      "execution_count": null,
      "metadata": {
        "id": "H62HYTiYwIRz"
      },
      "outputs": [],
      "source": [
        "label_seq('Алексей сказал Светлане, чтобы она собиралась на поезд в Москву.', word2id, id2labels, MAX_LEN, model)"
      ],
      "id": "H62HYTiYwIRz"
    },
    {
      "cell_type": "code",
      "execution_count": null,
      "metadata": {
        "id": "R0HqMBnYwIR0"
      },
      "outputs": [],
      "source": [
        "label_seq('Я поступил в ВШЭ в Питер', word2id, id2labels, MAX_LEN, model)"
      ],
      "id": "R0HqMBnYwIR0"
    },
    {
      "cell_type": "code",
      "execution_count": null,
      "metadata": {
        "id": "cgV9aW_vwIR0"
      },
      "outputs": [],
      "source": [
        "label_seq('Виктор, Семен, Петр, Арагорн, Осел', word2id, id2labels, MAX_LEN, model)"
      ],
      "id": "cgV9aW_vwIR0"
    },
    {
      "cell_type": "markdown",
      "metadata": {
        "id": "MjXVipkgwJTu"
      },
      "source": [
        "###Выводы"
      ],
      "id": "MjXVipkgwJTu"
    },
    {
      "cell_type": "code",
      "execution_count": null,
      "metadata": {
        "id": "nfjcrgsWwL0c"
      },
      "outputs": [],
      "source": [],
      "id": "nfjcrgsWwL0c"
    }
  ],
  "metadata": {
    "colab": {
      "provenance": []
    },
    "kernelspec": {
      "display_name": "Python 3",
      "name": "python3"
    },
    "language_info": {
      "codemirror_mode": {
        "name": "ipython",
        "version": 3
      },
      "file_extension": ".py",
      "mimetype": "text/x-python",
      "name": "python",
      "nbconvert_exporter": "python",
      "pygments_lexer": "ipython3",
      "version": "3.9.14"
    }
  },
  "nbformat": 4,
  "nbformat_minor": 5
}