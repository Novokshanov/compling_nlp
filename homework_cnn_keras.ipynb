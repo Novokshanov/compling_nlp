{
  "cells": [
    {
      "cell_type": "markdown",
      "id": "4ca384d0-da9b-41bc-a902-ee069922c0c2",
      "metadata": {
        "id": "4ca384d0-da9b-41bc-a902-ee069922c0c2"
      },
      "source": [
        "## Домашка (10 баллов)\n",
        "\n",
        "\n",
        "Обучите модель с минимум 15 слоями, где у каждого слоя разные параметры (Dropout, Conv1d и Pooling, Dense считаются слоями, остальное нет). Как мимнимум 4 слоя должны быть наложены друг на друга и как минимум 2 параллельных слоя (последовательности слоев). Должен быть хотя бы один слой каждого типа.\n",
        "\n",
        "При обучении используйте колбек для отслеживания лучшей модели. Ориентируйтесь на ф1 меру. Качество модели не должно быть околонулевым. Если метрики не растут, то попробуйте пообучать подольше или перестроить саму сеть.\n",
        "\n",
        "Советы: Начните с небольших сетей и постепенно добавляйте, не пытайтесь сразу собрать все слои. Иногда кернел может крашиться просто так или из-за слишком больших матриц.\n"
      ]
    },
    {
      "cell_type": "code",
      "execution_count": 1,
      "id": "2dcb010f-90e2-4a23-bbdd-4b6df8a94c31",
      "metadata": {
        "id": "2dcb010f-90e2-4a23-bbdd-4b6df8a94c31"
      },
      "outputs": [],
      "source": [
        "import os\n",
        "os.environ[\"KERAS_BACKEND\"] = \"torch\""
      ]
    },
    {
      "cell_type": "code",
      "source": [
        "import keras\n",
        "print(keras.__version__)"
      ],
      "metadata": {
        "colab": {
          "base_uri": "https://localhost:8080/"
        },
        "id": "Fv0sigptMWky",
        "outputId": "6d0c600c-7556-4e25-a064-00fe84f30cb6"
      },
      "id": "Fv0sigptMWky",
      "execution_count": 2,
      "outputs": [
        {
          "output_type": "stream",
          "name": "stdout",
          "text": [
            "2.15.0\n"
          ]
        }
      ]
    },
    {
      "cell_type": "code",
      "source": [
        "import pandas as pd\n",
        "import numpy as np\n",
        "from string import punctuation\n",
        "from sklearn.model_selection import train_test_split\n",
        "from collections import Counter\n",
        "import matplotlib.pyplot as plt\n",
        "%matplotlib inline"
      ],
      "metadata": {
        "id": "xOC1wcZEMYqJ"
      },
      "id": "xOC1wcZEMYqJ",
      "execution_count": 3,
      "outputs": []
    },
    {
      "cell_type": "code",
      "source": [
        "from google.colab import drive\n",
        "drive.mount('/content/drive')"
      ],
      "metadata": {
        "colab": {
          "base_uri": "https://localhost:8080/"
        },
        "id": "DF1sHjxFMksR",
        "outputId": "b14814f6-82ae-4340-95d3-d313b48676c6"
      },
      "id": "DF1sHjxFMksR",
      "execution_count": 4,
      "outputs": [
        {
          "output_type": "stream",
          "name": "stdout",
          "text": [
            "Drive already mounted at /content/drive; to attempt to forcibly remount, call drive.mount(\"/content/drive\", force_remount=True).\n"
          ]
        }
      ]
    },
    {
      "cell_type": "code",
      "source": [
        "os.chdir(\"/content/drive/My Drive\")\n",
        "!ls"
      ],
      "metadata": {
        "id": "RdSbpYC9OQ6Z"
      },
      "id": "RdSbpYC9OQ6Z",
      "execution_count": null,
      "outputs": []
    },
    {
      "cell_type": "code",
      "source": [
        "data = pd.read_csv('lenta_40k.csv')"
      ],
      "metadata": {
        "id": "RElxwNFeMtXf"
      },
      "id": "RElxwNFeMtXf",
      "execution_count": 9,
      "outputs": []
    },
    {
      "cell_type": "code",
      "source": [
        "def preprocess(text):\n",
        "    tokens = text.lower().split()\n",
        "    tokens = [token.strip(punctuation) for token in tokens]\n",
        "    return tokens"
      ],
      "metadata": {
        "id": "NtMzK9m9Nlqx"
      },
      "id": "NtMzK9m9Nlqx",
      "execution_count": 11,
      "outputs": []
    },
    {
      "cell_type": "code",
      "source": [
        "vocab = Counter()\n",
        "\n",
        "for text in data.text:\n",
        "    vocab.update(preprocess(text))"
      ],
      "metadata": {
        "id": "YUoCEmdfNltc"
      },
      "id": "YUoCEmdfNltc",
      "execution_count": 12,
      "outputs": []
    },
    {
      "cell_type": "code",
      "source": [
        "filtered_vocab = set()\n",
        "\n",
        "for word in vocab:\n",
        "    if vocab[word] > 30:\n",
        "        filtered_vocab.add(word)"
      ],
      "metadata": {
        "id": "96nD8G5CNlwL"
      },
      "id": "96nD8G5CNlwL",
      "execution_count": 13,
      "outputs": []
    },
    {
      "cell_type": "code",
      "source": [
        "word2id = {'PAD':0}\n",
        "\n",
        "for word in filtered_vocab:\n",
        "    word2id[word] = len(word2id)"
      ],
      "metadata": {
        "id": "SP-hhFUsNly0"
      },
      "id": "SP-hhFUsNly0",
      "execution_count": 14,
      "outputs": []
    },
    {
      "cell_type": "code",
      "source": [
        "id2word = {i:word for word, i in word2id.items()}"
      ],
      "metadata": {
        "id": "-d8Qnq_kNl1V"
      },
      "id": "-d8Qnq_kNl1V",
      "execution_count": 15,
      "outputs": []
    },
    {
      "cell_type": "code",
      "source": [
        "X = []\n",
        "\n",
        "for text in data.text:\n",
        "    tokens = preprocess(text)\n",
        "    ids = [word2id.get(token, 1) for token in tokens]\n",
        "    X.append(ids)"
      ],
      "metadata": {
        "id": "R6WPPlcfNl4X"
      },
      "id": "R6WPPlcfNl4X",
      "execution_count": 16,
      "outputs": []
    },
    {
      "cell_type": "code",
      "source": [
        "MEAN_LEN = np.median([len(x) for x in X])"
      ],
      "metadata": {
        "id": "lImgrpG_Nl6-"
      },
      "id": "lImgrpG_Nl6-",
      "execution_count": 17,
      "outputs": []
    },
    {
      "cell_type": "code",
      "source": [
        "MAX_LEN = int(MEAN_LEN + 30)"
      ],
      "metadata": {
        "id": "qJGqYcvUPW0u"
      },
      "id": "qJGqYcvUPW0u",
      "execution_count": 18,
      "outputs": []
    },
    {
      "cell_type": "code",
      "source": [
        "X = keras.preprocessing.sequence.pad_sequences(X, maxlen=MAX_LEN)"
      ],
      "metadata": {
        "id": "hbhEWs35PYUZ"
      },
      "id": "hbhEWs35PYUZ",
      "execution_count": 19,
      "outputs": []
    },
    {
      "cell_type": "code",
      "source": [
        "id2label = {i:label for i, label in enumerate(set(data.topic.values))}\n",
        "label2id = {l:i for i, l in id2label.items()}"
      ],
      "metadata": {
        "id": "KxAGqX2jPavB"
      },
      "id": "KxAGqX2jPavB",
      "execution_count": 20,
      "outputs": []
    },
    {
      "cell_type": "code",
      "source": [
        "y = keras.utils.to_categorical([label2id[label] for label in data.topic.values])"
      ],
      "metadata": {
        "id": "OBIC3f6fPd0T"
      },
      "id": "OBIC3f6fPd0T",
      "execution_count": 21,
      "outputs": []
    },
    {
      "cell_type": "code",
      "source": [
        "X_train, X_valid, y_train, y_valid = train_test_split(X, y, test_size=0.05)"
      ],
      "metadata": {
        "id": "GynOjY8UPh_y"
      },
      "id": "GynOjY8UPh_y",
      "execution_count": 22,
      "outputs": []
    },
    {
      "cell_type": "code",
      "source": [
        "checkpoint = keras.callbacks.ModelCheckpoint(\n",
        "    'model.weights.h5',\n",
        "    monitor = 'val_loss',\n",
        "    verbose = 1,\n",
        "    save_best_only = True,\n",
        "    save_weights_only = True,\n",
        "    mode = 'auto',\n",
        "    save_freq='epoch',\n",
        "    options=None,\n",
        "    initial_value_threshold=None\n",
        ")"
      ],
      "metadata": {
        "id": "N5aua-s6cbsc"
      },
      "id": "N5aua-s6cbsc",
      "execution_count": 90,
      "outputs": []
    },
    {
      "cell_type": "markdown",
      "source": [
        "Layer counter: 16"
      ],
      "metadata": {
        "id": "ysje-wOVSaqF"
      },
      "id": "ysje-wOVSaqF"
    },
    {
      "cell_type": "code",
      "source": [
        "inputs = keras.layers.Input(shape=(MAX_LEN,))\n",
        "embeddings = keras.layers.Embedding(input_dim=len(word2id), output_dim=100)(inputs, )\n",
        "\n",
        "convs = []\n",
        "for ks in [64,48,32]:\n",
        "    conv1 = keras.layers.Conv1D(kernel_size=ks, filters=32, padding='same',strides=1)(embeddings)\n",
        "    drop1 = keras.layers.Dropout(0.1)(conv1)\n",
        "    conv2 = keras.layers.Conv1D(kernel_size=ks, filters=32, padding='same',strides=2,\n",
        "                                  kernel_regularizer='l2', activation='relu')(drop1)\n",
        "    convs.append(conv2)\n",
        "concat1 = keras.layers.concatenate(convs, axis=1)\n",
        "\n",
        "pool1 = keras.layers.AveragePooling1D(pool_size=2)(concat1)\n",
        "conv3 = keras.layers.Conv1D(kernel_size=32, filters=64, strides=1)(pool1)\n",
        "conv4 = keras.layers.Conv1D(kernel_size=24, filters=64, strides=2)(conv3)\n",
        "conv5 = keras.layers.Conv1D(kernel_size=16, filters=32, strides=1)(conv4)\n",
        "conv6 = keras.layers.Conv1D(kernel_size=8, filters=32, strides=3, activation='relu')(conv5)\n",
        "concat2 = keras.layers.Flatten()(conv6)\n",
        "\n",
        "dense1 = keras.layers.Dense(64, activation='relu')(concat2)\n",
        "drop2 = keras.layers.Dropout(0.2)(dense1)\n",
        "dense2 = keras.layers.Dense(64, activation='relu')(drop2)\n",
        "\n",
        "concat3 = keras.layers.Flatten()(dense2)\n",
        "dense2 = keras.layers.Dense(50, activation='relu')(concat3)\n",
        "drop2 = keras.layers.Dropout(0.3)(dense2)\n",
        "dense3 = keras.layers.Dense(50, activation='relu')(drop2)\n",
        "\n",
        "flatten = keras.layers.Flatten()(dense3)\n",
        "dense4 = keras.layers.Dense(80, activation='relu')(flatten)\n",
        "outputs = keras.layers.Dense(len(label2id), activation='softmax')(dense4)\n",
        "\n",
        "model = keras.Model(inputs=inputs, outputs=outputs)\n",
        "optimizer = keras.optimizers.Adam(learning_rate=0.001)\n",
        "model.compile(optimizer=optimizer,\n",
        "              loss='binary_crossentropy',\n",
        "              metrics=[keras.metrics.RecallAtPrecision(0.8, name='rec@prec')])\n"
      ],
      "metadata": {
        "id": "REQCtNgdPkdK"
      },
      "id": "REQCtNgdPkdK",
      "execution_count": 91,
      "outputs": []
    },
    {
      "cell_type": "code",
      "source": [
        "model.summary()"
      ],
      "metadata": {
        "colab": {
          "base_uri": "https://localhost:8080/"
        },
        "id": "QCfSjPpPRUcb",
        "outputId": "61488d2d-e07c-4d31-926b-9909fee07fff"
      },
      "id": "QCfSjPpPRUcb",
      "execution_count": 92,
      "outputs": [
        {
          "output_type": "stream",
          "name": "stdout",
          "text": [
            "Model: \"model_6\"\n",
            "__________________________________________________________________________________________________\n",
            " Layer (type)                Output Shape                 Param #   Connected to                  \n",
            "==================================================================================================\n",
            " input_37 (InputLayer)       [(None, 200)]                0         []                            \n",
            "                                                                                                  \n",
            " embedding_36 (Embedding)    (None, 200, 100)             2409200   ['input_37[0][0]']            \n",
            "                                                                                                  \n",
            " conv1d_289 (Conv1D)         (None, 200, 32)              204832    ['embedding_36[0][0]']        \n",
            "                                                                                                  \n",
            " conv1d_291 (Conv1D)         (None, 200, 32)              153632    ['embedding_36[0][0]']        \n",
            "                                                                                                  \n",
            " conv1d_293 (Conv1D)         (None, 200, 32)              102432    ['embedding_36[0][0]']        \n",
            "                                                                                                  \n",
            " dropout_112 (Dropout)       (None, 200, 32)              0         ['conv1d_289[0][0]']          \n",
            "                                                                                                  \n",
            " dropout_113 (Dropout)       (None, 200, 32)              0         ['conv1d_291[0][0]']          \n",
            "                                                                                                  \n",
            " dropout_114 (Dropout)       (None, 200, 32)              0         ['conv1d_293[0][0]']          \n",
            "                                                                                                  \n",
            " conv1d_290 (Conv1D)         (None, 100, 32)              65568     ['dropout_112[0][0]']         \n",
            "                                                                                                  \n",
            " conv1d_292 (Conv1D)         (None, 100, 32)              49184     ['dropout_113[0][0]']         \n",
            "                                                                                                  \n",
            " conv1d_294 (Conv1D)         (None, 100, 32)              32800     ['dropout_114[0][0]']         \n",
            "                                                                                                  \n",
            " concatenate_32 (Concatenat  (None, 300, 32)              0         ['conv1d_290[0][0]',          \n",
            " e)                                                                  'conv1d_292[0][0]',          \n",
            "                                                                     'conv1d_294[0][0]']          \n",
            "                                                                                                  \n",
            " average_pooling1d_35 (Aver  (None, 150, 32)              0         ['concatenate_32[0][0]']      \n",
            " agePooling1D)                                                                                    \n",
            "                                                                                                  \n",
            " conv1d_295 (Conv1D)         (None, 119, 64)              65600     ['average_pooling1d_35[0][0]']\n",
            "                                                                                                  \n",
            " conv1d_296 (Conv1D)         (None, 48, 64)               98368     ['conv1d_295[0][0]']          \n",
            "                                                                                                  \n",
            " conv1d_297 (Conv1D)         (None, 33, 32)               32800     ['conv1d_296[0][0]']          \n",
            "                                                                                                  \n",
            " conv1d_298 (Conv1D)         (None, 9, 32)                8224      ['conv1d_297[0][0]']          \n",
            "                                                                                                  \n",
            " flatten_32 (Flatten)        (None, 288)                  0         ['conv1d_298[0][0]']          \n",
            "                                                                                                  \n",
            " dense_52 (Dense)            (None, 64)                   18496     ['flatten_32[0][0]']          \n",
            "                                                                                                  \n",
            " dropout_115 (Dropout)       (None, 64)                   0         ['dense_52[0][0]']            \n",
            "                                                                                                  \n",
            " dense_53 (Dense)            (None, 64)                   4160      ['dropout_115[0][0]']         \n",
            "                                                                                                  \n",
            " flatten_33 (Flatten)        (None, 64)                   0         ['dense_53[0][0]']            \n",
            "                                                                                                  \n",
            " dense_54 (Dense)            (None, 50)                   3250      ['flatten_33[0][0]']          \n",
            "                                                                                                  \n",
            " dropout_116 (Dropout)       (None, 50)                   0         ['dense_54[0][0]']            \n",
            "                                                                                                  \n",
            " dense_55 (Dense)            (None, 50)                   2550      ['dropout_116[0][0]']         \n",
            "                                                                                                  \n",
            " flatten_34 (Flatten)        (None, 50)                   0         ['dense_55[0][0]']            \n",
            "                                                                                                  \n",
            " dense_56 (Dense)            (None, 80)                   4080      ['flatten_34[0][0]']          \n",
            "                                                                                                  \n",
            " dense_57 (Dense)            (None, 19)                   1539      ['dense_56[0][0]']            \n",
            "                                                                                                  \n",
            "==================================================================================================\n",
            "Total params: 3256715 (12.42 MB)\n",
            "Trainable params: 3256715 (12.42 MB)\n",
            "Non-trainable params: 0 (0.00 Byte)\n",
            "__________________________________________________________________________________________________\n"
          ]
        }
      ]
    },
    {
      "cell_type": "code",
      "source": [
        "model.fit(X_train, y_train,\n",
        "          validation_data=(X_valid, y_valid),\n",
        "          batch_size=2000,\n",
        "          epochs=20,\n",
        "          callbacks=[checkpoint])"
      ],
      "metadata": {
        "colab": {
          "base_uri": "https://localhost:8080/"
        },
        "id": "Zl22FQZ5RUfP",
        "outputId": "fa699b5d-a386-4b12-b750-ca6950a7f4f7"
      },
      "id": "Zl22FQZ5RUfP",
      "execution_count": 93,
      "outputs": [
        {
          "output_type": "stream",
          "name": "stdout",
          "text": [
            "Epoch 1/20\n",
            "22/22 [==============================] - ETA: 0s - loss: 1.0218 - rec@prec: 0.0000e+00\n",
            "Epoch 1: val_loss improved from inf to 0.40589, saving model to model.weights.h5\n",
            "22/22 [==============================] - 12s 287ms/step - loss: 1.0218 - rec@prec: 0.0000e+00 - val_loss: 0.4059 - val_rec@prec: 0.0000e+00\n",
            "Epoch 2/20\n",
            "22/22 [==============================] - ETA: 0s - loss: 0.2851 - rec@prec: 0.0000e+00\n",
            "Epoch 2: val_loss improved from 0.40589 to 0.19826, saving model to model.weights.h5\n",
            "22/22 [==============================] - 6s 289ms/step - loss: 0.2851 - rec@prec: 0.0000e+00 - val_loss: 0.1983 - val_rec@prec: 0.0000e+00\n",
            "Epoch 3/20\n",
            "22/22 [==============================] - ETA: 0s - loss: 0.1900 - rec@prec: 2.3732e-05\n",
            "Epoch 3: val_loss improved from 0.19826 to 0.17996, saving model to model.weights.h5\n",
            "22/22 [==============================] - 6s 270ms/step - loss: 0.1900 - rec@prec: 2.3732e-05 - val_loss: 0.1800 - val_rec@prec: 0.0000e+00\n",
            "Epoch 4/20\n",
            "22/22 [==============================] - ETA: 0s - loss: 0.1771 - rec@prec: 0.0000e+00\n",
            "Epoch 4: val_loss improved from 0.17996 to 0.17476, saving model to model.weights.h5\n",
            "22/22 [==============================] - 6s 282ms/step - loss: 0.1771 - rec@prec: 0.0000e+00 - val_loss: 0.1748 - val_rec@prec: 0.0000e+00\n",
            "Epoch 5/20\n",
            "22/22 [==============================] - ETA: 0s - loss: 0.1739 - rec@prec: 4.0344e-04\n",
            "Epoch 5: val_loss did not improve from 0.17476\n",
            "22/22 [==============================] - 6s 273ms/step - loss: 0.1739 - rec@prec: 4.0344e-04 - val_loss: 0.1778 - val_rec@prec: 0.0018\n",
            "Epoch 6/20\n",
            "22/22 [==============================] - ETA: 0s - loss: 0.1723 - rec@prec: 4.7463e-05\n",
            "Epoch 6: val_loss did not improve from 0.17476\n",
            "22/22 [==============================] - 6s 270ms/step - loss: 0.1723 - rec@prec: 4.7463e-05 - val_loss: 0.1814 - val_rec@prec: 0.0032\n",
            "Epoch 7/20\n",
            "22/22 [==============================] - ETA: 0s - loss: 0.1710 - rec@prec: 0.0000e+00\n",
            "Epoch 7: val_loss did not improve from 0.17476\n",
            "22/22 [==============================] - 6s 271ms/step - loss: 0.1710 - rec@prec: 0.0000e+00 - val_loss: 0.1829 - val_rec@prec: 4.5086e-04\n",
            "Epoch 8/20\n",
            "22/22 [==============================] - ETA: 0s - loss: 0.1648 - rec@prec: 1.4239e-04\n",
            "Epoch 8: val_loss improved from 0.17476 to 0.15701, saving model to model.weights.h5\n",
            "22/22 [==============================] - 7s 301ms/step - loss: 0.1648 - rec@prec: 1.4239e-04 - val_loss: 0.1570 - val_rec@prec: 0.0000e+00\n",
            "Epoch 9/20\n",
            "22/22 [==============================] - ETA: 0s - loss: 0.1484 - rec@prec: 3.7970e-04\n",
            "Epoch 9: val_loss improved from 0.15701 to 0.14945, saving model to model.weights.h5\n",
            "22/22 [==============================] - 6s 283ms/step - loss: 0.1484 - rec@prec: 3.7970e-04 - val_loss: 0.1495 - val_rec@prec: 0.0036\n",
            "Epoch 10/20\n",
            "22/22 [==============================] - ETA: 0s - loss: 0.1367 - rec@prec: 0.0437\n",
            "Epoch 10: val_loss improved from 0.14945 to 0.13885, saving model to model.weights.h5\n",
            "22/22 [==============================] - 6s 278ms/step - loss: 0.1367 - rec@prec: 0.0437 - val_loss: 0.1388 - val_rec@prec: 0.1425\n",
            "Epoch 11/20\n",
            "22/22 [==============================] - ETA: 0s - loss: 0.1249 - rec@prec: 0.1439\n",
            "Epoch 11: val_loss improved from 0.13885 to 0.13481, saving model to model.weights.h5\n",
            "22/22 [==============================] - 6s 290ms/step - loss: 0.1249 - rec@prec: 0.1439 - val_loss: 0.1348 - val_rec@prec: 0.1984\n",
            "Epoch 12/20\n",
            "22/22 [==============================] - ETA: 0s - loss: 0.1207 - rec@prec: 0.2224\n",
            "Epoch 12: val_loss improved from 0.13481 to 0.13344, saving model to model.weights.h5\n",
            "22/22 [==============================] - 6s 277ms/step - loss: 0.1207 - rec@prec: 0.2224 - val_loss: 0.1334 - val_rec@prec: 0.2529\n",
            "Epoch 13/20\n",
            "22/22 [==============================] - ETA: 0s - loss: 0.1055 - rec@prec: 0.3588\n",
            "Epoch 13: val_loss improved from 0.13344 to 0.12704, saving model to model.weights.h5\n",
            "22/22 [==============================] - 6s 284ms/step - loss: 0.1055 - rec@prec: 0.3588 - val_loss: 0.1270 - val_rec@prec: 0.3242\n",
            "Epoch 14/20\n",
            "22/22 [==============================] - ETA: 0s - loss: 0.0910 - rec@prec: 0.5228\n",
            "Epoch 14: val_loss did not improve from 0.12704\n",
            "22/22 [==============================] - 6s 265ms/step - loss: 0.0910 - rec@prec: 0.5228 - val_loss: 0.1279 - val_rec@prec: 0.3995\n",
            "Epoch 15/20\n",
            "22/22 [==============================] - ETA: 0s - loss: 0.0789 - rec@prec: 0.6650\n",
            "Epoch 15: val_loss did not improve from 0.12704\n",
            "22/22 [==============================] - 6s 274ms/step - loss: 0.0789 - rec@prec: 0.6650 - val_loss: 0.1299 - val_rec@prec: 0.4630\n",
            "Epoch 16/20\n",
            "22/22 [==============================] - ETA: 0s - loss: 0.0672 - rec@prec: 0.7369\n",
            "Epoch 16: val_loss did not improve from 0.12704\n",
            "22/22 [==============================] - 6s 268ms/step - loss: 0.0672 - rec@prec: 0.7369 - val_loss: 0.1437 - val_rec@prec: 0.4797\n",
            "Epoch 17/20\n",
            "22/22 [==============================] - ETA: 0s - loss: 0.0578 - rec@prec: 0.7952\n",
            "Epoch 17: val_loss did not improve from 0.12704\n",
            "22/22 [==============================] - 6s 275ms/step - loss: 0.0578 - rec@prec: 0.7952 - val_loss: 0.1531 - val_rec@prec: 0.5086\n",
            "Epoch 18/20\n",
            "22/22 [==============================] - ETA: 0s - loss: 0.0516 - rec@prec: 0.8288\n",
            "Epoch 18: val_loss did not improve from 0.12704\n",
            "22/22 [==============================] - 6s 267ms/step - loss: 0.0516 - rec@prec: 0.8288 - val_loss: 0.1605 - val_rec@prec: 0.5167\n",
            "Epoch 19/20\n",
            "22/22 [==============================] - ETA: 0s - loss: 0.0462 - rec@prec: 0.8569\n",
            "Epoch 19: val_loss did not improve from 0.12704\n",
            "22/22 [==============================] - 6s 278ms/step - loss: 0.0462 - rec@prec: 0.8569 - val_loss: 0.1637 - val_rec@prec: 0.5428\n",
            "Epoch 20/20\n",
            "22/22 [==============================] - ETA: 0s - loss: 0.0402 - rec@prec: 0.8851\n",
            "Epoch 20: val_loss did not improve from 0.12704\n",
            "22/22 [==============================] - 6s 267ms/step - loss: 0.0402 - rec@prec: 0.8851 - val_loss: 0.1607 - val_rec@prec: 0.5446\n"
          ]
        },
        {
          "output_type": "execute_result",
          "data": {
            "text/plain": [
              "<keras.src.callbacks.History at 0x77fd78c52b30>"
            ]
          },
          "metadata": {},
          "execution_count": 93
        }
      ]
    },
    {
      "cell_type": "code",
      "source": [
        "print(model.history.history.keys())\n",
        "# summarize history for accuracy\n",
        "plt.plot(model.history.history['rec@prec'])\n",
        "plt.plot(model.history.history['val_rec@prec'])\n",
        "plt.title('model metrics')\n",
        "plt.ylabel('recall at precision')\n",
        "plt.xlabel('epoch')\n",
        "plt.legend(['train', 'val'], loc='upper left')\n",
        "plt.show()"
      ],
      "metadata": {
        "colab": {
          "base_uri": "https://localhost:8080/",
          "height": 489
        },
        "id": "z8c6UROYRUiK",
        "outputId": "ad5241f1-d12b-449f-ede9-a5f82362e216"
      },
      "id": "z8c6UROYRUiK",
      "execution_count": 94,
      "outputs": [
        {
          "output_type": "stream",
          "name": "stdout",
          "text": [
            "dict_keys(['loss', 'rec@prec', 'val_loss', 'val_rec@prec'])\n"
          ]
        },
        {
          "output_type": "display_data",
          "data": {
            "text/plain": [
              "<Figure size 640x480 with 1 Axes>"
            ],
            "image/png": "[encoded data removed]"
          },
          "metadata": {}
        }
      ]
    },
    {
      "cell_type": "code",
      "source": [
        "print(model.history.history.keys())\n",
        "# summarize history for accuracy\n",
        "plt.plot(model.history.history['loss'])\n",
        "plt.plot(model.history.history['val_loss'])\n",
        "plt.title('model metrics')\n",
        "plt.ylabel('Loss')\n",
        "plt.xlabel('epoch')\n",
        "plt.legend(['train', 'val'], loc='upper left')\n",
        "plt.show()"
      ],
      "metadata": {
        "colab": {
          "base_uri": "https://localhost:8080/",
          "height": 489
        },
        "id": "tyUSyR_VRUlF",
        "outputId": "13f2588d-b33e-4004-f3fa-67ab854f9ddc"
      },
      "id": "tyUSyR_VRUlF",
      "execution_count": 95,
      "outputs": [
        {
          "output_type": "stream",
          "name": "stdout",
          "text": [
            "dict_keys(['loss', 'rec@prec', 'val_loss', 'val_rec@prec'])\n"
          ]
        },
        {
          "output_type": "display_data",
          "data": {
            "text/plain": [
              "<Figure size 640x480 with 1 Axes>"
            ],
            "image/png": "[encoded data removed]"
          },
          "metadata": {}
        }
      ]
    },
    {
      "cell_type": "markdown",
      "source": [
        "Чекпоинты вообще никак не находят f1 availible, по-разному пробовал и документацию тоже смотрел. По лоссу сохранять получается. В примере лосс прекратил уменьшаться на 14й эпохе, но recall at precision все еще рос"
      ],
      "metadata": {
        "id": "mOKOIEsOj7MF"
      },
      "id": "mOKOIEsOj7MF"
    }
  ],
  "metadata": {
    "kernelspec": {
      "display_name": "Python 3",
      "name": "python3"
    },
    "language_info": {
      "codemirror_mode": {
        "name": "ipython",
        "version": 3
      },
      "file_extension": ".py",
      "mimetype": "text/x-python",
      "name": "python",
      "nbconvert_exporter": "python",
      "pygments_lexer": "ipython3",
      "version": "3.11.7"
    },
    "colab": {
      "provenance": [],
      "gpuType": "T4"
    },
    "accelerator": "GPU"
  },
  "nbformat": 4,
  "nbformat_minor": 5
}