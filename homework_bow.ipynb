{
 "cells": [
  {
   "cell_type": "markdown",
   "id": "b20f786e",
   "metadata": {},
   "source": [
    "# Домашнее задание № 2. Мешок слов"
   ]
  },
  {
   "cell_type": "markdown",
   "id": "0cf72d19",
   "metadata": {},
   "source": [
    "## Задание 1 (3 балла)"
   ]
  },
  {
   "cell_type": "markdown",
   "id": "4a045e99",
   "metadata": {},
   "source": [
    "У векторайзеров в sklearn есть встроенная токенизация на регулярных выражениях. Найдите способо заменить её на кастомную токенизацию"
   ]
  },
  {
   "cell_type": "markdown",
   "id": "90b4d453",
   "metadata": {},
   "source": [
    "Обучите векторайзер с дефолтной токенизацией и с токенизацией razdel.tokenize. Обучите классификатор (любой) с каждым из векторизаторов. Сравните метрики и выберете победителя. \n",
    "\n",
    "(в вашей тетрадке должен быть код обучения и все метрики; если вы сдаете в .py файлах то сохраните полученные метрики в отдельном файле или в комментариях)"
   ]
  },
  {
   "cell_type": "markdown",
   "metadata": {},
   "source": [
    "* *Тест по логистической регресси показал, что токенизированные библиотекой razdel тексты лучше только на 0,01 в f1 мере для токсичного класса, а в остальном они показали одинаковые результаты, в том числе и средне-взвешанные. А вот KNN показал лучшие результаты f1 меры на дефолтной токенизации. С RandomForest получились крайне низкие значения для токсичного класса, не понял почему. В общем зачёте победителем я бы выбрал встроеный токенизатор, а в конкретном логистическую регрессию на токенизаторе из библиотеки razdel.*"
   ]
  },
  {
   "cell_type": "code",
   "execution_count": 1,
   "id": "129c4d2e",
   "metadata": {},
   "outputs": [],
   "source": [
    "import pandas as pd\n",
    "from sklearn.feature_extraction.text import CountVectorizer, TfidfVectorizer\n",
    "from sklearn.linear_model import LogisticRegression\n",
    "from sklearn.tree import DecisionTreeClassifier\n",
    "from sklearn.neighbors import KNeighborsClassifier\n",
    "from sklearn.naive_bayes import MultinomialNB\n",
    "from sklearn.ensemble import RandomForestClassifier\n",
    "from sklearn.model_selection import train_test_split\n",
    "from sklearn.metrics import classification_report, accuracy_score\n",
    "from sklearn.metrics.pairwise import cosine_distances, cosine_similarity\n",
    "import numpy as np"
   ]
  },
  {
   "cell_type": "code",
   "execution_count": 2,
   "id": "b4314de5",
   "metadata": {},
   "outputs": [],
   "source": [
    "data = pd.read_csv('data/labeled.csv')"
   ]
  },
  {
   "cell_type": "code",
   "execution_count": 123,
   "id": "cbffbbc7",
   "metadata": {},
   "outputs": [],
   "source": [
    "train, test = train_test_split(data, test_size=0.1, shuffle=True)\n",
    "train.reset_index(inplace=True)\n",
    "test.reset_index(inplace=True)"
   ]
  },
  {
   "cell_type": "code",
   "execution_count": 124,
   "metadata": {},
   "outputs": [],
   "source": [
    "def razdel_tokenizer(text):\n",
    "    tokens = [token.text for token in razdel_tokenize(text)]\n",
    "    return tokens"
   ]
  },
  {
   "cell_type": "code",
   "execution_count": 125,
   "id": "1d2477b9",
   "metadata": {},
   "outputs": [
    {
     "name": "stderr",
     "output_type": "stream",
     "text": [
      "c:\\Users\\Dmitry\\AppData\\Local\\Programs\\Python\\Python311\\Lib\\site-packages\\sklearn\\feature_extraction\\text.py:525: UserWarning: The parameter 'token_pattern' will not be used since 'tokenizer' is not None'\n",
      "  warnings.warn(\n"
     ]
    }
   ],
   "source": [
    "vectorizer_razdel = CountVectorizer(tokenizer=razdel_tokenizer)\n",
    "\n",
    "X_razdel = vectorizer_razdel.fit_transform(train.comment)\n",
    "X_razdel_test = vectorizer_razdel.transform(test.comment) "
   ]
  },
  {
   "cell_type": "code",
   "execution_count": 126,
   "metadata": {},
   "outputs": [],
   "source": [
    "vectorizer = CountVectorizer()\n",
    "X = vectorizer.fit_transform(train.comment)\n",
    "X_test = vectorizer.transform(test.comment)"
   ]
  },
  {
   "cell_type": "code",
   "execution_count": 127,
   "metadata": {},
   "outputs": [
    {
     "data": {
      "text/plain": [
       "((12970, 64045), (1442, 64045))"
      ]
     },
     "execution_count": 127,
     "metadata": {},
     "output_type": "execute_result"
    }
   ],
   "source": [
    "X.shape, X_test.shape"
   ]
  },
  {
   "cell_type": "code",
   "execution_count": 128,
   "metadata": {},
   "outputs": [
    {
     "data": {
      "text/plain": [
       "((12970, 64980), (1442, 64980))"
      ]
     },
     "execution_count": 128,
     "metadata": {},
     "output_type": "execute_result"
    }
   ],
   "source": [
    "X_razdel.shape, X_razdel_test.shape"
   ]
  },
  {
   "cell_type": "code",
   "execution_count": 129,
   "metadata": {},
   "outputs": [],
   "source": [
    "y = train.toxic.values\n",
    "y_test = test.toxic.values"
   ]
  },
  {
   "cell_type": "code",
   "execution_count": 130,
   "metadata": {},
   "outputs": [],
   "source": [
    "clf_razdel = LogisticRegression(C=0.1, class_weight='balanced', max_iter=200)\n",
    "\n",
    "clf = LogisticRegression(C=0.1, class_weight='balanced')"
   ]
  },
  {
   "cell_type": "code",
   "execution_count": 25,
   "metadata": {},
   "outputs": [
    {
     "data": {
      "text/html": [
       "<style>#sk-container-id-4 {color: black;}#sk-container-id-4 pre{padding: 0;}#sk-container-id-4 div.sk-toggleable {background-color: white;}#sk-container-id-4 label.sk-toggleable__label {cursor: pointer;display: block;width: 100%;margin-bottom: 0;padding: 0.3em;box-sizing: border-box;text-align: center;}#sk-container-id-4 label.sk-toggleable__label-arrow:before {content: \"▸\";float: left;margin-right: 0.25em;color: #696969;}#sk-container-id-4 label.sk-toggleable__label-arrow:hover:before {color: black;}#sk-container-id-4 div.sk-estimator:hover label.sk-toggleable__label-arrow:before {color: black;}#sk-container-id-4 div.sk-toggleable__content {max-height: 0;max-width: 0;overflow: hidden;text-align: left;background-color: #f0f8ff;}#sk-container-id-4 div.sk-toggleable__content pre {margin: 0.2em;color: black;border-radius: 0.25em;background-color: #f0f8ff;}#sk-container-id-4 input.sk-toggleable__control:checked~div.sk-toggleable__content {max-height: 200px;max-width: 100%;overflow: auto;}#sk-container-id-4 input.sk-toggleable__control:checked~label.sk-toggleable__label-arrow:before {content: \"▾\";}#sk-container-id-4 div.sk-estimator input.sk-toggleable__control:checked~label.sk-toggleable__label {background-color: #d4ebff;}#sk-container-id-4 div.sk-label input.sk-toggleable__control:checked~label.sk-toggleable__label {background-color: #d4ebff;}#sk-container-id-4 input.sk-hidden--visually {border: 0;clip: rect(1px 1px 1px 1px);clip: rect(1px, 1px, 1px, 1px);height: 1px;margin: -1px;overflow: hidden;padding: 0;position: absolute;width: 1px;}#sk-container-id-4 div.sk-estimator {font-family: monospace;background-color: #f0f8ff;border: 1px dotted black;border-radius: 0.25em;box-sizing: border-box;margin-bottom: 0.5em;}#sk-container-id-4 div.sk-estimator:hover {background-color: #d4ebff;}#sk-container-id-4 div.sk-parallel-item::after {content: \"\";width: 100%;border-bottom: 1px solid gray;flex-grow: 1;}#sk-container-id-4 div.sk-label:hover label.sk-toggleable__label {background-color: #d4ebff;}#sk-container-id-4 div.sk-serial::before {content: \"\";position: absolute;border-left: 1px solid gray;box-sizing: border-box;top: 0;bottom: 0;left: 50%;z-index: 0;}#sk-container-id-4 div.sk-serial {display: flex;flex-direction: column;align-items: center;background-color: white;padding-right: 0.2em;padding-left: 0.2em;position: relative;}#sk-container-id-4 div.sk-item {position: relative;z-index: 1;}#sk-container-id-4 div.sk-parallel {display: flex;align-items: stretch;justify-content: center;background-color: white;position: relative;}#sk-container-id-4 div.sk-item::before, #sk-container-id-4 div.sk-parallel-item::before {content: \"\";position: absolute;border-left: 1px solid gray;box-sizing: border-box;top: 0;bottom: 0;left: 50%;z-index: -1;}#sk-container-id-4 div.sk-parallel-item {display: flex;flex-direction: column;z-index: 1;position: relative;background-color: white;}#sk-container-id-4 div.sk-parallel-item:first-child::after {align-self: flex-end;width: 50%;}#sk-container-id-4 div.sk-parallel-item:last-child::after {align-self: flex-start;width: 50%;}#sk-container-id-4 div.sk-parallel-item:only-child::after {width: 0;}#sk-container-id-4 div.sk-dashed-wrapped {border: 1px dashed gray;margin: 0 0.4em 0.5em 0.4em;box-sizing: border-box;padding-bottom: 0.4em;background-color: white;}#sk-container-id-4 div.sk-label label {font-family: monospace;font-weight: bold;display: inline-block;line-height: 1.2em;}#sk-container-id-4 div.sk-label-container {text-align: center;}#sk-container-id-4 div.sk-container {/* jupyter's `normalize.less` sets `[hidden] { display: none; }` but bootstrap.min.css set `[hidden] { display: none !important; }` so we also need the `!important` here to be able to override the default hidden behavior on the sphinx rendered scikit-learn.org. See: https://github.com/scikit-learn/scikit-learn/issues/21755 */display: inline-block !important;position: relative;}#sk-container-id-4 div.sk-text-repr-fallback {display: none;}</style><div id=\"sk-container-id-4\" class=\"sk-top-container\"><div class=\"sk-text-repr-fallback\"><pre>LogisticRegression(C=0.1, class_weight=&#x27;balanced&#x27;, max_iter=200)</pre><b>In a Jupyter environment, please rerun this cell to show the HTML representation or trust the notebook. <br />On GitHub, the HTML representation is unable to render, please try loading this page with nbviewer.org.</b></div><div class=\"sk-container\" hidden><div class=\"sk-item\"><div class=\"sk-estimator sk-toggleable\"><input class=\"sk-toggleable__control sk-hidden--visually\" id=\"sk-estimator-id-4\" type=\"checkbox\" checked><label for=\"sk-estimator-id-4\" class=\"sk-toggleable__label sk-toggleable__label-arrow\">LogisticRegression</label><div class=\"sk-toggleable__content\"><pre>LogisticRegression(C=0.1, class_weight=&#x27;balanced&#x27;, max_iter=200)</pre></div></div></div></div></div>"
      ],
      "text/plain": [
       "LogisticRegression(C=0.1, class_weight='balanced', max_iter=200)"
      ]
     },
     "execution_count": 25,
     "metadata": {},
     "output_type": "execute_result"
    }
   ],
   "source": [
    "clf_razdel.fit(X_razdel, y)\n",
    "\n"
   ]
  },
  {
   "cell_type": "code",
   "execution_count": 26,
   "metadata": {},
   "outputs": [
    {
     "data": {
      "text/html": [
       "<style>#sk-container-id-5 {color: black;}#sk-container-id-5 pre{padding: 0;}#sk-container-id-5 div.sk-toggleable {background-color: white;}#sk-container-id-5 label.sk-toggleable__label {cursor: pointer;display: block;width: 100%;margin-bottom: 0;padding: 0.3em;box-sizing: border-box;text-align: center;}#sk-container-id-5 label.sk-toggleable__label-arrow:before {content: \"▸\";float: left;margin-right: 0.25em;color: #696969;}#sk-container-id-5 label.sk-toggleable__label-arrow:hover:before {color: black;}#sk-container-id-5 div.sk-estimator:hover label.sk-toggleable__label-arrow:before {color: black;}#sk-container-id-5 div.sk-toggleable__content {max-height: 0;max-width: 0;overflow: hidden;text-align: left;background-color: #f0f8ff;}#sk-container-id-5 div.sk-toggleable__content pre {margin: 0.2em;color: black;border-radius: 0.25em;background-color: #f0f8ff;}#sk-container-id-5 input.sk-toggleable__control:checked~div.sk-toggleable__content {max-height: 200px;max-width: 100%;overflow: auto;}#sk-container-id-5 input.sk-toggleable__control:checked~label.sk-toggleable__label-arrow:before {content: \"▾\";}#sk-container-id-5 div.sk-estimator input.sk-toggleable__control:checked~label.sk-toggleable__label {background-color: #d4ebff;}#sk-container-id-5 div.sk-label input.sk-toggleable__control:checked~label.sk-toggleable__label {background-color: #d4ebff;}#sk-container-id-5 input.sk-hidden--visually {border: 0;clip: rect(1px 1px 1px 1px);clip: rect(1px, 1px, 1px, 1px);height: 1px;margin: -1px;overflow: hidden;padding: 0;position: absolute;width: 1px;}#sk-container-id-5 div.sk-estimator {font-family: monospace;background-color: #f0f8ff;border: 1px dotted black;border-radius: 0.25em;box-sizing: border-box;margin-bottom: 0.5em;}#sk-container-id-5 div.sk-estimator:hover {background-color: #d4ebff;}#sk-container-id-5 div.sk-parallel-item::after {content: \"\";width: 100%;border-bottom: 1px solid gray;flex-grow: 1;}#sk-container-id-5 div.sk-label:hover label.sk-toggleable__label {background-color: #d4ebff;}#sk-container-id-5 div.sk-serial::before {content: \"\";position: absolute;border-left: 1px solid gray;box-sizing: border-box;top: 0;bottom: 0;left: 50%;z-index: 0;}#sk-container-id-5 div.sk-serial {display: flex;flex-direction: column;align-items: center;background-color: white;padding-right: 0.2em;padding-left: 0.2em;position: relative;}#sk-container-id-5 div.sk-item {position: relative;z-index: 1;}#sk-container-id-5 div.sk-parallel {display: flex;align-items: stretch;justify-content: center;background-color: white;position: relative;}#sk-container-id-5 div.sk-item::before, #sk-container-id-5 div.sk-parallel-item::before {content: \"\";position: absolute;border-left: 1px solid gray;box-sizing: border-box;top: 0;bottom: 0;left: 50%;z-index: -1;}#sk-container-id-5 div.sk-parallel-item {display: flex;flex-direction: column;z-index: 1;position: relative;background-color: white;}#sk-container-id-5 div.sk-parallel-item:first-child::after {align-self: flex-end;width: 50%;}#sk-container-id-5 div.sk-parallel-item:last-child::after {align-self: flex-start;width: 50%;}#sk-container-id-5 div.sk-parallel-item:only-child::after {width: 0;}#sk-container-id-5 div.sk-dashed-wrapped {border: 1px dashed gray;margin: 0 0.4em 0.5em 0.4em;box-sizing: border-box;padding-bottom: 0.4em;background-color: white;}#sk-container-id-5 div.sk-label label {font-family: monospace;font-weight: bold;display: inline-block;line-height: 1.2em;}#sk-container-id-5 div.sk-label-container {text-align: center;}#sk-container-id-5 div.sk-container {/* jupyter's `normalize.less` sets `[hidden] { display: none; }` but bootstrap.min.css set `[hidden] { display: none !important; }` so we also need the `!important` here to be able to override the default hidden behavior on the sphinx rendered scikit-learn.org. See: https://github.com/scikit-learn/scikit-learn/issues/21755 */display: inline-block !important;position: relative;}#sk-container-id-5 div.sk-text-repr-fallback {display: none;}</style><div id=\"sk-container-id-5\" class=\"sk-top-container\"><div class=\"sk-text-repr-fallback\"><pre>LogisticRegression(C=0.1, class_weight=&#x27;balanced&#x27;)</pre><b>In a Jupyter environment, please rerun this cell to show the HTML representation or trust the notebook. <br />On GitHub, the HTML representation is unable to render, please try loading this page with nbviewer.org.</b></div><div class=\"sk-container\" hidden><div class=\"sk-item\"><div class=\"sk-estimator sk-toggleable\"><input class=\"sk-toggleable__control sk-hidden--visually\" id=\"sk-estimator-id-5\" type=\"checkbox\" checked><label for=\"sk-estimator-id-5\" class=\"sk-toggleable__label sk-toggleable__label-arrow\">LogisticRegression</label><div class=\"sk-toggleable__content\"><pre>LogisticRegression(C=0.1, class_weight=&#x27;balanced&#x27;)</pre></div></div></div></div></div>"
      ],
      "text/plain": [
       "LogisticRegression(C=0.1, class_weight='balanced')"
      ]
     },
     "execution_count": 26,
     "metadata": {},
     "output_type": "execute_result"
    }
   ],
   "source": [
    "clf.fit(X, y)"
   ]
  },
  {
   "cell_type": "code",
   "execution_count": 27,
   "metadata": {},
   "outputs": [
    {
     "data": {
      "text/plain": [
       "array([0., 1.])"
      ]
     },
     "execution_count": 27,
     "metadata": {},
     "output_type": "execute_result"
    }
   ],
   "source": [
    "clf.classes_"
   ]
  },
  {
   "cell_type": "code",
   "execution_count": 28,
   "metadata": {},
   "outputs": [
    {
     "data": {
      "text/plain": [
       "array([0., 1.])"
      ]
     },
     "execution_count": 28,
     "metadata": {},
     "output_type": "execute_result"
    }
   ],
   "source": [
    "clf_razdel.classes_"
   ]
  },
  {
   "cell_type": "code",
   "execution_count": 29,
   "metadata": {},
   "outputs": [],
   "source": [
    "preds = clf.predict(X_test)\n",
    "\n",
    "preds_razdel = clf_razdel.predict(X_razdel_test)"
   ]
  },
  {
   "cell_type": "code",
   "execution_count": 30,
   "metadata": {},
   "outputs": [
    {
     "name": "stdout",
     "output_type": "stream",
     "text": [
      "              precision    recall  f1-score   support\n",
      "\n",
      "         0.0       0.92      0.84      0.88       969\n",
      "         1.0       0.73      0.85      0.78       473\n",
      "\n",
      "    accuracy                           0.85      1442\n",
      "   macro avg       0.82      0.85      0.83      1442\n",
      "weighted avg       0.86      0.85      0.85      1442\n",
      "\n"
     ]
    }
   ],
   "source": [
    "# Метрики с применения логистической регрессии с применением дефолтного токенизатора\n",
    "print(classification_report(y_test, preds, zero_division=0))"
   ]
  },
  {
   "cell_type": "code",
   "execution_count": 31,
   "metadata": {},
   "outputs": [
    {
     "name": "stdout",
     "output_type": "stream",
     "text": [
      "              precision    recall  f1-score   support\n",
      "\n",
      "         0.0       0.92      0.84      0.88       969\n",
      "         1.0       0.73      0.85      0.79       473\n",
      "\n",
      "    accuracy                           0.85      1442\n",
      "   macro avg       0.83      0.85      0.83      1442\n",
      "weighted avg       0.86      0.85      0.85      1442\n",
      "\n"
     ]
    }
   ],
   "source": [
    "# Метрики с применения логистической регрессии с применением токенизатора из библиотеки razdel\n",
    "print(classification_report(y_test, preds_razdel, zero_division=0))"
   ]
  },
  {
   "cell_type": "code",
   "execution_count": 33,
   "metadata": {},
   "outputs": [
    {
     "name": "stdout",
     "output_type": "stream",
     "text": [
      "              precision    recall  f1-score   support\n",
      "\n",
      "         0.0       0.74      0.96      0.84       969\n",
      "         1.0       0.80      0.32      0.46       473\n",
      "\n",
      "    accuracy                           0.75      1442\n",
      "   macro avg       0.77      0.64      0.65      1442\n",
      "weighted avg       0.76      0.75      0.71      1442\n",
      "\n"
     ]
    }
   ],
   "source": [
    "# Метрики с применения KNN с применением дефолтного токенизатора\n",
    "clf2 = KNeighborsClassifier(n_neighbors=10, metric='cosine')\n",
    "clf2.fit(X, y)\n",
    "preds2 = clf2.predict(X_test)\n",
    "\n",
    "print(classification_report(y_test, preds2))"
   ]
  },
  {
   "cell_type": "code",
   "execution_count": 34,
   "metadata": {},
   "outputs": [
    {
     "name": "stdout",
     "output_type": "stream",
     "text": [
      "              precision    recall  f1-score   support\n",
      "\n",
      "         0.0       0.71      0.95      0.81       969\n",
      "         1.0       0.67      0.21      0.32       473\n",
      "\n",
      "    accuracy                           0.71      1442\n",
      "   macro avg       0.69      0.58      0.57      1442\n",
      "weighted avg       0.70      0.71      0.65      1442\n",
      "\n"
     ]
    }
   ],
   "source": [
    "# Метрики с применения KNN с применением токенизатора из библиотеки razdel\n",
    "clf2_razdel = KNeighborsClassifier(n_neighbors=10, metric='cosine')\n",
    "clf2_razdel.fit(X_razdel, y)\n",
    "preds2_razdel = clf2_razdel.predict(X_razdel_test)\n",
    "\n",
    "print(classification_report(y_test, preds2_razdel))"
   ]
  },
  {
   "cell_type": "code",
   "execution_count": 36,
   "metadata": {},
   "outputs": [
    {
     "name": "stdout",
     "output_type": "stream",
     "text": [
      "              precision    recall  f1-score   support\n",
      "\n",
      "         0.0       0.67      1.00      0.81       969\n",
      "         1.0       1.00      0.01      0.03       473\n",
      "\n",
      "    accuracy                           0.68      1442\n",
      "   macro avg       0.84      0.51      0.42      1442\n",
      "weighted avg       0.78      0.68      0.55      1442\n",
      "\n"
     ]
    }
   ],
   "source": [
    "rf = RandomForestClassifier(n_estimators=100, max_depth=20, )\n",
    "rf.fit(X, y)\n",
    "\n",
    "preds_rf = rf.predict(X_test)\n",
    "\n",
    "print(classification_report(y_test, preds_rf))"
   ]
  },
  {
   "cell_type": "code",
   "execution_count": 37,
   "metadata": {},
   "outputs": [
    {
     "name": "stdout",
     "output_type": "stream",
     "text": [
      "              precision    recall  f1-score   support\n",
      "\n",
      "         0.0       0.67      1.00      0.80       969\n",
      "         1.0       1.00      0.01      0.01       473\n",
      "\n",
      "    accuracy                           0.67      1442\n",
      "   macro avg       0.84      0.50      0.41      1442\n",
      "weighted avg       0.78      0.67      0.54      1442\n",
      "\n"
     ]
    }
   ],
   "source": [
    "rf_razdel = RandomForestClassifier(n_estimators=100, max_depth=20)\n",
    "rf_razdel.fit(X_razdel, y)\n",
    "\n",
    "preds_rf_razdel = rf_razdel.predict(X_razdel_test)\n",
    "\n",
    "print(classification_report(y_test, preds_rf_razdel))\n"
   ]
  },
  {
   "cell_type": "markdown",
   "id": "91b9076e",
   "metadata": {},
   "source": [
    "## Задание 2 (3 балла)"
   ]
  },
  {
   "cell_type": "markdown",
   "id": "14e25357",
   "metadata": {},
   "source": [
    "Обучите 2 любых разных классификатора из семинара. Предскажите токсичность для текстов из тестовой выборки (используйте одну и ту же выборку для обоих классификаторов) и найдите 10 самых токсичных для каждого из классификаторов. Сравните получаемые тексты - какие тексты совпадают, какие отличаются, правда ли тексты токсичные?"
   ]
  },
  {
   "cell_type": "markdown",
   "id": "7de962ad",
   "metadata": {},
   "source": [
    "Требования к моделям:   \n",
    "а) один классификатор должен использовать CountVectorizer, другой TfidfVectorizer  \n",
    "б) у векторазера должны быть вручную заданы как минимум 5 параметров (можно ставить разные параметры tfidfvectorizer и countvectorizer)  \n",
    "в) у классификатора должно быть задано вручную как минимум 2 параметра (по возможности)  \n",
    "г)  f1 мера каждого из классификаторов должна быть минимум 0.75  \n",
    "\n",
    "*random_seed не считается за параметр"
   ]
  },
  {
   "cell_type": "code",
   "execution_count": 131,
   "id": "ac0a5471",
   "metadata": {},
   "outputs": [],
   "source": [
    "vectorizer_cv = CountVectorizer(min_df=5, max_df=0.4, max_features=500, ngram_range=(1,2), stop_words=['на', 'по', 'для', 'ко'])\n",
    "X_cv = vectorizer.fit_transform(train.comment)\n",
    "X_cv_test = vectorizer.transform(test.comment)"
   ]
  },
  {
   "cell_type": "code",
   "execution_count": 132,
   "metadata": {},
   "outputs": [],
   "source": [
    "vectorizer_tfidf = TfidfVectorizer(min_df=5, max_df=0.4, max_features=5000, ngram_range=(1,2), stop_words=['на', 'по', 'для', 'ко'])\n",
    "X_tfidf = vectorizer_tfidf.fit_transform(train.comment)\n",
    "X_tfidf_test = vectorizer_tfidf.transform(test.comment)"
   ]
  },
  {
   "cell_type": "code",
   "execution_count": 133,
   "id": "745bd58f",
   "metadata": {},
   "outputs": [
    {
     "name": "stdout",
     "output_type": "stream",
     "text": [
      "              precision    recall  f1-score   support\n",
      "\n",
      "         0.0       0.92      0.88      0.90       977\n",
      "         1.0       0.77      0.84      0.80       465\n",
      "\n",
      "    accuracy                           0.87      1442\n",
      "   macro avg       0.85      0.86      0.85      1442\n",
      "weighted avg       0.87      0.87      0.87      1442\n",
      "\n"
     ]
    }
   ],
   "source": [
    "clf_cv = LogisticRegression(C=0.5, class_weight='balanced', max_iter=200)\n",
    "\n",
    "clf_cv.fit(X_cv, y)\n",
    "\n",
    "preds_cv = clf_cv.predict(X_cv_test)\n",
    "\n",
    "print(classification_report(y_test, preds_cv, zero_division=0))"
   ]
  },
  {
   "cell_type": "code",
   "execution_count": 134,
   "metadata": {},
   "outputs": [
    {
     "name": "stdout",
     "output_type": "stream",
     "text": [
      "1. Вероятность токсичности: 1.0000 - Только к чиновникам это не относится. Но, если честно, в последнее время есть улучшения.\n",
      "\n",
      "2. Вероятность токсичности: 1.0000 - что это было? Кто нибудь объяснит смысл произошедшего? в чем их логика\n",
      "\n",
      "3. Вероятность токсичности: 1.0000 - в билайне была такая же ситуация лет 7 назад, после этого перестали им пользоваться\n",
      "\n",
      "4. Вероятность токсичности: 1.0000 - Мне тоже много кому не хочется давать деньги, но приходится. Благо, двощ совсем уж платным не становится.\n",
      "\n",
      "5. Вероятность токсичности: 1.0000 - э русна на бутылку садис да мимо татарин\n",
      "\n",
      "6. Вероятность токсичности: 0.9999 - Конечно, я вас не поняла. Мы оба комментируем OMGh5LoL, в той истории нигде не усматривается, что ребёнок испугался. Там скорее родители испугались противодействия родителей остальных детей\n",
      "7. Вероятность токсичности: 0.9999 - Погодите, ща Ник Кейв придет.\n",
      "\n",
      "8. Вероятность токсичности: 0.9999 - Отображение времени с высокой точностью... среднесуточный уход-одна секунда. Что-то тут не вяжется\n",
      "\n",
      "9. Вероятность токсичности: 0.9999 - С 0:00, там движение в обратную сторону пошло почему-то (читаем про текущий дрейф материков)\n",
      "\n",
      "10. Вероятность токсичности: 0.9998 - хотят завезти Епта, они и так приезжают. И даже больше. Ну, даст им вова паспорт в упрощенном порядке - что для тебя изменится? Ты что, у чурок паспорт спрашиваешь?\n",
      "\n"
     ]
    }
   ],
   "source": [
    "proba_preds_test_cv = clf_cv.predict_proba(X_cv_test)[:, 1]\n",
    "\n",
    "proba_pairs_test_cv = list(zip(train.comment, proba_preds_test_cv))\n",
    "\n",
    "sorted_proba_pairs_test_cv = sorted(proba_pairs_test_cv, key=lambda x: x[1], reverse=True)\n",
    "\n",
    "top_toxic_phrases_test_cv = sorted_proba_pairs_test_cv[:10]\n",
    "for i, (text, proba) in enumerate(top_toxic_phrases_test_cv, start=1):\n",
    "    print(f\"{i}. Вероятность токсичности: {proba:.4f} - {text}\")"
   ]
  },
  {
   "cell_type": "code",
   "execution_count": 135,
   "id": "90311fac",
   "metadata": {},
   "outputs": [
    {
     "name": "stdout",
     "output_type": "stream",
     "text": [
      "              precision    recall  f1-score   support\n",
      "\n",
      "         0.0       0.83      0.87      0.85       977\n",
      "         1.0       0.70      0.63      0.66       465\n",
      "\n",
      "    accuracy                           0.79      1442\n",
      "   macro avg       0.77      0.75      0.76      1442\n",
      "weighted avg       0.79      0.79      0.79      1442\n",
      "\n"
     ]
    }
   ],
   "source": [
    "clf_tfidf = KNeighborsClassifier(n_neighbors=20, metric='cosine', weights='distance', p=1)\n",
    "clf_tfidf.fit(X_tfidf, y)\n",
    "preds_tfidf = clf_tfidf.predict(X_tfidf_test)\n",
    "\n",
    "print(classification_report(y_test, preds_tfidf))"
   ]
  },
  {
   "cell_type": "code",
   "execution_count": 136,
   "metadata": {},
   "outputs": [
    {
     "name": "stdout",
     "output_type": "stream",
     "text": [
      "1. Вероятность токсичности: 1.0000 - которые не могут собраться больше чем в количестве 3 человек так как очко перед товарищем майором жим-жим? Опять у нас далбоёб с РЯЯЯ ПАЧИМУ ИЩО КРЕМЛЬ ШТУРМАМ НИ ВЗЯЛИ ССЫКУНЫ? нарисовался? Что ты лично, охуевший наш, сделал? Хочется сидеть всем на жопе в интернете спокойно, и чтобы кто-то за тебя всё сделал. У нас тут миллионы силовиков с понятным отношением к национализму, а ты тут кукарекаешь про гыгыканье с мемесов . В Российской Империи некоторые меньшинства тупо учили свой родной язык десятилетиями под светом фонаря ночью, потому что выступление было бы самоубийственно и отозвалось бы только смертями лучших людей и ссылками в Сибирь, как было 2 раза с польскими восстаниями. Люди просто ждали своего часа ГОДАМИ, укрепляя базу и готовясь. Жирдяй сделал полезное дело- замутил первый удобоваримый для интеллигентов (а не только для бритоголового пролетариата с германофилией) русский национализм, ставший по-настоящему популярным и обсуждаемым у молодежи. Теперь вот ещё и школота подтягивается через мемы. И ты хочешь всех этих людей швырнуть майору на кукан? Такую хуйню только провокатор может высирать, ящитаю. В нынешних условиях нужно заниматься популяризацией идей, что успешно и происходит. Всё остальное равносильно самоубийственной атаке кучки маняпартизан на государство, которое закончится только гибелью самих партизан или пожизненными сроками для них.\n",
      "\n",
      "2. Вероятность токсичности: 1.0000 - ну еб твою мать, залить горячую сковородку водой это так по обломовски\n",
      "\n",
      "3. Вероятность токсичности: 1.0000 - Пруф давай, а то херня какая-то...\n",
      "\n",
      "4. Вероятность токсичности: 1.0000 - Когда-то я тоже верил в справедливость. В воровском государстве воры долго не сидят. Если и сядут, то быстро выйдут и устроятся на работу не хуже прежней.\n",
      "\n",
      "5. Вероятность токсичности: 1.0000 - Дело не в том что могут не могут, вблизи или в дали, а в том что деньги затмили все, даже святое - науку.\n",
      "\n",
      "6. Вероятность токсичности: 1.0000 - Вчера увидел знакомый ебальник в новостях, это Паша Колемесин, мы с ним до 5 класса вместе учились, потом его перевели в другой класс, потом в другой, а потом и вовсе в другую школу, видимо заебал всех. Хотя был омежкой даже большим чем я, так что сейчас я удивлён\n",
      "\n",
      "7. Вероятность токсичности: 1.0000 - а польза? Нафига подарок на 1 день, если можно сделать такой который будет регулярно использоваться. Это тоже самое что две таблетки в блистере размером с ладонь и толстой коробке, куда 5 таких влезет. Зачем красивая упаковка когда можно сделать полезную?\n",
      "\n",
      "8. Вероятность токсичности: 1.0000 - Вообще то все в Польше собирают клубнику по безвизу.\n",
      "\n",
      "9. Вероятность токсичности: 1.0000 - Цена как цена, полбакса в час, как везде. Даже дешево достаточно. А чо воняют то? Парковки платные это охуенно, во всех бизнес-центрах все равно подземка. Зато никто тачки не бросает на полдня и всегда места есть.\n",
      "\n",
      "10. Вероятность токсичности: 1.0000 - по рыночной цене, такой же как в соседних строящихся домах Вы не то и не с тем сравниваете. Нужно сравнивать цену квартиры в строящемся доме и в уже сданном в эксплуатацию. И вот эта разница и есть та коррупционная составляющая администрации города, которую не захотел платить ваш застройщик. И прежде чем влезать в долевое строительство нужно было понимать этот момент.\n",
      "\n"
     ]
    }
   ],
   "source": [
    "proba_preds_test_tfidf = clf_tfidf.predict_proba(X_tfidf_test)[:, 1]\n",
    "\n",
    "proba_pairs_test_tfidf = list(zip(train.comment, proba_preds_test_tfidf))\n",
    "\n",
    "sorted_proba_pairs_test_tfidf = sorted(proba_pairs_test_tfidf, key=lambda x: x[1], reverse=True)\n",
    "\n",
    "top_toxic_phrases_test_tfidf = sorted_proba_pairs_test_tfidf[:10]\n",
    "for i, (text, proba) in enumerate(top_toxic_phrases_test_tfidf, start=1):\n",
    "    print(f\"{i}. Вероятность токсичности: {proba:.4f} - {text}\")"
   ]
  },
  {
   "cell_type": "markdown",
   "id": "6f228c3e",
   "metadata": {},
   "source": [
    "## Задание 3 (4 балла - 1 балл за каждый классификатор)"
   ]
  },
  {
   "cell_type": "markdown",
   "id": "566929b7",
   "metadata": {},
   "source": [
    "Для классификаторов Logistic Regression, Decision Trees, Naive Bayes, RandomForest найдите способ извлечь важность признаков для предсказания токсичного класса. Сопоставьте полученные числа со словами (или нграммами) в словаре и найдите топ - 5 \"токсичных\" слов для каждого из классификаторов. \n",
    "\n",
    "Важное требование: в топе не должно быть стоп-слов. Для этого вам нужно будет правильным образом настроить векторизацию. \n",
    "Также как и в предыдущем задании у классификаторов должно быть задано вручную как минимум 2 параметра (по возможности, f1 мера каждого из классификаторов должна быть минимум 0.75"
   ]
  },
  {
   "cell_type": "code",
   "execution_count": 9,
   "metadata": {},
   "outputs": [],
   "source": [
    "import nltk\n",
    "from nltk.corpus import stopwords"
   ]
  },
  {
   "cell_type": "code",
   "execution_count": 10,
   "metadata": {},
   "outputs": [
    {
     "name": "stderr",
     "output_type": "stream",
     "text": [
      "[nltk_data] Downloading package stopwords to\n",
      "[nltk_data]     C:\\Users\\Dmitry\\AppData\\Roaming\\nltk_data...\n",
      "[nltk_data]   Package stopwords is already up-to-date!\n"
     ]
    }
   ],
   "source": [
    "nltk.download('stopwords')\n",
    "stopwords = list(stopwords.words('russian'))"
   ]
  },
  {
   "cell_type": "code",
   "execution_count": 4,
   "metadata": {},
   "outputs": [],
   "source": [
    "train, test = train_test_split(data, test_size=0.1, shuffle=True)\n",
    "train.reset_index(inplace=True)\n",
    "test.reset_index(inplace=True)"
   ]
  },
  {
   "cell_type": "code",
   "execution_count": 18,
   "id": "81f86878",
   "metadata": {},
   "outputs": [
    {
     "name": "stderr",
     "output_type": "stream",
     "text": [
      "c:\\Users\\Dmitry\\AppData\\Local\\Programs\\Python\\Python311\\Lib\\site-packages\\sklearn\\linear_model\\_logistic.py:460: ConvergenceWarning: lbfgs failed to converge (status=1):\n",
      "STOP: TOTAL NO. of ITERATIONS REACHED LIMIT.\n",
      "\n",
      "Increase the number of iterations (max_iter) or scale the data as shown in:\n",
      "    https://scikit-learn.org/stable/modules/preprocessing.html\n",
      "Please also refer to the documentation for alternative solver options:\n",
      "    https://scikit-learn.org/stable/modules/linear_model.html#logistic-regression\n",
      "  n_iter_i = _check_optimize_result(\n"
     ]
    }
   ],
   "source": [
    "vect_cv = CountVectorizer(stop_words=stopwords)\n",
    "\n",
    "X = vect_cv.fit_transform(train.comment)\n",
    "X_test = vect_cv.transform(test.comment)\n",
    "\n",
    "y = train.toxic.values\n",
    "y_test = test.toxic.values\n",
    "\n",
    "clf_cv2 = LogisticRegression(C=0.5, class_weight='balanced', max_iter=20)\n",
    "clf_cv2.fit(X, y)\n",
    "\n",
    "preds_cv2 = clf_cv2.predict(X_test)"
   ]
  },
  {
   "cell_type": "code",
   "execution_count": 16,
   "id": "15af4e1f",
   "metadata": {},
   "outputs": [
    {
     "name": "stdout",
     "output_type": "stream",
     "text": [
      "              precision    recall  f1-score   support\n",
      "\n",
      "         0.0       0.90      0.89      0.89       958\n",
      "         1.0       0.79      0.80      0.79       484\n",
      "\n",
      "    accuracy                           0.86      1442\n",
      "   macro avg       0.84      0.84      0.84      1442\n",
      "weighted avg       0.86      0.86      0.86      1442\n",
      "\n"
     ]
    }
   ],
   "source": [
    "print(classification_report(y_test, preds_cv2, zero_division=0))"
   ]
  },
  {
   "cell_type": "code",
   "execution_count": 38,
   "metadata": {},
   "outputs": [
    {
     "data": {
      "text/plain": [
       "array(['хохлов', 'хохлы', 'дебил', 'тупые', 'сука'], dtype=object)"
      ]
     },
     "execution_count": 38,
     "metadata": {},
     "output_type": "execute_result"
    }
   ],
   "source": [
    "indexes_cv2 = []\n",
    "\n",
    "for i in np.sort(clf_cv2.coef_[0])[::-1][:12]:\n",
    "  indexes_cv2.append(list(clf_cv2.coef_[0]).index(i))\n",
    "  \n",
    "vect_cv.get_feature_names_out()[indexes_cv2][:5]"
   ]
  },
  {
   "cell_type": "code",
   "execution_count": 37,
   "metadata": {},
   "outputs": [
    {
     "name": "stdout",
     "output_type": "stream",
     "text": [
      "              precision    recall  f1-score   support\n",
      "\n",
      "         0.0       0.69      0.99      0.81       958\n",
      "         1.0       0.84      0.12      0.21       484\n",
      "\n",
      "    accuracy                           0.70      1442\n",
      "   macro avg       0.76      0.55      0.51      1442\n",
      "weighted avg       0.74      0.70      0.61      1442\n",
      "\n"
     ]
    }
   ],
   "source": [
    "clf_dt = DecisionTreeClassifier(max_depth=9, class_weight='balanced')\n",
    "clf_dt.fit(X, y)\n",
    "preds_dt = clf_dt.predict(X_test)\n",
    "\n",
    "print(classification_report(y_test, preds_dt))"
   ]
  },
  {
   "cell_type": "code",
   "execution_count": 48,
   "metadata": {},
   "outputs": [
    {
     "name": "stdout",
     "output_type": "stream",
     "text": [
      "['тебе', 'хохлы', 'очень', 'хохлов', 'нахуй']\n"
     ]
    }
   ],
   "source": [
    "feature_names_dt = vect_cv.get_feature_names_out()\n",
    "top_feature_indices_dt = np.argsort(clf_dt.feature_importances_)[::-1][:5]\n",
    "top_feature_names_dt = [feature_names_dt[i] for i in top_feature_indices_dt]\n",
    "print(top_feature_names_dt)"
   ]
  },
  {
   "cell_type": "code",
   "execution_count": 51,
   "metadata": {},
   "outputs": [
    {
     "name": "stdout",
     "output_type": "stream",
     "text": [
      "              precision    recall  f1-score   support\n",
      "\n",
      "         0.0       0.86      0.97      0.91       958\n",
      "         1.0       0.91      0.69      0.78       484\n",
      "\n",
      "    accuracy                           0.87      1442\n",
      "   macro avg       0.89      0.83      0.85      1442\n",
      "weighted avg       0.88      0.87      0.87      1442\n",
      "\n"
     ]
    }
   ],
   "source": [
    "clf_nb = MultinomialNB(alpha=1.)\n",
    "clf_nb.fit(X, y)\n",
    "preds_nb = clf_nb.predict(X_test)\n",
    "\n",
    "print(classification_report(y_test, preds_nb))"
   ]
  },
  {
   "cell_type": "code",
   "execution_count": 61,
   "metadata": {},
   "outputs": [
    {
     "name": "stdout",
     "output_type": "stream",
     "text": [
      "['вообще', 'всё', 'тебе', 'просто', 'это']\n"
     ]
    }
   ],
   "source": [
    "feature_names = vect_cv.get_feature_names_out()\n",
    "log_prob = clf_nb.feature_log_prob_\n",
    "\n",
    "top_toxic_words_nb = [feature_names[i] for i in log_prob[1].argsort()[-5:]]\n",
    "print(top_toxic_words_nb)\n"
   ]
  },
  {
   "cell_type": "code",
   "execution_count": 60,
   "metadata": {},
   "outputs": [
    {
     "name": "stdout",
     "output_type": "stream",
     "text": [
      "              precision    recall  f1-score   support\n",
      "\n",
      "         0.0       0.84      0.87      0.86       958\n",
      "         1.0       0.72      0.68      0.70       484\n",
      "\n",
      "    accuracy                           0.80      1442\n",
      "   macro avg       0.78      0.77      0.78      1442\n",
      "weighted avg       0.80      0.80      0.80      1442\n",
      "\n"
     ]
    }
   ],
   "source": [
    "# Пробовал с разными параметрами, но лучше всего получилось без параметров\n",
    "rf = RandomForestClassifier()\n",
    "rf.fit(X, y)\n",
    "\n",
    "preds_rf = rf.predict(X_test)\n",
    "print(classification_report(y_test, preds_rf, zero_division=0))"
   ]
  },
  {
   "cell_type": "code",
   "execution_count": 62,
   "metadata": {},
   "outputs": [
    {
     "name": "stdout",
     "output_type": "stream",
     "text": [
      "['хохлы', 'хохлов', 'тебе', 'нахуй', 'очень']\n"
     ]
    }
   ],
   "source": [
    "feature_names_rf = vect_cv.get_feature_names_out()\n",
    "top_feature_indices_rf = np.argsort(rf.feature_importances_)[::-1][:5]\n",
    "top_feature_names_rf = [feature_names_rf[i] for i in top_feature_indices_rf]\n",
    "print(top_feature_names_rf)"
   ]
  }
 ],
 "metadata": {
  "kernelspec": {
   "display_name": "Python 3 (ipykernel)",
   "language": "python",
   "name": "python3"
  },
  "language_info": {
   "codemirror_mode": {
    "name": "ipython",
    "version": 3
   },
   "file_extension": ".py",
   "mimetype": "text/x-python",
   "name": "python",
   "nbconvert_exporter": "python",
   "pygments_lexer": "ipython3",
   "version": "3.11.5"
  }
 },
 "nbformat": 4,
 "nbformat_minor": 5
}
