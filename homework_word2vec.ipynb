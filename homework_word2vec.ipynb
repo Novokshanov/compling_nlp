{
 "cells": [
  {
   "cell_type": "markdown",
   "id": "a98604cb",
   "metadata": {},
   "source": [
    "Домашку будет легче делать в колабе (убедитесь, что у вас runtype с gpu)."
   ]
  },
  {
   "cell_type": "markdown",
   "id": "9c422aa0",
   "metadata": {},
   "source": [
    "# Задание 1 (3 балла)"
   ]
  },
  {
   "cell_type": "markdown",
   "id": "e4a72790",
   "metadata": {},
   "source": [
    "Обучите word2vec модели с негативным семплированием (cbow и skip-gram) с помощью tensorflow аналогично тому, как это было сделано в семинаре. Вам нужно изменить следующие пункты: \n",
    "1) добавьте лемматизацию в предобработку (любым способом)\n",
    "2) измените размер окна в большую или меньшую сторону\n",
    "3) измените размерность итоговых векторов\n",
    "\n",
    "Выберете несколько не похожих по смыслу слов (не таких как в семинаре), и протестируйте полученные эмбединги (найдите ближайшие слова и оцените качество, как в семинаре). \n",
    "Постарайтесь обучать модели как можно дольше и на как можно большем количестве данных. (Но если у вас мало времени или ресурсов, то допустимо взять поменьше данных и поставить меньше эпох)"
   ]
  },
  {
   "cell_type": "code",
   "execution_count": 1,
   "id": "cde5fd96",
   "metadata": {},
   "outputs": [
    {
     "name": "stdout",
     "output_type": "stream",
     "text": [
      "WARNING:tensorflow:From c:\\Users\\Dmitry\\AppData\\Local\\Programs\\Python\\Python311\\Lib\\site-packages\\keras\\src\\losses.py:2976: The name tf.losses.sparse_softmax_cross_entropy is deprecated. Please use tf.compat.v1.losses.sparse_softmax_cross_entropy instead.\n",
      "\n"
     ]
    }
   ],
   "source": [
    "import tensorflow as tf\n",
    "import numpy as np\n",
    "import pandas as pd\n",
    "from string import punctuation\n",
    "from sklearn.model_selection import train_test_split\n",
    "from collections import Counter\n",
    "import matplotlib.pyplot as plt\n",
    "from sklearn.decomposition import TruncatedSVD\n",
    "from sklearn.feature_extraction.text import CountVectorizer\n",
    "from sklearn.metrics.pairwise import cosine_distances\n",
    "\n",
    "from IPython.display import Image\n",
    "from IPython.core.display import HTML \n",
    "%matplotlib inline\n",
    "\n",
    "from tqdm.auto import tqdm\n",
    "from pymystem3 import Mystem\n",
    "mystem = Mystem()"
   ]
  },
  {
   "cell_type": "code",
   "execution_count": 2,
   "id": "718cb5f9",
   "metadata": {},
   "outputs": [],
   "source": [
    "wiki = open('data/wiki_data.txt', 'r', encoding='utf-8').read().split('\\n')"
   ]
  },
  {
   "cell_type": "code",
   "execution_count": 3,
   "id": "81fe86ea",
   "metadata": {},
   "outputs": [],
   "source": [
    "def most_similar(word, embeddings):\n",
    "    similar = [id2word[i] for i in \n",
    "               cosine_distances(embeddings[word2id[word]].reshape(1, -1), embeddings).argsort()[0][:10]]\n",
    "    return similar"
   ]
  },
  {
   "cell_type": "markdown",
   "id": "bbd69c04",
   "metadata": {},
   "source": [
    "Добавил лемматизацию через pymorphy3"
   ]
  },
  {
   "cell_type": "code",
   "execution_count": 28,
   "id": "2b44ac86",
   "metadata": {},
   "outputs": [],
   "source": [
    "from pymorphy3 import MorphAnalyzer\n",
    "import re\n",
    "def preprocess(text):\n",
    "    morph = MorphAnalyzer()\n",
    "    tokens = re.sub('#+', ' ', text.lower()).split()\n",
    "    tokens = [token.strip(punctuation) for token in tokens]\n",
    "    tokens = [token for token in tokens if token]\n",
    "    tokens = [morph.parse(token)[0].normal_form for token in tokens]\n",
    "    return tokens"
   ]
  },
  {
   "cell_type": "code",
   "execution_count": 29,
   "id": "591381c4",
   "metadata": {},
   "outputs": [
    {
     "data": {
      "text/plain": [
       "['голос', 'в', 'мой', 'голова']"
      ]
     },
     "execution_count": 29,
     "metadata": {},
     "output_type": "execute_result"
    }
   ],
   "source": [
    "text = 'голоса в моей голове'\n",
    "\n",
    "preprocess(text)"
   ]
  },
  {
   "cell_type": "code",
   "execution_count": 32,
   "id": "cd261ff3",
   "metadata": {},
   "outputs": [
    {
     "data": {
      "application/vnd.jupyter.widget-view+json": {
       "model_id": "fc560a3c2f154a4f9910479e2aca6b1a",
       "version_major": 2,
       "version_minor": 0
      },
      "text/plain": [
       "  0%|          | 0/20003 [00:00<?, ?it/s]"
      ]
     },
     "metadata": {},
     "output_type": "display_data"
    }
   ],
   "source": [
    "vocab = Counter()\n",
    "\n",
    "for text in tqdm(wiki):\n",
    "    vocab.update(preprocess(text))\n"
   ]
  },
  {
   "cell_type": "code",
   "execution_count": 33,
   "id": "8be8b776",
   "metadata": {},
   "outputs": [
    {
     "data": {
      "text/plain": [
       "[('в', 275172),\n",
       " ('и', 146585),\n",
       " ('год', 94984),\n",
       " ('на', 81230),\n",
       " ('—', 67491),\n",
       " ('с', 65101),\n",
       " ('быть', 58292),\n",
       " ('он', 38697),\n",
       " ('по', 36506),\n",
       " ('из', 26665)]"
      ]
     },
     "execution_count": 33,
     "metadata": {},
     "output_type": "execute_result"
    }
   ],
   "source": [
    "vocab.most_common(10)"
   ]
  },
  {
   "cell_type": "code",
   "execution_count": 34,
   "id": "5022061b",
   "metadata": {},
   "outputs": [
    {
     "data": {
      "text/plain": [
       "12460"
      ]
     },
     "execution_count": 34,
     "metadata": {},
     "output_type": "execute_result"
    }
   ],
   "source": [
    "filtered_vocab = set()\n",
    "\n",
    "for word in vocab:\n",
    "    if vocab[word] > 30:\n",
    "        filtered_vocab.add(word)\n",
    "\n",
    "len(filtered_vocab)"
   ]
  },
  {
   "cell_type": "code",
   "execution_count": 35,
   "id": "4f71d7cb",
   "metadata": {},
   "outputs": [],
   "source": [
    "word2id = {'PAD':0}\n",
    "\n",
    "for word in filtered_vocab:\n",
    "    word2id[word] = len(word2id)"
   ]
  },
  {
   "cell_type": "code",
   "execution_count": 36,
   "id": "1d8e37ab",
   "metadata": {},
   "outputs": [],
   "source": [
    "id2word = {i:word for word, i in word2id.items()}"
   ]
  },
  {
   "cell_type": "code",
   "execution_count": 37,
   "id": "736f6478",
   "metadata": {},
   "outputs": [
    {
     "data": {
      "application/vnd.jupyter.widget-view+json": {
       "model_id": "7eba41de142c4882aff777eaba40bd01",
       "version_major": 2,
       "version_minor": 0
      },
      "text/plain": [
       "  0%|          | 0/20003 [00:00<?, ?it/s]"
      ]
     },
     "metadata": {},
     "output_type": "display_data"
    }
   ],
   "source": [
    "sentences = []\n",
    "\n",
    "for text in tqdm(wiki):\n",
    "    tokens = preprocess(text)\n",
    "    if not tokens:\n",
    "        continue\n",
    "    ids = [word2id[token] for token in tokens if token in word2id]\n",
    "    sentences.append(ids)"
   ]
  },
  {
   "cell_type": "markdown",
   "id": "9a0b8096",
   "metadata": {},
   "source": [
    "Изменил окно в большую сторону"
   ]
  },
  {
   "cell_type": "code",
   "execution_count": 38,
   "id": "afe5c61c",
   "metadata": {},
   "outputs": [],
   "source": [
    "vocab_size = len(id2word)"
   ]
  },
  {
   "cell_type": "code",
   "execution_count": 39,
   "id": "50439ebd",
   "metadata": {},
   "outputs": [],
   "source": [
    "# skip gram\n",
    "def gen_batches_sg(sentences, window = 7, batch_size=1000):\n",
    "    \n",
    "    # параметр window задает его целиком\n",
    "    # нам нужно поделить его пополам на левую и правую часть\n",
    "    # когда делится неровно, то левая часть больше на 1\n",
    "    left_context_length = (window/2).__ceil__() # округлить в большую сторону\n",
    "    right_context_length = window // 2 # округлить в меньшую сторону\n",
    "    \n",
    "    while True:\n",
    "        X_target = []\n",
    "        X_context = []\n",
    "        y = []\n",
    "\n",
    "        for sent in sentences:\n",
    "            for i in range(len(sent)-1):\n",
    "                word = sent[i]\n",
    "                context = sent[max(0, i-left_context_length):i] + sent[i+1:i+right_context_length]\n",
    "                for context_word in context:\n",
    "                    X_target.append(word)\n",
    "                    X_context.append(context_word)\n",
    "                    y.append(1)\n",
    "                    \n",
    "                    X_target.append(word)\n",
    "                    X_context.append(np.random.randint(vocab_size))\n",
    "                    y.append(0)\n",
    "                    \n",
    "                    if len(X_target) >= batch_size:\n",
    "                        X_target = np.array(X_target)\n",
    "                        X_context = np.array(X_context)\n",
    "                        y = np.array(y)\n",
    "                        yield ((X_target, X_context), y)\n",
    "                        X_target = []\n",
    "                        X_context = []\n",
    "                        y = []\n"
   ]
  },
  {
   "cell_type": "code",
   "execution_count": 40,
   "id": "29bfcd87",
   "metadata": {},
   "outputs": [],
   "source": [
    "# # cbow \n",
    "def gen_batches_cbow(sentences, window = 7, batch_size=1000):\n",
    "    \n",
    "    # параметр window задает его целиком\n",
    "    # нам нужно поделить его пополам на левую и правую часть\n",
    "    # когда делится неровно, то левая часть больше на 1\n",
    "    left_context_length = (window/2).__ceil__() # округлить в большую сторону\n",
    "    right_context_length = window // 2 # округлить в меньшую сторону\n",
    "    \n",
    "    while True:\n",
    "        X_target = []\n",
    "        X_context = []\n",
    "        y = []\n",
    "\n",
    "        for sent in sentences:\n",
    "            for i in range(len(sent)-1):\n",
    "                word = sent[i]\n",
    "                context = sent[max(0, i-left_context_length):i] + sent[i+1:i+right_context_length]\n",
    "\n",
    "                X_target.append(word)\n",
    "                X_context.append(context)\n",
    "                y.append(1)\n",
    "                \n",
    "                X_target.append(np.random.randint(vocab_size))\n",
    "                X_context.append(context)\n",
    "                y.append(0)\n",
    "\n",
    "                if len(X_target) == batch_size:\n",
    "                    X_target = np.array(X_target)\n",
    "                    X_context = tf.keras.preprocessing.sequence.pad_sequences(X_context, maxlen=window)\n",
    "                    y = np.array(y)\n",
    "                    yield ((X_target, X_context), y)\n",
    "                    X_target = []\n",
    "                    X_context = []\n",
    "                    y = []"
   ]
  },
  {
   "cell_type": "markdown",
   "id": "455519d1",
   "metadata": {},
   "source": [
    "Размер итогового вектора установил 200"
   ]
  },
  {
   "cell_type": "code",
   "execution_count": 41,
   "id": "f7693b06",
   "metadata": {},
   "outputs": [
    {
     "name": "stdout",
     "output_type": "stream",
     "text": [
      "WARNING:tensorflow:From c:\\Users\\Dmitry\\AppData\\Local\\Programs\\Python\\Python311\\Lib\\site-packages\\keras\\src\\backend.py:1398: The name tf.executing_eagerly_outside_functions is deprecated. Please use tf.compat.v1.executing_eagerly_outside_functions instead.\n",
      "\n"
     ]
    }
   ],
   "source": [
    "inputs_target = tf.keras.layers.Input(shape=(1,))\n",
    "inputs_context = tf.keras.layers.Input(shape=(1,))\n",
    "\n",
    "\n",
    "embeddings_target = tf.keras.layers.Embedding(input_dim=len(word2id), output_dim=200)(inputs_target, )\n",
    "embeddings_context = tf.keras.layers.Embedding(input_dim=len(word2id), output_dim=200)(inputs_context, )\n",
    "\n",
    "target = tf.keras.layers.Flatten()(embeddings_target)\n",
    "context = tf.keras.layers.Flatten()(embeddings_context)\n",
    "\n",
    "dot = tf.keras.layers.Dot(1)([target, context])\n",
    "outputs = tf.keras.layers.Activation(activation='sigmoid')(dot)\n",
    "\n",
    "model_1 = tf.keras.Model(inputs=[inputs_target, inputs_context], \n",
    "                       outputs=outputs)\n",
    "optimizer = tf.keras.optimizers.Adam(learning_rate=0.001)\n",
    "model_1.compile(optimizer=optimizer,\n",
    "              loss='binary_crossentropy',\n",
    "              metrics=['accuracy'])\n",
    "\n",
    "\n"
   ]
  },
  {
   "cell_type": "code",
   "execution_count": 43,
   "id": "faed8ed4",
   "metadata": {},
   "outputs": [
    {
     "name": "stdout",
     "output_type": "stream",
     "text": [
      "Epoch 1/2\n",
      "10000/10000 [==============================] - 2168s 217ms/step - loss: 0.3857 - accuracy: 0.8322 - val_loss: 0.3874 - val_accuracy: 0.8381\n",
      "Epoch 2/2\n",
      "10000/10000 [==============================] - 740s 74ms/step - loss: 0.3780 - accuracy: 0.8356 - val_loss: 0.4002 - val_accuracy: 0.8220\n"
     ]
    },
    {
     "data": {
      "text/plain": [
       "<keras.src.callbacks.History at 0x25701baae10>"
      ]
     },
     "execution_count": 43,
     "metadata": {},
     "output_type": "execute_result"
    }
   ],
   "source": [
    "model_1.fit(gen_batches_sg(sentences[:19000], window=7),\n",
    "          validation_data=gen_batches_sg(sentences[19000:],  window=7),\n",
    "          batch_size=1000,\n",
    "          steps_per_epoch=10000,\n",
    "          validation_steps=30,\n",
    "         epochs=2)"
   ]
  },
  {
   "cell_type": "code",
   "execution_count": 44,
   "id": "afaa6458",
   "metadata": {},
   "outputs": [
    {
     "name": "stdout",
     "output_type": "stream",
     "text": [
      "dict_keys(['loss', 'accuracy', 'val_loss', 'val_accuracy'])\n"
     ]
    },
    {
     "data": {
      "image/png": "[encoded data removed]",
      "text/plain": [
       "<Figure size 640x480 with 1 Axes>"
      ]
     },
     "metadata": {},
     "output_type": "display_data"
    }
   ],
   "source": [
    "print(model_1.history.history.keys())\n",
    "# summarize history for accuracy\n",
    "plt.plot(model_1.history.history['loss'])\n",
    "plt.plot(model_1.history.history['val_loss'])\n",
    "plt.title('model loss')\n",
    "plt.ylabel('loss')\n",
    "plt.xlabel('epoch')\n",
    "plt.legend(['train', 'val'], loc='upper left')\n",
    "plt.show()"
   ]
  },
  {
   "cell_type": "code",
   "execution_count": 45,
   "id": "518c5e4b",
   "metadata": {},
   "outputs": [],
   "source": [
    "embeddings = model_1.layers[2].get_weights()[0]"
   ]
  },
  {
   "cell_type": "code",
   "execution_count": 127,
   "id": "6c54cf1d",
   "metadata": {},
   "outputs": [
    {
     "data": {
      "text/plain": [
       "<KerasTensor: shape=(100, 100) dtype=float32 (created by layer 'tf.__operators__.getitem')>"
      ]
     },
     "execution_count": 127,
     "metadata": {},
     "output_type": "execute_result"
    }
   ],
   "source": [
    "embeddings[0]"
   ]
  },
  {
   "cell_type": "code",
   "execution_count": 46,
   "id": "75b35fee",
   "metadata": {},
   "outputs": [
    {
     "data": {
      "text/plain": [
       "['церковь',\n",
       " 'православный',\n",
       " 'храм',\n",
       " 'собор',\n",
       " 'монастырь',\n",
       " 'святой',\n",
       " 'святитель',\n",
       " 'чудотворец',\n",
       " 'лик',\n",
       " 'часовня']"
      ]
     },
     "execution_count": 46,
     "metadata": {},
     "output_type": "execute_result"
    }
   ],
   "source": [
    "most_similar('церковь', embeddings)"
   ]
  },
  {
   "cell_type": "code",
   "execution_count": 47,
   "id": "e44981e7",
   "metadata": {},
   "outputs": [
    {
     "data": {
      "text/plain": [
       "['кран',\n",
       " 'орель',\n",
       " 'тимор',\n",
       " 'дятел',\n",
       " 'надир',\n",
       " 'чугун',\n",
       " 'валериан',\n",
       " 'воспитательный',\n",
       " 'куско',\n",
       " 'вертеп']"
      ]
     },
     "execution_count": 47,
     "metadata": {},
     "output_type": "execute_result"
    }
   ],
   "source": [
    "most_similar('кран', embeddings)"
   ]
  },
  {
   "cell_type": "code",
   "execution_count": 48,
   "id": "8e505d67",
   "metadata": {},
   "outputs": [
    {
     "data": {
      "text/plain": [
       "['офис',\n",
       " 'коммерческий',\n",
       " 'исследовательский',\n",
       " 'персонал',\n",
       " 'корпорация',\n",
       " 'дирекция',\n",
       " 'бельгийский',\n",
       " 'ооо',\n",
       " 'банк',\n",
       " 'компания']"
      ]
     },
     "execution_count": 48,
     "metadata": {},
     "output_type": "execute_result"
    }
   ],
   "source": [
    "most_similar('офис', embeddings)"
   ]
  },
  {
   "cell_type": "code",
   "execution_count": 49,
   "id": "ed087c16",
   "metadata": {},
   "outputs": [],
   "source": [
    "#cbow negative sampling\n",
    "inputs_target = tf.keras.layers.Input(shape=(1,))\n",
    "inputs_context = tf.keras.layers.Input(shape=(10,))\n",
    "\n",
    "\n",
    "embeddings_target = tf.keras.layers.Embedding(input_dim=len(word2id), output_dim=200)(inputs_target, )\n",
    "embeddings_context = tf.keras.layers.Embedding(input_dim=len(word2id), output_dim=200)(inputs_context, )\n",
    "\n",
    "target = tf.keras.layers.Flatten()(embeddings_target)\n",
    "context = tf.keras.layers.Lambda(lambda x: tf.keras.backend.sum(x, axis=1))(embeddings_context)\n",
    "dot = tf.keras.layers.Dot(1)([target, context])\n",
    "\n",
    "# полученную близость нужно преобразовать в вероятность\n",
    "# когда она одна используется не софтмакс и сигмоида\n",
    "outputs = tf.keras.layers.Activation(activation='sigmoid')(dot)\n",
    "\n",
    "model_2 = tf.keras.Model(inputs=[inputs_target, inputs_context], \n",
    "                       outputs=outputs)\n",
    "\n",
    "\n",
    "optimizer = tf.keras.optimizers.Adam(learning_rate=0.001)\n",
    "model_2.compile(optimizer=optimizer,\n",
    "              loss='binary_crossentropy',\n",
    "              metrics=['accuracy'])\n"
   ]
  },
  {
   "cell_type": "code",
   "execution_count": 50,
   "id": "e6e311d9",
   "metadata": {},
   "outputs": [
    {
     "name": "stdout",
     "output_type": "stream",
     "text": [
      "Epoch 1/2\n",
      "5000/5000 [==============================] - 217s 43ms/step - loss: 0.3715 - accuracy: 0.8399 - val_loss: 0.3131 - val_accuracy: 0.8721\n",
      "Epoch 2/2\n",
      "5000/5000 [==============================] - 217s 43ms/step - loss: 0.2815 - accuracy: 0.8842 - val_loss: 0.2622 - val_accuracy: 0.8937\n"
     ]
    },
    {
     "data": {
      "text/plain": [
       "<keras.src.callbacks.History at 0x2577e0e7010>"
      ]
     },
     "execution_count": 50,
     "metadata": {},
     "output_type": "execute_result"
    }
   ],
   "source": [
    "model_2.fit(gen_batches_cbow(sentences[:19000], window=7),\n",
    "          validation_data=gen_batches_cbow(sentences[19000:],  window=7),\n",
    "          batch_size=1000,\n",
    "          steps_per_epoch=5000,\n",
    "          validation_steps=30,\n",
    "         epochs=2)"
   ]
  },
  {
   "cell_type": "code",
   "execution_count": 51,
   "id": "7bc899be",
   "metadata": {},
   "outputs": [
    {
     "name": "stdout",
     "output_type": "stream",
     "text": [
      "dict_keys(['loss', 'accuracy', 'val_loss', 'val_accuracy'])\n"
     ]
    },
    {
     "data": {
      "image/png": "[encoded data removed]",
      "text/plain": [
       "<Figure size 640x480 with 1 Axes>"
      ]
     },
     "metadata": {},
     "output_type": "display_data"
    }
   ],
   "source": [
    "print(model_2.history.history.keys())\n",
    "# summarize history for accuracy\n",
    "plt.plot(model_2.history.history['loss'])\n",
    "plt.plot(model_2.history.history['val_loss'])\n",
    "plt.title('model loss')\n",
    "plt.ylabel('loss')\n",
    "plt.xlabel('epoch')\n",
    "plt.legend(['train', 'val'], loc='upper left')\n",
    "plt.show()"
   ]
  },
  {
   "cell_type": "code",
   "execution_count": 52,
   "id": "5196a61f",
   "metadata": {},
   "outputs": [],
   "source": [
    "embeddings = model_2.layers[2].get_weights()[0]"
   ]
  },
  {
   "cell_type": "code",
   "execution_count": 53,
   "id": "cc2201db",
   "metadata": {},
   "outputs": [
    {
     "data": {
      "text/plain": [
       "['церковь',\n",
       " 'монастырь',\n",
       " 'храм',\n",
       " 'собор',\n",
       " 'святой',\n",
       " 'церковный',\n",
       " 'православный',\n",
       " 'епископ',\n",
       " 'община',\n",
       " 'икона']"
      ]
     },
     "execution_count": 53,
     "metadata": {},
     "output_type": "execute_result"
    }
   ],
   "source": [
    "most_similar('церковь', embeddings)"
   ]
  },
  {
   "cell_type": "code",
   "execution_count": 54,
   "id": "e090238a",
   "metadata": {},
   "outputs": [
    {
     "data": {
      "text/plain": [
       "['кран',\n",
       " 'gt8',\n",
       " 'накопитель',\n",
       " 'девятаев',\n",
       " 'порошок',\n",
       " 'резервуар',\n",
       " 'орбитальный',\n",
       " 'бизоновый',\n",
       " 'съёмный',\n",
       " 'электрохимический']"
      ]
     },
     "execution_count": 54,
     "metadata": {},
     "output_type": "execute_result"
    }
   ],
   "source": [
    "most_similar('кран', embeddings)"
   ]
  },
  {
   "cell_type": "code",
   "execution_count": 55,
   "id": "ee567de0",
   "metadata": {},
   "outputs": [
    {
     "data": {
      "text/plain": [
       "['офис',\n",
       " 'розничный',\n",
       " 'столовая',\n",
       " 'страховой',\n",
       " 'отель',\n",
       " 'гараж',\n",
       " 'кафе',\n",
       " 'контора',\n",
       " 'котельная',\n",
       " 'бар']"
      ]
     },
     "execution_count": 55,
     "metadata": {},
     "output_type": "execute_result"
    }
   ],
   "source": [
    "most_similar('офис', embeddings)"
   ]
  },
  {
   "cell_type": "markdown",
   "id": "afbc1182",
   "metadata": {},
   "source": [
    "---------------"
   ]
  },
  {
   "cell_type": "markdown",
   "id": "c3b61b7c",
   "metadata": {},
   "source": [
    "# Задание 2 (3 балла)"
   ]
  },
  {
   "cell_type": "markdown",
   "id": "66eff080",
   "metadata": {},
   "source": [
    "Обучите 1 word2vec и 1 fastext модель в gensim. В каждой из модели нужно задать все параметры, которые мы разбирали на семинаре. Заданные значения должны отличаться от дефолтных и от тех, что мы использовали на семинаре."
   ]
  },
  {
   "cell_type": "code",
   "execution_count": 57,
   "id": "986c2018",
   "metadata": {},
   "outputs": [],
   "source": [
    "# !pip install gensim"
   ]
  },
  {
   "cell_type": "code",
   "execution_count": 58,
   "id": "18cf5ddf",
   "metadata": {},
   "outputs": [],
   "source": [
    "import gensim"
   ]
  },
  {
   "cell_type": "code",
   "execution_count": 61,
   "id": "adf5744a",
   "metadata": {},
   "outputs": [],
   "source": [
    "wiki = open('data/wiki_data.txt', 'r', encoding='utf-8').read().split('\\n')"
   ]
  },
  {
   "cell_type": "code",
   "execution_count": 62,
   "id": "aadabfb5",
   "metadata": {},
   "outputs": [],
   "source": [
    "texts = [preprocess(text) for text in wiki]"
   ]
  },
  {
   "cell_type": "code",
   "execution_count": 126,
   "id": "feb37c86",
   "metadata": {},
   "outputs": [],
   "source": [
    "w2v = gensim.models.Word2Vec(texts,\n",
    "                             hs=0,\n",
    "                             negative=10,\n",
    "                             sample=1e-4,\n",
    "                             vector_size=200, \n",
    "                             min_count=5, \n",
    "                             max_vocab_size=10000,\n",
    "                             window=7,\n",
    "                             epochs=10)"
   ]
  },
  {
   "cell_type": "code",
   "execution_count": 64,
   "id": "f71a5585",
   "metadata": {},
   "outputs": [
    {
     "data": {
      "text/plain": [
       "[('монастырь', 0.9306808114051819),\n",
       " ('храм', 0.9186384677886963),\n",
       " ('собор', 0.9034382700920105),\n",
       " ('богородица', 0.8960888385772705),\n",
       " ('православный', 0.8947327733039856),\n",
       " ('святитель', 0.873807966709137),\n",
       " ('приход', 0.8639441728591919),\n",
       " ('епархия', 0.86221843957901),\n",
       " ('часовня', 0.8506441712379456),\n",
       " ('икона', 0.84366375207901)]"
      ]
     },
     "execution_count": 64,
     "metadata": {},
     "output_type": "execute_result"
    }
   ],
   "source": [
    "w2v.wv.most_similar('церковь')"
   ]
  },
  {
   "cell_type": "code",
   "execution_count": 66,
   "id": "44e2e0d7",
   "metadata": {},
   "outputs": [
    {
     "data": {
      "text/plain": [
       "[('шасси', 0.9046242833137512),\n",
       " ('двигатель', 0.8783441185951233),\n",
       " ('модель', 0.8500972986221313),\n",
       " ('модификация', 0.8255156874656677),\n",
       " ('кузов', 0.8221611976623535),\n",
       " ('benetton', 0.7749459743499756),\n",
       " ('машина', 0.7700903415679932),\n",
       " ('улучшить', 0.7595919370651245),\n",
       " ('автоматический', 0.7594683766365051),\n",
       " ('моторный', 0.7491530179977417)]"
      ]
     },
     "execution_count": 66,
     "metadata": {},
     "output_type": "execute_result"
    }
   ],
   "source": [
    "w2v.wv.most_similar('автомобиль')"
   ]
  },
  {
   "cell_type": "code",
   "execution_count": 125,
   "id": "47c5a0e6",
   "metadata": {},
   "outputs": [],
   "source": [
    "ft = gensim.models.FastText(texts, min_n=4, max_n=10, window=10, epochs=10)"
   ]
  },
  {
   "cell_type": "code",
   "execution_count": 68,
   "id": "dcd2d0b3",
   "metadata": {},
   "outputs": [
    {
     "data": {
      "text/plain": [
       "[('«церковь', 0.9972864985466003),\n",
       " ('церковь»', 0.9966346621513367),\n",
       " ('це́рковь', 0.9856696128845215),\n",
       " ('церква', 0.9681044816970825),\n",
       " ('церкви»', 0.9466263055801392),\n",
       " ('морковь', 0.9052931070327759),\n",
       " ('архипастырь', 0.869535505771637),\n",
       " ('монастырь', 0.8678775429725647),\n",
       " ('монастыря»', 0.8670889735221863),\n",
       " ('церн', 0.8595736622810364)]"
      ]
     },
     "execution_count": 68,
     "metadata": {},
     "output_type": "execute_result"
    }
   ],
   "source": [
    "ft.wv.most_similar('церковь')"
   ]
  },
  {
   "cell_type": "code",
   "execution_count": 69,
   "id": "e5035bdc",
   "metadata": {},
   "outputs": [
    {
     "data": {
      "text/plain": [
       "[('спецавтомобиль', 0.9892289638519287),\n",
       " ('локомобиль', 0.9556282162666321),\n",
       " ('бронеавтомобиль', 0.9403617978096008),\n",
       " ('автомобилист', 0.9214709997177124),\n",
       " ('автомотриса', 0.8985264897346497),\n",
       " ('нобиль', 0.8800316452980042),\n",
       " ('«автомобилист»', 0.8692030310630798),\n",
       " ('автомат', 0.8387049436569214),\n",
       " ('автомобильный', 0.8197221159934998),\n",
       " ('вятка-автомат', 0.8188124895095825)]"
      ]
     },
     "execution_count": 69,
     "metadata": {},
     "output_type": "execute_result"
    }
   ],
   "source": [
    "ft.wv.most_similar('автомобиль')"
   ]
  },
  {
   "cell_type": "markdown",
   "id": "e4bb928c",
   "metadata": {},
   "source": [
    "# Задание 3 (4 балла)"
   ]
  },
  {
   "cell_type": "markdown",
   "id": "3019b0d1",
   "metadata": {},
   "source": [
    "Используя датасет для классификации (labeled.csv) и простую нейронную сеть (последняя модель в семинаре), оцените качество полученных эмбедингов в задании 1 и 2 (4 набора эмбедингов), также проверьте 1 любую из предобученных моделей с rus-vectores (но только не tayga_upos_skipgram_300_2_2019). \n",
    "Какая модель показывает наилучший результат?\n",
    "\n",
    "Убедитесь, что для каждой модели вы корректно воспроизводите пайплайн предобработки (в 1 задании у вас лемматизация, не забудьте ее применить к датасету для классификации; у выбранной предобученной модели может быть своя специфичная предобработка - ее нужно воспроизвести)"
   ]
  },
  {
   "cell_type": "code",
   "execution_count": 71,
   "id": "ed908832",
   "metadata": {},
   "outputs": [],
   "source": [
    "data = pd.read_csv('data/labeled.csv')"
   ]
  },
  {
   "cell_type": "code",
   "execution_count": 72,
   "id": "a7956eeb",
   "metadata": {},
   "outputs": [],
   "source": [
    "data['norm_text'] = data.comment.apply(preprocess)"
   ]
  },
  {
   "cell_type": "code",
   "execution_count": 73,
   "id": "897277b2",
   "metadata": {},
   "outputs": [
    {
     "data": {
      "text/plain": [
       "5792"
      ]
     },
     "execution_count": 73,
     "metadata": {},
     "output_type": "execute_result"
    }
   ],
   "source": [
    "vocab1 = Counter()\n",
    "\n",
    "for text in data['norm_text']:\n",
    "    vocab1.update(text)\n",
    "    \n",
    "filtered_vocab1 = set()\n",
    "\n",
    "for word in vocab:\n",
    "    if vocab1[word] > 5:\n",
    "        filtered_vocab1.add(word)\n",
    "\n",
    "len(filtered_vocab1)"
   ]
  },
  {
   "cell_type": "code",
   "execution_count": null,
   "id": "ace22b74",
   "metadata": {},
   "outputs": [],
   "source": [
    "word2id1 = { 'PAD':0}\n",
    "\n",
    "for word in filtered_vocab1:\n",
    "    word2id1[word] = len(word2id1)\n",
    "id2word1 = {i:word for word, i in word2id1.items()}"
   ]
  },
  {
   "cell_type": "code",
   "execution_count": 75,
   "id": "12c78407",
   "metadata": {},
   "outputs": [],
   "source": [
    "X = []\n",
    "\n",
    "for tokens in data['norm_text']:\n",
    "    ids = [word2id1[token] for token in tokens if token in word2id1]\n",
    "    X.append(ids)"
   ]
  },
  {
   "cell_type": "code",
   "execution_count": 76,
   "id": "6dc0a407",
   "metadata": {},
   "outputs": [],
   "source": [
    "X = tf.keras.preprocessing.sequence.pad_sequences(X, maxlen=100)\n",
    "y = data.toxic.values"
   ]
  },
  {
   "cell_type": "code",
   "execution_count": 77,
   "id": "60c18c5a",
   "metadata": {},
   "outputs": [],
   "source": [
    "X_train, X_valid, y_train, y_valid = train_test_split(X, y, test_size=0.05)"
   ]
  },
  {
   "cell_type": "code",
   "execution_count": 123,
   "id": "94e9fd0b",
   "metadata": {},
   "outputs": [],
   "source": [
    "inputs = tf.keras.layers.Input(shape=(100,))\n",
    "\n",
    "embeddings = tf.keras.layers.Embedding(input_dim=len(word2id), output_dim=100)(inputs, )\n",
    "# embedding слой возвращает последовательность векторов\n",
    "# а нам нужно классифицировать сразу весь текст\n",
    "# стандартный подход в этом случае - усреднить единичные вектора в 1 вектор текста\n",
    "mean = tf.keras.layers.Lambda(lambda x: tf.keras.backend.mean(x,  axis=1))(embeddings)\n",
    "# к усредненному вектору мы уже применяем полносвязный слой, который вернет вероятность токсичности\n",
    "outputs = tf.keras.layers.Dense(1, activation='sigmoid')(mean)\n",
    "\n",
    "model = tf.keras.Model(inputs=inputs, outputs=outputs)\n",
    "optimizer = tf.keras.optimizers.Adam()\n",
    "model.compile(optimizer=optimizer,\n",
    "              loss='binary_crossentropy',\n",
    "              metrics=['accuracy'])\n"
   ]
  },
  {
   "cell_type": "code",
   "execution_count": 124,
   "id": "7c82c2f2",
   "metadata": {},
   "outputs": [
    {
     "name": "stdout",
     "output_type": "stream",
     "text": [
      "Epoch 1/10\n",
      "428/428 [==============================] - 6s 12ms/step - loss: 0.6153 - accuracy: 0.6636 - val_loss: 0.5748 - val_accuracy: 0.6574\n",
      "Epoch 2/10\n",
      "428/428 [==============================] - 5s 11ms/step - loss: 0.5294 - accuracy: 0.7184 - val_loss: 0.4870 - val_accuracy: 0.7573\n",
      "Epoch 3/10\n",
      "428/428 [==============================] - 5s 11ms/step - loss: 0.4392 - accuracy: 0.8121 - val_loss: 0.4163 - val_accuracy: 0.8169\n",
      "Epoch 4/10\n",
      "428/428 [==============================] - 5s 11ms/step - loss: 0.3756 - accuracy: 0.8584 - val_loss: 0.3800 - val_accuracy: 0.8599\n",
      "Epoch 5/10\n",
      "428/428 [==============================] - 5s 11ms/step - loss: 0.3339 - accuracy: 0.8771 - val_loss: 0.3563 - val_accuracy: 0.8585\n",
      "Epoch 6/10\n",
      "428/428 [==============================] - 5s 11ms/step - loss: 0.3041 - accuracy: 0.8883 - val_loss: 0.3418 - val_accuracy: 0.8433\n",
      "Epoch 7/10\n",
      "428/428 [==============================] - 5s 12ms/step - loss: 0.2816 - accuracy: 0.8957 - val_loss: 0.3398 - val_accuracy: 0.8322\n",
      "Epoch 8/10\n",
      "428/428 [==============================] - 5s 12ms/step - loss: 0.2625 - accuracy: 0.9028 - val_loss: 0.3298 - val_accuracy: 0.8488\n",
      "Epoch 9/10\n",
      "428/428 [==============================] - 5s 12ms/step - loss: 0.2465 - accuracy: 0.9094 - val_loss: 0.3285 - val_accuracy: 0.8460\n",
      "Epoch 10/10\n",
      "428/428 [==============================] - 5s 11ms/step - loss: 0.2315 - accuracy: 0.9153 - val_loss: 0.3279 - val_accuracy: 0.8502\n"
     ]
    },
    {
     "data": {
      "text/plain": [
       "<keras.src.callbacks.History at 0x2579c9c29d0>"
      ]
     },
     "execution_count": 124,
     "metadata": {},
     "output_type": "execute_result"
    }
   ],
   "source": [
    "model.fit(X_train, y_train, \n",
    "          validation_data=(X_valid, y_valid),\n",
    "          batch_size=32,\n",
    "         epochs=10)"
   ]
  },
  {
   "cell_type": "code",
   "execution_count": null,
   "id": "253e6d52",
   "metadata": {},
   "outputs": [],
   "source": []
  },
  {
   "cell_type": "code",
   "execution_count": 112,
   "id": "e6ca5f9e",
   "metadata": {},
   "outputs": [
    {
     "data": {
      "text/plain": [
       "1"
      ]
     },
     "execution_count": 112,
     "metadata": {},
     "output_type": "execute_result"
    }
   ],
   "source": [
    "word2id1['погашение']"
   ]
  },
  {
   "cell_type": "code",
   "execution_count": null,
   "id": "ec0972e8",
   "metadata": {},
   "outputs": [],
   "source": [
    "emb1[0][word2id1['погашение']]"
   ]
  },
  {
   "cell_type": "code",
   "execution_count": 137,
   "id": "c902f84f",
   "metadata": {},
   "outputs": [],
   "source": [
    "emb1 = model_1.layers[2].get_weights()"
   ]
  },
  {
   "cell_type": "code",
   "execution_count": null,
   "id": "f18d4533",
   "metadata": {},
   "outputs": [],
   "source": [
    "weights_c1 = np.zeros((len(word2id), 200))\n",
    "emb1 = model_1.layers[2].get_weights()\n",
    "\n",
    "for word, i in word2id.items():\n",
    "    # вектор паддинга оставим нулевым\n",
    "    if word == 'PAD':\n",
    "        continue\n",
    "\n",
    "    try:\n",
    "        weights_c1[i] = emb1[0][word2id[word]]\n",
    "    \n",
    "    \n",
    "    except KeyError:\n",
    "        # для слов, которых нет в модели тоже возьмем какой-то  рандомный вектор\n",
    "        continue\n",
    "        weights_c1[i] = emb1[0][word2id['опрагпллирао']]"
   ]
  },
  {
   "cell_type": "code",
   "execution_count": 152,
   "id": "3e9345b7",
   "metadata": {},
   "outputs": [],
   "source": [
    "inputs = tf.keras.layers.Input(shape=(100,))\n",
    "\n",
    "# передаем матрицу в эмбединг слой\n",
    "# указываем параметр trainable=False, чтобы вектора не обучались\n",
    "# Пояснение: кажется, что обучение векторов отключать не стоит, так как модель должна взять готовые \n",
    "# эмбединги и подогнать их к нашей задаче. На практитке это однако не работает - эмбединги просто \n",
    "# # обучатся заново\n",
    "embeddings = tf.keras.layers.Embedding(input_dim=len(word2id), output_dim=200, \n",
    "                                       trainable=False,\n",
    "                                       weights=[weights_c1])(inputs, )\n",
    "mean = tf.keras.layers.Lambda(lambda x: tf.keras.backend.mean(x,  axis=1))(embeddings)\n",
    "\n",
    "outputs = tf.keras.layers.Dense(1, activation='sigmoid')(mean)\n",
    "\n",
    "model = tf.keras.Model(inputs=inputs, outputs=outputs)\n",
    "optimizer = tf.keras.optimizers.Adam()\n",
    "model.compile(optimizer=optimizer,\n",
    "              loss='binary_crossentropy',\n",
    "              metrics=['accuracy'])"
   ]
  },
  {
   "cell_type": "code",
   "execution_count": 153,
   "id": "3c1ca460",
   "metadata": {},
   "outputs": [
    {
     "name": "stdout",
     "output_type": "stream",
     "text": [
      "Epoch 1/30\n",
      "428/428 [==============================] - 3s 4ms/step - loss: 0.6457 - accuracy: 0.6636 - val_loss: 0.6260 - val_accuracy: 0.6574\n",
      "Epoch 2/30\n",
      "428/428 [==============================] - 1s 3ms/step - loss: 0.6205 - accuracy: 0.6655 - val_loss: 0.6206 - val_accuracy: 0.6574\n",
      "Epoch 3/30\n",
      "428/428 [==============================] - 1s 3ms/step - loss: 0.6180 - accuracy: 0.6655 - val_loss: 0.6192 - val_accuracy: 0.6574\n",
      "Epoch 4/30\n",
      "428/428 [==============================] - 1s 3ms/step - loss: 0.6171 - accuracy: 0.6655 - val_loss: 0.6181 - val_accuracy: 0.6574\n",
      "Epoch 5/30\n",
      "428/428 [==============================] - 1s 3ms/step - loss: 0.6164 - accuracy: 0.6655 - val_loss: 0.6171 - val_accuracy: 0.6574\n",
      "Epoch 6/30\n",
      "428/428 [==============================] - 1s 3ms/step - loss: 0.6157 - accuracy: 0.6655 - val_loss: 0.6161 - val_accuracy: 0.6574\n",
      "Epoch 7/30\n",
      "428/428 [==============================] - 1s 3ms/step - loss: 0.6150 - accuracy: 0.6655 - val_loss: 0.6153 - val_accuracy: 0.6574\n",
      "Epoch 8/30\n",
      "428/428 [==============================] - 1s 3ms/step - loss: 0.6143 - accuracy: 0.6655 - val_loss: 0.6145 - val_accuracy: 0.6574\n",
      "Epoch 9/30\n",
      "428/428 [==============================] - 1s 3ms/step - loss: 0.6138 - accuracy: 0.6655 - val_loss: 0.6137 - val_accuracy: 0.6574\n",
      "Epoch 10/30\n",
      "428/428 [==============================] - 1s 3ms/step - loss: 0.6132 - accuracy: 0.6655 - val_loss: 0.6130 - val_accuracy: 0.6574\n",
      "Epoch 11/30\n",
      "428/428 [==============================] - 1s 3ms/step - loss: 0.6126 - accuracy: 0.6655 - val_loss: 0.6124 - val_accuracy: 0.6574\n",
      "Epoch 12/30\n",
      "428/428 [==============================] - 1s 3ms/step - loss: 0.6121 - accuracy: 0.6655 - val_loss: 0.6118 - val_accuracy: 0.6574\n",
      "Epoch 13/30\n",
      "428/428 [==============================] - 1s 3ms/step - loss: 0.6116 - accuracy: 0.6655 - val_loss: 0.6112 - val_accuracy: 0.6574\n",
      "Epoch 14/30\n",
      "428/428 [==============================] - 1s 3ms/step - loss: 0.6111 - accuracy: 0.6655 - val_loss: 0.6107 - val_accuracy: 0.6574\n",
      "Epoch 15/30\n",
      "428/428 [==============================] - 1s 3ms/step - loss: 0.6107 - accuracy: 0.6655 - val_loss: 0.6102 - val_accuracy: 0.6574\n",
      "Epoch 16/30\n",
      "428/428 [==============================] - 1s 3ms/step - loss: 0.6102 - accuracy: 0.6655 - val_loss: 0.6097 - val_accuracy: 0.6574\n",
      "Epoch 17/30\n",
      "428/428 [==============================] - 1s 3ms/step - loss: 0.6098 - accuracy: 0.6655 - val_loss: 0.6092 - val_accuracy: 0.6574\n",
      "Epoch 18/30\n",
      "428/428 [==============================] - 1s 3ms/step - loss: 0.6094 - accuracy: 0.6656 - val_loss: 0.6088 - val_accuracy: 0.6588\n",
      "Epoch 19/30\n",
      "428/428 [==============================] - 1s 3ms/step - loss: 0.6090 - accuracy: 0.6656 - val_loss: 0.6083 - val_accuracy: 0.6588\n",
      "Epoch 20/30\n",
      "428/428 [==============================] - 1s 3ms/step - loss: 0.6086 - accuracy: 0.6656 - val_loss: 0.6079 - val_accuracy: 0.6588\n",
      "Epoch 21/30\n",
      "428/428 [==============================] - 1s 3ms/step - loss: 0.6082 - accuracy: 0.6656 - val_loss: 0.6075 - val_accuracy: 0.6588\n",
      "Epoch 22/30\n",
      "428/428 [==============================] - 1s 3ms/step - loss: 0.6078 - accuracy: 0.6656 - val_loss: 0.6072 - val_accuracy: 0.6588\n",
      "Epoch 23/30\n",
      "428/428 [==============================] - 1s 3ms/step - loss: 0.6074 - accuracy: 0.6656 - val_loss: 0.6068 - val_accuracy: 0.6588\n",
      "Epoch 24/30\n",
      "428/428 [==============================] - 1s 3ms/step - loss: 0.6071 - accuracy: 0.6656 - val_loss: 0.6065 - val_accuracy: 0.6588\n",
      "Epoch 25/30\n",
      "428/428 [==============================] - 1s 3ms/step - loss: 0.6067 - accuracy: 0.6656 - val_loss: 0.6061 - val_accuracy: 0.6588\n",
      "Epoch 26/30\n",
      "428/428 [==============================] - 1s 3ms/step - loss: 0.6064 - accuracy: 0.6655 - val_loss: 0.6058 - val_accuracy: 0.6588\n",
      "Epoch 27/30\n",
      "428/428 [==============================] - 1s 3ms/step - loss: 0.6060 - accuracy: 0.6655 - val_loss: 0.6055 - val_accuracy: 0.6574\n",
      "Epoch 28/30\n",
      "428/428 [==============================] - 1s 3ms/step - loss: 0.6057 - accuracy: 0.6655 - val_loss: 0.6052 - val_accuracy: 0.6574\n",
      "Epoch 29/30\n",
      "428/428 [==============================] - 1s 3ms/step - loss: 0.6054 - accuracy: 0.6655 - val_loss: 0.6049 - val_accuracy: 0.6574\n",
      "Epoch 30/30\n",
      "428/428 [==============================] - 1s 3ms/step - loss: 0.6050 - accuracy: 0.6656 - val_loss: 0.6046 - val_accuracy: 0.6574\n"
     ]
    },
    {
     "data": {
      "text/plain": [
       "<keras.src.callbacks.History at 0x25706b21610>"
      ]
     },
     "execution_count": 153,
     "metadata": {},
     "output_type": "execute_result"
    }
   ],
   "source": [
    "model.fit(X_train, y_train, \n",
    "          validation_data=(X_valid, y_valid),\n",
    "          batch_size=32,\n",
    "         epochs=30)"
   ]
  },
  {
   "cell_type": "code",
   "execution_count": 154,
   "id": "dc61b94a",
   "metadata": {},
   "outputs": [
    {
     "name": "stdout",
     "output_type": "stream",
     "text": [
      "dict_keys(['loss', 'accuracy', 'val_loss', 'val_accuracy'])\n"
     ]
    },
    {
     "data": {
      "image/png": "[encoded data removed]",
      "text/plain": [
       "<Figure size 640x480 with 1 Axes>"
      ]
     },
     "metadata": {},
     "output_type": "display_data"
    }
   ],
   "source": [
    "print(model.history.history.keys())\n",
    "# summarize history for accuracy\n",
    "plt.plot(model.history.history['accuracy'])\n",
    "plt.plot(model.history.history['val_accuracy'])\n",
    "plt.title('model accuracy')\n",
    "plt.ylabel('accuracy')\n",
    "plt.xlabel('epoch')\n",
    "plt.legend(['train', 'val'], loc='upper left')\n",
    "plt.show()"
   ]
  },
  {
   "cell_type": "code",
   "execution_count": 156,
   "id": "34814559",
   "metadata": {},
   "outputs": [],
   "source": [
    "weights_c2 = np.zeros((len(word2id), 200))\n",
    "emb2 = model_2.layers[2].get_weights()\n",
    "\n",
    "for word, i in word2id.items():\n",
    "    # вектор паддинга оставим нулевым\n",
    "    if word == 'PAD':\n",
    "        continue\n",
    "\n",
    "    try:\n",
    "        weights_c2[i] = emb2[0][word2id[word]]\n",
    "    \n",
    "    \n",
    "    except KeyError:\n",
    "        # для слов, которых нет в модели тоже возьмем какой-то  рандомный вектор\n",
    "        continue\n",
    "        weights_c2[i] = emb2[0][word2id['опрагпллирао']]"
   ]
  },
  {
   "cell_type": "code",
   "execution_count": 160,
   "id": "ed4757f2",
   "metadata": {},
   "outputs": [],
   "source": [
    "inputs = tf.keras.layers.Input(shape=(100,))\n",
    "\n",
    "# передаем матрицу в эмбединг слой\n",
    "# указываем параметр trainable=False, чтобы вектора не обучались\n",
    "# Пояснение: кажется, что обучение векторов отключать не стоит, так как модель должна взять готовые \n",
    "# эмбединги и подогнать их к нашей задаче. На практитке это однако не работает - эмбединги просто \n",
    "# # обучатся заново\n",
    "embeddings = tf.keras.layers.Embedding(input_dim=len(word2id), output_dim=200, \n",
    "                                       trainable=False,\n",
    "                                       weights=[weights_c2])(inputs, )\n",
    "mean = tf.keras.layers.Lambda(lambda x: tf.keras.backend.mean(x,  axis=1))(embeddings)\n",
    "\n",
    "outputs = tf.keras.layers.Dense(1, activation='sigmoid')(mean)\n",
    "\n",
    "model = tf.keras.Model(inputs=inputs, outputs=outputs)\n",
    "optimizer = tf.keras.optimizers.Adam()\n",
    "model.compile(optimizer=optimizer,\n",
    "              loss='binary_crossentropy',\n",
    "              metrics=['accuracy'])"
   ]
  },
  {
   "cell_type": "code",
   "execution_count": 161,
   "id": "07448e91",
   "metadata": {},
   "outputs": [
    {
     "name": "stdout",
     "output_type": "stream",
     "text": [
      "Epoch 1/30\n",
      "428/428 [==============================] - 3s 4ms/step - loss: 0.6444 - accuracy: 0.6655 - val_loss: 0.6254 - val_accuracy: 0.6574\n",
      "Epoch 2/30\n",
      "428/428 [==============================] - 1s 3ms/step - loss: 0.6199 - accuracy: 0.6655 - val_loss: 0.6203 - val_accuracy: 0.6574\n",
      "Epoch 3/30\n",
      "428/428 [==============================] - 1s 3ms/step - loss: 0.6177 - accuracy: 0.6655 - val_loss: 0.6189 - val_accuracy: 0.6574\n",
      "Epoch 4/30\n",
      "428/428 [==============================] - 1s 3ms/step - loss: 0.6169 - accuracy: 0.6655 - val_loss: 0.6178 - val_accuracy: 0.6574\n",
      "Epoch 5/30\n",
      "428/428 [==============================] - 1s 3ms/step - loss: 0.6161 - accuracy: 0.6655 - val_loss: 0.6168 - val_accuracy: 0.6574\n",
      "Epoch 6/30\n",
      "428/428 [==============================] - 1s 3ms/step - loss: 0.6154 - accuracy: 0.6655 - val_loss: 0.6159 - val_accuracy: 0.6574\n",
      "Epoch 7/30\n",
      "428/428 [==============================] - 1s 3ms/step - loss: 0.6148 - accuracy: 0.6655 - val_loss: 0.6151 - val_accuracy: 0.6574\n",
      "Epoch 8/30\n",
      "428/428 [==============================] - 1s 3ms/step - loss: 0.6142 - accuracy: 0.6655 - val_loss: 0.6143 - val_accuracy: 0.6574\n",
      "Epoch 9/30\n",
      "428/428 [==============================] - 1s 3ms/step - loss: 0.6136 - accuracy: 0.6655 - val_loss: 0.6136 - val_accuracy: 0.6574\n",
      "Epoch 10/30\n",
      "428/428 [==============================] - 1s 3ms/step - loss: 0.6130 - accuracy: 0.6655 - val_loss: 0.6130 - val_accuracy: 0.6574\n",
      "Epoch 11/30\n",
      "428/428 [==============================] - 1s 3ms/step - loss: 0.6125 - accuracy: 0.6655 - val_loss: 0.6123 - val_accuracy: 0.6574\n",
      "Epoch 12/30\n",
      "428/428 [==============================] - 1s 3ms/step - loss: 0.6120 - accuracy: 0.6655 - val_loss: 0.6117 - val_accuracy: 0.6574\n",
      "Epoch 13/30\n",
      "428/428 [==============================] - 1s 3ms/step - loss: 0.6115 - accuracy: 0.6655 - val_loss: 0.6111 - val_accuracy: 0.6574\n",
      "Epoch 14/30\n",
      "428/428 [==============================] - 1s 3ms/step - loss: 0.6110 - accuracy: 0.6655 - val_loss: 0.6107 - val_accuracy: 0.6574\n",
      "Epoch 15/30\n",
      "428/428 [==============================] - 1s 3ms/step - loss: 0.6106 - accuracy: 0.6655 - val_loss: 0.6101 - val_accuracy: 0.6574\n",
      "Epoch 16/30\n",
      "428/428 [==============================] - 1s 3ms/step - loss: 0.6101 - accuracy: 0.6655 - val_loss: 0.6096 - val_accuracy: 0.6574\n",
      "Epoch 17/30\n",
      "428/428 [==============================] - 1s 3ms/step - loss: 0.6097 - accuracy: 0.6655 - val_loss: 0.6092 - val_accuracy: 0.6588\n",
      "Epoch 18/30\n",
      "428/428 [==============================] - 1s 3ms/step - loss: 0.6093 - accuracy: 0.6656 - val_loss: 0.6087 - val_accuracy: 0.6588\n",
      "Epoch 19/30\n",
      "428/428 [==============================] - 1s 3ms/step - loss: 0.6089 - accuracy: 0.6656 - val_loss: 0.6083 - val_accuracy: 0.6588\n",
      "Epoch 20/30\n",
      "428/428 [==============================] - 1s 3ms/step - loss: 0.6085 - accuracy: 0.6656 - val_loss: 0.6079 - val_accuracy: 0.6588\n",
      "Epoch 21/30\n",
      "428/428 [==============================] - 1s 3ms/step - loss: 0.6081 - accuracy: 0.6656 - val_loss: 0.6076 - val_accuracy: 0.6588\n",
      "Epoch 22/30\n",
      "428/428 [==============================] - 1s 3ms/step - loss: 0.6077 - accuracy: 0.6656 - val_loss: 0.6071 - val_accuracy: 0.6588\n",
      "Epoch 23/30\n",
      "428/428 [==============================] - 1s 3ms/step - loss: 0.6073 - accuracy: 0.6656 - val_loss: 0.6068 - val_accuracy: 0.6588\n",
      "Epoch 24/30\n",
      "428/428 [==============================] - 1s 3ms/step - loss: 0.6070 - accuracy: 0.6655 - val_loss: 0.6065 - val_accuracy: 0.6588\n",
      "Epoch 25/30\n",
      "428/428 [==============================] - 1s 3ms/step - loss: 0.6066 - accuracy: 0.6655 - val_loss: 0.6061 - val_accuracy: 0.6588\n",
      "Epoch 26/30\n",
      "428/428 [==============================] - 1s 3ms/step - loss: 0.6063 - accuracy: 0.6655 - val_loss: 0.6058 - val_accuracy: 0.6574\n",
      "Epoch 27/30\n",
      "428/428 [==============================] - 1s 3ms/step - loss: 0.6059 - accuracy: 0.6655 - val_loss: 0.6055 - val_accuracy: 0.6574\n",
      "Epoch 28/30\n",
      "428/428 [==============================] - 1s 3ms/step - loss: 0.6056 - accuracy: 0.6655 - val_loss: 0.6051 - val_accuracy: 0.6574\n",
      "Epoch 29/30\n",
      "428/428 [==============================] - 1s 3ms/step - loss: 0.6052 - accuracy: 0.6655 - val_loss: 0.6049 - val_accuracy: 0.6574\n",
      "Epoch 30/30\n",
      "428/428 [==============================] - 1s 3ms/step - loss: 0.6049 - accuracy: 0.6657 - val_loss: 0.6045 - val_accuracy: 0.6574\n"
     ]
    },
    {
     "data": {
      "text/plain": [
       "<keras.src.callbacks.History at 0x257a60ef750>"
      ]
     },
     "execution_count": 161,
     "metadata": {},
     "output_type": "execute_result"
    }
   ],
   "source": [
    "model.fit(X_train, y_train, \n",
    "          validation_data=(X_valid, y_valid),\n",
    "          batch_size=32,\n",
    "         epochs=30)"
   ]
  },
  {
   "cell_type": "code",
   "execution_count": 162,
   "id": "dae4554a",
   "metadata": {},
   "outputs": [
    {
     "name": "stdout",
     "output_type": "stream",
     "text": [
      "dict_keys(['loss', 'accuracy', 'val_loss', 'val_accuracy'])\n"
     ]
    },
    {
     "data": {
      "image/png": "[encoded data removed]",
      "text/plain": [
       "<Figure size 640x480 with 1 Axes>"
      ]
     },
     "metadata": {},
     "output_type": "display_data"
    }
   ],
   "source": [
    "print(model.history.history.keys())\n",
    "# summarize history for accuracy\n",
    "plt.plot(model.history.history['accuracy'])\n",
    "plt.plot(model.history.history['val_accuracy'])\n",
    "plt.title('model accuracy')\n",
    "plt.ylabel('accuracy')\n",
    "plt.xlabel('epoch')\n",
    "plt.legend(['train', 'val'], loc='upper left')\n",
    "plt.show()"
   ]
  },
  {
   "cell_type": "code",
   "execution_count": 163,
   "id": "be4a0557",
   "metadata": {},
   "outputs": [],
   "source": [
    "weights_c3 = np.zeros((len(word2id), 200))\n",
    "\n",
    "for word, i in word2id.items():\n",
    "    # вектор паддинга оставим нулевым\n",
    "    if word == 'PAD':\n",
    "        continue\n",
    "\n",
    "    try:\n",
    "        weights_c3[i] = w2v.wv[word]\n",
    "    \n",
    "    \n",
    "    except KeyError:\n",
    "        # для слов, которых нет в модели тоже возьмем какой-то  рандомный вектор\n",
    "        continue\n",
    "        weights_c3[i] = w2v.wv['опрагпллирао']"
   ]
  },
  {
   "cell_type": "code",
   "execution_count": 165,
   "id": "8b10674f",
   "metadata": {},
   "outputs": [],
   "source": [
    "inputs = tf.keras.layers.Input(shape=(100,))\n",
    "\n",
    "# передаем матрицу в эмбединг слой\n",
    "# указываем параметр trainable=False, чтобы вектора не обучались\n",
    "# Пояснение: кажется, что обучение векторов отключать не стоит, так как модель должна взять готовые \n",
    "# эмбединги и подогнать их к нашей задаче. На практитке это однако не работает - эмбединги просто \n",
    "# # обучатся заново\n",
    "embeddings = tf.keras.layers.Embedding(input_dim=len(word2id), output_dim=200, \n",
    "                                       trainable=False,\n",
    "                                       weights=[weights_c3])(inputs, )\n",
    "mean = tf.keras.layers.Lambda(lambda x: tf.keras.backend.mean(x,  axis=1))(embeddings)\n",
    "\n",
    "outputs = tf.keras.layers.Dense(1, activation='sigmoid')(mean)\n",
    "\n",
    "model = tf.keras.Model(inputs=inputs, outputs=outputs)\n",
    "optimizer = tf.keras.optimizers.Adam()\n",
    "model.compile(optimizer=optimizer,\n",
    "              loss='binary_crossentropy',\n",
    "              metrics=['accuracy'])"
   ]
  },
  {
   "cell_type": "code",
   "execution_count": 166,
   "id": "11337db8",
   "metadata": {},
   "outputs": [
    {
     "name": "stdout",
     "output_type": "stream",
     "text": [
      "Epoch 1/30\n",
      "428/428 [==============================] - 3s 4ms/step - loss: 0.6443 - accuracy: 0.6651 - val_loss: 0.6245 - val_accuracy: 0.6574\n",
      "Epoch 2/30\n",
      "428/428 [==============================] - 1s 3ms/step - loss: 0.6196 - accuracy: 0.6655 - val_loss: 0.6199 - val_accuracy: 0.6574\n",
      "Epoch 3/30\n",
      "428/428 [==============================] - 1s 3ms/step - loss: 0.6175 - accuracy: 0.6655 - val_loss: 0.6186 - val_accuracy: 0.6574\n",
      "Epoch 4/30\n",
      "428/428 [==============================] - 1s 3ms/step - loss: 0.6167 - accuracy: 0.6655 - val_loss: 0.6175 - val_accuracy: 0.6574\n",
      "Epoch 5/30\n",
      "428/428 [==============================] - 1s 3ms/step - loss: 0.6160 - accuracy: 0.6655 - val_loss: 0.6165 - val_accuracy: 0.6574\n",
      "Epoch 6/30\n",
      "428/428 [==============================] - 1s 3ms/step - loss: 0.6154 - accuracy: 0.6655 - val_loss: 0.6156 - val_accuracy: 0.6574\n",
      "Epoch 7/30\n",
      "428/428 [==============================] - 1s 3ms/step - loss: 0.6147 - accuracy: 0.6655 - val_loss: 0.6148 - val_accuracy: 0.6574\n",
      "Epoch 8/30\n",
      "428/428 [==============================] - 1s 3ms/step - loss: 0.6141 - accuracy: 0.6655 - val_loss: 0.6141 - val_accuracy: 0.6574\n",
      "Epoch 9/30\n",
      "428/428 [==============================] - 1s 3ms/step - loss: 0.6135 - accuracy: 0.6655 - val_loss: 0.6133 - val_accuracy: 0.6574\n",
      "Epoch 10/30\n",
      "428/428 [==============================] - 1s 3ms/step - loss: 0.6129 - accuracy: 0.6655 - val_loss: 0.6126 - val_accuracy: 0.6574\n",
      "Epoch 11/30\n",
      "428/428 [==============================] - 1s 3ms/step - loss: 0.6124 - accuracy: 0.6655 - val_loss: 0.6120 - val_accuracy: 0.6574\n",
      "Epoch 12/30\n",
      "428/428 [==============================] - 1s 3ms/step - loss: 0.6119 - accuracy: 0.6655 - val_loss: 0.6114 - val_accuracy: 0.6574\n",
      "Epoch 13/30\n",
      "428/428 [==============================] - 1s 3ms/step - loss: 0.6114 - accuracy: 0.6655 - val_loss: 0.6109 - val_accuracy: 0.6574\n",
      "Epoch 14/30\n",
      "428/428 [==============================] - 1s 3ms/step - loss: 0.6109 - accuracy: 0.6655 - val_loss: 0.6104 - val_accuracy: 0.6574\n",
      "Epoch 15/30\n",
      "428/428 [==============================] - 1s 3ms/step - loss: 0.6105 - accuracy: 0.6655 - val_loss: 0.6099 - val_accuracy: 0.6574\n",
      "Epoch 16/30\n",
      "428/428 [==============================] - 1s 3ms/step - loss: 0.6100 - accuracy: 0.6655 - val_loss: 0.6094 - val_accuracy: 0.6574\n",
      "Epoch 17/30\n",
      "428/428 [==============================] - 1s 3ms/step - loss: 0.6096 - accuracy: 0.6656 - val_loss: 0.6089 - val_accuracy: 0.6588\n",
      "Epoch 18/30\n",
      "428/428 [==============================] - 1s 3ms/step - loss: 0.6092 - accuracy: 0.6656 - val_loss: 0.6085 - val_accuracy: 0.6588\n",
      "Epoch 19/30\n",
      "428/428 [==============================] - 1s 3ms/step - loss: 0.6087 - accuracy: 0.6656 - val_loss: 0.6081 - val_accuracy: 0.6588\n",
      "Epoch 20/30\n",
      "428/428 [==============================] - 1s 3ms/step - loss: 0.6084 - accuracy: 0.6656 - val_loss: 0.6077 - val_accuracy: 0.6588\n",
      "Epoch 21/30\n",
      "428/428 [==============================] - 1s 3ms/step - loss: 0.6080 - accuracy: 0.6656 - val_loss: 0.6073 - val_accuracy: 0.6588\n",
      "Epoch 22/30\n",
      "428/428 [==============================] - 1s 3ms/step - loss: 0.6076 - accuracy: 0.6656 - val_loss: 0.6069 - val_accuracy: 0.6588\n",
      "Epoch 23/30\n",
      "428/428 [==============================] - 1s 3ms/step - loss: 0.6073 - accuracy: 0.6656 - val_loss: 0.6066 - val_accuracy: 0.6588\n",
      "Epoch 24/30\n",
      "428/428 [==============================] - 1s 3ms/step - loss: 0.6069 - accuracy: 0.6655 - val_loss: 0.6062 - val_accuracy: 0.6588\n",
      "Epoch 25/30\n",
      "428/428 [==============================] - 1s 3ms/step - loss: 0.6065 - accuracy: 0.6655 - val_loss: 0.6059 - val_accuracy: 0.6588\n",
      "Epoch 26/30\n",
      "428/428 [==============================] - 1s 3ms/step - loss: 0.6062 - accuracy: 0.6655 - val_loss: 0.6056 - val_accuracy: 0.6588\n",
      "Epoch 27/30\n",
      "428/428 [==============================] - 1s 3ms/step - loss: 0.6058 - accuracy: 0.6655 - val_loss: 0.6053 - val_accuracy: 0.6574\n",
      "Epoch 28/30\n",
      "428/428 [==============================] - 1s 3ms/step - loss: 0.6055 - accuracy: 0.6655 - val_loss: 0.6050 - val_accuracy: 0.6574\n",
      "Epoch 29/30\n",
      "428/428 [==============================] - 1s 3ms/step - loss: 0.6052 - accuracy: 0.6655 - val_loss: 0.6046 - val_accuracy: 0.6574\n",
      "Epoch 30/30\n",
      "428/428 [==============================] - 1s 3ms/step - loss: 0.6049 - accuracy: 0.6655 - val_loss: 0.6044 - val_accuracy: 0.6574\n"
     ]
    },
    {
     "data": {
      "text/plain": [
       "<keras.src.callbacks.History at 0x257a661b0d0>"
      ]
     },
     "execution_count": 166,
     "metadata": {},
     "output_type": "execute_result"
    }
   ],
   "source": [
    "model.fit(X_train, y_train, \n",
    "          validation_data=(X_valid, y_valid),\n",
    "          batch_size=32,\n",
    "         epochs=30)"
   ]
  },
  {
   "cell_type": "code",
   "execution_count": 167,
   "id": "9e8d937b",
   "metadata": {},
   "outputs": [
    {
     "name": "stdout",
     "output_type": "stream",
     "text": [
      "dict_keys(['loss', 'accuracy', 'val_loss', 'val_accuracy'])\n"
     ]
    },
    {
     "data": {
      "image/png": "[encoded data removed]",
      "text/plain": [
       "<Figure size 640x480 with 1 Axes>"
      ]
     },
     "metadata": {},
     "output_type": "display_data"
    }
   ],
   "source": [
    "print(model.history.history.keys())\n",
    "# summarize history for accuracy\n",
    "plt.plot(model.history.history['accuracy'])\n",
    "plt.plot(model.history.history['val_accuracy'])\n",
    "plt.title('model accuracy')\n",
    "plt.ylabel('accuracy')\n",
    "plt.xlabel('epoch')\n",
    "plt.legend(['train', 'val'], loc='upper left')\n",
    "plt.show()"
   ]
  },
  {
   "cell_type": "code",
   "execution_count": 168,
   "id": "b1080286",
   "metadata": {},
   "outputs": [],
   "source": [
    "weights_c4 = np.zeros((len(word2id), 100))\n",
    "\n",
    "for word, i in word2id.items():\n",
    "    # вектор паддинга оставим нулевым\n",
    "    if word == 'PAD':\n",
    "        continue\n",
    "\n",
    "    try:\n",
    "        weights_c4[i] = ft.wv[word]\n",
    "    \n",
    "    \n",
    "    except KeyError:\n",
    "        # для слов, которых нет в модели тоже возьмем какой-то  рандомный вектор\n",
    "        continue\n",
    "        weights_c4[i] = ft.wv['опрагпллирао']"
   ]
  },
  {
   "cell_type": "code",
   "execution_count": 170,
   "id": "eeab057d",
   "metadata": {},
   "outputs": [],
   "source": [
    "inputs = tf.keras.layers.Input(shape=(100,))\n",
    "\n",
    "# передаем матрицу в эмбединг слой\n",
    "# указываем параметр trainable=False, чтобы вектора не обучались\n",
    "# Пояснение: кажется, что обучение векторов отключать не стоит, так как модель должна взять готовые \n",
    "# эмбединги и подогнать их к нашей задаче. На практитке это однако не работает - эмбединги просто \n",
    "# # обучатся заново\n",
    "embeddings = tf.keras.layers.Embedding(input_dim=len(word2id), output_dim=200, \n",
    "                                       trainable=False,\n",
    "                                       weights=[weights_c4])(inputs, )\n",
    "mean = tf.keras.layers.Lambda(lambda x: tf.keras.backend.mean(x,  axis=1))(embeddings)\n",
    "\n",
    "outputs = tf.keras.layers.Dense(1, activation='sigmoid')(mean)\n",
    "\n",
    "model = tf.keras.Model(inputs=inputs, outputs=outputs)\n",
    "optimizer = tf.keras.optimizers.Adam()\n",
    "model.compile(optimizer=optimizer,\n",
    "              loss='binary_crossentropy',\n",
    "              metrics=['accuracy'])"
   ]
  },
  {
   "cell_type": "code",
   "execution_count": 171,
   "id": "901834f5",
   "metadata": {},
   "outputs": [
    {
     "name": "stdout",
     "output_type": "stream",
     "text": [
      "Epoch 1/30\n",
      "428/428 [==============================] - 2s 3ms/step - loss: 0.6428 - accuracy: 0.6655 - val_loss: 0.6247 - val_accuracy: 0.6574\n",
      "Epoch 2/30\n",
      "428/428 [==============================] - 1s 3ms/step - loss: 0.6195 - accuracy: 0.6655 - val_loss: 0.6205 - val_accuracy: 0.6574\n",
      "Epoch 3/30\n",
      "428/428 [==============================] - 1s 3ms/step - loss: 0.6177 - accuracy: 0.6655 - val_loss: 0.6193 - val_accuracy: 0.6574\n",
      "Epoch 4/30\n",
      "428/428 [==============================] - 1s 3ms/step - loss: 0.6169 - accuracy: 0.6655 - val_loss: 0.6182 - val_accuracy: 0.6574\n",
      "Epoch 5/30\n",
      "428/428 [==============================] - 1s 3ms/step - loss: 0.6162 - accuracy: 0.6655 - val_loss: 0.6171 - val_accuracy: 0.6574\n",
      "Epoch 6/30\n",
      "428/428 [==============================] - 1s 3ms/step - loss: 0.6155 - accuracy: 0.6655 - val_loss: 0.6162 - val_accuracy: 0.6574\n",
      "Epoch 7/30\n",
      "428/428 [==============================] - 1s 3ms/step - loss: 0.6148 - accuracy: 0.6655 - val_loss: 0.6154 - val_accuracy: 0.6574\n",
      "Epoch 8/30\n",
      "428/428 [==============================] - 1s 3ms/step - loss: 0.6142 - accuracy: 0.6655 - val_loss: 0.6146 - val_accuracy: 0.6574\n",
      "Epoch 9/30\n",
      "428/428 [==============================] - 1s 3ms/step - loss: 0.6136 - accuracy: 0.6655 - val_loss: 0.6138 - val_accuracy: 0.6574\n",
      "Epoch 10/30\n",
      "428/428 [==============================] - 1s 3ms/step - loss: 0.6131 - accuracy: 0.6655 - val_loss: 0.6131 - val_accuracy: 0.6574\n",
      "Epoch 11/30\n",
      "428/428 [==============================] - 1s 3ms/step - loss: 0.6125 - accuracy: 0.6655 - val_loss: 0.6125 - val_accuracy: 0.6574\n",
      "Epoch 12/30\n",
      "428/428 [==============================] - 1s 3ms/step - loss: 0.6120 - accuracy: 0.6655 - val_loss: 0.6119 - val_accuracy: 0.6574\n",
      "Epoch 13/30\n",
      "428/428 [==============================] - 1s 3ms/step - loss: 0.6115 - accuracy: 0.6655 - val_loss: 0.6113 - val_accuracy: 0.6574\n",
      "Epoch 14/30\n",
      "428/428 [==============================] - 1s 3ms/step - loss: 0.6111 - accuracy: 0.6655 - val_loss: 0.6108 - val_accuracy: 0.6574\n",
      "Epoch 15/30\n",
      "428/428 [==============================] - 1s 3ms/step - loss: 0.6106 - accuracy: 0.6655 - val_loss: 0.6103 - val_accuracy: 0.6574\n",
      "Epoch 16/30\n",
      "428/428 [==============================] - 1s 3ms/step - loss: 0.6102 - accuracy: 0.6655 - val_loss: 0.6098 - val_accuracy: 0.6574\n",
      "Epoch 17/30\n",
      "428/428 [==============================] - 1s 3ms/step - loss: 0.6097 - accuracy: 0.6655 - val_loss: 0.6094 - val_accuracy: 0.6574\n",
      "Epoch 18/30\n",
      "428/428 [==============================] - 1s 3ms/step - loss: 0.6093 - accuracy: 0.6655 - val_loss: 0.6089 - val_accuracy: 0.6574\n",
      "Epoch 19/30\n",
      "428/428 [==============================] - 1s 3ms/step - loss: 0.6089 - accuracy: 0.6656 - val_loss: 0.6085 - val_accuracy: 0.6588\n",
      "Epoch 20/30\n",
      "428/428 [==============================] - 1s 3ms/step - loss: 0.6085 - accuracy: 0.6656 - val_loss: 0.6081 - val_accuracy: 0.6588\n",
      "Epoch 21/30\n",
      "428/428 [==============================] - 1s 3ms/step - loss: 0.6081 - accuracy: 0.6656 - val_loss: 0.6077 - val_accuracy: 0.6588\n",
      "Epoch 22/30\n",
      "428/428 [==============================] - 1s 3ms/step - loss: 0.6077 - accuracy: 0.6656 - val_loss: 0.6073 - val_accuracy: 0.6588\n",
      "Epoch 23/30\n",
      "428/428 [==============================] - 1s 3ms/step - loss: 0.6074 - accuracy: 0.6655 - val_loss: 0.6070 - val_accuracy: 0.6588\n",
      "Epoch 24/30\n",
      "428/428 [==============================] - 1s 3ms/step - loss: 0.6069 - accuracy: 0.6656 - val_loss: 0.6066 - val_accuracy: 0.6588\n",
      "Epoch 25/30\n",
      "428/428 [==============================] - 1s 3ms/step - loss: 0.6066 - accuracy: 0.6655 - val_loss: 0.6063 - val_accuracy: 0.6588\n",
      "Epoch 26/30\n",
      "428/428 [==============================] - 1s 3ms/step - loss: 0.6063 - accuracy: 0.6655 - val_loss: 0.6060 - val_accuracy: 0.6574\n",
      "Epoch 27/30\n",
      "428/428 [==============================] - 1s 3ms/step - loss: 0.6060 - accuracy: 0.6655 - val_loss: 0.6056 - val_accuracy: 0.6574\n",
      "Epoch 28/30\n",
      "428/428 [==============================] - 1s 3ms/step - loss: 0.6056 - accuracy: 0.6655 - val_loss: 0.6053 - val_accuracy: 0.6574\n",
      "Epoch 29/30\n",
      "428/428 [==============================] - 1s 3ms/step - loss: 0.6053 - accuracy: 0.6655 - val_loss: 0.6050 - val_accuracy: 0.6574\n",
      "Epoch 30/30\n",
      "428/428 [==============================] - 1s 3ms/step - loss: 0.6050 - accuracy: 0.6655 - val_loss: 0.6047 - val_accuracy: 0.6574\n"
     ]
    },
    {
     "data": {
      "text/plain": [
       "<keras.src.callbacks.History at 0x257a607eb90>"
      ]
     },
     "execution_count": 171,
     "metadata": {},
     "output_type": "execute_result"
    }
   ],
   "source": [
    "model.fit(X_train, y_train, \n",
    "          validation_data=(X_valid, y_valid),\n",
    "          batch_size=32,\n",
    "         epochs=30)"
   ]
  },
  {
   "cell_type": "code",
   "execution_count": 172,
   "id": "bfca5351",
   "metadata": {},
   "outputs": [
    {
     "name": "stdout",
     "output_type": "stream",
     "text": [
      "dict_keys(['loss', 'accuracy', 'val_loss', 'val_accuracy'])\n"
     ]
    },
    {
     "data": {
      "image/png": "[encoded data removed]",
      "text/plain": [
       "<Figure size 640x480 with 1 Axes>"
      ]
     },
     "metadata": {},
     "output_type": "display_data"
    }
   ],
   "source": [
    "print(model.history.history.keys())\n",
    "# summarize history for accuracy\n",
    "plt.plot(model.history.history['accuracy'])\n",
    "plt.plot(model.history.history['val_accuracy'])\n",
    "plt.title('model accuracy')\n",
    "plt.ylabel('accuracy')\n",
    "plt.xlabel('epoch')\n",
    "plt.legend(['train', 'val'], loc='upper left')\n",
    "plt.show()"
   ]
  },
  {
   "cell_type": "markdown",
   "id": "d91d094e",
   "metadata": {},
   "source": [
    "Предобученная модель"
   ]
  },
  {
   "cell_type": "code",
   "execution_count": 175,
   "id": "aae75f81",
   "metadata": {},
   "outputs": [],
   "source": [
    "model = gensim.models.KeyedVectors.load_word2vec_format('data/ruscorpora_upos_skipgram_300_5_2018.vec', binary=False)"
   ]
  },
  {
   "cell_type": "code",
   "execution_count": null,
   "id": "682e5d08",
   "metadata": {},
   "outputs": [],
   "source": [
    "model['март_NOUN']"
   ]
  },
  {
   "cell_type": "code",
   "execution_count": 177,
   "id": "5a68fa79",
   "metadata": {},
   "outputs": [
    {
     "data": {
      "text/plain": [
       "[('март_NOUN', 0.9469264149665833),\n",
       " ('январь_NOUN', 0.9385507702827454),\n",
       " ('декабрь_NOUN', 0.9291070699691772),\n",
       " ('ноябрь_NOUN', 0.9287325739860535),\n",
       " ('апрель_NOUN', 0.9180451035499573),\n",
       " ('октябрь_NOUN', 0.9116759300231934),\n",
       " ('май_NOUN', 0.8881860375404358),\n",
       " ('сентябрь_NOUN', 0.884035050868988),\n",
       " ('июнь_NOUN', 0.8719688057899475),\n",
       " ('август_NOUN', 0.8699690699577332)]"
      ]
     },
     "execution_count": 177,
     "metadata": {},
     "output_type": "execute_result"
    }
   ],
   "source": [
    "model.most_similar('февраль_NOUN')"
   ]
  },
  {
   "cell_type": "code",
   "execution_count": 179,
   "id": "6967efe6",
   "metadata": {},
   "outputs": [],
   "source": [
    "mapping = {}\n",
    "\n",
    "for line in open('data/ru-rnc.map'):\n",
    "    ms, ud = line.strip('\\n').split()\n",
    "    mapping[ms] = ud"
   ]
  },
  {
   "cell_type": "code",
   "execution_count": 180,
   "id": "04e01b5c",
   "metadata": {},
   "outputs": [],
   "source": [
    "from pymystem3 import Mystem\n",
    "m = Mystem()"
   ]
  },
  {
   "cell_type": "code",
   "execution_count": 181,
   "id": "322cb5d8",
   "metadata": {},
   "outputs": [],
   "source": [
    "\n",
    "def normalize_mystem(text):\n",
    "    tokens = []\n",
    "    norm_words = m.analyze(text)\n",
    "    for norm_word in norm_words:\n",
    "        if 'analysis' not in norm_word:\n",
    "            continue\n",
    "            \n",
    "        if not len(norm_word['analysis']):\n",
    "            lemma = norm_word['text']\n",
    "            pos = 'UNKN'\n",
    "        else:\n",
    "            lemma = norm_word[\"analysis\"][0][\"lex\"].lower().strip()\n",
    "            pos = norm_word[\"analysis\"][0][\"gr\"].split(',')[0]\n",
    "            pos = pos.split('=')[0].strip()\n",
    "        pos = mapping[pos]\n",
    "        tokens.append(lemma+'_'+pos)\n",
    "\n",
    "    return tokens\n"
   ]
  },
  {
   "cell_type": "code",
   "execution_count": 182,
   "id": "17ccf190",
   "metadata": {},
   "outputs": [],
   "source": [
    "data['norm_text_2'] = data.comment.apply(normalize_mystem)"
   ]
  },
  {
   "cell_type": "code",
   "execution_count": null,
   "id": "2b99d718",
   "metadata": {},
   "outputs": [],
   "source": [
    "vocab1 = Counter()\n",
    "\n",
    "for text in data['norm_text_2']:\n",
    "    vocab1.update(text)\n",
    "    \n",
    "filtered_vocab1 = set()\n",
    "\n",
    "for word in vocab:\n",
    "    if vocab1[word] > 5:\n",
    "        filtered_vocab1.add(word)\n",
    "\n",
    "len(filtered_vocab1)"
   ]
  },
  {
   "cell_type": "code",
   "execution_count": null,
   "id": "0e7fbc2e",
   "metadata": {},
   "outputs": [],
   "source": [
    "word2id1 = { 'PAD':0}\n",
    "\n",
    "for word in filtered_vocab1:\n",
    "    word2id1[word] = len(word2id1)\n",
    "id2word1 = {i:word for word, i in word2id1.items()}"
   ]
  },
  {
   "cell_type": "code",
   "execution_count": null,
   "id": "6a354fcd",
   "metadata": {},
   "outputs": [],
   "source": [
    "X = []\n",
    "\n",
    "for tokens in data['norm_text_2']:\n",
    "    ids = [word2id1[token] for token in tokens if token in word2id1]\n",
    "    X.append(ids)"
   ]
  },
  {
   "cell_type": "code",
   "execution_count": null,
   "id": "9f0400e7",
   "metadata": {},
   "outputs": [],
   "source": [
    "X = tf.keras.preprocessing.sequence.pad_sequences(X, maxlen=100)\n",
    "y = data.toxic.values"
   ]
  },
  {
   "cell_type": "code",
   "execution_count": null,
   "id": "ec97befd",
   "metadata": {},
   "outputs": [],
   "source": [
    "X_train, X_valid, y_train, y_valid = train_test_split(X, y, test_size=0.05)"
   ]
  },
  {
   "cell_type": "code",
   "execution_count": null,
   "id": "93071b47",
   "metadata": {},
   "outputs": [],
   "source": [
    "weights_c5 = np.zeros((len(word2id1), 200))\n",
    "\n",
    "for word, i in word2id1.items():\n",
    "    # вектор паддинга оставим нулевым\n",
    "    if word == 'PAD':\n",
    "        continue\n",
    "\n",
    "    try:\n",
    "        weights_c5[i] = model.wv[word]\n",
    "    \n",
    "    \n",
    "    except KeyError:\n",
    "        # для слов, которых нет в модели тоже возьмем какой-то  рандомный вектор\n",
    "        continue\n",
    "        weights_c5[i] = model.wv['опрагпллирао']"
   ]
  },
  {
   "cell_type": "code",
   "execution_count": null,
   "id": "fcff12d1",
   "metadata": {},
   "outputs": [],
   "source": [
    "inputs = tf.keras.layers.Input(shape=(100,))\n",
    "\n",
    "# передаем матрицу в эмбединг слой\n",
    "# указываем параметр trainable=False, чтобы вектора не обучались\n",
    "# Пояснение: кажется, что обучение векторов отключать не стоит, так как модель должна взять готовые \n",
    "# эмбединги и подогнать их к нашей задаче. На практитке это однако не работает - эмбединги просто \n",
    "# # обучатся заново\n",
    "embeddings = tf.keras.layers.Embedding(input_dim=len(word2id1), output_dim=200, \n",
    "                                       trainable=False,\n",
    "                                       weights=[weights_c5])(inputs, )\n",
    "mean = tf.keras.layers.Lambda(lambda x: tf.keras.backend.mean(x,  axis=1))(embeddings)\n",
    "\n",
    "outputs = tf.keras.layers.Dense(1, activation='sigmoid')(mean)\n",
    "\n",
    "model = tf.keras.Model(inputs=inputs, outputs=outputs)\n",
    "optimizer = tf.keras.optimizers.Adam()\n",
    "model.compile(optimizer=optimizer,\n",
    "              loss='binary_crossentropy',\n",
    "              metrics=['accuracy'])"
   ]
  },
  {
   "cell_type": "code",
   "execution_count": null,
   "id": "8ec73ea1",
   "metadata": {},
   "outputs": [],
   "source": [
    "model.fit(X_train, y_train, \n",
    "          validation_data=(X_valid, y_valid),\n",
    "          batch_size=32,\n",
    "         epochs=30)"
   ]
  },
  {
   "cell_type": "code",
   "execution_count": null,
   "id": "0ab25d96",
   "metadata": {},
   "outputs": [],
   "source": [
    "print(model.history.history.keys())\n",
    "# summarize history for accuracy\n",
    "plt.plot(model.history.history['accuracy'])\n",
    "plt.plot(model.history.history['val_accuracy'])\n",
    "plt.title('model accuracy')\n",
    "plt.ylabel('accuracy')\n",
    "plt.xlabel('epoch')\n",
    "plt.legend(['train', 'val'], loc='upper left')\n",
    "plt.show()"
   ]
  },
  {
   "cell_type": "code",
   "execution_count": null,
   "id": "f4556e04",
   "metadata": {},
   "outputs": [],
   "source": []
  },
  {
   "cell_type": "markdown",
   "id": "15a4f9a7",
   "metadata": {},
   "source": [
    "Лучше других показала себя предобученная модель"
   ]
  },
  {
   "cell_type": "markdown",
   "id": "28a99574",
   "metadata": {},
   "source": []
  }
 ],
 "metadata": {
  "kernelspec": {
   "display_name": "Python 3 (ipykernel)",
   "language": "python",
   "name": "python3"
  },
  "language_info": {
   "codemirror_mode": {
    "name": "ipython",
    "version": 3
   },
   "file_extension": ".py",
   "mimetype": "text/x-python",
   "name": "python",
   "nbconvert_exporter": "python",
   "pygments_lexer": "ipython3",
   "version": "3.11.5"
  }
 },
 "nbformat": 4,
 "nbformat_minor": 5
}
