{
  "cells": [
    {
      "cell_type": "markdown",
      "id": "a98604cb",
      "metadata": {
        "id": "a98604cb"
      },
      "source": [
        "Домашку будет легче делать в колабе (убедитесь, что у вас runtype с gpu)."
      ]
    },
    {
      "cell_type": "markdown",
      "id": "9c422aa0",
      "metadata": {
        "id": "9c422aa0"
      },
      "source": [
        "# Задание 1 (3 балла)"
      ]
    },
    {
      "cell_type": "markdown",
      "id": "e4a72790",
      "metadata": {
        "id": "e4a72790"
      },
      "source": [
        "Обучите word2vec модели с негативным семплированием (cbow и skip-gram) с помощью tensorflow аналогично тому, как это было сделано в семинаре. Вам нужно изменить следующие пункты:\n",
        "1) добавьте лемматизацию в предобработку (любым способом)\n",
        "2) измените размер окна в большую или меньшую сторону\n",
        "3) измените размерность итоговых векторов\n",
        "\n",
        "Выберете несколько не похожих по смыслу слов (не таких как в семинаре), и протестируйте полученные эмбединги (найдите ближайшие слова и оцените качество, как в семинаре).\n",
        "Постарайтесь обучать модели как можно дольше и на как можно большем количестве данных. (Но если у вас мало времени или ресурсов, то допустимо взять поменьше данных и поставить меньше эпох)"
      ]
    },
    {
      "cell_type": "code",
      "execution_count": 1,
      "id": "cde5fd96",
      "metadata": {
        "colab": {
          "base_uri": "https://localhost:8080/"
        },
        "id": "cde5fd96",
        "outputId": "1b76b05b-25ab-4691-f26f-190f8ccd9044"
      },
      "outputs": [
        {
          "name": "stderr",
          "output_type": "stream",
          "text": [
            "Installing mystem to /root/.local/bin/mystem from http://download.cdn.yandex.net/mystem/mystem-3.1-linux-64bit.tar.gz\n"
          ]
        }
      ],
      "source": [
        "import tensorflow as tf\n",
        "import numpy as np\n",
        "import pandas as pd\n",
        "from string import punctuation\n",
        "from sklearn.model_selection import train_test_split\n",
        "from collections import Counter\n",
        "import matplotlib.pyplot as plt\n",
        "from sklearn.decomposition import TruncatedSVD\n",
        "from sklearn.feature_extraction.text import CountVectorizer\n",
        "from sklearn.metrics.pairwise import cosine_distances\n",
        "\n",
        "from IPython.display import Image\n",
        "from IPython.core.display import HTML\n",
        "%matplotlib inline\n",
        "\n",
        "from tqdm.auto import tqdm\n",
        "from pymystem3 import Mystem\n",
        "mystem = Mystem()"
      ]
    },
    {
      "cell_type": "code",
      "execution_count": 2,
      "id": "Uc3CCRb6Ujme",
      "metadata": {
        "colab": {
          "base_uri": "https://localhost:8080/"
        },
        "id": "Uc3CCRb6Ujme",
        "outputId": "d7757cd4-fd08-478f-e30e-9eb84252f44b"
      },
      "outputs": [
        {
          "name": "stdout",
          "output_type": "stream",
          "text": [
            "Mounted at /content/drive\n"
          ]
        }
      ],
      "source": [
        "from google.colab import drive\n",
        "drive.mount('/content/drive')"
      ]
    },
    {
      "cell_type": "code",
      "execution_count": 3,
      "id": "718cb5f9",
      "metadata": {
        "id": "718cb5f9"
      },
      "outputs": [],
      "source": [
        "wiki = open('/content/drive/MyDrive/wiki_data.txt', 'r', encoding='utf-8').read().split('\\n')"
      ]
    },
    {
      "cell_type": "code",
      "execution_count": 4,
      "id": "81fe86ea",
      "metadata": {
        "id": "81fe86ea"
      },
      "outputs": [],
      "source": [
        "def most_similar(word, embeddings):\n",
        "    similar = [id2word[i] for i in\n",
        "               cosine_distances(embeddings[word2id[word]].reshape(1, -1), embeddings).argsort()[0][:10]]\n",
        "    return similar"
      ]
    },
    {
      "cell_type": "code",
      "execution_count": 5,
      "id": "Akm7VAZYoxho",
      "metadata": {
        "colab": {
          "base_uri": "https://localhost:8080/"
        },
        "id": "Akm7VAZYoxho",
        "outputId": "8891d569-2e47-4d1d-adc2-7a9884941816"
      },
      "outputs": [
        {
          "name": "stdout",
          "output_type": "stream",
          "text": [
            "Collecting pymorphy3\n",
            "  Downloading pymorphy3-2.0.1-py3-none-any.whl (53 kB)\n",
            "\u001b[?25l     \u001b[90m━━━━━━━━━━━━━━━━━━━━━━━━━━━━━━━━━━━━━━━━\u001b[0m \u001b[32m0.0/53.2 kB\u001b[0m \u001b[31m?\u001b[0m eta \u001b[36m-:--:--\u001b[0m\r\u001b[2K     \u001b[90m━━━━━━━━━━━━━━━━━━━━━━━━━━━━━━━━━━━━━━━━\u001b[0m \u001b[32m53.2/53.2 kB\u001b[0m \u001b[31m2.3 MB/s\u001b[0m eta \u001b[36m0:00:00\u001b[0m\n",
            "\u001b[?25hCollecting dawg-python>=0.7.1 (from pymorphy3)\n",
            "  Downloading DAWG_Python-0.7.2-py2.py3-none-any.whl (11 kB)\n",
            "Collecting pymorphy3-dicts-ru (from pymorphy3)\n",
            "  Downloading pymorphy3_dicts_ru-2.4.417150.4580142-py2.py3-none-any.whl (8.4 MB)\n",
            "\u001b[2K     \u001b[90m━━━━━━━━━━━━━━━━━━━━━━━━━━━━━━━━━━━━━━━━\u001b[0m \u001b[32m8.4/8.4 MB\u001b[0m \u001b[31m80.5 MB/s\u001b[0m eta \u001b[36m0:00:00\u001b[0m\n",
            "\u001b[?25hInstalling collected packages: pymorphy3-dicts-ru, dawg-python, pymorphy3\n",
            "Successfully installed dawg-python-0.7.2 pymorphy3-2.0.1 pymorphy3-dicts-ru-2.4.417150.4580142\n"
          ]
        }
      ],
      "source": [
        "pip install pymorphy3"
      ]
    },
    {
      "cell_type": "markdown",
      "id": "bbd69c04",
      "metadata": {
        "id": "bbd69c04"
      },
      "source": [
        "Добавил лемматизацию через pymorphy3"
      ]
    },
    {
      "cell_type": "code",
      "execution_count": 6,
      "id": "2b44ac86",
      "metadata": {
        "id": "2b44ac86"
      },
      "outputs": [],
      "source": [
        "from pymorphy3 import MorphAnalyzer\n",
        "import re\n",
        "def preprocess(text):\n",
        "    morph = MorphAnalyzer()\n",
        "    tokens = re.sub('#+', ' ', text.lower()).split()\n",
        "    tokens = [token.strip(punctuation) for token in tokens]\n",
        "    tokens = [token for token in tokens if token]\n",
        "    tokens = [morph.parse(token)[0].normal_form for token in tokens]\n",
        "    return tokens"
      ]
    },
    {
      "cell_type": "code",
      "execution_count": 7,
      "id": "cd261ff3",
      "metadata": {
        "colab": {
          "base_uri": "https://localhost:8080/",
          "height": 49,
          "referenced_widgets": [
            "8a36f04f946042168fafe6e9d7de042f",
            "9c99377271a346db9c3a19c2e97f7ad2",
            "328faa7d6111443491cd4f7cf2fb38c5",
            "a5d6e638755c44d8a876be863540b684",
            "a7df231cf35a480cbf56cad02583d8c6",
            "3d85999d45d04034b14991d17201ead5",
            "734b2d9fecba40c4acc4435f8865e5cf",
            "1788ec52bc2c427298295041d22527e2",
            "c31d0061c05647be80d73b9a59d90597",
            "f1fbbb2eb7074368ad72376caa928e07",
            "4c05c36cd2c2429084dbf7fcb2b4478b"
          ]
        },
        "id": "cd261ff3",
        "outputId": "89ca3187-16d9-4d4b-cfbd-ac8b5537bae2"
      },
      "outputs": [
        {
          "data": {
            "application/vnd.jupyter.widget-view+json": {
              "model_id": "8a36f04f946042168fafe6e9d7de042f",
              "version_major": 2,
              "version_minor": 0
            },
            "text/plain": [
              "  0%|          | 0/20003 [00:00<?, ?it/s]"
            ]
          },
          "metadata": {},
          "output_type": "display_data"
        }
      ],
      "source": [
        "vocab = Counter()\n",
        "\n",
        "for text in tqdm(wiki):\n",
        "    vocab.update(preprocess(text))\n"
      ]
    },
    {
      "cell_type": "code",
      "execution_count": 8,
      "id": "8be8b776",
      "metadata": {
        "colab": {
          "base_uri": "https://localhost:8080/"
        },
        "id": "8be8b776",
        "outputId": "3f8cd4e3-1832-4257-eb40-56de9b6db8a7"
      },
      "outputs": [
        {
          "data": {
            "text/plain": [
              "[('в', 275172),\n",
              " ('и', 146585),\n",
              " ('год', 94984),\n",
              " ('на', 81230),\n",
              " ('—', 67491),\n",
              " ('с', 65101),\n",
              " ('быть', 58292),\n",
              " ('он', 38697),\n",
              " ('по', 36506),\n",
              " ('из', 26665)]"
            ]
          },
          "execution_count": 8,
          "metadata": {},
          "output_type": "execute_result"
        }
      ],
      "source": [
        "vocab.most_common(10)"
      ]
    },
    {
      "cell_type": "code",
      "execution_count": 9,
      "id": "5022061b",
      "metadata": {
        "colab": {
          "base_uri": "https://localhost:8080/"
        },
        "id": "5022061b",
        "outputId": "23489bfd-dc50-4a45-c4bd-514b9e7bafa8"
      },
      "outputs": [
        {
          "data": {
            "text/plain": [
              "12460"
            ]
          },
          "execution_count": 9,
          "metadata": {},
          "output_type": "execute_result"
        }
      ],
      "source": [
        "filtered_vocab = set()\n",
        "\n",
        "for word in vocab:\n",
        "    if vocab[word] > 30:\n",
        "        filtered_vocab.add(word)\n",
        "\n",
        "len(filtered_vocab)"
      ]
    },
    {
      "cell_type": "code",
      "execution_count": 10,
      "id": "4f71d7cb",
      "metadata": {
        "id": "4f71d7cb"
      },
      "outputs": [],
      "source": [
        "word2id = {'PAD':0}\n",
        "\n",
        "for word in filtered_vocab:\n",
        "    word2id[word] = len(word2id)"
      ]
    },
    {
      "cell_type": "code",
      "execution_count": 11,
      "id": "1d8e37ab",
      "metadata": {
        "id": "1d8e37ab"
      },
      "outputs": [],
      "source": [
        "id2word = {i:word for word, i in word2id.items()}"
      ]
    },
    {
      "cell_type": "code",
      "execution_count": 12,
      "id": "736f6478",
      "metadata": {
        "colab": {
          "base_uri": "https://localhost:8080/",
          "height": 49,
          "referenced_widgets": [
            "13396a1269304c69afb3e0a774195ed4",
            "2bead5514a204fd6bfeb922eab78c622",
            "d61e2f70a2e44417a19eb44d58e00384",
            "31283d72e1634fba8113a572271e1c37",
            "2fbe4c4986f2485f91153420f81fe923",
            "173b4193565f4b98a44bdde9302d2333",
            "8efa04505a074a2e8589ced35c024222",
            "bff244e1a0df4f94b30f4535ce45de0c",
            "cca72c435d2a454e89574bb8fc675cef",
            "8df7b405d6bd4bdfaf5be7831f4dd16d",
            "2308c6adaef9422590f3a74179661988"
          ]
        },
        "id": "736f6478",
        "outputId": "26eb98ca-a916-4f2c-aa89-027f85b68fb5"
      },
      "outputs": [
        {
          "data": {
            "application/vnd.jupyter.widget-view+json": {
              "model_id": "13396a1269304c69afb3e0a774195ed4",
              "version_major": 2,
              "version_minor": 0
            },
            "text/plain": [
              "  0%|          | 0/20003 [00:00<?, ?it/s]"
            ]
          },
          "metadata": {},
          "output_type": "display_data"
        }
      ],
      "source": [
        "sentences = []\n",
        "\n",
        "for text in tqdm(wiki):\n",
        "    tokens = preprocess(text)\n",
        "    if not tokens:\n",
        "        continue\n",
        "    ids = [word2id[token] for token in tokens if token in word2id]\n",
        "    sentences.append(ids)"
      ]
    },
    {
      "cell_type": "markdown",
      "id": "9a0b8096",
      "metadata": {
        "id": "9a0b8096"
      },
      "source": [
        "Изменил окно в большую сторону"
      ]
    },
    {
      "cell_type": "code",
      "execution_count": 13,
      "id": "afe5c61c",
      "metadata": {
        "id": "afe5c61c"
      },
      "outputs": [],
      "source": [
        "vocab_size = len(id2word)"
      ]
    },
    {
      "cell_type": "code",
      "execution_count": 14,
      "id": "50439ebd",
      "metadata": {
        "id": "50439ebd"
      },
      "outputs": [],
      "source": [
        "# skip gram\n",
        "def gen_batches_sg(sentences, window = 7, batch_size=1000):\n",
        "\n",
        "    # параметр window задает его целиком\n",
        "    # нам нужно поделить его пополам на левую и правую часть\n",
        "    # когда делится неровно, то левая часть больше на 1\n",
        "    left_context_length = (window/2).__ceil__() # округлить в большую сторону\n",
        "    right_context_length = window // 2 # округлить в меньшую сторону\n",
        "\n",
        "    while True:\n",
        "        X_target = []\n",
        "        X_context = []\n",
        "        y = []\n",
        "\n",
        "        for sent in sentences:\n",
        "            for i in range(len(sent)-1):\n",
        "                word = sent[i]\n",
        "                context = sent[max(0, i-left_context_length):i] + sent[i+1:i+right_context_length]\n",
        "                for context_word in context:\n",
        "                    X_target.append(word)\n",
        "                    X_context.append(context_word)\n",
        "                    y.append(1)\n",
        "\n",
        "                    X_target.append(word)\n",
        "                    X_context.append(np.random.randint(vocab_size))\n",
        "                    y.append(0)\n",
        "\n",
        "                    if len(X_target) >= batch_size:\n",
        "                        X_target = np.array(X_target)\n",
        "                        X_context = np.array(X_context)\n",
        "                        y = np.array(y)\n",
        "                        yield ((X_target, X_context), y)\n",
        "                        X_target = []\n",
        "                        X_context = []\n",
        "                        y = []\n"
      ]
    },
    {
      "cell_type": "code",
      "execution_count": 15,
      "id": "29bfcd87",
      "metadata": {
        "id": "29bfcd87"
      },
      "outputs": [],
      "source": [
        "# # cbow\n",
        "def gen_batches_cbow(sentences, window = 7, batch_size=1000):\n",
        "\n",
        "    # параметр window задает его целиком\n",
        "    # нам нужно поделить его пополам на левую и правую часть\n",
        "    # когда делится неровно, то левая часть больше на 1\n",
        "    left_context_length = (window/2).__ceil__() # округлить в большую сторону\n",
        "    right_context_length = window // 2 # округлить в меньшую сторону\n",
        "\n",
        "    while True:\n",
        "        X_target = []\n",
        "        X_context = []\n",
        "        y = []\n",
        "\n",
        "        for sent in sentences:\n",
        "            for i in range(len(sent)-1):\n",
        "                word = sent[i]\n",
        "                context = sent[max(0, i-left_context_length):i] + sent[i+1:i+right_context_length]\n",
        "\n",
        "                X_target.append(word)\n",
        "                X_context.append(context)\n",
        "                y.append(1)\n",
        "\n",
        "                X_target.append(np.random.randint(vocab_size))\n",
        "                X_context.append(context)\n",
        "                y.append(0)\n",
        "\n",
        "                if len(X_target) == batch_size:\n",
        "                    X_target = np.array(X_target)\n",
        "                    X_context = tf.keras.preprocessing.sequence.pad_sequences(X_context, maxlen=window)\n",
        "                    y = np.array(y)\n",
        "                    yield ((X_target, X_context), y)\n",
        "                    X_target = []\n",
        "                    X_context = []\n",
        "                    y = []"
      ]
    },
    {
      "cell_type": "markdown",
      "id": "455519d1",
      "metadata": {
        "id": "455519d1"
      },
      "source": [
        "Размер итогового вектора установил 200"
      ]
    },
    {
      "cell_type": "code",
      "execution_count": 16,
      "id": "f7693b06",
      "metadata": {
        "id": "f7693b06"
      },
      "outputs": [],
      "source": [
        "inputs_target = tf.keras.layers.Input(shape=(1,))\n",
        "inputs_context = tf.keras.layers.Input(shape=(1,))\n",
        "\n",
        "\n",
        "embeddings_target = tf.keras.layers.Embedding(input_dim=len(word2id), output_dim=200)(inputs_target, )\n",
        "embeddings_context = tf.keras.layers.Embedding(input_dim=len(word2id), output_dim=200)(inputs_context, )\n",
        "\n",
        "target = tf.keras.layers.Flatten()(embeddings_target)\n",
        "context = tf.keras.layers.Flatten()(embeddings_context)\n",
        "\n",
        "dot = tf.keras.layers.Dot(1)([target, context])\n",
        "outputs = tf.keras.layers.Activation(activation='sigmoid')(dot)\n",
        "\n",
        "model_1 = tf.keras.Model(inputs=[inputs_target, inputs_context],\n",
        "                       outputs=outputs)\n",
        "optimizer = tf.keras.optimizers.Adam(learning_rate=0.001)\n",
        "model_1.compile(optimizer=optimizer,\n",
        "              loss='binary_crossentropy',\n",
        "              metrics=['accuracy'])\n",
        "\n",
        "\n"
      ]
    },
    {
      "cell_type": "code",
      "execution_count": 17,
      "id": "faed8ed4",
      "metadata": {
        "colab": {
          "base_uri": "https://localhost:8080/"
        },
        "id": "faed8ed4",
        "outputId": "a287e3bb-47e8-4d75-92b7-80559a330ca6"
      },
      "outputs": [
        {
          "name": "stdout",
          "output_type": "stream",
          "text": [
            "Epoch 1/2\n",
            "10000/10000 [==============================] - 89s 9ms/step - loss: 0.4394 - accuracy: 0.8057 - val_loss: 0.4742 - val_accuracy: 0.8008\n",
            "Epoch 2/2\n",
            "10000/10000 [==============================] - 71s 7ms/step - loss: 0.4053 - accuracy: 0.8249 - val_loss: 0.4101 - val_accuracy: 0.8240\n"
          ]
        },
        {
          "data": {
            "text/plain": [
              "<keras.src.callbacks.History at 0x7d1791662ef0>"
            ]
          },
          "execution_count": 17,
          "metadata": {},
          "output_type": "execute_result"
        }
      ],
      "source": [
        "model_1.fit(gen_batches_sg(sentences[:19000], window=7),\n",
        "          validation_data=gen_batches_sg(sentences[19000:],  window=7),\n",
        "          batch_size=1000,\n",
        "          steps_per_epoch=10000,\n",
        "          validation_steps=30,\n",
        "         epochs=2)"
      ]
    },
    {
      "cell_type": "code",
      "execution_count": 18,
      "id": "afaa6458",
      "metadata": {
        "colab": {
          "base_uri": "https://localhost:8080/",
          "height": 489
        },
        "id": "afaa6458",
        "outputId": "0802b481-9042-42f1-a97e-9312b119e5d1"
      },
      "outputs": [
        {
          "name": "stdout",
          "output_type": "stream",
          "text": [
            "dict_keys(['loss', 'accuracy', 'val_loss', 'val_accuracy'])\n"
          ]
        },
        {
          "data": {
            "image/png": "[encoded data removed]",
            "text/plain": [
              "<Figure size 640x480 with 1 Axes>"
            ]
          },
          "metadata": {},
          "output_type": "display_data"
        }
      ],
      "source": [
        "print(model_1.history.history.keys())\n",
        "# summarize history for accuracy\n",
        "plt.plot(model_1.history.history['loss'])\n",
        "plt.plot(model_1.history.history['val_loss'])\n",
        "plt.title('model loss')\n",
        "plt.ylabel('loss')\n",
        "plt.xlabel('epoch')\n",
        "plt.legend(['train', 'val'], loc='upper left')\n",
        "plt.show()"
      ]
    },
    {
      "cell_type": "code",
      "execution_count": 19,
      "id": "518c5e4b",
      "metadata": {
        "id": "518c5e4b"
      },
      "outputs": [],
      "source": [
        "embeddings = model_1.layers[2].get_weights()[0]"
      ]
    },
    {
      "cell_type": "code",
      "execution_count": 20,
      "id": "6c54cf1d",
      "metadata": {
        "colab": {
          "base_uri": "https://localhost:8080/"
        },
        "id": "6c54cf1d",
        "outputId": "783e1d81-278a-4ddd-d7a6-2df9c73ba362"
      },
      "outputs": [
        {
          "data": {
            "text/plain": [
              "array([ 0.03612179, -0.00800356, -0.01793056, -0.01818651, -0.02158554,\n",
              "        0.04772821, -0.01293678, -0.00428528,  0.04138586,  0.03820044,\n",
              "       -0.04025376, -0.01220987,  0.00461769,  0.00244509,  0.01704263,\n",
              "       -0.0391467 ,  0.00478657, -0.04015514,  0.04136806,  0.00897982,\n",
              "       -0.04256188, -0.04775557,  0.03624655,  0.02432204, -0.01845293,\n",
              "       -0.00738419,  0.00871778, -0.0058583 ,  0.0249101 ,  0.00330309,\n",
              "       -0.04313456,  0.02200732,  0.01664252,  0.03985126,  0.04275891,\n",
              "        0.03593011,  0.0257482 , -0.04571025, -0.0167791 , -0.00531044,\n",
              "       -0.04323728,  0.03233496,  0.04906387,  0.04572633, -0.00665673,\n",
              "       -0.04317892, -0.0230144 , -0.04460243, -0.000415  , -0.02878227,\n",
              "       -0.02432775,  0.0373941 , -0.01535435,  0.01018083, -0.00696099,\n",
              "        0.04015018, -0.03027339,  0.04031748,  0.04042381, -0.04942995,\n",
              "       -0.03698749, -0.02345373, -0.0165992 ,  0.00967631, -0.01675788,\n",
              "       -0.04945279, -0.00966744, -0.04578979, -0.00569129,  0.00067975,\n",
              "       -0.01564013,  0.04130704,  0.03216579,  0.02048371,  0.03458686,\n",
              "        0.02363806,  0.03582808, -0.00461859, -0.03570837,  0.03449545,\n",
              "        0.04599874,  0.03638447, -0.03807727,  0.01544038,  0.01889361,\n",
              "        0.01641298, -0.03058568, -0.03462654, -0.01202953,  0.02968608,\n",
              "       -0.01424087, -0.00459906,  0.04295974,  0.01020925, -0.04531185,\n",
              "        0.03863298,  0.01838029, -0.01758776, -0.01840935,  0.02858059,\n",
              "        0.01747395,  0.01361999, -0.02203915, -0.0079577 ,  0.04106823,\n",
              "       -0.00237591,  0.03363812, -0.03989844,  0.02693084, -0.04727173,\n",
              "        0.02344198,  0.0188668 ,  0.04358143,  0.03288763,  0.00905069,\n",
              "        0.00465666, -0.03432261,  0.02815583,  0.02146759, -0.02163652,\n",
              "       -0.03972994, -0.00194001, -0.02287234, -0.04481608,  0.00569317,\n",
              "       -0.02674304,  0.03495853,  0.02398873,  0.0046723 , -0.00325899,\n",
              "       -0.00978427, -0.04958731, -0.01964387,  0.01981394, -0.03406785,\n",
              "       -0.02274344,  0.00541304, -0.01352642,  0.01493031,  0.03729868,\n",
              "        0.03568453, -0.00793381, -0.02000804,  0.02017779, -0.02238259,\n",
              "        0.0127059 ,  0.04911467,  0.04117501,  0.02923464,  0.04545733,\n",
              "       -0.02687596,  0.01099735, -0.02632487, -0.03801849,  0.02153081,\n",
              "        0.02253492, -0.0023044 ,  0.00142229,  0.01893767, -0.00064548,\n",
              "       -0.01663414,  0.01230881,  0.04646546, -0.00276294,  0.00688247,\n",
              "       -0.03685673, -0.00968791,  0.02309711, -0.02734143,  0.01725552,\n",
              "       -0.02492304,  0.03692312, -0.0159808 , -0.03118439, -0.01061629,\n",
              "        0.03577945,  0.0037851 ,  0.02650606,  0.04502254,  0.00322462,\n",
              "       -0.02573413, -0.00568122, -0.04499412, -0.04858402, -0.04492308,\n",
              "       -0.03660824,  0.01982978, -0.0270767 ,  0.04303138, -0.00602057,\n",
              "        0.04401798, -0.03115487,  0.03309568,  0.00818183, -0.02153621,\n",
              "        0.02321913, -0.02765921, -0.0490778 , -0.02373796,  0.0444075 ],\n",
              "      dtype=float32)"
            ]
          },
          "execution_count": 20,
          "metadata": {},
          "output_type": "execute_result"
        }
      ],
      "source": [
        "embeddings[0]"
      ]
    },
    {
      "cell_type": "code",
      "execution_count": 21,
      "id": "75b35fee",
      "metadata": {
        "colab": {
          "base_uri": "https://localhost:8080/"
        },
        "id": "75b35fee",
        "outputId": "fac04990-47d7-4c2c-c945-1d489c5a3551"
      },
      "outputs": [
        {
          "data": {
            "text/plain": [
              "['церковь',\n",
              " 'храм',\n",
              " 'монастырь',\n",
              " 'православный',\n",
              " 'святой',\n",
              " 'собор',\n",
              " 'святитель',\n",
              " 'лик',\n",
              " 'епархия',\n",
              " 'придел']"
            ]
          },
          "execution_count": 21,
          "metadata": {},
          "output_type": "execute_result"
        }
      ],
      "source": [
        "most_similar('церковь', embeddings)"
      ]
    },
    {
      "cell_type": "code",
      "execution_count": 22,
      "id": "e44981e7",
      "metadata": {
        "colab": {
          "base_uri": "https://localhost:8080/"
        },
        "id": "e44981e7",
        "outputId": "3e583e31-a84b-4499-cba7-ec6a532998b5"
      },
      "outputs": [
        {
          "data": {
            "text/plain": [
              "['кран',\n",
              " 'пучок',\n",
              " 'жёсткость',\n",
              " 'пакет',\n",
              " 'чётко',\n",
              " 'слепой',\n",
              " 'поставлять',\n",
              " 'почувствовать',\n",
              " 'рана',\n",
              " 'ракета']"
            ]
          },
          "execution_count": 22,
          "metadata": {},
          "output_type": "execute_result"
        }
      ],
      "source": [
        "most_similar('кран', embeddings)"
      ]
    },
    {
      "cell_type": "code",
      "execution_count": 23,
      "id": "8e505d67",
      "metadata": {
        "colab": {
          "base_uri": "https://localhost:8080/"
        },
        "id": "8e505d67",
        "outputId": "335e64ae-ccb3-479d-a230-798aec0b136f"
      },
      "outputs": [
        {
          "data": {
            "text/plain": [
              "['офис',\n",
              " 'тематический',\n",
              " 'брехт',\n",
              " 'газетный',\n",
              " 'узловой',\n",
              " 'тайский',\n",
              " 'доходный',\n",
              " 'пародия',\n",
              " 'вымирание',\n",
              " 'царскосельский']"
            ]
          },
          "execution_count": 23,
          "metadata": {},
          "output_type": "execute_result"
        }
      ],
      "source": [
        "most_similar('офис', embeddings)"
      ]
    },
    {
      "cell_type": "code",
      "execution_count": 24,
      "id": "ed087c16",
      "metadata": {
        "id": "ed087c16"
      },
      "outputs": [],
      "source": [
        "#cbow negative sampling\n",
        "inputs_target = tf.keras.layers.Input(shape=(1,))\n",
        "inputs_context = tf.keras.layers.Input(shape=(10,))\n",
        "\n",
        "\n",
        "embeddings_target = tf.keras.layers.Embedding(input_dim=len(word2id), output_dim=200)(inputs_target, )\n",
        "embeddings_context = tf.keras.layers.Embedding(input_dim=len(word2id), output_dim=200)(inputs_context, )\n",
        "\n",
        "target = tf.keras.layers.Flatten()(embeddings_target)\n",
        "context = tf.keras.layers.Lambda(lambda x: tf.keras.backend.sum(x, axis=1))(embeddings_context)\n",
        "dot = tf.keras.layers.Dot(1)([target, context])\n",
        "\n",
        "# полученную близость нужно преобразовать в вероятность\n",
        "# когда она одна используется не софтмакс и сигмоида\n",
        "outputs = tf.keras.layers.Activation(activation='sigmoid')(dot)\n",
        "\n",
        "model_2 = tf.keras.Model(inputs=[inputs_target, inputs_context],\n",
        "                       outputs=outputs)\n",
        "\n",
        "\n",
        "optimizer = tf.keras.optimizers.Adam(learning_rate=0.001)\n",
        "model_2.compile(optimizer=optimizer,\n",
        "              loss='binary_crossentropy',\n",
        "              metrics=['accuracy'])\n"
      ]
    },
    {
      "cell_type": "code",
      "execution_count": 25,
      "id": "e6e311d9",
      "metadata": {
        "colab": {
          "base_uri": "https://localhost:8080/"
        },
        "id": "e6e311d9",
        "outputId": "5d9e5d35-5ec3-4b37-ca9d-3e8a506cb6f5"
      },
      "outputs": [
        {
          "name": "stdout",
          "output_type": "stream",
          "text": [
            "Epoch 1/2\n",
            "5000/5000 [==============================] - 127s 25ms/step - loss: 0.3714 - accuracy: 0.8400 - val_loss: 0.3143 - val_accuracy: 0.8720\n",
            "Epoch 2/2\n",
            "5000/5000 [==============================] - 60s 12ms/step - loss: 0.2817 - accuracy: 0.8842 - val_loss: 0.2614 - val_accuracy: 0.8945\n"
          ]
        },
        {
          "data": {
            "text/plain": [
              "<keras.src.callbacks.History at 0x7d1768b7b070>"
            ]
          },
          "execution_count": 25,
          "metadata": {},
          "output_type": "execute_result"
        }
      ],
      "source": [
        "model_2.fit(gen_batches_cbow(sentences[:19000], window=7),\n",
        "          validation_data=gen_batches_cbow(sentences[19000:],  window=7),\n",
        "          batch_size=1000,\n",
        "          steps_per_epoch=5000,\n",
        "          validation_steps=30,\n",
        "         epochs=2)"
      ]
    },
    {
      "cell_type": "code",
      "execution_count": 26,
      "id": "7bc899be",
      "metadata": {
        "colab": {
          "base_uri": "https://localhost:8080/",
          "height": 489
        },
        "id": "7bc899be",
        "outputId": "3a662d01-2eac-4c24-8782-49c3babd1e05"
      },
      "outputs": [
        {
          "name": "stdout",
          "output_type": "stream",
          "text": [
            "dict_keys(['loss', 'accuracy', 'val_loss', 'val_accuracy'])\n"
          ]
        },
        {
          "data": {
            "image/png": "[encoded data removed]",
            "text/plain": [
              "<Figure size 640x480 with 1 Axes>"
            ]
          },
          "metadata": {},
          "output_type": "display_data"
        }
      ],
      "source": [
        "print(model_2.history.history.keys())\n",
        "# summarize history for accuracy\n",
        "plt.plot(model_2.history.history['loss'])\n",
        "plt.plot(model_2.history.history['val_loss'])\n",
        "plt.title('model loss')\n",
        "plt.ylabel('loss')\n",
        "plt.xlabel('epoch')\n",
        "plt.legend(['train', 'val'], loc='upper left')\n",
        "plt.show()"
      ]
    },
    {
      "cell_type": "code",
      "execution_count": 27,
      "id": "5196a61f",
      "metadata": {
        "id": "5196a61f"
      },
      "outputs": [],
      "source": [
        "embeddings = model_2.layers[2].get_weights()[0]"
      ]
    },
    {
      "cell_type": "code",
      "execution_count": 28,
      "id": "cc2201db",
      "metadata": {
        "colab": {
          "base_uri": "https://localhost:8080/"
        },
        "id": "cc2201db",
        "outputId": "de55d32c-8813-460c-efd8-337a4275adfa"
      },
      "outputs": [
        {
          "data": {
            "text/plain": [
              "['церковь',\n",
              " 'храм',\n",
              " 'монастырь',\n",
              " 'собор',\n",
              " 'святой',\n",
              " 'икона',\n",
              " 'епископ',\n",
              " 'православный',\n",
              " 'построить',\n",
              " 'приход']"
            ]
          },
          "execution_count": 28,
          "metadata": {},
          "output_type": "execute_result"
        }
      ],
      "source": [
        "most_similar('церковь', embeddings)"
      ]
    },
    {
      "cell_type": "code",
      "execution_count": 29,
      "id": "e090238a",
      "metadata": {
        "colab": {
          "base_uri": "https://localhost:8080/"
        },
        "id": "e090238a",
        "outputId": "b4c0dd89-f5fe-4252-a914-027b324791e2"
      },
      "outputs": [
        {
          "data": {
            "text/plain": [
              "['кран',\n",
              " 'плитка',\n",
              " 'крючок',\n",
              " 'бизоновый',\n",
              " 'накопитель',\n",
              " 'рукоятка',\n",
              " 'имплантат',\n",
              " 'наклонный',\n",
              " 'дисплей',\n",
              " 'радар']"
            ]
          },
          "execution_count": 29,
          "metadata": {},
          "output_type": "execute_result"
        }
      ],
      "source": [
        "most_similar('кран', embeddings)"
      ]
    },
    {
      "cell_type": "code",
      "execution_count": 30,
      "id": "ee567de0",
      "metadata": {
        "colab": {
          "base_uri": "https://localhost:8080/"
        },
        "id": "ee567de0",
        "outputId": "16f58f6c-8b0a-4704-9b53-5080fc0a92f7"
      },
      "outputs": [
        {
          "data": {
            "text/plain": [
              "['офис',\n",
              " 'отель',\n",
              " 'оттава',\n",
              " 'кафе',\n",
              " 'гараж',\n",
              " 'сан-франциско',\n",
              " 'ижевск',\n",
              " 'коммунальный',\n",
              " 'казино',\n",
              " 'штаб-квартира']"
            ]
          },
          "execution_count": 30,
          "metadata": {},
          "output_type": "execute_result"
        }
      ],
      "source": [
        "most_similar('офис', embeddings)"
      ]
    },
    {
      "cell_type": "markdown",
      "id": "afbc1182",
      "metadata": {
        "id": "afbc1182"
      },
      "source": [
        "---------------"
      ]
    },
    {
      "cell_type": "markdown",
      "id": "c3b61b7c",
      "metadata": {
        "id": "c3b61b7c"
      },
      "source": [
        "# Задание 2 (3 балла)"
      ]
    },
    {
      "cell_type": "markdown",
      "id": "66eff080",
      "metadata": {
        "id": "66eff080"
      },
      "source": [
        "Обучите 1 word2vec и 1 fastext модель в gensim. В каждой из модели нужно задать все параметры, которые мы разбирали на семинаре. Заданные значения должны отличаться от дефолтных и от тех, что мы использовали на семинаре."
      ]
    },
    {
      "cell_type": "code",
      "execution_count": 31,
      "id": "986c2018",
      "metadata": {
        "colab": {
          "base_uri": "https://localhost:8080/"
        },
        "id": "986c2018",
        "outputId": "ef4f3cfa-d5ca-4d6d-f164-6973923bcf64"
      },
      "outputs": [
        {
          "name": "stdout",
          "output_type": "stream",
          "text": [
            "Requirement already satisfied: gensim in /usr/local/lib/python3.10/dist-packages (4.3.2)\n",
            "Requirement already satisfied: numpy>=1.18.5 in /usr/local/lib/python3.10/dist-packages (from gensim) (1.23.5)\n",
            "Requirement already satisfied: scipy>=1.7.0 in /usr/local/lib/python3.10/dist-packages (from gensim) (1.11.4)\n",
            "Requirement already satisfied: smart-open>=1.8.1 in /usr/local/lib/python3.10/dist-packages (from gensim) (6.4.0)\n"
          ]
        }
      ],
      "source": [
        "!pip install gensim"
      ]
    },
    {
      "cell_type": "code",
      "execution_count": 32,
      "id": "18cf5ddf",
      "metadata": {
        "id": "18cf5ddf"
      },
      "outputs": [],
      "source": [
        "import gensim"
      ]
    },
    {
      "cell_type": "code",
      "execution_count": 35,
      "id": "adf5744a",
      "metadata": {
        "id": "adf5744a"
      },
      "outputs": [],
      "source": [
        "wiki = open('/content/drive/MyDrive/wiki_data.txt', 'r', encoding='utf-8').read().split('\\n')"
      ]
    },
    {
      "cell_type": "code",
      "execution_count": 36,
      "id": "aadabfb5",
      "metadata": {
        "id": "aadabfb5"
      },
      "outputs": [],
      "source": [
        "texts = [preprocess(text) for text in wiki]"
      ]
    },
    {
      "cell_type": "code",
      "execution_count": 37,
      "id": "feb37c86",
      "metadata": {
        "id": "feb37c86"
      },
      "outputs": [],
      "source": [
        "w2v = gensim.models.Word2Vec(texts,\n",
        "                             hs=0,\n",
        "                             negative=10,\n",
        "                             sample=1e-4,\n",
        "                             vector_size=200,\n",
        "                             min_count=5,\n",
        "                             max_vocab_size=10000,\n",
        "                             window=7,\n",
        "                             epochs=10)"
      ]
    },
    {
      "cell_type": "code",
      "execution_count": 38,
      "id": "f71a5585",
      "metadata": {
        "colab": {
          "base_uri": "https://localhost:8080/"
        },
        "id": "f71a5585",
        "outputId": "4aeb77ae-5406-4925-e2c8-3be618ce97f5"
      },
      "outputs": [
        {
          "data": {
            "text/plain": [
              "[('храм', 0.8019300103187561),\n",
              " ('часовня', 0.8016335964202881),\n",
              " ('богородица', 0.7669553160667419),\n",
              " ('святитель', 0.7419413924217224),\n",
              " ('православный', 0.7333118915557861),\n",
              " ('собор', 0.7066504955291748),\n",
              " ('церковный', 0.7032696604728699),\n",
              " ('монастырь', 0.6722450256347656),\n",
              " ('приход', 0.6720608472824097),\n",
              " ('возвести', 0.6429876685142517)]"
            ]
          },
          "execution_count": 38,
          "metadata": {},
          "output_type": "execute_result"
        }
      ],
      "source": [
        "w2v.wv.most_similar('церковь')"
      ]
    },
    {
      "cell_type": "code",
      "execution_count": 39,
      "id": "44e2e0d7",
      "metadata": {
        "colab": {
          "base_uri": "https://localhost:8080/"
        },
        "id": "44e2e0d7",
        "outputId": "6fe4bd06-5f6b-4334-af86-b6972bb296ca"
      },
      "outputs": [
        {
          "data": {
            "text/plain": [
              "[('шасси', 0.7531746625900269),\n",
              " ('кузов', 0.7440350651741028),\n",
              " ('двигатель', 0.6990637183189392),\n",
              " ('колесо', 0.6920391917228699),\n",
              " ('машина', 0.6894317865371704),\n",
              " ('модель', 0.6772661209106445),\n",
              " ('шина', 0.6715955138206482),\n",
              " ('подвеска', 0.6382321715354919),\n",
              " ('benetton', 0.6001132726669312),\n",
              " ('модификация', 0.5900213718414307)]"
            ]
          },
          "execution_count": 39,
          "metadata": {},
          "output_type": "execute_result"
        }
      ],
      "source": [
        "w2v.wv.most_similar('автомобиль')"
      ]
    },
    {
      "cell_type": "code",
      "execution_count": 40,
      "id": "47c5a0e6",
      "metadata": {
        "id": "47c5a0e6"
      },
      "outputs": [],
      "source": [
        "ft = gensim.models.FastText(texts, min_n=4, max_n=10, window=10, epochs=10)"
      ]
    },
    {
      "cell_type": "code",
      "execution_count": 41,
      "id": "dcd2d0b3",
      "metadata": {
        "colab": {
          "base_uri": "https://localhost:8080/"
        },
        "id": "dcd2d0b3",
        "outputId": "df6d23f7-6ede-482d-f676-34c10963e4a7"
      },
      "outputs": [
        {
          "data": {
            "text/plain": [
              "[('«церковь', 0.9932422637939453),\n",
              " ('церковь»', 0.9929953217506409),\n",
              " ('це́рковь', 0.9312790036201477),\n",
              " ('церква', 0.9155018925666809),\n",
              " ('церкви»', 0.885475218296051),\n",
              " ('морковь', 0.817210853099823),\n",
              " ('храм', 0.7884982228279114),\n",
              " ('«храм', 0.7794929146766663),\n",
              " ('церковный', 0.7637929916381836),\n",
              " ('архипастырь', 0.7619302868843079)]"
            ]
          },
          "execution_count": 41,
          "metadata": {},
          "output_type": "execute_result"
        }
      ],
      "source": [
        "ft.wv.most_similar('церковь')"
      ]
    },
    {
      "cell_type": "code",
      "execution_count": 42,
      "id": "e5035bdc",
      "metadata": {
        "colab": {
          "base_uri": "https://localhost:8080/"
        },
        "id": "e5035bdc",
        "outputId": "2002ac7d-fb4f-4844-950f-7e45c22bc1cb"
      },
      "outputs": [
        {
          "data": {
            "text/plain": [
              "[('спецавтомобиль', 0.9821977019309998),\n",
              " ('локомобиль', 0.9293738603591919),\n",
              " ('бронеавтомобиль', 0.9035617113113403),\n",
              " ('автомобилист', 0.8762359619140625),\n",
              " ('автомотриса', 0.8600661158561707),\n",
              " ('нобиль', 0.8170742988586426),\n",
              " ('автомобильный', 0.780545175075531),\n",
              " ('«автомобилист»', 0.7789194583892822),\n",
              " ('автомобилестроение', 0.772947371006012),\n",
              " ('биль', 0.7399547696113586)]"
            ]
          },
          "execution_count": 42,
          "metadata": {},
          "output_type": "execute_result"
        }
      ],
      "source": [
        "ft.wv.most_similar('автомобиль')"
      ]
    },
    {
      "cell_type": "markdown",
      "id": "e4bb928c",
      "metadata": {
        "id": "e4bb928c"
      },
      "source": [
        "# Задание 3 (4 балла)"
      ]
    },
    {
      "cell_type": "markdown",
      "id": "3019b0d1",
      "metadata": {
        "id": "3019b0d1"
      },
      "source": [
        "Используя датасет для классификации (labeled.csv) и простую нейронную сеть (последняя модель в семинаре), оцените качество полученных эмбедингов в задании 1 и 2 (4 набора эмбедингов), также проверьте 1 любую из предобученных моделей с rus-vectores (но только не tayga_upos_skipgram_300_2_2019).\n",
        "Какая модель показывает наилучший результат?\n",
        "\n",
        "Убедитесь, что для каждой модели вы корректно воспроизводите пайплайн предобработки (в 1 задании у вас лемматизация, не забудьте ее применить к датасету для классификации; у выбранной предобученной модели может быть своя специфичная предобработка - ее нужно воспроизвести)"
      ]
    },
    {
      "cell_type": "markdown",
      "id": "757067a1",
      "metadata": {},
      "source": [
        "*__Там где сейчас плоские графики у меня еще получалось чтобы где-то посередине был резкий скачок вверх и обратно вниз, и дальше опять ровно.__*\n"
      ]
    },
    {
      "cell_type": "code",
      "execution_count": 43,
      "id": "ed908832",
      "metadata": {
        "id": "ed908832"
      },
      "outputs": [],
      "source": [
        "data = pd.read_csv('/content/drive/MyDrive/labeled.csv')"
      ]
    },
    {
      "cell_type": "code",
      "execution_count": 44,
      "id": "a7956eeb",
      "metadata": {
        "id": "a7956eeb"
      },
      "outputs": [],
      "source": [
        "data['norm_text'] = data.comment.apply(preprocess)"
      ]
    },
    {
      "cell_type": "code",
      "execution_count": 45,
      "id": "897277b2",
      "metadata": {
        "colab": {
          "base_uri": "https://localhost:8080/"
        },
        "id": "897277b2",
        "outputId": "220d0528-40cd-4f05-a251-ce2c400a2e91"
      },
      "outputs": [
        {
          "data": {
            "text/plain": [
              "5792"
            ]
          },
          "execution_count": 45,
          "metadata": {},
          "output_type": "execute_result"
        }
      ],
      "source": [
        "vocab1 = Counter()\n",
        "\n",
        "for text in data['norm_text']:\n",
        "    vocab1.update(text)\n",
        "\n",
        "filtered_vocab1 = set()\n",
        "\n",
        "for word in vocab:\n",
        "    if vocab1[word] > 5:\n",
        "        filtered_vocab1.add(word)\n",
        "\n",
        "len(filtered_vocab1)"
      ]
    },
    {
      "cell_type": "code",
      "execution_count": 46,
      "id": "ace22b74",
      "metadata": {
        "id": "ace22b74"
      },
      "outputs": [],
      "source": [
        "word2id1 = { 'PAD':0}\n",
        "\n",
        "for word in filtered_vocab1:\n",
        "    word2id1[word] = len(word2id1)\n",
        "id2word1 = {i:word for word, i in word2id1.items()}"
      ]
    },
    {
      "cell_type": "code",
      "execution_count": 47,
      "id": "12c78407",
      "metadata": {
        "id": "12c78407"
      },
      "outputs": [],
      "source": [
        "X = []\n",
        "\n",
        "for tokens in data['norm_text']:\n",
        "    ids = [word2id1[token] for token in tokens if token in word2id1]\n",
        "    X.append(ids)"
      ]
    },
    {
      "cell_type": "code",
      "execution_count": 48,
      "id": "6dc0a407",
      "metadata": {
        "id": "6dc0a407"
      },
      "outputs": [],
      "source": [
        "X = tf.keras.preprocessing.sequence.pad_sequences(X, maxlen=100)\n",
        "y = data.toxic.values"
      ]
    },
    {
      "cell_type": "code",
      "execution_count": 49,
      "id": "60c18c5a",
      "metadata": {
        "id": "60c18c5a"
      },
      "outputs": [],
      "source": [
        "X_train, X_valid, y_train, y_valid = train_test_split(X, y, test_size=0.05)"
      ]
    },
    {
      "cell_type": "code",
      "execution_count": 50,
      "id": "94e9fd0b",
      "metadata": {
        "id": "94e9fd0b"
      },
      "outputs": [],
      "source": [
        "inputs = tf.keras.layers.Input(shape=(100,))\n",
        "\n",
        "embeddings = tf.keras.layers.Embedding(input_dim=len(word2id), output_dim=100)(inputs, )\n",
        "# embedding слой возвращает последовательность векторов\n",
        "# а нам нужно классифицировать сразу весь текст\n",
        "# стандартный подход в этом случае - усреднить единичные вектора в 1 вектор текста\n",
        "mean = tf.keras.layers.Lambda(lambda x: tf.keras.backend.mean(x,  axis=1))(embeddings)\n",
        "# к усредненному вектору мы уже применяем полносвязный слой, который вернет вероятность токсичности\n",
        "outputs = tf.keras.layers.Dense(1, activation='sigmoid')(mean)\n",
        "\n",
        "model = tf.keras.Model(inputs=inputs, outputs=outputs)\n",
        "optimizer = tf.keras.optimizers.Adam()\n",
        "model.compile(optimizer=optimizer,\n",
        "              loss='binary_crossentropy',\n",
        "              metrics=['accuracy'])\n"
      ]
    },
    {
      "cell_type": "code",
      "execution_count": 51,
      "id": "7c82c2f2",
      "metadata": {
        "colab": {
          "base_uri": "https://localhost:8080/"
        },
        "id": "7c82c2f2",
        "outputId": "1005b38c-9a9e-40ee-aa06-54c5c73d97b0"
      },
      "outputs": [
        {
          "name": "stdout",
          "output_type": "stream",
          "text": [
            "Epoch 1/10\n",
            "428/428 [==============================] - 35s 78ms/step - loss: 0.6152 - accuracy: 0.6648 - val_loss: 0.5742 - val_accuracy: 0.6602\n",
            "Epoch 2/10\n",
            "428/428 [==============================] - 9s 21ms/step - loss: 0.5279 - accuracy: 0.7142 - val_loss: 0.4911 - val_accuracy: 0.8350\n",
            "Epoch 3/10\n",
            "428/428 [==============================] - 4s 10ms/step - loss: 0.4359 - accuracy: 0.8172 - val_loss: 0.4290 - val_accuracy: 0.8197\n",
            "Epoch 4/10\n",
            "428/428 [==============================] - 4s 9ms/step - loss: 0.3720 - accuracy: 0.8576 - val_loss: 0.4016 - val_accuracy: 0.8280\n",
            "Epoch 5/10\n",
            "428/428 [==============================] - 4s 10ms/step - loss: 0.3307 - accuracy: 0.8758 - val_loss: 0.3857 - val_accuracy: 0.8627\n",
            "Epoch 6/10\n",
            "428/428 [==============================] - 3s 7ms/step - loss: 0.3011 - accuracy: 0.8887 - val_loss: 0.3776 - val_accuracy: 0.8544\n",
            "Epoch 7/10\n",
            "428/428 [==============================] - 3s 8ms/step - loss: 0.2783 - accuracy: 0.8975 - val_loss: 0.3740 - val_accuracy: 0.8599\n",
            "Epoch 8/10\n",
            "428/428 [==============================] - 3s 6ms/step - loss: 0.2589 - accuracy: 0.9037 - val_loss: 0.3737 - val_accuracy: 0.8585\n",
            "Epoch 9/10\n",
            "428/428 [==============================] - 3s 6ms/step - loss: 0.2427 - accuracy: 0.9100 - val_loss: 0.3763 - val_accuracy: 0.8585\n",
            "Epoch 10/10\n",
            "428/428 [==============================] - 2s 4ms/step - loss: 0.2285 - accuracy: 0.9166 - val_loss: 0.3765 - val_accuracy: 0.8571\n"
          ]
        },
        {
          "data": {
            "text/plain": [
              "<keras.src.callbacks.History at 0x7d162dd4cc40>"
            ]
          },
          "execution_count": 51,
          "metadata": {},
          "output_type": "execute_result"
        }
      ],
      "source": [
        "model.fit(X_train, y_train,\n",
        "          validation_data=(X_valid, y_valid),\n",
        "          batch_size=32,\n",
        "         epochs=10)"
      ]
    },
    {
      "cell_type": "code",
      "execution_count": 51,
      "id": "253e6d52",
      "metadata": {
        "id": "253e6d52"
      },
      "outputs": [],
      "source": []
    },
    {
      "cell_type": "code",
      "execution_count": 52,
      "id": "e6ca5f9e",
      "metadata": {
        "colab": {
          "base_uri": "https://localhost:8080/"
        },
        "id": "e6ca5f9e",
        "outputId": "64e6d67e-29ff-4cab-b20d-4312794ec115"
      },
      "outputs": [
        {
          "data": {
            "text/plain": [
              "4932"
            ]
          },
          "execution_count": 52,
          "metadata": {},
          "output_type": "execute_result"
        }
      ],
      "source": [
        "word2id1['погашение']"
      ]
    },
    {
      "cell_type": "code",
      "execution_count": 53,
      "id": "ec0972e8",
      "metadata": {
        "colab": {
          "base_uri": "https://localhost:8080/",
          "height": 175
        },
        "id": "ec0972e8",
        "outputId": "dccc3aec-5634-42e8-9ff0-c926705cb6c9"
      },
      "outputs": [
        {
          "ename": "NameError",
          "evalue": "name 'emb1' is not defined",
          "output_type": "error",
          "traceback": [
            "\u001b[0;31m---------------------------------------------------------------------------\u001b[0m",
            "\u001b[0;31mNameError\u001b[0m                                 Traceback (most recent call last)",
            "\u001b[0;32m<ipython-input-53-ee4575383596>\u001b[0m in \u001b[0;36m<cell line: 1>\u001b[0;34m()\u001b[0m\n\u001b[0;32m----> 1\u001b[0;31m \u001b[0memb1\u001b[0m\u001b[0;34m[\u001b[0m\u001b[0;36m0\u001b[0m\u001b[0;34m]\u001b[0m\u001b[0;34m[\u001b[0m\u001b[0mword2id1\u001b[0m\u001b[0;34m[\u001b[0m\u001b[0;34m'погашение'\u001b[0m\u001b[0;34m]\u001b[0m\u001b[0;34m]\u001b[0m\u001b[0;34m\u001b[0m\u001b[0;34m\u001b[0m\u001b[0m\n\u001b[0m",
            "\u001b[0;31mNameError\u001b[0m: name 'emb1' is not defined"
          ]
        }
      ],
      "source": [
        "emb1[0][word2id1['погашение']]"
      ]
    },
    {
      "cell_type": "code",
      "execution_count": 54,
      "id": "c902f84f",
      "metadata": {
        "id": "c902f84f"
      },
      "outputs": [],
      "source": [
        "emb1 = model_1.layers[2].get_weights()"
      ]
    },
    {
      "cell_type": "code",
      "execution_count": 56,
      "id": "f18d4533",
      "metadata": {
        "id": "f18d4533"
      },
      "outputs": [],
      "source": [
        "weights_c1 = np.zeros((len(word2id), 200))\n",
        "emb1 = model_1.layers[2].get_weights()\n",
        "\n",
        "for word, i in word2id.items():\n",
        "    # вектор паддинга оставим нулевым\n",
        "    if word == 'PAD':\n",
        "        continue\n",
        "\n",
        "    try:\n",
        "        weights_c1[i] = emb1[0][word2id[word]]\n",
        "\n",
        "\n",
        "    except KeyError:\n",
        "        # для слов, которых нет в модели тоже возьмем какой-то  рандомный вектор\n",
        "        continue\n",
        "        weights_c1[i] = emb1[0][word2id['опрагпллирао']]"
      ]
    },
    {
      "cell_type": "code",
      "execution_count": 57,
      "id": "3e9345b7",
      "metadata": {
        "id": "3e9345b7"
      },
      "outputs": [],
      "source": [
        "inputs = tf.keras.layers.Input(shape=(100,))\n",
        "\n",
        "# передаем матрицу в эмбединг слой\n",
        "# указываем параметр trainable=False, чтобы вектора не обучались\n",
        "# Пояснение: кажется, что обучение векторов отключать не стоит, так как модель должна взять готовые\n",
        "# эмбединги и подогнать их к нашей задаче. На практитке это однако не работает - эмбединги просто\n",
        "# # обучатся заново\n",
        "embeddings = tf.keras.layers.Embedding(input_dim=len(word2id), output_dim=200,\n",
        "                                       trainable=False,\n",
        "                                       weights=[weights_c1])(inputs, )\n",
        "mean = tf.keras.layers.Lambda(lambda x: tf.keras.backend.mean(x,  axis=1))(embeddings)\n",
        "\n",
        "outputs = tf.keras.layers.Dense(1, activation='sigmoid')(mean)\n",
        "\n",
        "model = tf.keras.Model(inputs=inputs, outputs=outputs)\n",
        "optimizer = tf.keras.optimizers.Adam()\n",
        "model.compile(optimizer=optimizer,\n",
        "              loss='binary_crossentropy',\n",
        "              metrics=['accuracy'])"
      ]
    },
    {
      "cell_type": "code",
      "execution_count": 58,
      "id": "3c1ca460",
      "metadata": {
        "colab": {
          "base_uri": "https://localhost:8080/"
        },
        "id": "3c1ca460",
        "outputId": "bb7704d2-462f-4953-fd82-9f6eeff25d34"
      },
      "outputs": [
        {
          "name": "stdout",
          "output_type": "stream",
          "text": [
            "Epoch 1/30\n",
            "428/428 [==============================] - 3s 5ms/step - loss: 0.6443 - accuracy: 0.6646 - val_loss: 0.6237 - val_accuracy: 0.6560\n",
            "Epoch 2/30\n",
            "428/428 [==============================] - 2s 4ms/step - loss: 0.6197 - accuracy: 0.6656 - val_loss: 0.6188 - val_accuracy: 0.6560\n",
            "Epoch 3/30\n",
            "428/428 [==============================] - 1s 3ms/step - loss: 0.6181 - accuracy: 0.6656 - val_loss: 0.6177 - val_accuracy: 0.6560\n",
            "Epoch 4/30\n",
            "428/428 [==============================] - 1s 3ms/step - loss: 0.6175 - accuracy: 0.6656 - val_loss: 0.6170 - val_accuracy: 0.6560\n",
            "Epoch 5/30\n",
            "428/428 [==============================] - 1s 3ms/step - loss: 0.6170 - accuracy: 0.6656 - val_loss: 0.6162 - val_accuracy: 0.6560\n",
            "Epoch 6/30\n",
            "428/428 [==============================] - 1s 3ms/step - loss: 0.6165 - accuracy: 0.6656 - val_loss: 0.6157 - val_accuracy: 0.6560\n",
            "Epoch 7/30\n",
            "428/428 [==============================] - 1s 3ms/step - loss: 0.6160 - accuracy: 0.6656 - val_loss: 0.6152 - val_accuracy: 0.6560\n",
            "Epoch 8/30\n",
            "428/428 [==============================] - 1s 3ms/step - loss: 0.6156 - accuracy: 0.6656 - val_loss: 0.6147 - val_accuracy: 0.6560\n",
            "Epoch 9/30\n",
            "428/428 [==============================] - 1s 3ms/step - loss: 0.6152 - accuracy: 0.6656 - val_loss: 0.6142 - val_accuracy: 0.6560\n",
            "Epoch 10/30\n",
            "428/428 [==============================] - 2s 4ms/step - loss: 0.6148 - accuracy: 0.6656 - val_loss: 0.6137 - val_accuracy: 0.6560\n",
            "Epoch 11/30\n",
            "428/428 [==============================] - 2s 4ms/step - loss: 0.6144 - accuracy: 0.6656 - val_loss: 0.6133 - val_accuracy: 0.6560\n",
            "Epoch 12/30\n",
            "428/428 [==============================] - 1s 3ms/step - loss: 0.6140 - accuracy: 0.6656 - val_loss: 0.6129 - val_accuracy: 0.6560\n",
            "Epoch 13/30\n",
            "428/428 [==============================] - 1s 3ms/step - loss: 0.6136 - accuracy: 0.6656 - val_loss: 0.6126 - val_accuracy: 0.6560\n",
            "Epoch 14/30\n",
            "428/428 [==============================] - 1s 3ms/step - loss: 0.6133 - accuracy: 0.6656 - val_loss: 0.6123 - val_accuracy: 0.6560\n",
            "Epoch 15/30\n",
            "428/428 [==============================] - 1s 3ms/step - loss: 0.6130 - accuracy: 0.6656 - val_loss: 0.6118 - val_accuracy: 0.6560\n",
            "Epoch 16/30\n",
            "428/428 [==============================] - 1s 3ms/step - loss: 0.6126 - accuracy: 0.6656 - val_loss: 0.6114 - val_accuracy: 0.6560\n",
            "Epoch 17/30\n",
            "428/428 [==============================] - 1s 3ms/step - loss: 0.6123 - accuracy: 0.6656 - val_loss: 0.6110 - val_accuracy: 0.6560\n",
            "Epoch 18/30\n",
            "428/428 [==============================] - 1s 3ms/step - loss: 0.6120 - accuracy: 0.6656 - val_loss: 0.6107 - val_accuracy: 0.6560\n",
            "Epoch 19/30\n",
            "428/428 [==============================] - 2s 4ms/step - loss: 0.6117 - accuracy: 0.6656 - val_loss: 0.6104 - val_accuracy: 0.6560\n",
            "Epoch 20/30\n",
            "428/428 [==============================] - 2s 4ms/step - loss: 0.6114 - accuracy: 0.6656 - val_loss: 0.6102 - val_accuracy: 0.6560\n",
            "Epoch 21/30\n",
            "428/428 [==============================] - 1s 3ms/step - loss: 0.6111 - accuracy: 0.6656 - val_loss: 0.6098 - val_accuracy: 0.6560\n",
            "Epoch 22/30\n",
            "428/428 [==============================] - 1s 3ms/step - loss: 0.6108 - accuracy: 0.6656 - val_loss: 0.6095 - val_accuracy: 0.6560\n",
            "Epoch 23/30\n",
            "428/428 [==============================] - 1s 3ms/step - loss: 0.6105 - accuracy: 0.6656 - val_loss: 0.6092 - val_accuracy: 0.6560\n",
            "Epoch 24/30\n",
            "428/428 [==============================] - 3s 6ms/step - loss: 0.6103 - accuracy: 0.6656 - val_loss: 0.6089 - val_accuracy: 0.6560\n",
            "Epoch 25/30\n",
            "428/428 [==============================] - 3s 6ms/step - loss: 0.6099 - accuracy: 0.6656 - val_loss: 0.6087 - val_accuracy: 0.6560\n",
            "Epoch 26/30\n",
            "428/428 [==============================] - 3s 8ms/step - loss: 0.6097 - accuracy: 0.6656 - val_loss: 0.6083 - val_accuracy: 0.6560\n",
            "Epoch 27/30\n",
            "428/428 [==============================] - 1s 3ms/step - loss: 0.6095 - accuracy: 0.6656 - val_loss: 0.6080 - val_accuracy: 0.6560\n",
            "Epoch 28/30\n",
            "428/428 [==============================] - 1s 3ms/step - loss: 0.6092 - accuracy: 0.6656 - val_loss: 0.6078 - val_accuracy: 0.6560\n",
            "Epoch 29/30\n",
            "428/428 [==============================] - 1s 3ms/step - loss: 0.6089 - accuracy: 0.6656 - val_loss: 0.6075 - val_accuracy: 0.6560\n",
            "Epoch 30/30\n",
            "428/428 [==============================] - 1s 3ms/step - loss: 0.6086 - accuracy: 0.6656 - val_loss: 0.6073 - val_accuracy: 0.6560\n"
          ]
        },
        {
          "data": {
            "text/plain": [
              "<keras.src.callbacks.History at 0x7d162de94c70>"
            ]
          },
          "execution_count": 58,
          "metadata": {},
          "output_type": "execute_result"
        }
      ],
      "source": [
        "model.fit(X_train, y_train,\n",
        "          validation_data=(X_valid, y_valid),\n",
        "          batch_size=32,\n",
        "         epochs=30)"
      ]
    },
    {
      "cell_type": "code",
      "execution_count": 59,
      "id": "dc61b94a",
      "metadata": {
        "colab": {
          "base_uri": "https://localhost:8080/",
          "height": 489
        },
        "id": "dc61b94a",
        "outputId": "fd9b187a-7a08-4d89-9cba-04b9c2599e90"
      },
      "outputs": [
        {
          "name": "stdout",
          "output_type": "stream",
          "text": [
            "dict_keys(['loss', 'accuracy', 'val_loss', 'val_accuracy'])\n"
          ]
        },
        {
          "data": {
            "image/png": "[encoded data removed]",
            "text/plain": [
              "<Figure size 640x480 with 1 Axes>"
            ]
          },
          "metadata": {},
          "output_type": "display_data"
        }
      ],
      "source": [
        "print(model.history.history.keys())\n",
        "# summarize history for accuracy\n",
        "plt.plot(model.history.history['accuracy'])\n",
        "plt.plot(model.history.history['val_accuracy'])\n",
        "plt.title('model accuracy')\n",
        "plt.ylabel('accuracy')\n",
        "plt.xlabel('epoch')\n",
        "plt.legend(['train', 'val'], loc='upper left')\n",
        "plt.show()"
      ]
    },
    {
      "cell_type": "code",
      "execution_count": 60,
      "id": "34814559",
      "metadata": {
        "id": "34814559"
      },
      "outputs": [],
      "source": [
        "weights_c2 = np.zeros((len(word2id), 200))\n",
        "emb2 = model_2.layers[2].get_weights()\n",
        "\n",
        "for word, i in word2id.items():\n",
        "    # вектор паддинга оставим нулевым\n",
        "    if word == 'PAD':\n",
        "        continue\n",
        "\n",
        "    try:\n",
        "        weights_c2[i] = emb2[0][word2id[word]]\n",
        "\n",
        "\n",
        "    except KeyError:\n",
        "        # для слов, которых нет в модели тоже возьмем какой-то  рандомный вектор\n",
        "        continue\n",
        "        weights_c2[i] = emb2[0][word2id['опрагпллирао']]"
      ]
    },
    {
      "cell_type": "code",
      "execution_count": 61,
      "id": "ed4757f2",
      "metadata": {
        "id": "ed4757f2"
      },
      "outputs": [],
      "source": [
        "inputs = tf.keras.layers.Input(shape=(100,))\n",
        "\n",
        "# передаем матрицу в эмбединг слой\n",
        "# указываем параметр trainable=False, чтобы вектора не обучались\n",
        "# Пояснение: кажется, что обучение векторов отключать не стоит, так как модель должна взять готовые\n",
        "# эмбединги и подогнать их к нашей задаче. На практитке это однако не работает - эмбединги просто\n",
        "# # обучатся заново\n",
        "embeddings = tf.keras.layers.Embedding(input_dim=len(word2id), output_dim=200,\n",
        "                                       trainable=False,\n",
        "                                       weights=[weights_c2])(inputs, )\n",
        "mean = tf.keras.layers.Lambda(lambda x: tf.keras.backend.mean(x,  axis=1))(embeddings)\n",
        "\n",
        "outputs = tf.keras.layers.Dense(1, activation='sigmoid')(mean)\n",
        "\n",
        "model = tf.keras.Model(inputs=inputs, outputs=outputs)\n",
        "optimizer = tf.keras.optimizers.Adam()\n",
        "model.compile(optimizer=optimizer,\n",
        "              loss='binary_crossentropy',\n",
        "              metrics=['accuracy'])"
      ]
    },
    {
      "cell_type": "code",
      "execution_count": 62,
      "id": "07448e91",
      "metadata": {
        "colab": {
          "base_uri": "https://localhost:8080/"
        },
        "id": "07448e91",
        "outputId": "92509a8b-f9ad-4dbc-9322-e6b3ffb36805"
      },
      "outputs": [
        {
          "name": "stdout",
          "output_type": "stream",
          "text": [
            "Epoch 1/30\n",
            "428/428 [==============================] - 2s 4ms/step - loss: 0.6303 - accuracy: 0.6656 - val_loss: 0.6167 - val_accuracy: 0.6560\n",
            "Epoch 2/30\n",
            "428/428 [==============================] - 1s 3ms/step - loss: 0.6178 - accuracy: 0.6656 - val_loss: 0.6161 - val_accuracy: 0.6560\n",
            "Epoch 3/30\n",
            "428/428 [==============================] - 1s 3ms/step - loss: 0.6172 - accuracy: 0.6656 - val_loss: 0.6157 - val_accuracy: 0.6560\n",
            "Epoch 4/30\n",
            "428/428 [==============================] - 2s 4ms/step - loss: 0.6169 - accuracy: 0.6656 - val_loss: 0.6158 - val_accuracy: 0.6560\n",
            "Epoch 5/30\n",
            "428/428 [==============================] - 2s 5ms/step - loss: 0.6163 - accuracy: 0.6656 - val_loss: 0.6153 - val_accuracy: 0.6560\n",
            "Epoch 6/30\n",
            "428/428 [==============================] - 1s 3ms/step - loss: 0.6161 - accuracy: 0.6656 - val_loss: 0.6149 - val_accuracy: 0.6560\n",
            "Epoch 7/30\n",
            "428/428 [==============================] - 1s 3ms/step - loss: 0.6157 - accuracy: 0.6656 - val_loss: 0.6145 - val_accuracy: 0.6560\n",
            "Epoch 8/30\n",
            "428/428 [==============================] - 1s 3ms/step - loss: 0.6153 - accuracy: 0.6656 - val_loss: 0.6145 - val_accuracy: 0.6560\n",
            "Epoch 9/30\n",
            "428/428 [==============================] - 1s 3ms/step - loss: 0.6149 - accuracy: 0.6656 - val_loss: 0.6139 - val_accuracy: 0.6560\n",
            "Epoch 10/30\n",
            "428/428 [==============================] - 1s 3ms/step - loss: 0.6146 - accuracy: 0.6656 - val_loss: 0.6136 - val_accuracy: 0.6560\n",
            "Epoch 11/30\n",
            "428/428 [==============================] - 1s 3ms/step - loss: 0.6142 - accuracy: 0.6656 - val_loss: 0.6131 - val_accuracy: 0.6560\n",
            "Epoch 12/30\n",
            "428/428 [==============================] - 1s 3ms/step - loss: 0.6138 - accuracy: 0.6656 - val_loss: 0.6127 - val_accuracy: 0.6560\n",
            "Epoch 13/30\n",
            "428/428 [==============================] - 2s 4ms/step - loss: 0.6134 - accuracy: 0.6656 - val_loss: 0.6130 - val_accuracy: 0.6560\n",
            "Epoch 14/30\n",
            "428/428 [==============================] - 2s 5ms/step - loss: 0.6132 - accuracy: 0.6656 - val_loss: 0.6121 - val_accuracy: 0.6560\n",
            "Epoch 15/30\n",
            "428/428 [==============================] - 1s 3ms/step - loss: 0.6128 - accuracy: 0.6656 - val_loss: 0.6117 - val_accuracy: 0.6560\n",
            "Epoch 16/30\n",
            "428/428 [==============================] - 1s 3ms/step - loss: 0.6125 - accuracy: 0.6656 - val_loss: 0.6114 - val_accuracy: 0.6560\n",
            "Epoch 17/30\n",
            "428/428 [==============================] - 1s 3ms/step - loss: 0.6121 - accuracy: 0.6656 - val_loss: 0.6113 - val_accuracy: 0.6560\n",
            "Epoch 18/30\n",
            "428/428 [==============================] - 1s 3ms/step - loss: 0.6118 - accuracy: 0.6656 - val_loss: 0.6108 - val_accuracy: 0.6560\n",
            "Epoch 19/30\n",
            "428/428 [==============================] - 1s 3ms/step - loss: 0.6115 - accuracy: 0.6656 - val_loss: 0.6105 - val_accuracy: 0.6560\n",
            "Epoch 20/30\n",
            "428/428 [==============================] - 1s 3ms/step - loss: 0.6112 - accuracy: 0.6656 - val_loss: 0.6101 - val_accuracy: 0.6560\n",
            "Epoch 21/30\n",
            "428/428 [==============================] - 1s 3ms/step - loss: 0.6108 - accuracy: 0.6656 - val_loss: 0.6097 - val_accuracy: 0.6560\n",
            "Epoch 22/30\n",
            "428/428 [==============================] - 2s 4ms/step - loss: 0.6104 - accuracy: 0.6656 - val_loss: 0.6103 - val_accuracy: 0.6560\n",
            "Epoch 23/30\n",
            "428/428 [==============================] - 2s 5ms/step - loss: 0.6102 - accuracy: 0.6656 - val_loss: 0.6096 - val_accuracy: 0.6560\n",
            "Epoch 24/30\n",
            "428/428 [==============================] - 1s 3ms/step - loss: 0.6098 - accuracy: 0.6656 - val_loss: 0.6096 - val_accuracy: 0.6560\n",
            "Epoch 25/30\n",
            "428/428 [==============================] - 1s 3ms/step - loss: 0.6097 - accuracy: 0.6656 - val_loss: 0.6083 - val_accuracy: 0.6560\n",
            "Epoch 26/30\n",
            "428/428 [==============================] - 1s 3ms/step - loss: 0.6092 - accuracy: 0.6656 - val_loss: 0.6078 - val_accuracy: 0.6560\n",
            "Epoch 27/30\n",
            "428/428 [==============================] - 1s 3ms/step - loss: 0.6089 - accuracy: 0.6656 - val_loss: 0.6077 - val_accuracy: 0.6560\n",
            "Epoch 28/30\n",
            "428/428 [==============================] - 1s 3ms/step - loss: 0.6086 - accuracy: 0.6656 - val_loss: 0.6072 - val_accuracy: 0.6560\n",
            "Epoch 29/30\n",
            "428/428 [==============================] - 1s 3ms/step - loss: 0.6083 - accuracy: 0.6656 - val_loss: 0.6069 - val_accuracy: 0.6560\n",
            "Epoch 30/30\n",
            "428/428 [==============================] - 1s 3ms/step - loss: 0.6081 - accuracy: 0.6656 - val_loss: 0.6067 - val_accuracy: 0.6560\n"
          ]
        },
        {
          "data": {
            "text/plain": [
              "<keras.src.callbacks.History at 0x7d1664383160>"
            ]
          },
          "execution_count": 62,
          "metadata": {},
          "output_type": "execute_result"
        }
      ],
      "source": [
        "model.fit(X_train, y_train,\n",
        "          validation_data=(X_valid, y_valid),\n",
        "          batch_size=32,\n",
        "         epochs=30)"
      ]
    },
    {
      "cell_type": "code",
      "execution_count": 63,
      "id": "dae4554a",
      "metadata": {
        "colab": {
          "base_uri": "https://localhost:8080/",
          "height": 489
        },
        "id": "dae4554a",
        "outputId": "23ef4cb1-8d4e-4153-b09f-65facda34b8e"
      },
      "outputs": [
        {
          "name": "stdout",
          "output_type": "stream",
          "text": [
            "dict_keys(['loss', 'accuracy', 'val_loss', 'val_accuracy'])\n"
          ]
        },
        {
          "data": {
            "image/png": "[encoded data removed]",
            "text/plain": [
              "<Figure size 640x480 with 1 Axes>"
            ]
          },
          "metadata": {},
          "output_type": "display_data"
        }
      ],
      "source": [
        "print(model.history.history.keys())\n",
        "# summarize history for accuracy\n",
        "plt.plot(model.history.history['accuracy'])\n",
        "plt.plot(model.history.history['val_accuracy'])\n",
        "plt.title('model accuracy')\n",
        "plt.ylabel('accuracy')\n",
        "plt.xlabel('epoch')\n",
        "plt.legend(['train', 'val'], loc='upper left')\n",
        "plt.show()"
      ]
    },
    {
      "cell_type": "code",
      "execution_count": 64,
      "id": "be4a0557",
      "metadata": {
        "id": "be4a0557"
      },
      "outputs": [],
      "source": [
        "weights_c3 = np.zeros((len(word2id), 200))\n",
        "\n",
        "for word, i in word2id.items():\n",
        "    # вектор паддинга оставим нулевым\n",
        "    if word == 'PAD':\n",
        "        continue\n",
        "\n",
        "    try:\n",
        "        weights_c3[i] = w2v.wv[word]\n",
        "\n",
        "\n",
        "    except KeyError:\n",
        "        # для слов, которых нет в модели тоже возьмем какой-то  рандомный вектор\n",
        "        continue\n",
        "        weights_c3[i] = w2v.wv['опрагпллирао']"
      ]
    },
    {
      "cell_type": "code",
      "execution_count": 65,
      "id": "8b10674f",
      "metadata": {
        "id": "8b10674f"
      },
      "outputs": [],
      "source": [
        "inputs = tf.keras.layers.Input(shape=(100,))\n",
        "\n",
        "# передаем матрицу в эмбединг слой\n",
        "# указываем параметр trainable=False, чтобы вектора не обучались\n",
        "# Пояснение: кажется, что обучение векторов отключать не стоит, так как модель должна взять готовые\n",
        "# эмбединги и подогнать их к нашей задаче. На практитке это однако не работает - эмбединги просто\n",
        "# # обучатся заново\n",
        "embeddings = tf.keras.layers.Embedding(input_dim=len(word2id), output_dim=200,\n",
        "                                       trainable=False,\n",
        "                                       weights=[weights_c3])(inputs, )\n",
        "mean = tf.keras.layers.Lambda(lambda x: tf.keras.backend.mean(x,  axis=1))(embeddings)\n",
        "\n",
        "outputs = tf.keras.layers.Dense(1, activation='sigmoid')(mean)\n",
        "\n",
        "model = tf.keras.Model(inputs=inputs, outputs=outputs)\n",
        "optimizer = tf.keras.optimizers.Adam()\n",
        "model.compile(optimizer=optimizer,\n",
        "              loss='binary_crossentropy',\n",
        "              metrics=['accuracy'])"
      ]
    },
    {
      "cell_type": "code",
      "execution_count": 66,
      "id": "11337db8",
      "metadata": {
        "colab": {
          "base_uri": "https://localhost:8080/"
        },
        "id": "11337db8",
        "outputId": "fe8ed37d-c724-4a4c-c88f-aaf3e47593fa"
      },
      "outputs": [
        {
          "name": "stdout",
          "output_type": "stream",
          "text": [
            "Epoch 1/30\n",
            "428/428 [==============================] - 3s 5ms/step - loss: 0.6461 - accuracy: 0.6604 - val_loss: 0.6215 - val_accuracy: 0.6560\n",
            "Epoch 2/30\n",
            "428/428 [==============================] - 1s 3ms/step - loss: 0.6195 - accuracy: 0.6658 - val_loss: 0.6133 - val_accuracy: 0.6560\n",
            "Epoch 3/30\n",
            "428/428 [==============================] - 1s 3ms/step - loss: 0.6155 - accuracy: 0.6658 - val_loss: 0.6111 - val_accuracy: 0.6560\n",
            "Epoch 4/30\n",
            "428/428 [==============================] - 1s 3ms/step - loss: 0.6132 - accuracy: 0.6658 - val_loss: 0.6097 - val_accuracy: 0.6560\n",
            "Epoch 5/30\n",
            "428/428 [==============================] - 1s 3ms/step - loss: 0.6116 - accuracy: 0.6659 - val_loss: 0.6083 - val_accuracy: 0.6574\n",
            "Epoch 6/30\n",
            "428/428 [==============================] - 1s 3ms/step - loss: 0.6101 - accuracy: 0.6661 - val_loss: 0.6070 - val_accuracy: 0.6574\n",
            "Epoch 7/30\n",
            "428/428 [==============================] - 1s 3ms/step - loss: 0.6089 - accuracy: 0.6665 - val_loss: 0.6058 - val_accuracy: 0.6588\n",
            "Epoch 8/30\n",
            "428/428 [==============================] - 1s 3ms/step - loss: 0.6078 - accuracy: 0.6672 - val_loss: 0.6049 - val_accuracy: 0.6588\n",
            "Epoch 9/30\n",
            "428/428 [==============================] - 2s 4ms/step - loss: 0.6068 - accuracy: 0.6674 - val_loss: 0.6039 - val_accuracy: 0.6588\n",
            "Epoch 10/30\n",
            "428/428 [==============================] - 2s 5ms/step - loss: 0.6059 - accuracy: 0.6677 - val_loss: 0.6030 - val_accuracy: 0.6602\n",
            "Epoch 11/30\n",
            "428/428 [==============================] - 1s 3ms/step - loss: 0.6051 - accuracy: 0.6680 - val_loss: 0.6021 - val_accuracy: 0.6602\n",
            "Epoch 12/30\n",
            "428/428 [==============================] - 2s 4ms/step - loss: 0.6044 - accuracy: 0.6684 - val_loss: 0.6013 - val_accuracy: 0.6574\n",
            "Epoch 13/30\n",
            "428/428 [==============================] - 1s 3ms/step - loss: 0.6038 - accuracy: 0.6688 - val_loss: 0.6005 - val_accuracy: 0.6574\n",
            "Epoch 14/30\n",
            "428/428 [==============================] - 1s 3ms/step - loss: 0.6031 - accuracy: 0.6689 - val_loss: 0.5999 - val_accuracy: 0.6574\n",
            "Epoch 15/30\n",
            "428/428 [==============================] - 1s 3ms/step - loss: 0.6026 - accuracy: 0.6689 - val_loss: 0.5993 - val_accuracy: 0.6546\n",
            "Epoch 16/30\n",
            "428/428 [==============================] - 1s 3ms/step - loss: 0.6020 - accuracy: 0.6690 - val_loss: 0.5986 - val_accuracy: 0.6560\n",
            "Epoch 17/30\n",
            "428/428 [==============================] - 1s 3ms/step - loss: 0.6015 - accuracy: 0.6691 - val_loss: 0.5981 - val_accuracy: 0.6560\n",
            "Epoch 18/30\n",
            "428/428 [==============================] - 2s 6ms/step - loss: 0.6010 - accuracy: 0.6690 - val_loss: 0.5976 - val_accuracy: 0.6560\n",
            "Epoch 19/30\n",
            "428/428 [==============================] - 2s 5ms/step - loss: 0.6006 - accuracy: 0.6691 - val_loss: 0.5970 - val_accuracy: 0.6560\n",
            "Epoch 20/30\n",
            "428/428 [==============================] - 1s 3ms/step - loss: 0.6002 - accuracy: 0.6696 - val_loss: 0.5965 - val_accuracy: 0.6560\n",
            "Epoch 21/30\n",
            "428/428 [==============================] - 1s 3ms/step - loss: 0.5997 - accuracy: 0.6693 - val_loss: 0.5962 - val_accuracy: 0.6574\n",
            "Epoch 22/30\n",
            "428/428 [==============================] - 1s 3ms/step - loss: 0.5993 - accuracy: 0.6699 - val_loss: 0.5956 - val_accuracy: 0.6574\n",
            "Epoch 23/30\n",
            "428/428 [==============================] - 1s 3ms/step - loss: 0.5990 - accuracy: 0.6701 - val_loss: 0.5952 - val_accuracy: 0.6574\n",
            "Epoch 24/30\n",
            "428/428 [==============================] - 1s 3ms/step - loss: 0.5986 - accuracy: 0.6710 - val_loss: 0.5948 - val_accuracy: 0.6602\n",
            "Epoch 25/30\n",
            "428/428 [==============================] - 1s 3ms/step - loss: 0.5983 - accuracy: 0.6718 - val_loss: 0.5945 - val_accuracy: 0.6602\n",
            "Epoch 26/30\n",
            "428/428 [==============================] - 2s 4ms/step - loss: 0.5980 - accuracy: 0.6726 - val_loss: 0.5940 - val_accuracy: 0.6602\n",
            "Epoch 27/30\n",
            "428/428 [==============================] - 2s 5ms/step - loss: 0.5977 - accuracy: 0.6726 - val_loss: 0.5936 - val_accuracy: 0.6602\n",
            "Epoch 28/30\n",
            "428/428 [==============================] - 1s 3ms/step - loss: 0.5974 - accuracy: 0.6721 - val_loss: 0.5934 - val_accuracy: 0.6616\n",
            "Epoch 29/30\n",
            "428/428 [==============================] - 1s 3ms/step - loss: 0.5971 - accuracy: 0.6729 - val_loss: 0.5930 - val_accuracy: 0.6616\n",
            "Epoch 30/30\n",
            "428/428 [==============================] - 2s 4ms/step - loss: 0.5969 - accuracy: 0.6729 - val_loss: 0.5927 - val_accuracy: 0.6616\n"
          ]
        },
        {
          "data": {
            "text/plain": [
              "<keras.src.callbacks.History at 0x7d162d506c50>"
            ]
          },
          "execution_count": 66,
          "metadata": {},
          "output_type": "execute_result"
        }
      ],
      "source": [
        "model.fit(X_train, y_train,\n",
        "          validation_data=(X_valid, y_valid),\n",
        "          batch_size=32,\n",
        "         epochs=30)"
      ]
    },
    {
      "cell_type": "code",
      "execution_count": 67,
      "id": "9e8d937b",
      "metadata": {
        "colab": {
          "base_uri": "https://localhost:8080/",
          "height": 489
        },
        "id": "9e8d937b",
        "outputId": "28d96b66-bfe3-41ff-8b60-d60d8845fbf9"
      },
      "outputs": [
        {
          "name": "stdout",
          "output_type": "stream",
          "text": [
            "dict_keys(['loss', 'accuracy', 'val_loss', 'val_accuracy'])\n"
          ]
        },
        {
          "data": {
            "image/png": "[encoded data removed]",
            "text/plain": [
              "<Figure size 640x480 with 1 Axes>"
            ]
          },
          "metadata": {},
          "output_type": "display_data"
        }
      ],
      "source": [
        "print(model.history.history.keys())\n",
        "# summarize history for accuracy\n",
        "plt.plot(model.history.history['accuracy'])\n",
        "plt.plot(model.history.history['val_accuracy'])\n",
        "plt.title('model accuracy')\n",
        "plt.ylabel('accuracy')\n",
        "plt.xlabel('epoch')\n",
        "plt.legend(['train', 'val'], loc='upper left')\n",
        "plt.show()"
      ]
    },
    {
      "cell_type": "code",
      "execution_count": 68,
      "id": "b1080286",
      "metadata": {
        "id": "b1080286"
      },
      "outputs": [],
      "source": [
        "weights_c4 = np.zeros((len(word2id), 100))\n",
        "\n",
        "for word, i in word2id.items():\n",
        "    # вектор паддинга оставим нулевым\n",
        "    if word == 'PAD':\n",
        "        continue\n",
        "\n",
        "    try:\n",
        "        weights_c4[i] = ft.wv[word]\n",
        "\n",
        "\n",
        "    except KeyError:\n",
        "        # для слов, которых нет в модели тоже возьмем какой-то  рандомный вектор\n",
        "        continue\n",
        "        weights_c4[i] = ft.wv['опрагпллирао']"
      ]
    },
    {
      "cell_type": "code",
      "execution_count": 70,
      "id": "eeab057d",
      "metadata": {
        "id": "eeab057d"
      },
      "outputs": [],
      "source": [
        "inputs = tf.keras.layers.Input(shape=(100,))\n",
        "\n",
        "# передаем матрицу в эмбединг слой\n",
        "# указываем параметр trainable=False, чтобы вектора не обучались\n",
        "# Пояснение: кажется, что обучение векторов отключать не стоит, так как модель должна взять готовые\n",
        "# эмбединги и подогнать их к нашей задаче. На практитке это однако не работает - эмбединги просто\n",
        "# # обучатся заново\n",
        "embeddings = tf.keras.layers.Embedding(input_dim=len(word2id), output_dim=100,\n",
        "                                       trainable=False,\n",
        "                                       weights=[weights_c4])(inputs, )\n",
        "mean = tf.keras.layers.Lambda(lambda x: tf.keras.backend.mean(x,  axis=1))(embeddings)\n",
        "\n",
        "outputs = tf.keras.layers.Dense(1, activation='sigmoid')(mean)\n",
        "\n",
        "model = tf.keras.Model(inputs=inputs, outputs=outputs)\n",
        "optimizer = tf.keras.optimizers.Adam()\n",
        "model.compile(optimizer=optimizer,\n",
        "              loss='binary_crossentropy',\n",
        "              metrics=['accuracy'])"
      ]
    },
    {
      "cell_type": "code",
      "execution_count": 71,
      "id": "901834f5",
      "metadata": {
        "colab": {
          "base_uri": "https://localhost:8080/"
        },
        "id": "901834f5",
        "outputId": "22a7f94c-bab2-4291-ae69-489a83d85c1e"
      },
      "outputs": [
        {
          "name": "stdout",
          "output_type": "stream",
          "text": [
            "Epoch 1/30\n",
            "428/428 [==============================] - 4s 7ms/step - loss: 0.6228 - accuracy: 0.6638 - val_loss: 0.6137 - val_accuracy: 0.6560\n",
            "Epoch 2/30\n",
            "428/428 [==============================] - 1s 3ms/step - loss: 0.6155 - accuracy: 0.6652 - val_loss: 0.6104 - val_accuracy: 0.6560\n",
            "Epoch 3/30\n",
            "428/428 [==============================] - 2s 4ms/step - loss: 0.6126 - accuracy: 0.6653 - val_loss: 0.6085 - val_accuracy: 0.6560\n",
            "Epoch 4/30\n",
            "428/428 [==============================] - 2s 5ms/step - loss: 0.6103 - accuracy: 0.6655 - val_loss: 0.6072 - val_accuracy: 0.6560\n",
            "Epoch 5/30\n",
            "428/428 [==============================] - 1s 3ms/step - loss: 0.6083 - accuracy: 0.6655 - val_loss: 0.6048 - val_accuracy: 0.6560\n",
            "Epoch 6/30\n",
            "428/428 [==============================] - 2s 5ms/step - loss: 0.6065 - accuracy: 0.6656 - val_loss: 0.6035 - val_accuracy: 0.6574\n",
            "Epoch 7/30\n",
            "428/428 [==============================] - 2s 4ms/step - loss: 0.6049 - accuracy: 0.6658 - val_loss: 0.6015 - val_accuracy: 0.6574\n",
            "Epoch 8/30\n",
            "428/428 [==============================] - 1s 3ms/step - loss: 0.6037 - accuracy: 0.6659 - val_loss: 0.6008 - val_accuracy: 0.6574\n",
            "Epoch 9/30\n",
            "428/428 [==============================] - 1s 3ms/step - loss: 0.6023 - accuracy: 0.6655 - val_loss: 0.6005 - val_accuracy: 0.6574\n",
            "Epoch 10/30\n",
            "428/428 [==============================] - 1s 3ms/step - loss: 0.6012 - accuracy: 0.6661 - val_loss: 0.5985 - val_accuracy: 0.6574\n",
            "Epoch 11/30\n",
            "428/428 [==============================] - 1s 3ms/step - loss: 0.6000 - accuracy: 0.6662 - val_loss: 0.5971 - val_accuracy: 0.6574\n",
            "Epoch 12/30\n",
            "428/428 [==============================] - 1s 3ms/step - loss: 0.5991 - accuracy: 0.6667 - val_loss: 0.5971 - val_accuracy: 0.6588\n",
            "Epoch 13/30\n",
            "428/428 [==============================] - 1s 3ms/step - loss: 0.5980 - accuracy: 0.6666 - val_loss: 0.5958 - val_accuracy: 0.6602\n",
            "Epoch 14/30\n",
            "428/428 [==============================] - 1s 3ms/step - loss: 0.5971 - accuracy: 0.6670 - val_loss: 0.5951 - val_accuracy: 0.6602\n",
            "Epoch 15/30\n",
            "428/428 [==============================] - 2s 5ms/step - loss: 0.5961 - accuracy: 0.6674 - val_loss: 0.5944 - val_accuracy: 0.6616\n",
            "Epoch 16/30\n",
            "428/428 [==============================] - 2s 4ms/step - loss: 0.5955 - accuracy: 0.6676 - val_loss: 0.5932 - val_accuracy: 0.6602\n",
            "Epoch 17/30\n",
            "428/428 [==============================] - 1s 3ms/step - loss: 0.5948 - accuracy: 0.6682 - val_loss: 0.5931 - val_accuracy: 0.6616\n",
            "Epoch 18/30\n",
            "428/428 [==============================] - 1s 3ms/step - loss: 0.5941 - accuracy: 0.6685 - val_loss: 0.5923 - val_accuracy: 0.6616\n",
            "Epoch 19/30\n",
            "428/428 [==============================] - 1s 3ms/step - loss: 0.5933 - accuracy: 0.6692 - val_loss: 0.5912 - val_accuracy: 0.6616\n",
            "Epoch 20/30\n",
            "428/428 [==============================] - 1s 3ms/step - loss: 0.5926 - accuracy: 0.6692 - val_loss: 0.5910 - val_accuracy: 0.6602\n",
            "Epoch 21/30\n",
            "428/428 [==============================] - 1s 3ms/step - loss: 0.5921 - accuracy: 0.6697 - val_loss: 0.5904 - val_accuracy: 0.6602\n",
            "Epoch 22/30\n",
            "428/428 [==============================] - 1s 3ms/step - loss: 0.5914 - accuracy: 0.6702 - val_loss: 0.5900 - val_accuracy: 0.6630\n",
            "Epoch 23/30\n",
            "428/428 [==============================] - 1s 3ms/step - loss: 0.5909 - accuracy: 0.6705 - val_loss: 0.5893 - val_accuracy: 0.6644\n",
            "Epoch 24/30\n",
            "428/428 [==============================] - 2s 4ms/step - loss: 0.5903 - accuracy: 0.6709 - val_loss: 0.5887 - val_accuracy: 0.6644\n",
            "Epoch 25/30\n",
            "428/428 [==============================] - 2s 4ms/step - loss: 0.5898 - accuracy: 0.6715 - val_loss: 0.5889 - val_accuracy: 0.6657\n",
            "Epoch 26/30\n",
            "428/428 [==============================] - 1s 3ms/step - loss: 0.5892 - accuracy: 0.6721 - val_loss: 0.5875 - val_accuracy: 0.6657\n",
            "Epoch 27/30\n",
            "428/428 [==============================] - 1s 3ms/step - loss: 0.5887 - accuracy: 0.6726 - val_loss: 0.5870 - val_accuracy: 0.6657\n",
            "Epoch 28/30\n",
            "428/428 [==============================] - 1s 3ms/step - loss: 0.5883 - accuracy: 0.6743 - val_loss: 0.5866 - val_accuracy: 0.6657\n",
            "Epoch 29/30\n",
            "428/428 [==============================] - 1s 3ms/step - loss: 0.5878 - accuracy: 0.6744 - val_loss: 0.5868 - val_accuracy: 0.6685\n",
            "Epoch 30/30\n",
            "428/428 [==============================] - 1s 3ms/step - loss: 0.5873 - accuracy: 0.6741 - val_loss: 0.5874 - val_accuracy: 0.6713\n"
          ]
        },
        {
          "data": {
            "text/plain": [
              "<keras.src.callbacks.History at 0x7d162cf33730>"
            ]
          },
          "execution_count": 71,
          "metadata": {},
          "output_type": "execute_result"
        }
      ],
      "source": [
        "model.fit(X_train, y_train,\n",
        "          validation_data=(X_valid, y_valid),\n",
        "          batch_size=32,\n",
        "         epochs=30)"
      ]
    },
    {
      "cell_type": "code",
      "execution_count": 72,
      "id": "bfca5351",
      "metadata": {
        "colab": {
          "base_uri": "https://localhost:8080/",
          "height": 489
        },
        "id": "bfca5351",
        "outputId": "9a2733ea-a965-4fd9-88fc-31824c306fc2"
      },
      "outputs": [
        {
          "name": "stdout",
          "output_type": "stream",
          "text": [
            "dict_keys(['loss', 'accuracy', 'val_loss', 'val_accuracy'])\n"
          ]
        },
        {
          "data": {
            "image/png": "[encoded data removed]",
            "text/plain": [
              "<Figure size 640x480 with 1 Axes>"
            ]
          },
          "metadata": {},
          "output_type": "display_data"
        }
      ],
      "source": [
        "print(model.history.history.keys())\n",
        "# summarize history for accuracy\n",
        "plt.plot(model.history.history['accuracy'])\n",
        "plt.plot(model.history.history['val_accuracy'])\n",
        "plt.title('model accuracy')\n",
        "plt.ylabel('accuracy')\n",
        "plt.xlabel('epoch')\n",
        "plt.legend(['train', 'val'], loc='upper left')\n",
        "plt.show()"
      ]
    },
    {
      "cell_type": "markdown",
      "id": "d91d094e",
      "metadata": {
        "id": "d91d094e"
      },
      "source": [
        "Предобученная модель"
      ]
    },
    {
      "cell_type": "code",
      "execution_count": 79,
      "id": "aae75f81",
      "metadata": {
        "id": "aae75f81"
      },
      "outputs": [],
      "source": [
        "model = gensim.models.KeyedVectors.load_word2vec_format('/content/drive/MyDrive/ruscorpora_upos_skipgram_300_5_2018.vec', binary=False)"
      ]
    },
    {
      "cell_type": "code",
      "execution_count": 80,
      "id": "682e5d08",
      "metadata": {
        "colab": {
          "base_uri": "https://localhost:8080/"
        },
        "id": "682e5d08",
        "outputId": "cdc87353-f0a7-46f0-9a8b-00344c8ccac4"
      },
      "outputs": [
        {
          "data": {
            "text/plain": [
              "array([-1.65890e-02,  5.56540e-02,  1.41050e-02, -6.01020e-02,\n",
              "        8.14130e-02, -4.29800e-03, -4.87910e-02, -5.22550e-02,\n",
              "       -1.05372e-01, -1.54610e-02,  3.74430e-02, -3.05210e-02,\n",
              "       -8.86700e-02, -5.94600e-03,  5.46470e-02,  2.02600e-02,\n",
              "        4.62430e-02, -4.07070e-02, -5.21570e-02,  9.32900e-03,\n",
              "        6.64200e-02, -4.30050e-02,  3.49920e-02,  1.21077e-01,\n",
              "        2.30520e-02, -8.02720e-02,  3.05890e-02, -2.48240e-02,\n",
              "       -1.01329e-01, -1.26552e-01,  2.65700e-02, -1.07510e-02,\n",
              "       -6.23800e-03,  6.27250e-02, -1.48230e-02,  8.74340e-02,\n",
              "        2.28800e-03, -1.19044e-01,  5.10420e-02,  5.38080e-02,\n",
              "       -2.52240e-02, -2.30730e-02, -4.11970e-02,  4.77010e-02,\n",
              "       -4.93050e-02, -9.83970e-02, -5.80080e-02, -1.85220e-02,\n",
              "        4.50010e-02, -8.37630e-02,  7.91360e-02,  1.03360e-01,\n",
              "        4.84000e-04,  3.30400e-03, -4.81080e-02, -1.20310e-02,\n",
              "        6.77090e-02,  1.58310e-01, -1.54540e-02,  2.51830e-02,\n",
              "       -1.82000e-04,  3.56800e-02, -5.55970e-02, -1.46780e-02,\n",
              "       -1.28610e-01, -5.27000e-02,  2.93600e-02, -1.28093e-01,\n",
              "        5.86130e-02, -4.76800e-03, -4.07700e-03,  7.78120e-02,\n",
              "        6.15480e-02, -7.32660e-02, -9.14680e-02,  1.52840e-02,\n",
              "       -4.30200e-03,  1.31050e-02, -1.24012e-01, -1.10237e-01,\n",
              "       -6.61960e-02,  4.89560e-02,  1.60840e-02, -1.82300e-03,\n",
              "       -9.80140e-02, -3.12870e-02, -2.01570e-02, -2.41290e-02,\n",
              "        3.68970e-02, -3.10890e-02,  3.87100e-03,  2.72460e-02,\n",
              "       -6.50920e-02,  3.41230e-02,  3.05340e-02, -2.70540e-02,\n",
              "       -2.68070e-02, -7.73060e-02, -3.50420e-02, -1.34820e-02,\n",
              "       -7.61130e-02,  8.48800e-03, -3.29390e-02,  1.66430e-02,\n",
              "        3.25210e-02, -7.35970e-02, -3.83100e-03,  1.04850e-02,\n",
              "        4.19200e-03,  3.68700e-02, -7.35400e-03, -6.56860e-02,\n",
              "        1.73390e-02,  1.18676e-01,  6.78880e-02, -7.90910e-02,\n",
              "       -6.95100e-03,  3.69340e-02,  6.30340e-02,  8.17780e-02,\n",
              "       -4.26100e-02, -7.97760e-02, -2.89420e-02,  1.60470e-02,\n",
              "       -3.70190e-02,  1.05526e-01,  2.61180e-02,  3.59520e-02,\n",
              "       -1.12345e-01, -2.58720e-02,  1.01680e-02, -1.03636e-01,\n",
              "       -1.26442e-01,  6.36240e-02, -1.01487e-01,  1.81010e-02,\n",
              "        1.02737e-01, -4.25790e-02, -1.99830e-02,  1.00848e-01,\n",
              "       -4.87870e-02,  3.51180e-02,  5.13960e-02,  7.16530e-02,\n",
              "       -7.52410e-02,  4.08040e-02,  6.54000e-02,  7.84300e-03,\n",
              "        4.58290e-02,  6.50600e-03,  1.41100e-03, -4.18620e-02,\n",
              "        6.80970e-02,  2.02500e-02, -1.06158e-01,  1.65500e-02,\n",
              "        5.95640e-02,  7.72200e-03,  5.48380e-02, -2.38400e-03,\n",
              "       -5.07800e-03, -1.93250e-02,  7.12800e-02,  1.38940e-02,\n",
              "       -2.67760e-02, -2.87500e-03, -2.39700e-02,  3.09300e-03,\n",
              "        6.34150e-02,  1.53876e-01,  6.68410e-02, -4.07800e-03,\n",
              "       -6.04580e-02, -1.01532e-01,  6.31870e-02, -6.75850e-02,\n",
              "       -8.68800e-03,  4.97410e-02, -2.33320e-02,  3.34240e-02,\n",
              "        7.07470e-02, -4.36190e-02, -2.66330e-02,  4.63720e-02,\n",
              "        2.08720e-02, -1.45100e-03, -1.72250e-02, -1.80630e-02,\n",
              "        2.50880e-02, -1.08300e-03,  2.03310e-02,  4.42740e-02,\n",
              "       -3.77600e-02,  8.79430e-02,  5.24160e-02,  2.98730e-02,\n",
              "        2.28010e-02, -4.17440e-02,  4.50960e-02,  5.87750e-02,\n",
              "        2.60680e-02, -1.37010e-02, -4.06820e-02,  9.08410e-02,\n",
              "       -2.86830e-02, -2.19600e-02,  6.86000e-02,  1.13400e-02,\n",
              "        1.57197e-01, -5.18400e-03, -1.77630e-02, -1.71326e-01,\n",
              "        3.99840e-02, -2.08410e-02,  3.39240e-02,  4.43800e-03,\n",
              "       -2.53250e-02, -1.09000e-04,  2.90010e-02, -4.62200e-03,\n",
              "        1.18737e-01, -7.06790e-02,  1.45430e-02, -3.68150e-02,\n",
              "       -3.74260e-02,  5.08900e-03, -3.95860e-02, -3.00120e-02,\n",
              "        4.46270e-02,  2.92400e-02, -6.06200e-02,  6.87520e-02,\n",
              "       -4.01380e-02, -6.56970e-02, -1.06405e-01,  5.59990e-02,\n",
              "       -6.23590e-02,  8.98100e-03,  1.13870e-02,  1.29848e-01,\n",
              "        1.58050e-02,  1.21190e-02, -1.28230e-02, -6.58340e-02,\n",
              "        1.39785e-01, -1.29030e-02, -1.26610e-02, -1.39057e-01,\n",
              "        1.53790e-02,  2.22210e-02,  3.29500e-02,  4.09590e-02,\n",
              "        4.54490e-02, -1.71490e-02, -4.32230e-02,  1.15981e-01,\n",
              "       -1.43830e-02,  4.64380e-02,  9.73700e-02,  4.05000e-04,\n",
              "       -4.48340e-02, -2.29400e-02,  4.46690e-02, -3.46360e-02,\n",
              "        7.61300e-03, -1.86030e-02, -3.62310e-02,  2.05830e-02,\n",
              "       -8.70020e-02, -8.50000e-05,  3.54300e-03, -5.07430e-02,\n",
              "        3.69040e-02, -3.38200e-02, -5.94750e-02, -3.04250e-02,\n",
              "        3.55390e-02, -5.04750e-02, -5.62630e-02, -5.60320e-02,\n",
              "       -9.16900e-02,  2.87100e-02, -1.21175e-01, -3.76290e-02,\n",
              "        4.71960e-02,  2.59500e-02, -1.01031e-01, -2.82890e-02,\n",
              "       -1.13685e-01,  1.35730e-02, -4.99640e-02, -4.91860e-02,\n",
              "        3.34590e-02, -2.99780e-02, -3.54400e-03,  3.23110e-02,\n",
              "        1.90200e-03, -5.41930e-02,  3.09360e-02,  9.34900e-02],\n",
              "      dtype=float32)"
            ]
          },
          "execution_count": 80,
          "metadata": {},
          "output_type": "execute_result"
        }
      ],
      "source": [
        "model['март_NOUN']"
      ]
    },
    {
      "cell_type": "code",
      "execution_count": 81,
      "id": "5a68fa79",
      "metadata": {
        "colab": {
          "base_uri": "https://localhost:8080/"
        },
        "id": "5a68fa79",
        "outputId": "24147c55-da87-4d4f-ff8e-a5df2a10a552"
      },
      "outputs": [
        {
          "data": {
            "text/plain": [
              "[('март_NOUN', 0.9469264149665833),\n",
              " ('январь_NOUN', 0.9385507702827454),\n",
              " ('декабрь_NOUN', 0.9291070699691772),\n",
              " ('ноябрь_NOUN', 0.9287325739860535),\n",
              " ('апрель_NOUN', 0.9180451035499573),\n",
              " ('октябрь_NOUN', 0.9116759300231934),\n",
              " ('май_NOUN', 0.8881860375404358),\n",
              " ('сентябрь_NOUN', 0.884035050868988),\n",
              " ('июнь_NOUN', 0.8719688057899475),\n",
              " ('август_NOUN', 0.8699690699577332)]"
            ]
          },
          "execution_count": 81,
          "metadata": {},
          "output_type": "execute_result"
        }
      ],
      "source": [
        "model.most_similar('февраль_NOUN')"
      ]
    },
    {
      "cell_type": "code",
      "execution_count": 83,
      "id": "ZqX6bXG-27QC",
      "metadata": {
        "id": "ZqX6bXG-27QC"
      },
      "outputs": [],
      "source": [
        "mapping = {}\n",
        "\n",
        "for line in open('/content/drive/MyDrive/ru-rnc.map'):\n",
        "    ms, ud = line.strip('\\n').split()\n",
        "    mapping[ms] = ud"
      ]
    },
    {
      "cell_type": "code",
      "execution_count": 84,
      "id": "04e01b5c",
      "metadata": {
        "id": "04e01b5c"
      },
      "outputs": [],
      "source": [
        "from pymystem3 import Mystem\n",
        "m = Mystem()"
      ]
    },
    {
      "cell_type": "code",
      "execution_count": 85,
      "id": "322cb5d8",
      "metadata": {
        "id": "322cb5d8"
      },
      "outputs": [],
      "source": [
        "\n",
        "def normalize_mystem(text):\n",
        "    tokens = []\n",
        "    norm_words = m.analyze(text)\n",
        "    for norm_word in norm_words:\n",
        "        if 'analysis' not in norm_word:\n",
        "            continue\n",
        "\n",
        "        if not len(norm_word['analysis']):\n",
        "            lemma = norm_word['text']\n",
        "            pos = 'UNKN'\n",
        "        else:\n",
        "            lemma = norm_word[\"analysis\"][0][\"lex\"].lower().strip()\n",
        "            pos = norm_word[\"analysis\"][0][\"gr\"].split(',')[0]\n",
        "            pos = pos.split('=')[0].strip()\n",
        "        pos = mapping[pos]\n",
        "        tokens.append(lemma+'_'+pos)\n",
        "\n",
        "    return tokens\n"
      ]
    },
    {
      "cell_type": "code",
      "execution_count": 86,
      "id": "17ccf190",
      "metadata": {
        "id": "17ccf190"
      },
      "outputs": [],
      "source": [
        "data['norm_text_2'] = data.comment.apply(normalize_mystem)"
      ]
    },
    {
      "cell_type": "code",
      "execution_count": 87,
      "id": "eb0ddd81",
      "metadata": {
        "colab": {
          "base_uri": "https://localhost:8080/"
        },
        "id": "eb0ddd81",
        "outputId": "bd25372a-2964-43d9-9c9d-631a6233c1f9"
      },
      "outputs": [
        {
          "data": {
            "text/plain": [
              "14412"
            ]
          },
          "execution_count": 87,
          "metadata": {},
          "output_type": "execute_result"
        }
      ],
      "source": [
        "len(data)"
      ]
    },
    {
      "cell_type": "code",
      "execution_count": 88,
      "id": "0389d681",
      "metadata": {
        "colab": {
          "base_uri": "https://localhost:8080/",
          "height": 424
        },
        "id": "0389d681",
        "outputId": "61b284bf-d776-4204-db9a-5671d0c2daf0"
      },
      "outputs": [
        {
          "data": {
            "text/html": [
              "\n",
              "  <div id=\"df-54653f04-2f47-4b2d-8c91-0d9690e1bc7f\" class=\"colab-df-container\">\n",
              "    <div>\n",
              "<style scoped>\n",
              "    .dataframe tbody tr th:only-of-type {\n",
              "        vertical-align: middle;\n",
              "    }\n",
              "\n",
              "    .dataframe tbody tr th {\n",
              "        vertical-align: top;\n",
              "    }\n",
              "\n",
              "    .dataframe thead th {\n",
              "        text-align: right;\n",
              "    }\n",
              "</style>\n",
              "<table border=\"1\" class=\"dataframe\">\n",
              "  <thead>\n",
              "    <tr style=\"text-align: right;\">\n",
              "      <th></th>\n",
              "      <th>comment</th>\n",
              "      <th>toxic</th>\n",
              "      <th>norm_text</th>\n",
              "      <th>norm_text_2</th>\n",
              "    </tr>\n",
              "  </thead>\n",
              "  <tbody>\n",
              "    <tr>\n",
              "      <th>0</th>\n",
              "      <td>Верблюдов-то за что? Дебилы, бл...\\n</td>\n",
              "      <td>1.0</td>\n",
              "      <td>[верблюд-то, за, что, дебил, бл]</td>\n",
              "      <td>[верблюд_NOUN, то_PART, за_ADP, что_PRON, деби...</td>\n",
              "    </tr>\n",
              "    <tr>\n",
              "      <th>1</th>\n",
              "      <td>Хохлы, это отдушина затюканого россиянина, мол...</td>\n",
              "      <td>1.0</td>\n",
              "      <td>[хохол, это, отдушина, затюканый, россиянин, м...</td>\n",
              "      <td>[хохол_NOUN, это_PART, отдушина_NOUN, затюканы...</td>\n",
              "    </tr>\n",
              "    <tr>\n",
              "      <th>2</th>\n",
              "      <td>Собаке - собачья смерть\\n</td>\n",
              "      <td>1.0</td>\n",
              "      <td>[собака, собачий, смерть]</td>\n",
              "      <td>[собака_NOUN, собачий_ADJ, смерть_NOUN]</td>\n",
              "    </tr>\n",
              "    <tr>\n",
              "      <th>3</th>\n",
              "      <td>Страницу обнови, дебил. Это тоже не оскорблени...</td>\n",
              "      <td>1.0</td>\n",
              "      <td>[страница, обновить, дебил, это, тоже, не, оск...</td>\n",
              "      <td>[страница_NOUN, обновлять_VERB, дебил_NOUN, эт...</td>\n",
              "    </tr>\n",
              "    <tr>\n",
              "      <th>4</th>\n",
              "      <td>тебя не убедил 6-страничный пдф в том, что Скр...</td>\n",
              "      <td>1.0</td>\n",
              "      <td>[ты, не, убедить, 6-страничный, пдф, в, тот, ч...</td>\n",
              "      <td>[ты_PRON, не_PART, убеждать_VERB, страничный_A...</td>\n",
              "    </tr>\n",
              "    <tr>\n",
              "      <th>...</th>\n",
              "      <td>...</td>\n",
              "      <td>...</td>\n",
              "      <td>...</td>\n",
              "      <td>...</td>\n",
              "    </tr>\n",
              "    <tr>\n",
              "      <th>14407</th>\n",
              "      <td>Вонючий совковый скот прибежал и ноет. А вот и...</td>\n",
              "      <td>1.0</td>\n",
              "      <td>[вонючий, совковый, скот, прибежать, и, ныть, ...</td>\n",
              "      <td>[вонючий_ADJ, совковый_ADJ, скот_NOUN, прибега...</td>\n",
              "    </tr>\n",
              "    <tr>\n",
              "      <th>14408</th>\n",
              "      <td>А кого любить? Гоблина тупорылого что-ли? Или ...</td>\n",
              "      <td>1.0</td>\n",
              "      <td>[а, кто, любить, гоблин, тупорылый, что-ли, ил...</td>\n",
              "      <td>[а_SCONJ, кто_PRON, любить_VERB, гоблин_NOUN, ...</td>\n",
              "    </tr>\n",
              "    <tr>\n",
              "      <th>14409</th>\n",
              "      <td>Посмотрел Утомленных солнцем 2. И оказалось, ч...</td>\n",
              "      <td>0.0</td>\n",
              "      <td>[посмотреть, утомлённый, солнце, 2, и, оказать...</td>\n",
              "      <td>[посмотреть_VERB, утомленный_ADJ, солнце_NOUN,...</td>\n",
              "    </tr>\n",
              "    <tr>\n",
              "      <th>14410</th>\n",
              "      <td>КРЫМОТРЕД НАРУШАЕТ ПРАВИЛА РАЗДЕЛА Т.К В НЕМ Н...</td>\n",
              "      <td>1.0</td>\n",
              "      <td>[крымотред, нарушать, правило, раздел, т.к, в,...</td>\n",
              "      <td>[крымотред_ADV, нарушать_VERB, правило_NOUN, р...</td>\n",
              "    </tr>\n",
              "    <tr>\n",
              "      <th>14411</th>\n",
              "      <td>До сих пор пересматриваю его видео. Орамбо кст...</td>\n",
              "      <td>0.0</td>\n",
              "      <td>[до, сей, пора, пересматривать, он, видео, ора...</td>\n",
              "      <td>[до_ADP, сей_DET, пора_NOUN, пересматривать_VE...</td>\n",
              "    </tr>\n",
              "  </tbody>\n",
              "</table>\n",
              "<p>14412 rows × 4 columns</p>\n",
              "</div>\n",
              "    <div class=\"colab-df-buttons\">\n",
              "\n",
              "  <div class=\"colab-df-container\">\n",
              "    <button class=\"colab-df-convert\" onclick=\"convertToInteractive('df-54653f04-2f47-4b2d-8c91-0d9690e1bc7f')\"\n",
              "            title=\"Convert this dataframe to an interactive table.\"\n",
              "            style=\"display:none;\">\n",
              "\n",
              "  <svg xmlns=\"http://www.w3.org/2000/svg\" height=\"24px\" viewBox=\"0 -960 960 960\">\n",
              "    <path d=\"M120-120v-720h720v720H120Zm60-500h600v-160H180v160Zm220 220h160v-160H400v160Zm0 220h160v-160H400v160ZM180-400h160v-160H180v160Zm440 0h160v-160H620v160ZM180-180h160v-160H180v160Zm440 0h160v-160H620v160Z\"/>\n",
              "  </svg>\n",
              "    </button>\n",
              "\n",
              "  <style>\n",
              "    .colab-df-container {\n",
              "      display:flex;\n",
              "      gap: 12px;\n",
              "    }\n",
              "\n",
              "    .colab-df-convert {\n",
              "      background-color: #E8F0FE;\n",
              "      border: none;\n",
              "      border-radius: 50%;\n",
              "      cursor: pointer;\n",
              "      display: none;\n",
              "      fill: #1967D2;\n",
              "      height: 32px;\n",
              "      padding: 0 0 0 0;\n",
              "      width: 32px;\n",
              "    }\n",
              "\n",
              "    .colab-df-convert:hover {\n",
              "      background-color: #E2EBFA;\n",
              "      box-shadow: 0px 1px 2px rgba(60, 64, 67, 0.3), 0px 1px 3px 1px rgba(60, 64, 67, 0.15);\n",
              "      fill: #174EA6;\n",
              "    }\n",
              "\n",
              "    .colab-df-buttons div {\n",
              "      margin-bottom: 4px;\n",
              "    }\n",
              "\n",
              "    [theme=dark] .colab-df-convert {\n",
              "      background-color: #3B4455;\n",
              "      fill: #D2E3FC;\n",
              "    }\n",
              "\n",
              "    [theme=dark] .colab-df-convert:hover {\n",
              "      background-color: #434B5C;\n",
              "      box-shadow: 0px 1px 3px 1px rgba(0, 0, 0, 0.15);\n",
              "      filter: drop-shadow(0px 1px 2px rgba(0, 0, 0, 0.3));\n",
              "      fill: #FFFFFF;\n",
              "    }\n",
              "  </style>\n",
              "\n",
              "    <script>\n",
              "      const buttonEl =\n",
              "        document.querySelector('#df-54653f04-2f47-4b2d-8c91-0d9690e1bc7f button.colab-df-convert');\n",
              "      buttonEl.style.display =\n",
              "        google.colab.kernel.accessAllowed ? 'block' : 'none';\n",
              "\n",
              "      async function convertToInteractive(key) {\n",
              "        const element = document.querySelector('#df-54653f04-2f47-4b2d-8c91-0d9690e1bc7f');\n",
              "        const dataTable =\n",
              "          await google.colab.kernel.invokeFunction('convertToInteractive',\n",
              "                                                    [key], {});\n",
              "        if (!dataTable) return;\n",
              "\n",
              "        const docLinkHtml = 'Like what you see? Visit the ' +\n",
              "          '<a target=\"_blank\" href=https://colab.research.google.com/notebooks/data_table.ipynb>data table notebook</a>'\n",
              "          + ' to learn more about interactive tables.';\n",
              "        element.innerHTML = '';\n",
              "        dataTable['output_type'] = 'display_data';\n",
              "        await google.colab.output.renderOutput(dataTable, element);\n",
              "        const docLink = document.createElement('div');\n",
              "        docLink.innerHTML = docLinkHtml;\n",
              "        element.appendChild(docLink);\n",
              "      }\n",
              "    </script>\n",
              "  </div>\n",
              "\n",
              "\n",
              "<div id=\"df-d8c9196a-f1ad-4bfc-9b82-1a4439b6884e\">\n",
              "  <button class=\"colab-df-quickchart\" onclick=\"quickchart('df-d8c9196a-f1ad-4bfc-9b82-1a4439b6884e')\"\n",
              "            title=\"Suggest charts\"\n",
              "            style=\"display:none;\">\n",
              "\n",
              "<svg xmlns=\"http://www.w3.org/2000/svg\" height=\"24px\"viewBox=\"0 0 24 24\"\n",
              "     width=\"24px\">\n",
              "    <g>\n",
              "        <path d=\"M19 3H5c-1.1 0-2 .9-2 2v14c0 1.1.9 2 2 2h14c1.1 0 2-.9 2-2V5c0-1.1-.9-2-2-2zM9 17H7v-7h2v7zm4 0h-2V7h2v10zm4 0h-2v-4h2v4z\"/>\n",
              "    </g>\n",
              "</svg>\n",
              "  </button>\n",
              "\n",
              "<style>\n",
              "  .colab-df-quickchart {\n",
              "      --bg-color: #E8F0FE;\n",
              "      --fill-color: #1967D2;\n",
              "      --hover-bg-color: #E2EBFA;\n",
              "      --hover-fill-color: #174EA6;\n",
              "      --disabled-fill-color: #AAA;\n",
              "      --disabled-bg-color: #DDD;\n",
              "  }\n",
              "\n",
              "  [theme=dark] .colab-df-quickchart {\n",
              "      --bg-color: #3B4455;\n",
              "      --fill-color: #D2E3FC;\n",
              "      --hover-bg-color: #434B5C;\n",
              "      --hover-fill-color: #FFFFFF;\n",
              "      --disabled-bg-color: #3B4455;\n",
              "      --disabled-fill-color: #666;\n",
              "  }\n",
              "\n",
              "  .colab-df-quickchart {\n",
              "    background-color: var(--bg-color);\n",
              "    border: none;\n",
              "    border-radius: 50%;\n",
              "    cursor: pointer;\n",
              "    display: none;\n",
              "    fill: var(--fill-color);\n",
              "    height: 32px;\n",
              "    padding: 0;\n",
              "    width: 32px;\n",
              "  }\n",
              "\n",
              "  .colab-df-quickchart:hover {\n",
              "    background-color: var(--hover-bg-color);\n",
              "    box-shadow: 0 1px 2px rgba(60, 64, 67, 0.3), 0 1px 3px 1px rgba(60, 64, 67, 0.15);\n",
              "    fill: var(--button-hover-fill-color);\n",
              "  }\n",
              "\n",
              "  .colab-df-quickchart-complete:disabled,\n",
              "  .colab-df-quickchart-complete:disabled:hover {\n",
              "    background-color: var(--disabled-bg-color);\n",
              "    fill: var(--disabled-fill-color);\n",
              "    box-shadow: none;\n",
              "  }\n",
              "\n",
              "  .colab-df-spinner {\n",
              "    border: 2px solid var(--fill-color);\n",
              "    border-color: transparent;\n",
              "    border-bottom-color: var(--fill-color);\n",
              "    animation:\n",
              "      spin 1s steps(1) infinite;\n",
              "  }\n",
              "\n",
              "  @keyframes spin {\n",
              "    0% {\n",
              "      border-color: transparent;\n",
              "      border-bottom-color: var(--fill-color);\n",
              "      border-left-color: var(--fill-color);\n",
              "    }\n",
              "    20% {\n",
              "      border-color: transparent;\n",
              "      border-left-color: var(--fill-color);\n",
              "      border-top-color: var(--fill-color);\n",
              "    }\n",
              "    30% {\n",
              "      border-color: transparent;\n",
              "      border-left-color: var(--fill-color);\n",
              "      border-top-color: var(--fill-color);\n",
              "      border-right-color: var(--fill-color);\n",
              "    }\n",
              "    40% {\n",
              "      border-color: transparent;\n",
              "      border-right-color: var(--fill-color);\n",
              "      border-top-color: var(--fill-color);\n",
              "    }\n",
              "    60% {\n",
              "      border-color: transparent;\n",
              "      border-right-color: var(--fill-color);\n",
              "    }\n",
              "    80% {\n",
              "      border-color: transparent;\n",
              "      border-right-color: var(--fill-color);\n",
              "      border-bottom-color: var(--fill-color);\n",
              "    }\n",
              "    90% {\n",
              "      border-color: transparent;\n",
              "      border-bottom-color: var(--fill-color);\n",
              "    }\n",
              "  }\n",
              "</style>\n",
              "\n",
              "  <script>\n",
              "    async function quickchart(key) {\n",
              "      const quickchartButtonEl =\n",
              "        document.querySelector('#' + key + ' button');\n",
              "      quickchartButtonEl.disabled = true;  // To prevent multiple clicks.\n",
              "      quickchartButtonEl.classList.add('colab-df-spinner');\n",
              "      try {\n",
              "        const charts = await google.colab.kernel.invokeFunction(\n",
              "            'suggestCharts', [key], {});\n",
              "      } catch (error) {\n",
              "        console.error('Error during call to suggestCharts:', error);\n",
              "      }\n",
              "      quickchartButtonEl.classList.remove('colab-df-spinner');\n",
              "      quickchartButtonEl.classList.add('colab-df-quickchart-complete');\n",
              "    }\n",
              "    (() => {\n",
              "      let quickchartButtonEl =\n",
              "        document.querySelector('#df-d8c9196a-f1ad-4bfc-9b82-1a4439b6884e button');\n",
              "      quickchartButtonEl.style.display =\n",
              "        google.colab.kernel.accessAllowed ? 'block' : 'none';\n",
              "    })();\n",
              "  </script>\n",
              "</div>\n",
              "    </div>\n",
              "  </div>\n"
            ],
            "text/plain": [
              "                                                 comment  toxic  \\\n",
              "0                   Верблюдов-то за что? Дебилы, бл...\\n    1.0   \n",
              "1      Хохлы, это отдушина затюканого россиянина, мол...    1.0   \n",
              "2                              Собаке - собачья смерть\\n    1.0   \n",
              "3      Страницу обнови, дебил. Это тоже не оскорблени...    1.0   \n",
              "4      тебя не убедил 6-страничный пдф в том, что Скр...    1.0   \n",
              "...                                                  ...    ...   \n",
              "14407  Вонючий совковый скот прибежал и ноет. А вот и...    1.0   \n",
              "14408  А кого любить? Гоблина тупорылого что-ли? Или ...    1.0   \n",
              "14409  Посмотрел Утомленных солнцем 2. И оказалось, ч...    0.0   \n",
              "14410  КРЫМОТРЕД НАРУШАЕТ ПРАВИЛА РАЗДЕЛА Т.К В НЕМ Н...    1.0   \n",
              "14411  До сих пор пересматриваю его видео. Орамбо кст...    0.0   \n",
              "\n",
              "                                               norm_text  \\\n",
              "0                       [верблюд-то, за, что, дебил, бл]   \n",
              "1      [хохол, это, отдушина, затюканый, россиянин, м...   \n",
              "2                              [собака, собачий, смерть]   \n",
              "3      [страница, обновить, дебил, это, тоже, не, оск...   \n",
              "4      [ты, не, убедить, 6-страничный, пдф, в, тот, ч...   \n",
              "...                                                  ...   \n",
              "14407  [вонючий, совковый, скот, прибежать, и, ныть, ...   \n",
              "14408  [а, кто, любить, гоблин, тупорылый, что-ли, ил...   \n",
              "14409  [посмотреть, утомлённый, солнце, 2, и, оказать...   \n",
              "14410  [крымотред, нарушать, правило, раздел, т.к, в,...   \n",
              "14411  [до, сей, пора, пересматривать, он, видео, ора...   \n",
              "\n",
              "                                             norm_text_2  \n",
              "0      [верблюд_NOUN, то_PART, за_ADP, что_PRON, деби...  \n",
              "1      [хохол_NOUN, это_PART, отдушина_NOUN, затюканы...  \n",
              "2                [собака_NOUN, собачий_ADJ, смерть_NOUN]  \n",
              "3      [страница_NOUN, обновлять_VERB, дебил_NOUN, эт...  \n",
              "4      [ты_PRON, не_PART, убеждать_VERB, страничный_A...  \n",
              "...                                                  ...  \n",
              "14407  [вонючий_ADJ, совковый_ADJ, скот_NOUN, прибега...  \n",
              "14408  [а_SCONJ, кто_PRON, любить_VERB, гоблин_NOUN, ...  \n",
              "14409  [посмотреть_VERB, утомленный_ADJ, солнце_NOUN,...  \n",
              "14410  [крымотред_ADV, нарушать_VERB, правило_NOUN, р...  \n",
              "14411  [до_ADP, сей_DET, пора_NOUN, пересматривать_VE...  \n",
              "\n",
              "[14412 rows x 4 columns]"
            ]
          },
          "execution_count": 88,
          "metadata": {},
          "output_type": "execute_result"
        }
      ],
      "source": [
        "data"
      ]
    },
    {
      "cell_type": "code",
      "execution_count": null,
      "id": "40c4eb7d",
      "metadata": {
        "id": "40c4eb7d"
      },
      "outputs": [],
      "source": [
        "data['norm_text_2']"
      ]
    },
    {
      "cell_type": "code",
      "execution_count": 89,
      "id": "2b99d718",
      "metadata": {
        "colab": {
          "base_uri": "https://localhost:8080/"
        },
        "id": "2b99d718",
        "outputId": "cf6d5565-ddd9-43d0-e897-36f0fb5442ee"
      },
      "outputs": [
        {
          "data": {
            "text/plain": [
              "0"
            ]
          },
          "execution_count": 89,
          "metadata": {},
          "output_type": "execute_result"
        }
      ],
      "source": [
        "vocab1 = Counter()\n",
        "\n",
        "for text in data['norm_text_2']:\n",
        "    vocab1.update(text)\n",
        "\n",
        "filtered_vocab1 = set()\n",
        "\n",
        "for word in vocab:\n",
        "    if vocab1[word] > 5:\n",
        "        filtered_vocab1.add(word)\n",
        "\n",
        "len(filtered_vocab1)"
      ]
    },
    {
      "cell_type": "code",
      "execution_count": 90,
      "id": "0e7fbc2e",
      "metadata": {
        "id": "0e7fbc2e"
      },
      "outputs": [],
      "source": [
        "word2id1 = { 'PAD':0}\n",
        "\n",
        "for word in filtered_vocab1:\n",
        "    word2id1[word] = len(word2id1)\n",
        "id2word1 = {i:word for word, i in word2id1.items()}"
      ]
    },
    {
      "cell_type": "code",
      "execution_count": 91,
      "id": "6a354fcd",
      "metadata": {
        "id": "6a354fcd"
      },
      "outputs": [],
      "source": [
        "X = []\n",
        "\n",
        "for tokens in data['norm_text_2']:\n",
        "    ids = [word2id1[token] for token in tokens if token in word2id1]\n",
        "    X.append(ids)"
      ]
    },
    {
      "cell_type": "code",
      "execution_count": 92,
      "id": "9f0400e7",
      "metadata": {
        "id": "9f0400e7"
      },
      "outputs": [],
      "source": [
        "X = tf.keras.preprocessing.sequence.pad_sequences(X, maxlen=100)\n",
        "y = data.toxic.values"
      ]
    },
    {
      "cell_type": "code",
      "execution_count": 93,
      "id": "ec97befd",
      "metadata": {
        "id": "ec97befd"
      },
      "outputs": [],
      "source": [
        "X_train, X_valid, y_train, y_valid = train_test_split(X, y, test_size=0.05)"
      ]
    },
    {
      "cell_type": "code",
      "execution_count": 94,
      "id": "93071b47",
      "metadata": {
        "id": "93071b47"
      },
      "outputs": [],
      "source": [
        "weights_c5 = np.zeros((len(word2id1), 200))\n",
        "\n",
        "for word, i in word2id1.items():\n",
        "    # вектор паддинга оставим нулевым\n",
        "    if word == 'PAD':\n",
        "        continue\n",
        "\n",
        "    try:\n",
        "        weights_c5[i] = model.wv[word]\n",
        "\n",
        "\n",
        "    except KeyError:\n",
        "        # для слов, которых нет в модели тоже возьмем какой-то  рандомный вектор\n",
        "        continue\n",
        "        weights_c5[i] = model.wv['опрагпллирао']"
      ]
    },
    {
      "cell_type": "code",
      "execution_count": 95,
      "id": "fcff12d1",
      "metadata": {
        "id": "fcff12d1"
      },
      "outputs": [],
      "source": [
        "inputs = tf.keras.layers.Input(shape=(100,))\n",
        "\n",
        "# передаем матрицу в эмбединг слой\n",
        "# указываем параметр trainable=False, чтобы вектора не обучались\n",
        "# Пояснение: кажется, что обучение векторов отключать не стоит, так как модель должна взять готовые\n",
        "# эмбединги и подогнать их к нашей задаче. На практитке это однако не работает - эмбединги просто\n",
        "# # обучатся заново\n",
        "embeddings = tf.keras.layers.Embedding(input_dim=len(word2id1), output_dim=200,\n",
        "                                       trainable=False,\n",
        "                                       weights=[weights_c5])(inputs, )\n",
        "mean = tf.keras.layers.Lambda(lambda x: tf.keras.backend.mean(x,  axis=1))(embeddings)\n",
        "\n",
        "outputs = tf.keras.layers.Dense(1, activation='sigmoid')(mean)\n",
        "\n",
        "model = tf.keras.Model(inputs=inputs, outputs=outputs)\n",
        "optimizer = tf.keras.optimizers.Adam()\n",
        "model.compile(optimizer=optimizer,\n",
        "              loss='binary_crossentropy',\n",
        "              metrics=['accuracy'])"
      ]
    },
    {
      "cell_type": "code",
      "execution_count": 96,
      "id": "8ec73ea1",
      "metadata": {
        "colab": {
          "base_uri": "https://localhost:8080/"
        },
        "id": "8ec73ea1",
        "outputId": "6622709c-8d9f-4de2-8a20-d11e05299dc9"
      },
      "outputs": [
        {
          "name": "stdout",
          "output_type": "stream",
          "text": [
            "Epoch 1/30\n",
            "428/428 [==============================] - 2s 4ms/step - loss: 0.6695 - accuracy: 0.6653 - val_loss: 0.6535 - val_accuracy: 0.6630\n",
            "Epoch 2/30\n",
            "428/428 [==============================] - 2s 4ms/step - loss: 0.6454 - accuracy: 0.6653 - val_loss: 0.6419 - val_accuracy: 0.6630\n",
            "Epoch 3/30\n",
            "428/428 [==============================] - 1s 3ms/step - loss: 0.6390 - accuracy: 0.6653 - val_loss: 0.6394 - val_accuracy: 0.6630\n",
            "Epoch 4/30\n",
            "428/428 [==============================] - 1s 3ms/step - loss: 0.6378 - accuracy: 0.6653 - val_loss: 0.6391 - val_accuracy: 0.6630\n",
            "Epoch 5/30\n",
            "428/428 [==============================] - 2s 4ms/step - loss: 0.6376 - accuracy: 0.6653 - val_loss: 0.6390 - val_accuracy: 0.6630\n",
            "Epoch 6/30\n",
            "428/428 [==============================] - 2s 5ms/step - loss: 0.6375 - accuracy: 0.6653 - val_loss: 0.6391 - val_accuracy: 0.6630\n",
            "Epoch 7/30\n",
            "428/428 [==============================] - 2s 4ms/step - loss: 0.6375 - accuracy: 0.6653 - val_loss: 0.6391 - val_accuracy: 0.6630\n",
            "Epoch 8/30\n",
            "428/428 [==============================] - 1s 3ms/step - loss: 0.6375 - accuracy: 0.6653 - val_loss: 0.6391 - val_accuracy: 0.6630\n",
            "Epoch 9/30\n",
            "428/428 [==============================] - 1s 3ms/step - loss: 0.6375 - accuracy: 0.6653 - val_loss: 0.6390 - val_accuracy: 0.6630\n",
            "Epoch 10/30\n",
            "428/428 [==============================] - 1s 3ms/step - loss: 0.6375 - accuracy: 0.6653 - val_loss: 0.6391 - val_accuracy: 0.6630\n",
            "Epoch 11/30\n",
            "428/428 [==============================] - 1s 3ms/step - loss: 0.6375 - accuracy: 0.6653 - val_loss: 0.6391 - val_accuracy: 0.6630\n",
            "Epoch 12/30\n",
            "428/428 [==============================] - 1s 3ms/step - loss: 0.6375 - accuracy: 0.6653 - val_loss: 0.6391 - val_accuracy: 0.6630\n",
            "Epoch 13/30\n",
            "428/428 [==============================] - 1s 3ms/step - loss: 0.6375 - accuracy: 0.6653 - val_loss: 0.6391 - val_accuracy: 0.6630\n",
            "Epoch 14/30\n",
            "428/428 [==============================] - 1s 3ms/step - loss: 0.6375 - accuracy: 0.6653 - val_loss: 0.6391 - val_accuracy: 0.6630\n",
            "Epoch 15/30\n",
            "428/428 [==============================] - 2s 5ms/step - loss: 0.6375 - accuracy: 0.6653 - val_loss: 0.6391 - val_accuracy: 0.6630\n",
            "Epoch 16/30\n",
            "428/428 [==============================] - 2s 5ms/step - loss: 0.6375 - accuracy: 0.6653 - val_loss: 0.6391 - val_accuracy: 0.6630\n",
            "Epoch 17/30\n",
            "428/428 [==============================] - 1s 3ms/step - loss: 0.6375 - accuracy: 0.6653 - val_loss: 0.6391 - val_accuracy: 0.6630\n",
            "Epoch 18/30\n",
            "428/428 [==============================] - 1s 3ms/step - loss: 0.6375 - accuracy: 0.6653 - val_loss: 0.6391 - val_accuracy: 0.6630\n",
            "Epoch 19/30\n",
            "428/428 [==============================] - 1s 3ms/step - loss: 0.6375 - accuracy: 0.6653 - val_loss: 0.6391 - val_accuracy: 0.6630\n",
            "Epoch 20/30\n",
            "428/428 [==============================] - 1s 3ms/step - loss: 0.6375 - accuracy: 0.6653 - val_loss: 0.6391 - val_accuracy: 0.6630\n",
            "Epoch 21/30\n",
            "428/428 [==============================] - 1s 3ms/step - loss: 0.6375 - accuracy: 0.6653 - val_loss: 0.6391 - val_accuracy: 0.6630\n",
            "Epoch 22/30\n",
            "428/428 [==============================] - 1s 3ms/step - loss: 0.6375 - accuracy: 0.6653 - val_loss: 0.6391 - val_accuracy: 0.6630\n",
            "Epoch 23/30\n",
            "428/428 [==============================] - 1s 3ms/step - loss: 0.6375 - accuracy: 0.6653 - val_loss: 0.6391 - val_accuracy: 0.6630\n",
            "Epoch 24/30\n",
            "428/428 [==============================] - 2s 4ms/step - loss: 0.6375 - accuracy: 0.6653 - val_loss: 0.6391 - val_accuracy: 0.6630\n",
            "Epoch 25/30\n",
            "428/428 [==============================] - 2s 5ms/step - loss: 0.6375 - accuracy: 0.6653 - val_loss: 0.6391 - val_accuracy: 0.6630\n",
            "Epoch 26/30\n",
            "428/428 [==============================] - 2s 4ms/step - loss: 0.6375 - accuracy: 0.6653 - val_loss: 0.6391 - val_accuracy: 0.6630\n",
            "Epoch 27/30\n",
            "428/428 [==============================] - 1s 3ms/step - loss: 0.6375 - accuracy: 0.6653 - val_loss: 0.6391 - val_accuracy: 0.6630\n",
            "Epoch 28/30\n",
            "428/428 [==============================] - 1s 3ms/step - loss: 0.6375 - accuracy: 0.6653 - val_loss: 0.6391 - val_accuracy: 0.6630\n",
            "Epoch 29/30\n",
            "428/428 [==============================] - 1s 3ms/step - loss: 0.6375 - accuracy: 0.6653 - val_loss: 0.6391 - val_accuracy: 0.6630\n",
            "Epoch 30/30\n",
            "428/428 [==============================] - 1s 3ms/step - loss: 0.6375 - accuracy: 0.6653 - val_loss: 0.6390 - val_accuracy: 0.6630\n"
          ]
        },
        {
          "data": {
            "text/plain": [
              "<keras.src.callbacks.History at 0x7d162e52ed70>"
            ]
          },
          "execution_count": 96,
          "metadata": {},
          "output_type": "execute_result"
        }
      ],
      "source": [
        "model.fit(X_train, y_train,\n",
        "          validation_data=(X_valid, y_valid),\n",
        "          batch_size=32,\n",
        "         epochs=30)"
      ]
    },
    {
      "cell_type": "code",
      "execution_count": 97,
      "id": "0ab25d96",
      "metadata": {
        "colab": {
          "base_uri": "https://localhost:8080/",
          "height": 489
        },
        "id": "0ab25d96",
        "outputId": "ba84fb65-d404-4243-df44-60a810660a84"
      },
      "outputs": [
        {
          "name": "stdout",
          "output_type": "stream",
          "text": [
            "dict_keys(['loss', 'accuracy', 'val_loss', 'val_accuracy'])\n"
          ]
        },
        {
          "data": {
            "image/png": "[encoded data removed]",
            "text/plain": [
              "<Figure size 640x480 with 1 Axes>"
            ]
          },
          "metadata": {},
          "output_type": "display_data"
        }
      ],
      "source": [
        "print(model.history.history.keys())\n",
        "# summarize history for accuracy\n",
        "plt.plot(model.history.history['accuracy'])\n",
        "plt.plot(model.history.history['val_accuracy'])\n",
        "plt.title('model accuracy')\n",
        "plt.ylabel('accuracy')\n",
        "plt.xlabel('epoch')\n",
        "plt.legend(['train', 'val'], loc='upper left')\n",
        "plt.show()"
      ]
    },
    {
      "cell_type": "code",
      "execution_count": null,
      "id": "f4556e04",
      "metadata": {
        "id": "f4556e04"
      },
      "outputs": [],
      "source": []
    },
    {
      "cell_type": "markdown",
      "id": "15a4f9a7",
      "metadata": {
        "id": "15a4f9a7"
      },
      "source": [
        "Лучше других показала себя w2v модель"
      ]
    },
    {
      "cell_type": "markdown",
      "id": "28a99574",
      "metadata": {
        "id": "28a99574"
      },
      "source": []
    }
  ],
  "metadata": {
    "accelerator": "GPU",
    "colab": {
      "provenance": []
    },
    "kernelspec": {
      "display_name": "Python 3",
      "name": "python3"
    },
    "language_info": {
      "codemirror_mode": {
        "name": "ipython",
        "version": 3
      },
      "file_extension": ".py",
      "mimetype": "text/x-python",
      "name": "python",
      "nbconvert_exporter": "python",
      "pygments_lexer": "ipython3",
      "version": "3.11.5"
    },
    "widgets": {
      "application/vnd.jupyter.widget-state+json": {
        "13396a1269304c69afb3e0a774195ed4": {
          "model_module": "@jupyter-widgets/controls",
          "model_module_version": "1.5.0",
          "model_name": "HBoxModel",
          "state": {
            "_dom_classes": [],
            "_model_module": "@jupyter-widgets/controls",
            "_model_module_version": "1.5.0",
            "_model_name": "HBoxModel",
            "_view_count": null,
            "_view_module": "@jupyter-widgets/controls",
            "_view_module_version": "1.5.0",
            "_view_name": "HBoxView",
            "box_style": "",
            "children": [
              "IPY_MODEL_2bead5514a204fd6bfeb922eab78c622",
              "IPY_MODEL_d61e2f70a2e44417a19eb44d58e00384",
              "IPY_MODEL_31283d72e1634fba8113a572271e1c37"
            ],
            "layout": "IPY_MODEL_2fbe4c4986f2485f91153420f81fe923"
          }
        },
        "173b4193565f4b98a44bdde9302d2333": {
          "model_module": "@jupyter-widgets/base",
          "model_module_version": "1.2.0",
          "model_name": "LayoutModel",
          "state": {
            "_model_module": "@jupyter-widgets/base",
            "_model_module_version": "1.2.0",
            "_model_name": "LayoutModel",
            "_view_count": null,
            "_view_module": "@jupyter-widgets/base",
            "_view_module_version": "1.2.0",
            "_view_name": "LayoutView",
            "align_content": null,
            "align_items": null,
            "align_self": null,
            "border": null,
            "bottom": null,
            "display": null,
            "flex": null,
            "flex_flow": null,
            "grid_area": null,
            "grid_auto_columns": null,
            "grid_auto_flow": null,
            "grid_auto_rows": null,
            "grid_column": null,
            "grid_gap": null,
            "grid_row": null,
            "grid_template_areas": null,
            "grid_template_columns": null,
            "grid_template_rows": null,
            "height": null,
            "justify_content": null,
            "justify_items": null,
            "left": null,
            "margin": null,
            "max_height": null,
            "max_width": null,
            "min_height": null,
            "min_width": null,
            "object_fit": null,
            "object_position": null,
            "order": null,
            "overflow": null,
            "overflow_x": null,
            "overflow_y": null,
            "padding": null,
            "right": null,
            "top": null,
            "visibility": null,
            "width": null
          }
        },
        "1788ec52bc2c427298295041d22527e2": {
          "model_module": "@jupyter-widgets/base",
          "model_module_version": "1.2.0",
          "model_name": "LayoutModel",
          "state": {
            "_model_module": "@jupyter-widgets/base",
            "_model_module_version": "1.2.0",
            "_model_name": "LayoutModel",
            "_view_count": null,
            "_view_module": "@jupyter-widgets/base",
            "_view_module_version": "1.2.0",
            "_view_name": "LayoutView",
            "align_content": null,
            "align_items": null,
            "align_self": null,
            "border": null,
            "bottom": null,
            "display": null,
            "flex": null,
            "flex_flow": null,
            "grid_area": null,
            "grid_auto_columns": null,
            "grid_auto_flow": null,
            "grid_auto_rows": null,
            "grid_column": null,
            "grid_gap": null,
            "grid_row": null,
            "grid_template_areas": null,
            "grid_template_columns": null,
            "grid_template_rows": null,
            "height": null,
            "justify_content": null,
            "justify_items": null,
            "left": null,
            "margin": null,
            "max_height": null,
            "max_width": null,
            "min_height": null,
            "min_width": null,
            "object_fit": null,
            "object_position": null,
            "order": null,
            "overflow": null,
            "overflow_x": null,
            "overflow_y": null,
            "padding": null,
            "right": null,
            "top": null,
            "visibility": null,
            "width": null
          }
        },
        "2308c6adaef9422590f3a74179661988": {
          "model_module": "@jupyter-widgets/controls",
          "model_module_version": "1.5.0",
          "model_name": "DescriptionStyleModel",
          "state": {
            "_model_module": "@jupyter-widgets/controls",
            "_model_module_version": "1.5.0",
            "_model_name": "DescriptionStyleModel",
            "_view_count": null,
            "_view_module": "@jupyter-widgets/base",
            "_view_module_version": "1.2.0",
            "_view_name": "StyleView",
            "description_width": ""
          }
        },
        "2bead5514a204fd6bfeb922eab78c622": {
          "model_module": "@jupyter-widgets/controls",
          "model_module_version": "1.5.0",
          "model_name": "HTMLModel",
          "state": {
            "_dom_classes": [],
            "_model_module": "@jupyter-widgets/controls",
            "_model_module_version": "1.5.0",
            "_model_name": "HTMLModel",
            "_view_count": null,
            "_view_module": "@jupyter-widgets/controls",
            "_view_module_version": "1.5.0",
            "_view_name": "HTMLView",
            "description": "",
            "description_tooltip": null,
            "layout": "IPY_MODEL_173b4193565f4b98a44bdde9302d2333",
            "placeholder": "​",
            "style": "IPY_MODEL_8efa04505a074a2e8589ced35c024222",
            "value": "100%"
          }
        },
        "2fbe4c4986f2485f91153420f81fe923": {
          "model_module": "@jupyter-widgets/base",
          "model_module_version": "1.2.0",
          "model_name": "LayoutModel",
          "state": {
            "_model_module": "@jupyter-widgets/base",
            "_model_module_version": "1.2.0",
            "_model_name": "LayoutModel",
            "_view_count": null,
            "_view_module": "@jupyter-widgets/base",
            "_view_module_version": "1.2.0",
            "_view_name": "LayoutView",
            "align_content": null,
            "align_items": null,
            "align_self": null,
            "border": null,
            "bottom": null,
            "display": null,
            "flex": null,
            "flex_flow": null,
            "grid_area": null,
            "grid_auto_columns": null,
            "grid_auto_flow": null,
            "grid_auto_rows": null,
            "grid_column": null,
            "grid_gap": null,
            "grid_row": null,
            "grid_template_areas": null,
            "grid_template_columns": null,
            "grid_template_rows": null,
            "height": null,
            "justify_content": null,
            "justify_items": null,
            "left": null,
            "margin": null,
            "max_height": null,
            "max_width": null,
            "min_height": null,
            "min_width": null,
            "object_fit": null,
            "object_position": null,
            "order": null,
            "overflow": null,
            "overflow_x": null,
            "overflow_y": null,
            "padding": null,
            "right": null,
            "top": null,
            "visibility": null,
            "width": null
          }
        },
        "31283d72e1634fba8113a572271e1c37": {
          "model_module": "@jupyter-widgets/controls",
          "model_module_version": "1.5.0",
          "model_name": "HTMLModel",
          "state": {
            "_dom_classes": [],
            "_model_module": "@jupyter-widgets/controls",
            "_model_module_version": "1.5.0",
            "_model_name": "HTMLModel",
            "_view_count": null,
            "_view_module": "@jupyter-widgets/controls",
            "_view_module_version": "1.5.0",
            "_view_name": "HTMLView",
            "description": "",
            "description_tooltip": null,
            "layout": "IPY_MODEL_8df7b405d6bd4bdfaf5be7831f4dd16d",
            "placeholder": "​",
            "style": "IPY_MODEL_2308c6adaef9422590f3a74179661988",
            "value": " 20003/20003 [50:05&lt;00:00,  1.21it/s]"
          }
        },
        "328faa7d6111443491cd4f7cf2fb38c5": {
          "model_module": "@jupyter-widgets/controls",
          "model_module_version": "1.5.0",
          "model_name": "FloatProgressModel",
          "state": {
            "_dom_classes": [],
            "_model_module": "@jupyter-widgets/controls",
            "_model_module_version": "1.5.0",
            "_model_name": "FloatProgressModel",
            "_view_count": null,
            "_view_module": "@jupyter-widgets/controls",
            "_view_module_version": "1.5.0",
            "_view_name": "ProgressView",
            "bar_style": "success",
            "description": "",
            "description_tooltip": null,
            "layout": "IPY_MODEL_1788ec52bc2c427298295041d22527e2",
            "max": 20003,
            "min": 0,
            "orientation": "horizontal",
            "style": "IPY_MODEL_c31d0061c05647be80d73b9a59d90597",
            "value": 20003
          }
        },
        "3d85999d45d04034b14991d17201ead5": {
          "model_module": "@jupyter-widgets/base",
          "model_module_version": "1.2.0",
          "model_name": "LayoutModel",
          "state": {
            "_model_module": "@jupyter-widgets/base",
            "_model_module_version": "1.2.0",
            "_model_name": "LayoutModel",
            "_view_count": null,
            "_view_module": "@jupyter-widgets/base",
            "_view_module_version": "1.2.0",
            "_view_name": "LayoutView",
            "align_content": null,
            "align_items": null,
            "align_self": null,
            "border": null,
            "bottom": null,
            "display": null,
            "flex": null,
            "flex_flow": null,
            "grid_area": null,
            "grid_auto_columns": null,
            "grid_auto_flow": null,
            "grid_auto_rows": null,
            "grid_column": null,
            "grid_gap": null,
            "grid_row": null,
            "grid_template_areas": null,
            "grid_template_columns": null,
            "grid_template_rows": null,
            "height": null,
            "justify_content": null,
            "justify_items": null,
            "left": null,
            "margin": null,
            "max_height": null,
            "max_width": null,
            "min_height": null,
            "min_width": null,
            "object_fit": null,
            "object_position": null,
            "order": null,
            "overflow": null,
            "overflow_x": null,
            "overflow_y": null,
            "padding": null,
            "right": null,
            "top": null,
            "visibility": null,
            "width": null
          }
        },
        "4c05c36cd2c2429084dbf7fcb2b4478b": {
          "model_module": "@jupyter-widgets/controls",
          "model_module_version": "1.5.0",
          "model_name": "DescriptionStyleModel",
          "state": {
            "_model_module": "@jupyter-widgets/controls",
            "_model_module_version": "1.5.0",
            "_model_name": "DescriptionStyleModel",
            "_view_count": null,
            "_view_module": "@jupyter-widgets/base",
            "_view_module_version": "1.2.0",
            "_view_name": "StyleView",
            "description_width": ""
          }
        },
        "734b2d9fecba40c4acc4435f8865e5cf": {
          "model_module": "@jupyter-widgets/controls",
          "model_module_version": "1.5.0",
          "model_name": "DescriptionStyleModel",
          "state": {
            "_model_module": "@jupyter-widgets/controls",
            "_model_module_version": "1.5.0",
            "_model_name": "DescriptionStyleModel",
            "_view_count": null,
            "_view_module": "@jupyter-widgets/base",
            "_view_module_version": "1.2.0",
            "_view_name": "StyleView",
            "description_width": ""
          }
        },
        "8a36f04f946042168fafe6e9d7de042f": {
          "model_module": "@jupyter-widgets/controls",
          "model_module_version": "1.5.0",
          "model_name": "HBoxModel",
          "state": {
            "_dom_classes": [],
            "_model_module": "@jupyter-widgets/controls",
            "_model_module_version": "1.5.0",
            "_model_name": "HBoxModel",
            "_view_count": null,
            "_view_module": "@jupyter-widgets/controls",
            "_view_module_version": "1.5.0",
            "_view_name": "HBoxView",
            "box_style": "",
            "children": [
              "IPY_MODEL_9c99377271a346db9c3a19c2e97f7ad2",
              "IPY_MODEL_328faa7d6111443491cd4f7cf2fb38c5",
              "IPY_MODEL_a5d6e638755c44d8a876be863540b684"
            ],
            "layout": "IPY_MODEL_a7df231cf35a480cbf56cad02583d8c6"
          }
        },
        "8df7b405d6bd4bdfaf5be7831f4dd16d": {
          "model_module": "@jupyter-widgets/base",
          "model_module_version": "1.2.0",
          "model_name": "LayoutModel",
          "state": {
            "_model_module": "@jupyter-widgets/base",
            "_model_module_version": "1.2.0",
            "_model_name": "LayoutModel",
            "_view_count": null,
            "_view_module": "@jupyter-widgets/base",
            "_view_module_version": "1.2.0",
            "_view_name": "LayoutView",
            "align_content": null,
            "align_items": null,
            "align_self": null,
            "border": null,
            "bottom": null,
            "display": null,
            "flex": null,
            "flex_flow": null,
            "grid_area": null,
            "grid_auto_columns": null,
            "grid_auto_flow": null,
            "grid_auto_rows": null,
            "grid_column": null,
            "grid_gap": null,
            "grid_row": null,
            "grid_template_areas": null,
            "grid_template_columns": null,
            "grid_template_rows": null,
            "height": null,
            "justify_content": null,
            "justify_items": null,
            "left": null,
            "margin": null,
            "max_height": null,
            "max_width": null,
            "min_height": null,
            "min_width": null,
            "object_fit": null,
            "object_position": null,
            "order": null,
            "overflow": null,
            "overflow_x": null,
            "overflow_y": null,
            "padding": null,
            "right": null,
            "top": null,
            "visibility": null,
            "width": null
          }
        },
        "8efa04505a074a2e8589ced35c024222": {
          "model_module": "@jupyter-widgets/controls",
          "model_module_version": "1.5.0",
          "model_name": "DescriptionStyleModel",
          "state": {
            "_model_module": "@jupyter-widgets/controls",
            "_model_module_version": "1.5.0",
            "_model_name": "DescriptionStyleModel",
            "_view_count": null,
            "_view_module": "@jupyter-widgets/base",
            "_view_module_version": "1.2.0",
            "_view_name": "StyleView",
            "description_width": ""
          }
        },
        "9c99377271a346db9c3a19c2e97f7ad2": {
          "model_module": "@jupyter-widgets/controls",
          "model_module_version": "1.5.0",
          "model_name": "HTMLModel",
          "state": {
            "_dom_classes": [],
            "_model_module": "@jupyter-widgets/controls",
            "_model_module_version": "1.5.0",
            "_model_name": "HTMLModel",
            "_view_count": null,
            "_view_module": "@jupyter-widgets/controls",
            "_view_module_version": "1.5.0",
            "_view_name": "HTMLView",
            "description": "",
            "description_tooltip": null,
            "layout": "IPY_MODEL_3d85999d45d04034b14991d17201ead5",
            "placeholder": "​",
            "style": "IPY_MODEL_734b2d9fecba40c4acc4435f8865e5cf",
            "value": "100%"
          }
        },
        "a5d6e638755c44d8a876be863540b684": {
          "model_module": "@jupyter-widgets/controls",
          "model_module_version": "1.5.0",
          "model_name": "HTMLModel",
          "state": {
            "_dom_classes": [],
            "_model_module": "@jupyter-widgets/controls",
            "_model_module_version": "1.5.0",
            "_model_name": "HTMLModel",
            "_view_count": null,
            "_view_module": "@jupyter-widgets/controls",
            "_view_module_version": "1.5.0",
            "_view_name": "HTMLView",
            "description": "",
            "description_tooltip": null,
            "layout": "IPY_MODEL_f1fbbb2eb7074368ad72376caa928e07",
            "placeholder": "​",
            "style": "IPY_MODEL_4c05c36cd2c2429084dbf7fcb2b4478b",
            "value": " 20003/20003 [49:00&lt;00:00,  1.55it/s]"
          }
        },
        "a7df231cf35a480cbf56cad02583d8c6": {
          "model_module": "@jupyter-widgets/base",
          "model_module_version": "1.2.0",
          "model_name": "LayoutModel",
          "state": {
            "_model_module": "@jupyter-widgets/base",
            "_model_module_version": "1.2.0",
            "_model_name": "LayoutModel",
            "_view_count": null,
            "_view_module": "@jupyter-widgets/base",
            "_view_module_version": "1.2.0",
            "_view_name": "LayoutView",
            "align_content": null,
            "align_items": null,
            "align_self": null,
            "border": null,
            "bottom": null,
            "display": null,
            "flex": null,
            "flex_flow": null,
            "grid_area": null,
            "grid_auto_columns": null,
            "grid_auto_flow": null,
            "grid_auto_rows": null,
            "grid_column": null,
            "grid_gap": null,
            "grid_row": null,
            "grid_template_areas": null,
            "grid_template_columns": null,
            "grid_template_rows": null,
            "height": null,
            "justify_content": null,
            "justify_items": null,
            "left": null,
            "margin": null,
            "max_height": null,
            "max_width": null,
            "min_height": null,
            "min_width": null,
            "object_fit": null,
            "object_position": null,
            "order": null,
            "overflow": null,
            "overflow_x": null,
            "overflow_y": null,
            "padding": null,
            "right": null,
            "top": null,
            "visibility": null,
            "width": null
          }
        },
        "bff244e1a0df4f94b30f4535ce45de0c": {
          "model_module": "@jupyter-widgets/base",
          "model_module_version": "1.2.0",
          "model_name": "LayoutModel",
          "state": {
            "_model_module": "@jupyter-widgets/base",
            "_model_module_version": "1.2.0",
            "_model_name": "LayoutModel",
            "_view_count": null,
            "_view_module": "@jupyter-widgets/base",
            "_view_module_version": "1.2.0",
            "_view_name": "LayoutView",
            "align_content": null,
            "align_items": null,
            "align_self": null,
            "border": null,
            "bottom": null,
            "display": null,
            "flex": null,
            "flex_flow": null,
            "grid_area": null,
            "grid_auto_columns": null,
            "grid_auto_flow": null,
            "grid_auto_rows": null,
            "grid_column": null,
            "grid_gap": null,
            "grid_row": null,
            "grid_template_areas": null,
            "grid_template_columns": null,
            "grid_template_rows": null,
            "height": null,
            "justify_content": null,
            "justify_items": null,
            "left": null,
            "margin": null,
            "max_height": null,
            "max_width": null,
            "min_height": null,
            "min_width": null,
            "object_fit": null,
            "object_position": null,
            "order": null,
            "overflow": null,
            "overflow_x": null,
            "overflow_y": null,
            "padding": null,
            "right": null,
            "top": null,
            "visibility": null,
            "width": null
          }
        },
        "c31d0061c05647be80d73b9a59d90597": {
          "model_module": "@jupyter-widgets/controls",
          "model_module_version": "1.5.0",
          "model_name": "ProgressStyleModel",
          "state": {
            "_model_module": "@jupyter-widgets/controls",
            "_model_module_version": "1.5.0",
            "_model_name": "ProgressStyleModel",
            "_view_count": null,
            "_view_module": "@jupyter-widgets/base",
            "_view_module_version": "1.2.0",
            "_view_name": "StyleView",
            "bar_color": null,
            "description_width": ""
          }
        },
        "cca72c435d2a454e89574bb8fc675cef": {
          "model_module": "@jupyter-widgets/controls",
          "model_module_version": "1.5.0",
          "model_name": "ProgressStyleModel",
          "state": {
            "_model_module": "@jupyter-widgets/controls",
            "_model_module_version": "1.5.0",
            "_model_name": "ProgressStyleModel",
            "_view_count": null,
            "_view_module": "@jupyter-widgets/base",
            "_view_module_version": "1.2.0",
            "_view_name": "StyleView",
            "bar_color": null,
            "description_width": ""
          }
        },
        "d61e2f70a2e44417a19eb44d58e00384": {
          "model_module": "@jupyter-widgets/controls",
          "model_module_version": "1.5.0",
          "model_name": "FloatProgressModel",
          "state": {
            "_dom_classes": [],
            "_model_module": "@jupyter-widgets/controls",
            "_model_module_version": "1.5.0",
            "_model_name": "FloatProgressModel",
            "_view_count": null,
            "_view_module": "@jupyter-widgets/controls",
            "_view_module_version": "1.5.0",
            "_view_name": "ProgressView",
            "bar_style": "success",
            "description": "",
            "description_tooltip": null,
            "layout": "IPY_MODEL_bff244e1a0df4f94b30f4535ce45de0c",
            "max": 20003,
            "min": 0,
            "orientation": "horizontal",
            "style": "IPY_MODEL_cca72c435d2a454e89574bb8fc675cef",
            "value": 20003
          }
        },
        "f1fbbb2eb7074368ad72376caa928e07": {
          "model_module": "@jupyter-widgets/base",
          "model_module_version": "1.2.0",
          "model_name": "LayoutModel",
          "state": {
            "_model_module": "@jupyter-widgets/base",
            "_model_module_version": "1.2.0",
            "_model_name": "LayoutModel",
            "_view_count": null,
            "_view_module": "@jupyter-widgets/base",
            "_view_module_version": "1.2.0",
            "_view_name": "LayoutView",
            "align_content": null,
            "align_items": null,
            "align_self": null,
            "border": null,
            "bottom": null,
            "display": null,
            "flex": null,
            "flex_flow": null,
            "grid_area": null,
            "grid_auto_columns": null,
            "grid_auto_flow": null,
            "grid_auto_rows": null,
            "grid_column": null,
            "grid_gap": null,
            "grid_row": null,
            "grid_template_areas": null,
            "grid_template_columns": null,
            "grid_template_rows": null,
            "height": null,
            "justify_content": null,
            "justify_items": null,
            "left": null,
            "margin": null,
            "max_height": null,
            "max_width": null,
            "min_height": null,
            "min_width": null,
            "object_fit": null,
            "object_position": null,
            "order": null,
            "overflow": null,
            "overflow_x": null,
            "overflow_y": null,
            "padding": null,
            "right": null,
            "top": null,
            "visibility": null,
            "width": null
          }
        }
      }
    }
  },
  "nbformat": 4,
  "nbformat_minor": 5
}
