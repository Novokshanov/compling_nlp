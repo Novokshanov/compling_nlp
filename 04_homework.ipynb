{
 "cells": [
  {
   "cell_type": "markdown",
   "id": "48abae58",
   "metadata": {},
   "source": [
    "# Задание 1\n",
    "\n",
    "\n",
    "Выберите 5 языков в википедии (не тех, что использовались в семинаре). Скачайте по 10 случайных статей для каждого языка. Предобработайте тексты, удаляя лишние теги/отступы/разделители (если они есть). Разделите тексты на предложения и создайте датасет, в котором каждому предложению соответствует язык. Кластеризуйте тексты, используя эбмединг модель из прошлого семинара и любой алгоритм кластеризации. Проверьте качество кластеризации с помощь метрики ARI."
   ]
  },
  {
   "cell_type": "code",
   "execution_count": 3,
   "id": "1769f07a",
   "metadata": {},
   "outputs": [],
   "source": [
    "import wikipedia\n",
    "import numpy as np\n",
    "import os\n",
    "import json\n",
    "import requests"
   ]
  },
  {
   "cell_type": "code",
   "execution_count": 4,
   "id": "29977944",
   "metadata": {},
   "outputs": [],
   "source": [
    "code2lang = wikipedia.languages()"
   ]
  },
  {
   "cell_type": "code",
   "execution_count": 5,
   "id": "d18c8826",
   "metadata": {},
   "outputs": [],
   "source": [
    "langs = ['pl', 'ab', 'ady', 'ace' , 'it']"
   ]
  },
  {
   "cell_type": "code",
   "execution_count": 6,
   "id": "d7778df8",
   "metadata": {},
   "outputs": [
    {
     "data": {
      "text/plain": [
       "[('pl', 'polski'),\n",
       " ('ab', 'аԥсшәа'),\n",
       " ('ady', 'адыгабзэ'),\n",
       " ('ace', 'Acèh'),\n",
       " ('it', 'italiano')]"
      ]
     },
     "execution_count": 6,
     "metadata": {},
     "output_type": "execute_result"
    }
   ],
   "source": [
    "[(lang, code2lang[lang]) for lang  in langs]"
   ]
  },
  {
   "cell_type": "code",
   "execution_count": 7,
   "id": "24b52ac0",
   "metadata": {},
   "outputs": [],
   "source": [
    "def load_with_disambigution(page):\n",
    "    try:\n",
    "        p = wikipedia.page(page)\n",
    "    except wikipedia.DisambiguationError as e:\n",
    "        random_option = np.random.choice(e.options)\n",
    "        p = wikipedia.page(random_option)\n",
    "    return p\n"
   ]
  },
  {
   "cell_type": "code",
   "execution_count": 8,
   "id": "c76610ab",
   "metadata": {},
   "outputs": [],
   "source": [
    "def get_texts_for_lang(lang, n=100): # функция для скачивания статей из википедии\n",
    "    # вот так можно зафиксировать язык\n",
    "    wikipedia.set_lang(lang)\n",
    "    wiki_content = []\n",
    "    \n",
    "    # random достает только ссылки на статьи\n",
    "    pages = wikipedia.random(n)\n",
    "    \n",
    "    for page_name in pages:\n",
    "        try:\n",
    "            # чтобы загрузить контент статьи можно вызвать функцию .page\n",
    "            page = load_with_disambigution(page_name)\n",
    "        \n",
    "        except Exception as e:\n",
    "            print('Skipping page {}'.format(page_name), e)\n",
    "            continue\n",
    "\n",
    "        wiki_content.append(f'{page.title}\\n{page.content.replace(\"==\", \"\")}')\n",
    "\n",
    "    return wiki_content"
   ]
  },
  {
   "cell_type": "code",
   "execution_count": null,
   "id": "66decf08",
   "metadata": {},
   "outputs": [],
   "source": [
    "wiki_texts = {}\n",
    "\n",
    "for lang in langs:\n",
    "    try:\n",
    "        wiki_texts[lang] = get_texts_for_lang(lang, 10)\n",
    "    except Exception as e:\n",
    "        print('ERROR ON - ', lang, e)\n",
    "        continue\n",
    "    \n",
    "    print(lang, len(wiki_texts[lang]))"
   ]
  },
  {
   "cell_type": "code",
   "execution_count": null,
   "id": "5d06feee",
   "metadata": {},
   "outputs": [],
   "source": [
    "wiki_texts"
   ]
  },
  {
   "cell_type": "code",
   "execution_count": 11,
   "id": "5dc68d5f",
   "metadata": {},
   "outputs": [],
   "source": [
    "import re"
   ]
  },
  {
   "cell_type": "code",
   "execution_count": 12,
   "id": "d30cbe51",
   "metadata": {},
   "outputs": [],
   "source": [
    "cleaned_articles = []\n",
    "for language in wiki_texts:\n",
    "    for article in wiki_texts[language]:\n",
    "        article = re.sub(r'\\s+', ' ', article)\n",
    "        article = re.sub('<[^>]+>', '', article)\n",
    "        cleaned_articles.append(article)"
   ]
  },
  {
   "cell_type": "code",
   "execution_count": null,
   "id": "c76f52c4",
   "metadata": {},
   "outputs": [],
   "source": [
    "for article in cleaned_articles:\n",
    "    print(article)"
   ]
  },
  {
   "cell_type": "code",
   "execution_count": null,
   "id": "e77cf5ec",
   "metadata": {},
   "outputs": [],
   "source": [
    "cleaned_articles"
   ]
  },
  {
   "cell_type": "code",
   "execution_count": 13,
   "id": "7ece1ed2",
   "metadata": {},
   "outputs": [],
   "source": [
    "from nltk import sent_tokenize"
   ]
  },
  {
   "cell_type": "code",
   "execution_count": 17,
   "id": "e9607ceb",
   "metadata": {},
   "outputs": [],
   "source": [
    "langs = ['pl', 'pl', 'pl', 'pl', 'pl', 'pl', 'pl', 'pl', 'pl', 'pl', 'ab', 'ab', 'ab', 'ab', 'ab', 'ab', 'ab', 'ab', 'ab', 'ab', 'ady', 'ady', 'ady', 'ady', 'ady', 'ady', 'ady', 'ady', 'ady', 'ady', 'ace' , 'ace', 'ace' , 'ace', 'ace', 'ace' , 'ace', 'ace' , 'ace', 'ace', 'it', 'it', 'it', 'it', 'it', 'it', 'it', 'it', 'it', 'it']\n",
    "sentences = {}\n",
    "n = int(0)\n",
    "for article in cleaned_articles:\n",
    "    tokenized_article = sent_tokenize(article)\n",
    "    for sentence in tokenized_article:\n",
    "        sentences[sentence] = langs[n]\n",
    "    n += 1"
   ]
  },
  {
   "cell_type": "code",
   "execution_count": null,
   "id": "08e5e20b",
   "metadata": {},
   "outputs": [],
   "source": [
    "sentences"
   ]
  },
  {
   "cell_type": "markdown",
   "id": "03040449",
   "metadata": {},
   "source": [
    "-------------------------"
   ]
  },
  {
   "cell_type": "code",
   "execution_count": 19,
   "id": "3a83b459",
   "metadata": {},
   "outputs": [],
   "source": [
    "from sklearn.metrics.pairwise import cosine_distances, cosine_similarity\n",
    "from sentence_transformers import SentenceTransformer\n",
    "import pandas as pd\n",
    "from sklearn.cluster import KMeans"
   ]
  },
  {
   "cell_type": "code",
   "execution_count": 20,
   "id": "17702ee5",
   "metadata": {},
   "outputs": [],
   "source": [
    "# embedding model\n",
    "model = SentenceTransformer('sentence-transformers/all-mpnet-base-v2')\n",
    "embed = model.encode"
   ]
  },
  {
   "cell_type": "code",
   "execution_count": 21,
   "id": "e3bbcd14",
   "metadata": {},
   "outputs": [],
   "source": [
    "from sklearn.cluster import KMeans, DBSCAN, AffinityPropagation\n",
    "import numpy as np\n",
    "from sklearn.metrics import adjusted_rand_score\n",
    "\n",
    "from IPython.display import Image\n",
    "from IPython.core.display import HTML\n",
    "from sklearn.preprocessing import LabelEncoder"
   ]
  },
  {
   "cell_type": "code",
   "execution_count": 32,
   "id": "14b694a2",
   "metadata": {},
   "outputs": [],
   "source": [
    "ARI = []\n",
    "texts = []\n",
    "for key in sentences:\n",
    "    # вытаскиваем предложения\n",
    "    texts.append(key)"
   ]
  },
  {
   "cell_type": "code",
   "execution_count": 38,
   "id": "f9891a59",
   "metadata": {},
   "outputs": [],
   "source": [
    "true_lables = []\n",
    "for key in sentences:\n",
    "    # вытаскиваем языки\n",
    "    true_lables.append(sentences.get(key))"
   ]
  },
  {
   "cell_type": "code",
   "execution_count": null,
   "id": "4d649199",
   "metadata": {},
   "outputs": [],
   "source": [
    "true_lables"
   ]
  },
  {
   "cell_type": "code",
   "execution_count": null,
   "id": "b0a86958",
   "metadata": {},
   "outputs": [],
   "source": [
    "texts"
   ]
  },
  {
   "cell_type": "code",
   "execution_count": 42,
   "id": "b748a8b8",
   "metadata": {},
   "outputs": [
    {
     "name": "stdout",
     "output_type": "stream",
     "text": [
      "0.8309391221489596\n"
     ]
    },
    {
     "name": "stderr",
     "output_type": "stream",
     "text": [
      "c:\\Users\\Dmitry\\AppData\\Local\\Programs\\Python\\Python311\\Lib\\site-packages\\sklearn\\cluster\\_kmeans.py:1416: FutureWarning: The default value of `n_init` will change from 10 to 'auto' in 1.4. Set the value of `n_init` explicitly to suppress the warning\n",
      "  super()._check_params_vs_input(X, default_n_init=10)\n"
     ]
    }
   ],
   "source": [
    "    # создаем пустую матрицу для векторов \n",
    "X = np.zeros((len(texts), 768))\n",
    "\n",
    "    # переводим тексты в векторы и кладем в матрицу\n",
    "for i, text in enumerate(texts):\n",
    "        X[i] = embed(text)\n",
    "\n",
    "    # выбираем один из алгоритмов\n",
    "#cluster = AffinityPropagation(damping=0.9)\n",
    "cluster = KMeans(5)\n",
    "#     cluster = DBSCAN(min_samples=1, eps=0.1)\n",
    "    \n",
    "cluster.fit(X)\n",
    "labels = np.array(cluster.labels_)+1 \n",
    "\n",
    "label_encoder = LabelEncoder()\n",
    "label_encoder.fit(true_lables)\n",
    "ARI.append(adjusted_rand_score(label_encoder.transform(true_lables), labels))\n",
    "    \n",
    "print(np.mean(ARI)) # усредненная метрика"
   ]
  },
  {
   "cell_type": "markdown",
   "id": "3cd75839",
   "metadata": {},
   "source": [
    "# Задание 2\n",
    "\n",
    "Загрузите корпус `annot.opcorpora.no_ambig_strict.xml.bz2` с OpenCorpora. Найдите в корпусе самые частотные морфологически омонимичные словоформы (те, которым соответствует разный грамматический разбор). Также найдите словоформы с самых большим количеством вариантов грамматических разборов."
   ]
  },
  {
   "cell_type": "code",
   "execution_count": 52,
   "id": "4cd65af4",
   "metadata": {},
   "outputs": [],
   "source": [
    "import requests"
   ]
  },
  {
   "cell_type": "code",
   "execution_count": 56,
   "id": "be265156",
   "metadata": {},
   "outputs": [],
   "source": [
    "import bz2\n",
    "\n",
    "with bz2.open('data/annot.opcorpora.no_ambig_strict.xml.bz2', 'rb') as f_in, open('data/annot.opcorpora.no_ambig_strict.xml', 'wb') as f_out:\n",
    "    f_out.write(f_in.read())"
   ]
  },
  {
   "cell_type": "code",
   "execution_count": 61,
   "id": "b93eca0f",
   "metadata": {},
   "outputs": [],
   "source": [
    "from lxml import etree\n",
    "from pymorphy2 import MorphAnalyzer\n",
    "from sklearn.metrics import classification_report\n",
    "import numpy as np\n",
    "from collections import Counter"
   ]
  },
  {
   "cell_type": "code",
   "execution_count": 63,
   "id": "168cc77d",
   "metadata": {},
   "outputs": [],
   "source": [
    "open_corpora = etree.fromstring(open('data/annot.opcorpora.no_ambig_strict.xml', 'rb').read())"
   ]
  },
  {
   "cell_type": "code",
   "execution_count": 64,
   "id": "178dad8c",
   "metadata": {},
   "outputs": [],
   "source": [
    "sentences2 = open_corpora.xpath('//tokens')"
   ]
  },
  {
   "cell_type": "code",
   "execution_count": 67,
   "id": "033daa95",
   "metadata": {},
   "outputs": [],
   "source": [
    "tokens = sentences2[0].xpath('token')"
   ]
  },
  {
   "cell_type": "code",
   "execution_count": 68,
   "id": "0a46e3ab",
   "metadata": {},
   "outputs": [
    {
     "data": {
      "text/plain": [
       "['«', 'Школа', 'злословия', '»', 'учит', 'прикусить', 'язык']"
      ]
     },
     "execution_count": 68,
     "metadata": {},
     "output_type": "execute_result"
    }
   ],
   "source": [
    "[token.xpath('@text')[0] for token in tokens]"
   ]
  },
  {
   "cell_type": "code",
   "execution_count": 72,
   "id": "4a2b76fa",
   "metadata": {},
   "outputs": [
    {
     "data": {
      "text/plain": [
       "['PNCT', 'NOUN', 'NOUN', 'PNCT', 'VERB', 'INFN', 'NOUN']"
      ]
     },
     "execution_count": 72,
     "metadata": {},
     "output_type": "execute_result"
    }
   ],
   "source": [
    "[token.xpath('tfr/v/l/g/@v')[0] for token in tokens]"
   ]
  },
  {
   "cell_type": "code",
   "execution_count": 73,
   "id": "1dd33d04",
   "metadata": {},
   "outputs": [],
   "source": [
    "corpus = []\n",
    "\n",
    "for sentence in open_corpora.xpath('//tokens'):\n",
    "    sent_tagged = []\n",
    "    for token in sentence.xpath('token'):\n",
    "        word = token.xpath('@text')\n",
    "        gram_info = token.xpath('tfr/v/l/g/@v')\n",
    "        sent_tagged.append([word[0]] + gram_info)\n",
    "    \n",
    "    corpus.append(sent_tagged)"
   ]
  },
  {
   "cell_type": "code",
   "execution_count": 75,
   "id": "6ea5646c",
   "metadata": {},
   "outputs": [
    {
     "data": {
      "text/plain": [
       "[['«', 'PNCT'],\n",
       " ['Школа', 'NOUN', 'inan', 'femn', 'sing', 'nomn'],\n",
       " ['злословия', 'NOUN', 'inan', 'neut', 'sing', 'gent'],\n",
       " ['»', 'PNCT'],\n",
       " ['учит', 'VERB', 'impf', 'tran', 'sing', '3per', 'pres', 'indc'],\n",
       " ['прикусить', 'INFN', 'perf', 'tran'],\n",
       " ['язык', 'NOUN', 'inan', 'masc', 'sing', 'accs']]"
      ]
     },
     "execution_count": 75,
     "metadata": {},
     "output_type": "execute_result"
    }
   ],
   "source": [
    "corpus[0]"
   ]
  },
  {
   "cell_type": "code",
   "execution_count": 92,
   "id": "8afa42b9",
   "metadata": {},
   "outputs": [],
   "source": [
    "# Создаем словарь, где ключ это словоформа, а значение это сет кортежей, представлющих разные значения\n",
    "\n",
    "word_forms_freq = {}\n",
    "\n",
    "for sentence in corpus:\n",
    "    for word in sentence:\n",
    "        if word[0] not in word_forms_freq:\n",
    "            word_forms_freq[word[0]] = set()\n",
    "            word_meanings = set()\n",
    "            for word_meaning in word[1:]:               \n",
    "                if word_meaning not in word_meanings:\n",
    "                    word_meanings.add(word_meaning)\n",
    "            word_forms_freq[word[0]].add(tuple(word_meanings))\n",
    "        else:\n",
    "            word_meanings2 = set()\n",
    "            for word_meaning2 in word[1:]:               \n",
    "                if word_meaning2 not in word_meanings2:\n",
    "                    word_meanings2.add(word_meaning2)\n",
    "            word_forms_freq[word[0]].add(tuple(word_meanings2))"
   ]
  },
  {
   "cell_type": "code",
   "execution_count": null,
   "id": "18009b22",
   "metadata": {},
   "outputs": [],
   "source": [
    "word_forms_freq"
   ]
  },
  {
   "cell_type": "code",
   "execution_count": 104,
   "id": "a1dd96c4",
   "metadata": {},
   "outputs": [
    {
     "data": {
      "text/plain": [
       "{'США'}"
      ]
     },
     "execution_count": 104,
     "metadata": {},
     "output_type": "execute_result"
    }
   ],
   "source": [
    "# Ищем  слово с максимальным количество омонимии\n",
    "word_forms_max_meanings = {}\n",
    "max_meanings_wordform = set()\n",
    "max_meanings_digit = int(0)\n",
    "for wordform in word_forms_freq:\n",
    "    word_forms_max_meanings[wordform] = len(word_forms_freq[wordform])\n",
    "\n",
    "for wordform in word_forms_max_meanings:\n",
    "    if word_forms_max_meanings[wordform] > max_meanings_digit:\n",
    "        max_meanings_digit = word_forms_max_meanings[wordform]\n",
    "\n",
    "for wordform in word_forms_max_meanings:\n",
    "    if word_forms_max_meanings[wordform] == max_meanings_digit:\n",
    "        max_meanings_wordform.add(wordform)\n",
    "\n",
    "# выводим это слово\n",
    "max_meanings_wordform"
   ]
  },
  {
   "cell_type": "code",
   "execution_count": 119,
   "id": "7734723a",
   "metadata": {},
   "outputs": [],
   "source": [
    "# Ищем слова с 2 и более значениями\n",
    "wordforms_omon = set()\n",
    "\n",
    "for wordform in word_forms_freq:\n",
    "    if len(word_forms_freq[wordform]) >= 2:\n",
    "        wordforms_omon.add(wordform)\n",
    "\n",
    "wordforms_omon = tuple(wordforms_omon)"
   ]
  },
  {
   "cell_type": "code",
   "execution_count": null,
   "id": "73f55351",
   "metadata": {},
   "outputs": [],
   "source": [
    "# Создаём словарь для подсчета количества вхождений\n",
    "wordform_count = {word: 0 for word in wordforms_omon}\n",
    "\n",
    "# Считаем количество вхождений слов\n",
    "for sentence in corpus:\n",
    "    for word in sentence:\n",
    "        if word[0] in wordforms_omon:\n",
    "            wordform_count[word[0]] += 1\n",
    "\n",
    "wordform_count"
   ]
  },
  {
   "cell_type": "code",
   "execution_count": 128,
   "id": "aa7e527a",
   "metadata": {},
   "outputs": [
    {
     "name": "stdout",
     "output_type": "stream",
     "text": [
      "Словоформа: в, Кол-во вхождений: 1583\n",
      "Словоформа: на, Кол-во вхождений: 686\n",
      "Словоформа: с, Кол-во вхождений: 536\n",
      "Словоформа: и, Кол-во вхождений: 507\n",
      "Словоформа: году, Кол-во вхождений: 115\n",
      "Словоформа: этом, Кол-во вхождений: 104\n",
      "Словоформа: России, Кол-во вхождений: 90\n",
      "Словоформа: было, Кол-во вхождений: 84\n",
      "Словоформа: может, Кол-во вхождений: 65\n",
      "Словоформа: А, Кол-во вхождений: 58\n",
      "Словоформа: которые, Кол-во вхождений: 53\n",
      "Словоформа: нет, Кол-во вхождений: 48\n",
      "Словоформа: меня, Кол-во вхождений: 48\n",
      "Словоформа: всех, Кол-во вхождений: 47\n",
      "Словоформа: этого, Кол-во вхождений: 47\n",
      "Словоформа: О, Кол-во вхождений: 45\n",
      "Словоформа: человек, Кол-во вхождений: 45\n",
      "Словоформа: США, Кол-во вхождений: 44\n",
      "Словоформа: этой, Кол-во вхождений: 41\n",
      "Словоформа: против, Кол-во вхождений: 41\n"
     ]
    }
   ],
   "source": [
    "sorted_wordforms_omon = sorted(wordform_count, key=wordform_count.get, reverse=True)[:20]\n",
    "\n",
    "# Выводим 20 самых частотных омонимичных словоформ\n",
    "for wordform in sorted_wordforms_omon:\n",
    "    print(f\"Словоформа: {wordform}, Кол-во вхождений: {wordform_count[wordform]}\")\n"
   ]
  },
  {
   "cell_type": "markdown",
   "id": "57b29c9c",
   "metadata": {},
   "source": [
    "## Задание 3\n",
    "Загрузите один и з файлов корпуса Syntagrus - https://github.com/UniversalDependencies/UD_Russian-SynTagRus/tree/master (можно взять тестовый)\n",
    "\n",
    "Преобразуйте все разборы предложений в графовые структуру через DependencyGraph, выберите отношение (из тех, что не упоминались на семинаре) и найдите самые частотные пары слов, связанных этим отношением. \n",
    "\n",
    "Для самой частотной пары вытащите все подзависимые слова для каждого из них во всех предложениях (используя `flatten(get_subtree(d.nodes, index_of_a_word)`) В итоге у вас должен получится список пары: слово1 и все его подзависимые - слово2 и все его подзависимые.\n",
    "\n",
    "Визуализируйте самое длинное предложение через networkx"
   ]
  },
  {
   "cell_type": "code",
   "execution_count": 132,
   "id": "c148adc5",
   "metadata": {},
   "outputs": [],
   "source": [
    "from nltk.grammar import DependencyGrammar\n",
    "from nltk.parse import DependencyGraph\n",
    "from collections import Counter\n",
    "import numpy as np\n",
    "import re\n",
    "import warnings\n",
    "import os\n",
    "warnings.filterwarnings('ignore')"
   ]
  },
  {
   "cell_type": "code",
   "execution_count": 169,
   "id": "0850bb7a",
   "metadata": {},
   "outputs": [],
   "source": [
    "from collections import defaultdict"
   ]
  },
  {
   "cell_type": "code",
   "execution_count": 136,
   "id": "0bacebf3",
   "metadata": {},
   "outputs": [],
   "source": [
    "file = open('data/ru_syntagrus-ud-test.conllu', 'r', encoding='utf-8').read()"
   ]
  },
  {
   "cell_type": "code",
   "execution_count": 138,
   "id": "8a4c886a",
   "metadata": {},
   "outputs": [],
   "source": [
    "tree = [x for x in file.split('\\n\\n')[0].split('\\n')]"
   ]
  },
  {
   "cell_type": "code",
   "execution_count": 139,
   "id": "cf9ddd44",
   "metadata": {},
   "outputs": [
    {
     "data": {
      "text/plain": [
       "['# sent_id = 2003Armeniya.xml_1',\n",
       " '# text = В советский период времени число ИТ- специалистов в Армении составляло около десяти тысяч.',\n",
       " '1\\tВ\\tв\\tADP\\t_\\t_\\t3\\tcase\\t3:case\\t_',\n",
       " '2\\tсоветский\\tсоветский\\tADJ\\t_\\tAnimacy=Inan|Case=Acc|Degree=Pos|Gender=Masc|Number=Sing\\t3\\tamod\\t3:amod\\t_',\n",
       " '3\\tпериод\\tпериод\\tNOUN\\t_\\tAnimacy=Inan|Case=Acc|Gender=Masc|Number=Sing\\t11\\tobl\\t11:obl:в:acc\\t_',\n",
       " '4\\tвремени\\tвремя\\tNOUN\\t_\\tAnimacy=Inan|Case=Gen|Gender=Neut|Number=Sing\\t3\\tnmod\\t3:nmod:gen\\t_',\n",
       " '5\\tчисло\\tчисло\\tNOUN\\t_\\tAnimacy=Inan|Case=Acc|Gender=Neut|Number=Sing\\t11\\tobj\\t11:obj\\t_',\n",
       " '6\\tИТ\\tИТ\\tPROPN\\t_\\tAnimacy=Inan|Case=Nom|Gender=Neut|Number=Sing\\t8\\tcompound\\t8:compound\\tSpaceAfter=No',\n",
       " '7\\t-\\t-\\tPUNCT\\t_\\t_\\t6\\tpunct\\t6:punct\\t_',\n",
       " '8\\tспециалистов\\tспециалист\\tNOUN\\t_\\tAnimacy=Anim|Case=Gen|Gender=Masc|Number=Plur\\t5\\tnmod\\t5:nmod:gen\\t_',\n",
       " '9\\tв\\tв\\tADP\\t_\\t_\\t10\\tcase\\t10:case\\t_',\n",
       " '10\\tАрмении\\tАрмения\\tPROPN\\t_\\tAnimacy=Inan|Case=Loc|Gender=Fem|Number=Sing\\t5\\tnmod\\t5:nmod:в:loc\\t_',\n",
       " '11\\tсоставляло\\tсоставлять\\tVERB\\t_\\tAspect=Imp|Gender=Neut|Mood=Ind|Number=Sing|Tense=Past|VerbForm=Fin|Voice=Act\\t0\\troot\\t0:root\\t_',\n",
       " '12\\tоколо\\tоколо\\tADP\\t_\\t_\\t14\\tcase\\t14:case\\t_',\n",
       " '13\\tдесяти\\tдесять\\tNUM\\t_\\tCase=Gen|NumType=Card\\t14\\tnummod\\t14:nummod\\t_',\n",
       " '14\\tтысяч\\tтысяча\\tNOUN\\t_\\tAnimacy=Inan|Case=Gen|Gender=Fem|Number=Plur\\t11\\tnsubj\\t11:nsubj\\tSpaceAfter=No',\n",
       " '15\\t.\\t.\\tPUNCT\\t_\\t_\\t11\\tpunct\\t11:punct\\t_']"
      ]
     },
     "execution_count": 139,
     "metadata": {},
     "output_type": "execute_result"
    }
   ],
   "source": [
    "tree"
   ]
  },
  {
   "cell_type": "code",
   "execution_count": 152,
   "id": "6b9d1601",
   "metadata": {},
   "outputs": [
    {
     "name": "stdout",
     "output_type": "stream",
     "text": [
      "Ошибка обработки строки: string index out of range\n"
     ]
    }
   ],
   "source": [
    "trees = []\n",
    "\n",
    "parsed_sents = open('data/ru_syntagrus-ud-test.conllu', 'r', encoding='utf-8').read().split('\\n\\n')\n",
    "\n",
    "for sent in parsed_sents:\n",
    "    try:\n",
    "        tree = [line for line in sent.split('\\n') if line[0] != '#']\n",
    "        trees.append('\\n'.join(tree))\n",
    "    except IndexError as e:\n",
    "        print(f\"Ошибка обработки строки: {e}\")\n"
   ]
  },
  {
   "cell_type": "code",
   "execution_count": null,
   "id": "b1e1d24d",
   "metadata": {},
   "outputs": [],
   "source": [
    "trees"
   ]
  },
  {
   "cell_type": "code",
   "execution_count": 208,
   "id": "92f2ff06",
   "metadata": {},
   "outputs": [],
   "source": [
    "d = DependencyGraph(trees[0])"
   ]
  },
  {
   "cell_type": "code",
   "execution_count": 230,
   "id": "61e7757c",
   "metadata": {},
   "outputs": [
    {
     "name": "stdout",
     "output_type": "stream",
     "text": [
      "\n",
      "\n",
      "\n",
      "\n"
     ]
    }
   ],
   "source": [
    "dgraphs = []\n",
    "counter = 0\n",
    "for x in trees:\n",
    "    try:\n",
    "        dgraph = DependencyGraph(x)\n",
    "        dgraphs.append(dgraph)\n",
    "    except Exception as e:\n",
    "        print(f\"{e}\")"
   ]
  },
  {
   "cell_type": "code",
   "execution_count": 211,
   "id": "3852a3de",
   "metadata": {},
   "outputs": [
    {
     "data": {
      "text/plain": [
       "8796"
      ]
     },
     "execution_count": 211,
     "metadata": {},
     "output_type": "execute_result"
    }
   ],
   "source": [
    "len(dgraphs)"
   ]
  },
  {
   "cell_type": "code",
   "execution_count": null,
   "id": "1a8f18c6",
   "metadata": {},
   "outputs": [],
   "source": [
    "from collections import Counter\n",
    "\n",
    "# Считаем самые частотные пары слов и сохраняем их\n",
    "\n",
    "word_pairs_case_count = Counter()\n",
    "for dgraph in dgraphs:\n",
    "    dgraph.root = dgraph.nodes[0]\n",
    "    triples = list(dgraph.triples())\n",
    "    print(triples)\n",
    "    for e1, rel, e2 in triples:\n",
    "        if rel == 'case':\n",
    "            word_pair = (e1, e2)\n",
    "            word_pairs_case_count[word_pair] += 1"
   ]
  },
  {
   "cell_type": "code",
   "execution_count": null,
   "id": "fe8346fb",
   "metadata": {},
   "outputs": [],
   "source": [
    "word_pairs_case_count"
   ]
  },
  {
   "cell_type": "code",
   "execution_count": 217,
   "metadata": {},
   "outputs": [],
   "source": [
    "most_common_pairs = word_pairs_case_count.most_common(10)"
   ]
  },
  {
   "cell_type": "code",
   "execution_count": 218,
   "id": "51a5cb1d",
   "metadata": {},
   "outputs": [
    {
     "data": {
      "text/plain": [
       "[((('году', 'NOUN'), ('в', 'ADP')), 98),\n",
       " ((('нас', 'PRON'), ('у', 'ADP')), 70),\n",
       " ((('том', 'PRON'), ('о', 'ADP')), 59),\n",
       " ((('России', 'PROPN'), ('в', 'ADP')), 59),\n",
       " ((('году', 'NOUN'), ('В', 'ADP')), 57),\n",
       " ((('том', 'PRON'), ('в', 'ADP')), 57),\n",
       " ((('время', 'NOUN'), ('в', 'ADP')), 39),\n",
       " ((('того', 'PRON'), ('Кроме', 'ADP')), 38),\n",
       " ((('них', 'PRON'), ('из', 'ADP')), 34),\n",
       " ((('случае', 'NOUN'), ('в', 'ADP')), 30)]"
      ]
     },
     "execution_count": 218,
     "metadata": {},
     "output_type": "execute_result"
    }
   ],
   "source": [
    "# Выводим 10 самых частотных пар слов, связанных падежом\n",
    "\n",
    "most_common_pairs"
   ]
  },
  {
   "cell_type": "markdown",
   "id": "71e8bf0c",
   "metadata": {},
   "source": [
    "------------------"
   ]
  },
  {
   "cell_type": "code",
   "execution_count": 219,
   "id": "ceb4591b",
   "metadata": {},
   "outputs": [],
   "source": [
    "def flatten(l):\n",
    "    flat = []\n",
    "    for el in l:\n",
    "        if not isinstance(el, list):\n",
    "            flat.append(el)\n",
    "        else:\n",
    "            flat += flatten(el)\n",
    "    return flat"
   ]
  },
  {
   "cell_type": "code",
   "execution_count": 220,
   "id": "4527b829",
   "metadata": {},
   "outputs": [],
   "source": [
    "def get_subtree(nodes, node):\n",
    "    \n",
    "    \n",
    "    if not nodes[node]['deps']:\n",
    "        return [node]\n",
    "    \n",
    "    else:\n",
    "        return [node] + [get_subtree(nodes, dep) for rel in nodes[node]['deps'] \n",
    "                         if rel != 'punct'  # пунктуацию доставать не будем\n",
    "                         for dep in nodes[node]['deps'][rel]]"
   ]
  },
  {
   "cell_type": "code",
   "execution_count": 240,
   "id": "92e6ea29",
   "metadata": {},
   "outputs": [],
   "source": [
    "# Ищем все зависимые для слов из самой частотной пары\n",
    "\n",
    "word1 = 'в'\n",
    "word2 = 'году'\n",
    "dep_word1 = set()\n",
    "dep_word2 = set()\n",
    "\n",
    "for dgraph in dgraphs:\n",
    "    for node in dgraph.nodes:\n",
    "        if dgraph.nodes[node]['word'] == word1:\n",
    "            dep_words = [dgraph.nodes[i]['word'] for i in flatten(get_subtree(dgraph.nodes, node))]\n",
    "            for x in dep_words:\n",
    "                dep_word1.add(x)\n",
    "        if dgraph.nodes[node]['word'] == word2:\n",
    "            dep_words = [dgraph.nodes[i]['word'] for i in flatten(get_subtree(dgraph.nodes, node))]\n",
    "            for x in dep_words:\n",
    "                dep_word2.add(x)\n",
    "\n",
    "dep_word1 = tuple(dep_word1)\n",
    "dep_word2 = tuple(dep_word2)"
   ]
  },
  {
   "cell_type": "code",
   "execution_count": 248,
   "id": "b31c0922",
   "metadata": {},
   "outputs": [],
   "source": [
    "most_common_pair_and_dependants = {word1: dep_word1 - set(word1), word2: dep_word2 - set(word2)}"
   ]
  },
  {
   "cell_type": "code",
   "execution_count": 249,
   "id": "6f1cec3b",
   "metadata": {},
   "outputs": [
    {
     "data": {
      "text/plain": [
       "{'в': {'бутылкой',\n",
       "  'виде',\n",
       "  'виду',\n",
       "  'время',\n",
       "  'если',\n",
       "  'как',\n",
       "  'качестве',\n",
       "  'конце',\n",
       "  'концов',\n",
       "  'коньяка',\n",
       "  'настоящее',\n",
       "  'обнимку',\n",
       "  'общей',\n",
       "  'одиночку',\n",
       "  'особенности',\n",
       "  'от',\n",
       "  'отличие',\n",
       "  'отношении',\n",
       "  'очередь',\n",
       "  'первую',\n",
       "  'противном',\n",
       "  'с',\n",
       "  'связи',\n",
       "  'сложности',\n",
       "  'случае',\n",
       "  'соответствии',\n",
       "  'течение',\n",
       "  'то',\n",
       "  'угоду',\n",
       "  'ходе',\n",
       "  'частности'},\n",
       " 'году': {'1508',\n",
       "  '1512',\n",
       "  '1551',\n",
       "  '1567',\n",
       "  '1703',\n",
       "  '1785',\n",
       "  '1790',\n",
       "  '1805',\n",
       "  '1807',\n",
       "  '1815',\n",
       "  '1821',\n",
       "  '1833',\n",
       "  '1841',\n",
       "  '1868',\n",
       "  '1875',\n",
       "  '1876',\n",
       "  '1882',\n",
       "  '1888',\n",
       "  '1894',\n",
       "  '1896',\n",
       "  '1897',\n",
       "  '1899',\n",
       "  '1901',\n",
       "  '1903',\n",
       "  '1904',\n",
       "  '1906',\n",
       "  '1908',\n",
       "  '1919',\n",
       "  '1923',\n",
       "  '1926',\n",
       "  '1928',\n",
       "  '1931',\n",
       "  '1932',\n",
       "  '1933',\n",
       "  '1934',\n",
       "  '1937',\n",
       "  '1939',\n",
       "  '1940',\n",
       "  '1941',\n",
       "  '1943',\n",
       "  '1946',\n",
       "  '1947',\n",
       "  '1948',\n",
       "  '1949',\n",
       "  '1950',\n",
       "  '1951',\n",
       "  '1952',\n",
       "  '1956',\n",
       "  '1958',\n",
       "  '1960',\n",
       "  '1961',\n",
       "  '1962',\n",
       "  '1964',\n",
       "  '1968',\n",
       "  '1974',\n",
       "  '1977',\n",
       "  '1981',\n",
       "  '1983',\n",
       "  '1984',\n",
       "  '1985',\n",
       "  '1986',\n",
       "  '1987',\n",
       "  '1988',\n",
       "  '1989',\n",
       "  '1990',\n",
       "  '1991',\n",
       "  '1992',\n",
       "  '1994',\n",
       "  '1995',\n",
       "  '1996',\n",
       "  '1998',\n",
       "  '1999',\n",
       "  '2000',\n",
       "  '2001',\n",
       "  '2002',\n",
       "  '2003',\n",
       "  '2004',\n",
       "  '2005',\n",
       "  '2006',\n",
       "  '2007',\n",
       "  '2008',\n",
       "  '2009',\n",
       "  '2010',\n",
       "  '2011',\n",
       "  '2014',\n",
       "  '2018',\n",
       "  '2030',\n",
       "  '322',\n",
       "  '329',\n",
       "  'В',\n",
       "  'Еще',\n",
       "  'К',\n",
       "  'Олеши',\n",
       "  'Правде',\n",
       "  'Тира',\n",
       "  'Уже',\n",
       "  'буквально',\n",
       "  'был',\n",
       "  'в',\n",
       "  'во',\n",
       "  'восемьсот',\n",
       "  'время',\n",
       "  'всего-то',\n",
       "  'года',\n",
       "  'году',\n",
       "  'девяносто',\n",
       "  'до',\n",
       "  'еще',\n",
       "  'же',\n",
       "  'запущен',\n",
       "  'земного',\n",
       "  'и',\n",
       "  'к',\n",
       "  'катушку',\n",
       "  'когда',\n",
       "  'мотор',\n",
       "  'на',\n",
       "  'нашей',\n",
       "  'новому',\n",
       "  'нынешнем',\n",
       "  'осады',\n",
       "  'полную',\n",
       "  'после',\n",
       "  'предательства',\n",
       "  'прошлом',\n",
       "  'пятом',\n",
       "  'разгрома',\n",
       "  'репрессий',\n",
       "  'самом',\n",
       "  'следующем',\n",
       "  'сороковом',\n",
       "  'сталинских',\n",
       "  'существования',\n",
       "  'только',\n",
       "  'том',\n",
       "  'три',\n",
       "  'тысяча',\n",
       "  'уже',\n",
       "  'учебному',\n",
       "  'через',\n",
       "  'эры',\n",
       "  'этом'}}"
      ]
     },
     "execution_count": 249,
     "metadata": {},
     "output_type": "execute_result"
    }
   ],
   "source": [
    "# Приводим к искомому виду\n",
    "\n",
    "most_common_pair_and_dependants"
   ]
  },
  {
   "cell_type": "markdown",
   "id": "0b7f2039",
   "metadata": {},
   "source": [
    "--------------------------"
   ]
  },
  {
   "cell_type": "code",
   "execution_count": 223,
   "id": "f685ece4",
   "metadata": {},
   "outputs": [],
   "source": [
    "longest_sentence = max(dgraphs, key=lambda x: len(x.nodes))"
   ]
  },
  {
   "cell_type": "code",
   "execution_count": 225,
   "id": "ae9ab03f",
   "metadata": {},
   "outputs": [],
   "source": [
    "import matplotlib\n",
    "import matplotlib.pyplot as plt\n",
    "import networkx as nx\n",
    "%matplotlib inline "
   ]
  },
  {
   "cell_type": "code",
   "execution_count": 227,
   "id": "12826a79",
   "metadata": {},
   "outputs": [
    {
     "data": {
      "image/png": "[encoded data removed]",
      "text/plain": [
       "<Figure size 1000x1000 with 1 Axes>"
      ]
     },
     "metadata": {},
     "output_type": "display_data"
    }
   ],
   "source": [
    "plt.figure(figsize=(10,10))\n",
    "nx.draw(longest_sentence.nx_graph(), labels=longest_sentence.nx_labels, node_size=5000)"
   ]
  },
  {
   "cell_type": "code",
   "execution_count": 228,
   "id": "7eec0f56",
   "metadata": {},
   "outputs": [
    {
     "data": {
      "text/plain": [
       "{1: 'Несмотря',\n",
       " 2: 'на',\n",
       " 3: 'то',\n",
       " 4: ',',\n",
       " 5: 'что',\n",
       " 6: 'из-за',\n",
       " 7: 'серьезных',\n",
       " 8: 'ограничений',\n",
       " 9: 'регламента',\n",
       " 10: 'скорости',\n",
       " 11: 'в',\n",
       " 12: 'Формуле',\n",
       " 13: '-',\n",
       " 14: '1',\n",
       " 15: 'не',\n",
       " 16: 'самые',\n",
       " 17: 'высокие',\n",
       " 18: 'в',\n",
       " 19: 'автогонках',\n",
       " 20: 'и',\n",
       " 21: 'уступают',\n",
       " 22: ',',\n",
       " 23: 'например',\n",
       " 24: ',',\n",
       " 25: 'серии',\n",
       " 26: 'Champ',\n",
       " 27: 'Car',\n",
       " 28: '(',\n",
       " 29: 'так',\n",
       " 30: ',',\n",
       " 31: 'в',\n",
       " 32: 'этой',\n",
       " 33: 'серии',\n",
       " 34: 'рекорд',\n",
       " 35: 'максимальной',\n",
       " 36: 'скорости',\n",
       " 37: 'был',\n",
       " 38: 'поставлен',\n",
       " 39: 'Жилем',\n",
       " 40: 'де',\n",
       " 41: 'Ферраном',\n",
       " 42: 'на',\n",
       " 43: 'квалификации',\n",
       " 44: 'к',\n",
       " 45: 'последней',\n",
       " 46: 'гонке',\n",
       " 47: 'сезона',\n",
       " 48: '2000',\n",
       " 49: 'г.',\n",
       " 50: 'Мальборо',\n",
       " 51: '500',\n",
       " 52: 'на',\n",
       " 53: 'треке',\n",
       " 54: 'в',\n",
       " 55: 'Фонтане',\n",
       " 56: ',',\n",
       " 57: 'когда',\n",
       " 58: 'он',\n",
       " 59: 'прошел',\n",
       " 60: 'круг',\n",
       " 61: 'со',\n",
       " 62: 'средней',\n",
       " 63: 'скоростью',\n",
       " 64: '388',\n",
       " 65: 'км/ч',\n",
       " 66: ',',\n",
       " 67: 'а',\n",
       " 68: 'максимальная',\n",
       " 69: 'моментальная',\n",
       " 70: 'скорость',\n",
       " 71: ',',\n",
       " 72: 'по',\n",
       " 73: 'некоторым',\n",
       " 74: 'сведениям',\n",
       " 75: ',',\n",
       " 76: 'была',\n",
       " 77: 'достигнута',\n",
       " 78: 'Полом',\n",
       " 79: 'Трейси',\n",
       " 80: 'в',\n",
       " 81: '1996',\n",
       " 82: 'г.',\n",
       " 83: 'на',\n",
       " 84: 'треке',\n",
       " 85: 'в',\n",
       " 86: 'Мичигане',\n",
       " 87: ',',\n",
       " 88: 'когда',\n",
       " 89: 'он',\n",
       " 90: 'разогнался',\n",
       " 91: 'до',\n",
       " 92: '413',\n",
       " 93: 'км/ч',\n",
       " 94: 'во',\n",
       " 95: 'время',\n",
       " 96: 'одной',\n",
       " 97: 'из',\n",
       " 98: 'практик',\n",
       " 99: ',',\n",
       " 100: '-',\n",
       " 101: 'эти',\n",
       " 102: 'показатели',\n",
       " 103: 'самые',\n",
       " 104: 'быстрые',\n",
       " 105: 'из',\n",
       " 106: 'когда-либо',\n",
       " 107: 'достигнутых',\n",
       " 108: 'в',\n",
       " 109: 'кольцевых',\n",
       " 110: 'автогонках',\n",
       " 111: ')',\n",
       " 112: ',',\n",
       " 113: 'конкуренция',\n",
       " 114: 'между',\n",
       " 115: 'командами',\n",
       " 116: 'способствует',\n",
       " 117: 'повышению',\n",
       " 118: 'технического',\n",
       " 119: 'уровня',\n",
       " 120: 'по',\n",
       " 121: 'другим',\n",
       " 122: 'направлениям',\n",
       " 123: '.'}"
      ]
     },
     "execution_count": 228,
     "metadata": {},
     "output_type": "execute_result"
    }
   ],
   "source": [
    "longest_sentence.nx_labels"
   ]
  }
 ],
 "metadata": {
  "kernelspec": {
   "display_name": "Python 3 (ipykernel)",
   "language": "python",
   "name": "python3"
  },
  "language_info": {
   "codemirror_mode": {
    "name": "ipython",
    "version": 3
   },
   "file_extension": ".py",
   "mimetype": "text/x-python",
   "name": "python",
   "nbconvert_exporter": "python",
   "pygments_lexer": "ipython3",
   "version": "3.11.5"
  }
 },
 "nbformat": 4,
 "nbformat_minor": 5
}
